{
 "cells": [
  {
   "cell_type": "markdown",
   "metadata": {},
   "source": [
    "# Representing independencies using pgmpy"
   ]
  },
  {
   "cell_type": "markdown",
   "metadata": {
    "scrolled": true
   },
   "source": [
    "## IndependenceAssertion\n",
    "\n",
    "Represents Conditional Independence or Independence assertion.\n",
    "\n",
    "Each assertion has 3 attributes: event1, event2, event3.\n",
    "\n",
    "The attributes for $U \\perp X, Y | Z$"
   ]
  },
  {
   "cell_type": "code",
   "execution_count": 1,
   "metadata": {},
   "outputs": [],
   "source": [
    "from pgmpy.independencies import IndependenceAssertion\n",
    "from pgmpy.independencies import Independencies"
   ]
  },
  {
   "cell_type": "code",
   "execution_count": 2,
   "metadata": {},
   "outputs": [
    {
     "data": {
      "text/plain": [
       "(X _|_ Y)"
      ]
     },
     "execution_count": 2,
     "metadata": {},
     "output_type": "execute_result"
    }
   ],
   "source": [
    "assertion1 = IndependenceAssertion('X', 'Y')\n",
    "assertion1"
   ]
  },
  {
   "cell_type": "code",
   "execution_count": 3,
   "metadata": {},
   "outputs": [
    {
     "data": {
      "text/plain": [
       "(X _|_ Y | Z)"
      ]
     },
     "execution_count": 3,
     "metadata": {},
     "output_type": "execute_result"
    }
   ],
   "source": [
    "assertion2 = IndependenceAssertion('X', 'Y', 'Z')\n",
    "assertion2"
   ]
  },
  {
   "cell_type": "markdown",
   "metadata": {
    "scrolled": true
   },
   "source": [
    "## Independencies\n",
    "\n",
    "\n",
    "Base class for independencies.\n",
    "\n",
    "independencies class represents a set of Conditional Independence\n",
    "\n",
    "assertions (eg: \"X is independent of Y given Z\" where X, Y and Z\n",
    "\n",
    "are random variables) or Independence assertions (eg: \"X is\n",
    "\n",
    "independent of Y\" where X and Y are random variables).\n",
    "\n",
    "Initialize the independencies Class with Conditional Independence\n",
    "\n",
    "assertions or Independence assertions."
   ]
  },
  {
   "cell_type": "code",
   "execution_count": 4,
   "metadata": {},
   "outputs": [
    {
     "data": {
      "text/plain": [
       "[(X _|_ Y), (X _|_ Y | Z)]"
      ]
     },
     "execution_count": 4,
     "metadata": {},
     "output_type": "execute_result"
    }
   ],
   "source": [
    "independencies = Independencies() # Empty object\n",
    "independencies.add_assertions(assertion1, assertion2)\n",
    "independencies.get_assertions()"
   ]
  },
  {
   "cell_type": "code",
   "execution_count": 5,
   "metadata": {},
   "outputs": [
    {
     "data": {
      "text/plain": [
       "(X _|_ Y)\n",
       "(X _|_ Y | Z)"
      ]
     },
     "execution_count": 5,
     "metadata": {},
     "output_type": "execute_result"
    }
   ],
   "source": [
    "independencies = Independencies(assertion1, assertion2)\n",
    "independencies"
   ]
  },
  {
   "cell_type": "code",
   "execution_count": 6,
   "metadata": {},
   "outputs": [
    {
     "data": {
      "text/plain": [
       "(X _|_ Y)\n",
       "(A _|_ B | C)"
      ]
     },
     "execution_count": 6,
     "metadata": {},
     "output_type": "execute_result"
    }
   ],
   "source": [
    "independencies = Independencies(['X', 'Y'], ['A', 'B', 'C'])\n",
    "independencies"
   ]
  },
  {
   "cell_type": "markdown",
   "metadata": {},
   "source": [
    "# Representing joint probability distributions"
   ]
  },
  {
   "cell_type": "code",
   "execution_count": 7,
   "metadata": {},
   "outputs": [],
   "source": [
    "from pgmpy.factors.discrete import JointProbabilityDistribution as Joint"
   ]
  },
  {
   "cell_type": "code",
   "execution_count": 8,
   "metadata": {},
   "outputs": [
    {
     "name": "stdout",
     "output_type": "stream",
     "text": [
      "coin1    coin2      P(coin1,coin2)\n",
      "-------  -------  ----------------\n",
      "coin1_0  coin2_0            0.2500\n",
      "coin1_0  coin2_1            0.2500\n",
      "coin1_1  coin2_0            0.2500\n",
      "coin1_1  coin2_1            0.2500\n"
     ]
    }
   ],
   "source": [
    "distribution = Joint(variables=['coin1', 'coin2'], \n",
    "                     cardinality=[2, 2], \n",
    "                     values=[0.25, 0.25, 0.25, 0.25])\n",
    "print(distribution)"
   ]
  },
  {
   "cell_type": "markdown",
   "metadata": {},
   "source": [
    "# Representing Conditional Probability Distribution (CPDs)"
   ]
  },
  {
   "cell_type": "code",
   "execution_count": 9,
   "metadata": {},
   "outputs": [],
   "source": [
    "from pgmpy.factors.discrete.CPD import TabularCPD"
   ]
  },
  {
   "cell_type": "code",
   "execution_count": 10,
   "metadata": {},
   "outputs": [
    {
     "name": "stdout",
     "output_type": "stream",
     "text": [
      "+-----------+-----+\n",
      "| Quality_0 | 0.3 |\n",
      "+-----------+-----+\n",
      "| Quality_1 | 0.5 |\n",
      "+-----------+-----+\n",
      "| Quality_2 | 0.2 |\n",
      "+-----------+-----+\n",
      "[3]\n",
      "[0.3 0.5 0.2]\n"
     ]
    }
   ],
   "source": [
    "quality = TabularCPD(variable=\"Quality\", variable_card=3, values=[[0.3], [0.5], [0.2]])\n",
    "print(quality)\n",
    "print(quality.cardinality)\n",
    "print(quality.values)"
   ]
  },
  {
   "cell_type": "code",
   "execution_count": 11,
   "metadata": {},
   "outputs": [
    {
     "name": "stdout",
     "output_type": "stream",
     "text": [
      "+------------+-----+\n",
      "| Location_0 | 0.6 |\n",
      "+------------+-----+\n",
      "| Location_1 | 0.4 |\n",
      "+------------+-----+\n"
     ]
    }
   ],
   "source": [
    "location = TabularCPD(variable=\"Location\",\n",
    "                      variable_card=2, \n",
    "                      values=[[0.6], [0.4]])\n",
    "print(location)"
   ]
  },
  {
   "cell_type": "code",
   "execution_count": 12,
   "metadata": {},
   "outputs": [
    {
     "name": "stdout",
     "output_type": "stream",
     "text": [
      "+--------+-----+-----+-----+-----+-----+------+\n",
      "| Q      | Q_0 | Q_0 | Q_1 | Q_1 | Q_2 | Q_2  |\n",
      "+--------+-----+-----+-----+-----+-----+------+\n",
      "| L      | L_0 | L_1 | L_0 | L_1 | L_0 | L_1  |\n",
      "+--------+-----+-----+-----+-----+-----+------+\n",
      "| Cost_0 | 0.8 | 0.6 | 0.1 | 0.6 | 0.6 | 0.05 |\n",
      "+--------+-----+-----+-----+-----+-----+------+\n",
      "| Cost_1 | 0.2 | 0.4 | 0.9 | 0.4 | 0.4 | 0.95 |\n",
      "+--------+-----+-----+-----+-----+-----+------+\n"
     ]
    }
   ],
   "source": [
    "cost = TabularCPD(variable=\"Cost\", \n",
    "                  variable_card=2,\n",
    "                  values=[[0.8, 0.6, 0.1, 0.6, 0.6, 0.05], [0.2, 0.4, 0.9, 0.4, 0.4, 0.95]],\n",
    "                  evidence=['Q', 'L'], \n",
    "                  evidence_card=[3, 2])\n",
    "print(cost)"
   ]
  },
  {
   "cell_type": "markdown",
   "metadata": {},
   "source": [
    "# Bayesian model representation\n",
    "\n",
    "![](figs/chap01-bayes-network-exp01.png)"
   ]
  },
  {
   "cell_type": "code",
   "execution_count": 13,
   "metadata": {},
   "outputs": [],
   "source": [
    "from pgmpy.models import BayesianModel"
   ]
  },
  {
   "cell_type": "code",
   "execution_count": 14,
   "metadata": {},
   "outputs": [
    {
     "name": "stdout",
     "output_type": "stream",
     "text": [
      "['traffic_jam', 'rain']\n",
      "[('rain', 'traffic_jam')]\n"
     ]
    }
   ],
   "source": [
    "model = BayesianModel()\n",
    "model.add_nodes_from(['rain', 'traffic_jam'])\n",
    "model.add_edge('rain', 'traffic_jam')\n",
    "print(model.nodes())\n",
    "print(model.edges())"
   ]
  },
  {
   "cell_type": "code",
   "execution_count": 15,
   "metadata": {},
   "outputs": [
    {
     "name": "stdout",
     "output_type": "stream",
     "text": [
      "['accident', 'traffic_jam', 'rain']\n",
      "[('accident', 'traffic_jam'), ('rain', 'traffic_jam')]\n"
     ]
    }
   ],
   "source": [
    "# automatically adds those nodes to the model\n",
    "model.add_edge('accident', 'traffic_jam')\n",
    "print(model.nodes())\n",
    "print(model.edges())"
   ]
  },
  {
   "cell_type": "code",
   "execution_count": 16,
   "metadata": {},
   "outputs": [
    {
     "data": {
      "text/plain": [
       "[<TabularCPD representing P(rain:2) at 0x114cebe90>,\n",
       " <TabularCPD representing P(accident:2) at 0x114cebe50>,\n",
       " <TabularCPD representing P(traffic_jam:2 | rain:2, accident:2) at 0x114cebed0>]"
      ]
     },
     "execution_count": 16,
     "metadata": {},
     "output_type": "execute_result"
    }
   ],
   "source": [
    "# In the case of a Bayesian network, each of the nodes has an associated CPD with it.\n",
    "cpd_rain = TabularCPD('rain', 2, [[0.4], [0.6]])\n",
    "cpd_accident = TabularCPD('accident', 2, [[0.2], [0.8]])\n",
    "cpd_traffic_jam = TabularCPD('traffic_jam', 2, [[0.9, 0.6, 0.7, 0.1], [0.1, 0.4, 0.3, 0.9]], \n",
    "                             evidence=['rain', 'accident'], \n",
    "                             evidence_card=[2, 2])\n",
    "\n",
    "# associate them with our model.\n",
    "model.add_cpds(cpd_rain, cpd_accident, cpd_traffic_jam)\n",
    "model.get_cpds()"
   ]
  },
  {
   "cell_type": "code",
   "execution_count": 17,
   "metadata": {},
   "outputs": [
    {
     "data": {
      "text/plain": [
       "[<TabularCPD representing P(rain:2) at 0x114cebe90>,\n",
       " <TabularCPD representing P(accident:2) at 0x114cebe50>,\n",
       " <TabularCPD representing P(traffic_jam:2 | rain:2, accident:2) at 0x114cebed0>,\n",
       " <TabularCPD representing P(long_queues:2 | traffic_jam:2) at 0x114e0da90>,\n",
       " <TabularCPD representing P(getting_up_late:2) at 0x112d0dcd0>,\n",
       " <TabularCPD representing P(late_for_school:2 | getting_up_late:2, traffic_jam:2) at 0x114e0da10>]"
      ]
     },
     "execution_count": 17,
     "metadata": {},
     "output_type": "execute_result"
    }
   ],
   "source": [
    "# Now, let's add the remaining variables and their CPDs\n",
    "model.add_node('long_queues') \n",
    "model.add_edge('traffic_jam', 'long_queues') \n",
    "cpd_long_queues = TabularCPD('long_queues', 2, [[0.9, 0.2], [0.1, 0.8]],\n",
    "                             evidence=['traffic_jam'], \n",
    "                             evidence_card=[2])\n",
    "\n",
    "model.add_cpds(cpd_long_queues) \n",
    "model.add_nodes_from(['getting_up_late', 'late_for_school'])\n",
    "\n",
    "# \n",
    "model.add_edges_from([('getting_up_late', 'late_for_school'), ('traffic_jam', 'late_for_school')])\n",
    "cpd_getting_up_late = TabularCPD('getting_up_late', 2, [[0.6], [0.4]])\n",
    "cpd_late_for_school = TabularCPD('late_for_school', 2, [[0.9, 0.45, 0.8, 0.1], [0.1, 0.55, 0.2, 0.9]], \n",
    "                                 evidence=['getting_up_late', 'traffic_jam'],\n",
    "                                 evidence_card=[2, 2])\n",
    "\n",
    "model.add_cpds(cpd_getting_up_late, cpd_late_for_school) \n",
    "model.get_cpds()"
   ]
  },
  {
   "cell_type": "code",
   "execution_count": 18,
   "metadata": {},
   "outputs": [
    {
     "data": {
      "text/plain": [
       "True"
      ]
     },
     "execution_count": 18,
     "metadata": {},
     "output_type": "execute_result"
    }
   ],
   "source": [
    "# checks whether the model and all the associated CPDs are consistent\n",
    "model.check_model()"
   ]
  },
  {
   "cell_type": "code",
   "execution_count": 19,
   "metadata": {},
   "outputs": [
    {
     "data": {
      "text/plain": [
       "[<TabularCPD representing P(rain:2) at 0x114cebe90>,\n",
       " <TabularCPD representing P(accident:2) at 0x114cebe50>,\n",
       " <TabularCPD representing P(traffic_jam:2 | rain:2, accident:2) at 0x114cebed0>,\n",
       " <TabularCPD representing P(long_queues:2 | traffic_jam:2) at 0x114e0da90>,\n",
       " <TabularCPD representing P(getting_up_late:2) at 0x112d0dcd0>]"
      ]
     },
     "execution_count": 19,
     "metadata": {},
     "output_type": "execute_result"
    }
   ],
   "source": [
    "# In case we have got some wrong CPD associated with the model and we want to remove it\n",
    "model.remove_cpds('late_for_school')\n",
    "model.get_cpds()"
   ]
  },
  {
   "cell_type": "code",
   "execution_count": 20,
   "metadata": {},
   "outputs": [
    {
     "data": {
      "text/plain": [
       "False"
      ]
     },
     "execution_count": 20,
     "metadata": {},
     "output_type": "execute_result"
    }
   ],
   "source": [
    "# if an influence can flow in a trail in a network, it is known as an active trail.\n",
    "model.is_active_trail('accident', 'rain')"
   ]
  },
  {
   "cell_type": "code",
   "execution_count": 21,
   "metadata": {},
   "outputs": [
    {
     "data": {
      "text/plain": [
       "True"
      ]
     },
     "execution_count": 21,
     "metadata": {},
     "output_type": "execute_result"
    }
   ],
   "source": [
    "model.is_active_trail('accident', 'rain', observed='traffic_jam')"
   ]
  },
  {
   "cell_type": "code",
   "execution_count": 22,
   "metadata": {},
   "outputs": [
    {
     "data": {
      "text/plain": [
       "False"
      ]
     },
     "execution_count": 22,
     "metadata": {},
     "output_type": "execute_result"
    }
   ],
   "source": [
    "model.is_active_trail('getting_up_late', 'rain')"
   ]
  },
  {
   "cell_type": "code",
   "execution_count": 23,
   "metadata": {},
   "outputs": [
    {
     "data": {
      "text/plain": [
       "True"
      ]
     },
     "execution_count": 23,
     "metadata": {},
     "output_type": "execute_result"
    }
   ],
   "source": [
    "model.is_active_trail('getting_up_late', 'rain', observed='late_for_school')"
   ]
  }
 ],
 "metadata": {
  "kernelspec": {
   "display_name": "Python (study_graph)",
   "language": "python",
   "name": "study_graph"
  },
  "language_info": {
   "codemirror_mode": {
    "name": "ipython",
    "version": 2
   },
   "file_extension": ".py",
   "mimetype": "text/x-python",
   "name": "python",
   "nbconvert_exporter": "python",
   "pygments_lexer": "ipython2",
   "version": "2.7.15"
  }
 },
 "nbformat": 4,
 "nbformat_minor": 2
}
