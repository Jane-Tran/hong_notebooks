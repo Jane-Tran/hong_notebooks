{
 "cells": [
  {
   "cell_type": "code",
   "execution_count": 14,
   "metadata": {},
   "outputs": [],
   "source": [
    "import numpy as np\n",
    "from pgmpy.factors.discrete import DiscreteFactor as Factor"
   ]
  },
  {
   "cell_type": "code",
   "execution_count": 11,
   "metadata": {},
   "outputs": [
    {
     "name": "stdout",
     "output_type": "stream",
     "text": [
      "+-----+-----+------------+\n",
      "| A   | B   |   phi(A,B) |\n",
      "|-----+-----+------------|\n",
      "| A_0 | B_0 |  1000.0000 |\n",
      "| A_0 | B_1 |     1.0000 |\n",
      "| A_1 | B_0 |     5.0000 |\n",
      "| A_1 | B_1 |   100.0000 |\n",
      "+-----+-----+------------+\n"
     ]
    }
   ],
   "source": [
    "# Each factor is represented by its scope,\n",
    "# cardinality of each variable in the scope and their values In\n",
    "phi = Factor(['A', 'B'], [2, 2], [1000, 1, 5, 100])\n",
    "print(phi)"
   ]
  },
  {
   "cell_type": "code",
   "execution_count": 7,
   "metadata": {},
   "outputs": [
    {
     "name": "stdout",
     "output_type": "stream",
     "text": [
      "+-----+-----------+\n",
      "| A   |    phi(A) |\n",
      "|-----+-----------|\n",
      "| A_0 | 1001.0000 |\n",
      "| A_1 |  105.0000 |\n",
      "+-----+-----------+\n",
      "['A']\n"
     ]
    }
   ],
   "source": [
    "# let's try to marginalize it with respect to B\n",
    "phi_marginalized = phi.marginalize(['B'], inplace=False)\n",
    "print(phi_marginalized)\n",
    "print(phi_marginalized.scope())"
   ]
  },
  {
   "cell_type": "code",
   "execution_count": 12,
   "metadata": {},
   "outputs": [
    {
     "name": "stdout",
     "output_type": "stream",
     "text": [
      "+-----+-----------+\n",
      "| B   |    phi(B) |\n",
      "|-----+-----------|\n",
      "| B_0 | 1005.0000 |\n",
      "| B_1 |  101.0000 |\n",
      "+-----+-----------+\n"
     ]
    }
   ],
   "source": [
    "# If inplace=True (default), it would modify the original factor instead of returning a new one\n",
    "phi.marginalize(['A'])\n",
    "print(phi)"
   ]
  },
  {
   "cell_type": "code",
   "execution_count": 18,
   "metadata": {},
   "outputs": [
    {
     "name": "stdout",
     "output_type": "stream",
     "text": [
      "+---------+-----------+------------+-------------------------------+\n",
      "| price   | quality   | location   |   phi(price,quality,location) |\n",
      "|---------+-----------+------------+-------------------------------|\n",
      "| price_0 | quality_0 | location_0 |                        0.0000 |\n",
      "| price_0 | quality_0 | location_1 |                        1.0000 |\n",
      "| price_0 | quality_1 | location_0 |                        2.0000 |\n",
      "| price_0 | quality_1 | location_1 |                        3.0000 |\n",
      "| price_1 | quality_0 | location_0 |                        4.0000 |\n",
      "| price_1 | quality_0 | location_1 |                        5.0000 |\n",
      "| price_1 | quality_1 | location_0 |                        6.0000 |\n",
      "| price_1 | quality_1 | location_1 |                        7.0000 |\n",
      "+---------+-----------+------------+-------------------------------+\n",
      "['price', 'quality', 'location']\n"
     ]
    }
   ],
   "source": [
    "# A factor can be also marginalized with respect to more than one random variable\n",
    "price = Factor(['price', 'quality', 'location'], [2, 2, 2], np.arange(8))\n",
    "print(price)\n",
    "print(price.scope())"
   ]
  },
  {
   "cell_type": "code",
   "execution_count": 17,
   "metadata": {},
   "outputs": [
    {
     "name": "stdout",
     "output_type": "stream",
     "text": [
      "+---------+--------------+\n",
      "| price   |   phi(price) |\n",
      "|---------+--------------|\n",
      "| price_0 |       6.0000 |\n",
      "| price_1 |      22.0000 |\n",
      "+---------+--------------+\n",
      "['price']\n"
     ]
    }
   ],
   "source": [
    "price_marginalized = price.marginalize(['quality', 'location'], inplace=False)\n",
    "print(price_marginalized)\n",
    "print(price_marginalized.scope())"
   ]
  },
  {
   "cell_type": "code",
   "execution_count": 19,
   "metadata": {},
   "outputs": [
    {
     "name": "stdout",
     "output_type": "stream",
     "text": [
      "+-----+-----+------------+\n",
      "| a   | b   |   phi(a,b) |\n",
      "|-----+-----+------------|\n",
      "| a_0 | b_0 |  1000.0000 |\n",
      "| a_0 | b_1 |     1.0000 |\n",
      "| a_1 | b_0 |     5.0000 |\n",
      "| a_1 | b_1 |   100.0000 |\n",
      "+-----+-----+------------+\n"
     ]
    }
   ],
   "source": [
    "# let's try to reduce to the context of b_0\n",
    "phi = Factor(['a', 'b'], [2, 2], [1000, 1, 5, 100])\n",
    "print(phi)"
   ]
  },
  {
   "cell_type": "code",
   "execution_count": 22,
   "metadata": {},
   "outputs": [
    {
     "name": "stdout",
     "output_type": "stream",
     "text": [
      "+-----+-----------+\n",
      "| a   |    phi(a) |\n",
      "|-----+-----------|\n",
      "| a_0 | 1000.0000 |\n",
      "| a_1 |    5.0000 |\n",
      "+-----+-----------+\n"
     ]
    }
   ],
   "source": [
    "phi_reduced = phi.reduce([('b', 0)], inplace=False)\n",
    "print(phi_reduced)"
   ]
  },
  {
   "cell_type": "code",
   "execution_count": 24,
   "metadata": {},
   "outputs": [
    {
     "name": "stdout",
     "output_type": "stream",
     "text": [
      "+---------+--------------+\n",
      "| price   |   phi(price) |\n",
      "|---------+--------------|\n",
      "| price_0 |       1.0000 |\n",
      "| price_1 |       5.0000 |\n",
      "+---------+--------------+\n"
     ]
    }
   ],
   "source": [
    "# A factor can be also reduced with respect to more than one random variable\n",
    "price_reduced = price.reduce([('quality', 0), ('location', 1)], inplace=False)\n",
    "print(price_reduced)"
   ]
  },
  {
   "cell_type": "code",
   "execution_count": 25,
   "metadata": {},
   "outputs": [
    {
     "name": "stdout",
     "output_type": "stream",
     "text": [
      "+---------+------------+-----------------------+\n",
      "| price   | location   |   phi(price,location) |\n",
      "|---------+------------+-----------------------|\n",
      "| price_0 | location_0 |                0.0000 |\n",
      "| price_0 | location_1 |                1.0000 |\n",
      "| price_1 | location_0 |                4.0000 |\n",
      "| price_1 | location_1 |                5.0000 |\n",
      "+---------+------------+-----------------------+\n"
     ]
    }
   ],
   "source": [
    "price_reduced = price.reduce([('quality', 0)], inplace=False)\n",
    "print(price_reduced)"
   ]
  },
  {
   "cell_type": "code",
   "execution_count": 39,
   "metadata": {},
   "outputs": [
    {
     "name": "stdout",
     "output_type": "stream",
     "text": [
      "+-----+-----+------------+\n",
      "| a   | b   |   phi(a,b) |\n",
      "|-----+-----+------------|\n",
      "| a_0 | b_0 |  1000.0000 |\n",
      "| a_0 | b_1 |     1.0000 |\n",
      "| a_1 | b_0 |     5.0000 |\n",
      "| a_1 | b_1 |   100.0000 |\n",
      "+-----+-----+------------+\n",
      "+-----+-----+------------+\n",
      "| b   | c   |   phi(b,c) |\n",
      "|-----+-----+------------|\n",
      "| b_0 | c_0 |     1.0000 |\n",
      "| b_0 | c_1 |   100.0000 |\n",
      "| b_0 | c_2 |     5.0000 |\n",
      "| b_1 | c_0 |   200.0000 |\n",
      "| b_1 | c_1 |     3.0000 |\n",
      "| b_1 | c_2 |  1000.0000 |\n",
      "+-----+-----+------------+\n"
     ]
    }
   ],
   "source": [
    "# Factors product can be accomplished with the * (product) operator\n",
    "phi1 = Factor(['a', 'b'], [2, 2], [1000, 1, 5, 100])\n",
    "phi2 = Factor(['b', 'c'], [2, 3], [1, 100, 5, 200, 3, 1000])\n",
    "print(phi1)\n",
    "print(phi2)"
   ]
  },
  {
   "cell_type": "code",
   "execution_count": 40,
   "metadata": {},
   "outputs": [
    {
     "name": "stdout",
     "output_type": "stream",
     "text": [
      "+-----+-----+-----+--------------+\n",
      "| a   | b   | c   |   phi(a,b,c) |\n",
      "|-----+-----+-----+--------------|\n",
      "| a_0 | b_0 | c_0 |    1000.0000 |\n",
      "| a_0 | b_0 | c_1 |  100000.0000 |\n",
      "| a_0 | b_0 | c_2 |    5000.0000 |\n",
      "| a_0 | b_1 | c_0 |     200.0000 |\n",
      "| a_0 | b_1 | c_1 |       3.0000 |\n",
      "| a_0 | b_1 | c_2 |    1000.0000 |\n",
      "| a_1 | b_0 | c_0 |       5.0000 |\n",
      "| a_1 | b_0 | c_1 |     500.0000 |\n",
      "| a_1 | b_0 | c_2 |      25.0000 |\n",
      "| a_1 | b_1 | c_0 |   20000.0000 |\n",
      "| a_1 | b_1 | c_1 |     300.0000 |\n",
      "| a_1 | b_1 | c_2 |  100000.0000 |\n",
      "+-----+-----+-----+--------------+\n",
      "['a', 'b', 'c']\n"
     ]
    }
   ],
   "source": [
    "phi = phi1 * phi2\n",
    "print(phi)\n",
    "print(phi.scope())"
   ]
  },
  {
   "cell_type": "code",
   "execution_count": 42,
   "metadata": {},
   "outputs": [
    {
     "name": "stdout",
     "output_type": "stream",
     "text": [
      "+-----+-----+-----+----------------+\n",
      "| a   | b   | c   |     phi(a,b,c) |\n",
      "|-----+-----+-----+----------------|\n",
      "| a_0 | b_0 | c_0 |      1000.0000 |\n",
      "| a_0 | b_0 | c_1 |  10000000.0000 |\n",
      "| a_0 | b_0 | c_2 |     25000.0000 |\n",
      "| a_0 | b_1 | c_0 |     40000.0000 |\n",
      "| a_0 | b_1 | c_1 |         9.0000 |\n",
      "| a_0 | b_1 | c_2 |   1000000.0000 |\n",
      "| a_1 | b_0 | c_0 |         5.0000 |\n",
      "| a_1 | b_0 | c_1 |     50000.0000 |\n",
      "| a_1 | b_0 | c_2 |       125.0000 |\n",
      "| a_1 | b_1 | c_0 |   4000000.0000 |\n",
      "| a_1 | b_1 | c_1 |       900.0000 |\n",
      "| a_1 | b_1 | c_2 | 100000000.0000 |\n",
      "+-----+-----+-----+----------------+\n"
     ]
    }
   ],
   "source": [
    "# or with product method\n",
    "phi1.product(phi2)\n",
    "print(phi1)"
   ]
  },
  {
   "cell_type": "code",
   "execution_count": null,
   "metadata": {},
   "outputs": [],
   "source": []
  }
 ],
 "metadata": {
  "kernelspec": {
   "display_name": "Python (study_graph)",
   "language": "python",
   "name": "study_graph"
  },
  "language_info": {
   "codemirror_mode": {
    "name": "ipython",
    "version": 2
   },
   "file_extension": ".py",
   "mimetype": "text/x-python",
   "name": "python",
   "nbconvert_exporter": "python",
   "pygments_lexer": "ipython2",
   "version": "2.7.15"
  }
 },
 "nbformat": 4,
 "nbformat_minor": 2
}
