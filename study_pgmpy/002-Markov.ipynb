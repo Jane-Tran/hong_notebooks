{
 "cells": [
  {
   "cell_type": "markdown",
   "metadata": {},
   "source": [
    "# Factors intro"
   ]
  },
  {
   "cell_type": "code",
   "execution_count": 1,
   "metadata": {},
   "outputs": [],
   "source": [
    "import numpy as np\n",
    "from pgmpy.factors.discrete import DiscreteFactor as Factor"
   ]
  },
  {
   "cell_type": "code",
   "execution_count": 2,
   "metadata": {},
   "outputs": [
    {
     "name": "stdout",
     "output_type": "stream",
     "text": [
      "+-----+-----+------------+\n",
      "| A   | B   |   phi(A,B) |\n",
      "|-----+-----+------------|\n",
      "| A_0 | B_0 |  1000.0000 |\n",
      "| A_0 | B_1 |     1.0000 |\n",
      "| A_1 | B_0 |     5.0000 |\n",
      "| A_1 | B_1 |   100.0000 |\n",
      "+-----+-----+------------+\n"
     ]
    }
   ],
   "source": [
    "# Each factor is represented by its scope,\n",
    "# cardinality of each variable in the scope and their values In\n",
    "phi = Factor(['A', 'B'], [2, 2], [1000, 1, 5, 100])\n",
    "print(phi)"
   ]
  },
  {
   "cell_type": "code",
   "execution_count": 3,
   "metadata": {},
   "outputs": [
    {
     "name": "stdout",
     "output_type": "stream",
     "text": [
      "+-----+-----------+\n",
      "| A   |    phi(A) |\n",
      "|-----+-----------|\n",
      "| A_0 | 1001.0000 |\n",
      "| A_1 |  105.0000 |\n",
      "+-----+-----------+\n",
      "['A']\n"
     ]
    }
   ],
   "source": [
    "# let's try to marginalize it with respect to B\n",
    "phi_marginalized = phi.marginalize(['B'], inplace=False)\n",
    "print(phi_marginalized)\n",
    "print(phi_marginalized.scope())"
   ]
  },
  {
   "cell_type": "code",
   "execution_count": 4,
   "metadata": {},
   "outputs": [
    {
     "name": "stdout",
     "output_type": "stream",
     "text": [
      "+-----+-----------+\n",
      "| B   |    phi(B) |\n",
      "|-----+-----------|\n",
      "| B_0 | 1005.0000 |\n",
      "| B_1 |  101.0000 |\n",
      "+-----+-----------+\n"
     ]
    }
   ],
   "source": [
    "# If inplace=True (default), it would modify the original factor instead of returning a new one\n",
    "phi.marginalize(['A'])\n",
    "print(phi)"
   ]
  },
  {
   "cell_type": "code",
   "execution_count": 5,
   "metadata": {},
   "outputs": [
    {
     "name": "stdout",
     "output_type": "stream",
     "text": [
      "+---------+-----------+------------+-------------------------------+\n",
      "| price   | quality   | location   |   phi(price,quality,location) |\n",
      "|---------+-----------+------------+-------------------------------|\n",
      "| price_0 | quality_0 | location_0 |                        0.0000 |\n",
      "| price_0 | quality_0 | location_1 |                        1.0000 |\n",
      "| price_0 | quality_1 | location_0 |                        2.0000 |\n",
      "| price_0 | quality_1 | location_1 |                        3.0000 |\n",
      "| price_1 | quality_0 | location_0 |                        4.0000 |\n",
      "| price_1 | quality_0 | location_1 |                        5.0000 |\n",
      "| price_1 | quality_1 | location_0 |                        6.0000 |\n",
      "| price_1 | quality_1 | location_1 |                        7.0000 |\n",
      "+---------+-----------+------------+-------------------------------+\n",
      "['price', 'quality', 'location']\n"
     ]
    }
   ],
   "source": [
    "# A factor can be also marginalized with respect to more than one random variable\n",
    "price = Factor(['price', 'quality', 'location'], [2, 2, 2], np.arange(8))\n",
    "print(price)\n",
    "print(price.scope())"
   ]
  },
  {
   "cell_type": "code",
   "execution_count": 6,
   "metadata": {},
   "outputs": [
    {
     "name": "stdout",
     "output_type": "stream",
     "text": [
      "+---------+--------------+\n",
      "| price   |   phi(price) |\n",
      "|---------+--------------|\n",
      "| price_0 |       6.0000 |\n",
      "| price_1 |      22.0000 |\n",
      "+---------+--------------+\n",
      "['price']\n"
     ]
    }
   ],
   "source": [
    "price_marginalized = price.marginalize(['quality', 'location'], inplace=False)\n",
    "print(price_marginalized)\n",
    "print(price_marginalized.scope())"
   ]
  },
  {
   "cell_type": "code",
   "execution_count": 7,
   "metadata": {},
   "outputs": [
    {
     "name": "stdout",
     "output_type": "stream",
     "text": [
      "+-----+-----+------------+\n",
      "| a   | b   |   phi(a,b) |\n",
      "|-----+-----+------------|\n",
      "| a_0 | b_0 |  1000.0000 |\n",
      "| a_0 | b_1 |     1.0000 |\n",
      "| a_1 | b_0 |     5.0000 |\n",
      "| a_1 | b_1 |   100.0000 |\n",
      "+-----+-----+------------+\n"
     ]
    }
   ],
   "source": [
    "# let's try to reduce to the context of b_0\n",
    "phi = Factor(['a', 'b'], [2, 2], [1000, 1, 5, 100])\n",
    "print(phi)"
   ]
  },
  {
   "cell_type": "code",
   "execution_count": 8,
   "metadata": {},
   "outputs": [
    {
     "name": "stdout",
     "output_type": "stream",
     "text": [
      "+-----+-----------+\n",
      "| a   |    phi(a) |\n",
      "|-----+-----------|\n",
      "| a_0 | 1000.0000 |\n",
      "| a_1 |    5.0000 |\n",
      "+-----+-----------+\n"
     ]
    }
   ],
   "source": [
    "phi_reduced = phi.reduce([('b', 0)], inplace=False)\n",
    "print(phi_reduced)"
   ]
  },
  {
   "cell_type": "code",
   "execution_count": 9,
   "metadata": {},
   "outputs": [
    {
     "name": "stdout",
     "output_type": "stream",
     "text": [
      "+---------+--------------+\n",
      "| price   |   phi(price) |\n",
      "|---------+--------------|\n",
      "| price_0 |       1.0000 |\n",
      "| price_1 |       5.0000 |\n",
      "+---------+--------------+\n"
     ]
    }
   ],
   "source": [
    "# A factor can be also reduced with respect to more than one random variable\n",
    "price_reduced = price.reduce([('quality', 0), ('location', 1)], inplace=False)\n",
    "print(price_reduced)"
   ]
  },
  {
   "cell_type": "code",
   "execution_count": 10,
   "metadata": {},
   "outputs": [
    {
     "name": "stdout",
     "output_type": "stream",
     "text": [
      "+---------+------------+-----------------------+\n",
      "| price   | location   |   phi(price,location) |\n",
      "|---------+------------+-----------------------|\n",
      "| price_0 | location_0 |                0.0000 |\n",
      "| price_0 | location_1 |                1.0000 |\n",
      "| price_1 | location_0 |                4.0000 |\n",
      "| price_1 | location_1 |                5.0000 |\n",
      "+---------+------------+-----------------------+\n"
     ]
    }
   ],
   "source": [
    "price_reduced = price.reduce([('quality', 0)], inplace=False)\n",
    "print(price_reduced)"
   ]
  },
  {
   "cell_type": "code",
   "execution_count": 11,
   "metadata": {},
   "outputs": [
    {
     "name": "stdout",
     "output_type": "stream",
     "text": [
      "+-----+-----+------------+\n",
      "| a   | b   |   phi(a,b) |\n",
      "|-----+-----+------------|\n",
      "| a_0 | b_0 |  1000.0000 |\n",
      "| a_0 | b_1 |     1.0000 |\n",
      "| a_1 | b_0 |     5.0000 |\n",
      "| a_1 | b_1 |   100.0000 |\n",
      "+-----+-----+------------+\n",
      "+-----+-----+------------+\n",
      "| b   | c   |   phi(b,c) |\n",
      "|-----+-----+------------|\n",
      "| b_0 | c_0 |     1.0000 |\n",
      "| b_0 | c_1 |   100.0000 |\n",
      "| b_0 | c_2 |     5.0000 |\n",
      "| b_1 | c_0 |   200.0000 |\n",
      "| b_1 | c_1 |     3.0000 |\n",
      "| b_1 | c_2 |  1000.0000 |\n",
      "+-----+-----+------------+\n"
     ]
    }
   ],
   "source": [
    "# Factors product can be accomplished with the * (product) operator\n",
    "phi1 = Factor(['a', 'b'], [2, 2], [1000, 1, 5, 100])\n",
    "phi2 = Factor(['b', 'c'], [2, 3], [1, 100, 5, 200, 3, 1000])\n",
    "print(phi1)\n",
    "print(phi2)"
   ]
  },
  {
   "cell_type": "code",
   "execution_count": 12,
   "metadata": {},
   "outputs": [
    {
     "name": "stdout",
     "output_type": "stream",
     "text": [
      "+-----+-----+-----+--------------+\n",
      "| a   | b   | c   |   phi(a,b,c) |\n",
      "|-----+-----+-----+--------------|\n",
      "| a_0 | b_0 | c_0 |    1000.0000 |\n",
      "| a_0 | b_0 | c_1 |  100000.0000 |\n",
      "| a_0 | b_0 | c_2 |    5000.0000 |\n",
      "| a_0 | b_1 | c_0 |     200.0000 |\n",
      "| a_0 | b_1 | c_1 |       3.0000 |\n",
      "| a_0 | b_1 | c_2 |    1000.0000 |\n",
      "| a_1 | b_0 | c_0 |       5.0000 |\n",
      "| a_1 | b_0 | c_1 |     500.0000 |\n",
      "| a_1 | b_0 | c_2 |      25.0000 |\n",
      "| a_1 | b_1 | c_0 |   20000.0000 |\n",
      "| a_1 | b_1 | c_1 |     300.0000 |\n",
      "| a_1 | b_1 | c_2 |  100000.0000 |\n",
      "+-----+-----+-----+--------------+\n",
      "['a', 'b', 'c']\n"
     ]
    },
    {
     "name": "stderr",
     "output_type": "stream",
     "text": [
      "/usr/local/anaconda3/envs/study_graph/lib/python2.7/site-packages/pgmpy/factors/discrete/DiscreteFactor.py:586: FutureWarning: Using a non-tuple sequence for multidimensional indexing is deprecated; use `arr[tuple(seq)]` instead of `arr[seq]`. In the future this will be interpreted as an array index, `arr[np.array(seq)]`, which will result either in an error or a different result.\n",
      "  phi.values = phi.values[slice_]\n",
      "/usr/local/anaconda3/envs/study_graph/lib/python2.7/site-packages/pgmpy/factors/discrete/DiscreteFactor.py:598: FutureWarning: Using a non-tuple sequence for multidimensional indexing is deprecated; use `arr[tuple(seq)]` instead of `arr[seq]`. In the future this will be interpreted as an array index, `arr[np.array(seq)]`, which will result either in an error or a different result.\n",
      "  phi1.values = phi1.values[slice_]\n"
     ]
    }
   ],
   "source": [
    "phi = phi1 * phi2\n",
    "print(phi)\n",
    "print(phi.scope())"
   ]
  },
  {
   "cell_type": "code",
   "execution_count": 13,
   "metadata": {},
   "outputs": [
    {
     "name": "stdout",
     "output_type": "stream",
     "text": [
      "+-----+-----+-----+--------------+\n",
      "| a   | b   | c   |   phi(a,b,c) |\n",
      "|-----+-----+-----+--------------|\n",
      "| a_0 | b_0 | c_0 |    1000.0000 |\n",
      "| a_0 | b_0 | c_1 |  100000.0000 |\n",
      "| a_0 | b_0 | c_2 |    5000.0000 |\n",
      "| a_0 | b_1 | c_0 |     200.0000 |\n",
      "| a_0 | b_1 | c_1 |       3.0000 |\n",
      "| a_0 | b_1 | c_2 |    1000.0000 |\n",
      "| a_1 | b_0 | c_0 |       5.0000 |\n",
      "| a_1 | b_0 | c_1 |     500.0000 |\n",
      "| a_1 | b_0 | c_2 |      25.0000 |\n",
      "| a_1 | b_1 | c_0 |   20000.0000 |\n",
      "| a_1 | b_1 | c_1 |     300.0000 |\n",
      "| a_1 | b_1 | c_2 |  100000.0000 |\n",
      "+-----+-----+-----+--------------+\n"
     ]
    }
   ],
   "source": [
    "# or with product method\n",
    "phi1.product(phi2)\n",
    "print(phi1)"
   ]
  },
  {
   "cell_type": "markdown",
   "metadata": {},
   "source": [
    "# Markov intro"
   ]
  },
  {
   "cell_type": "code",
   "execution_count": 14,
   "metadata": {},
   "outputs": [],
   "source": [
    "# represent a Markov model\n",
    "from pgmpy.models import MarkovModel \n",
    "model = MarkovModel([('A', 'B'), ('B', 'C')]) \n",
    "model.add_node('D')\n",
    "model.add_edges_from([('C', 'D'), ('D', 'A')])\n"
   ]
  },
  {
   "cell_type": "code",
   "execution_count": 15,
   "metadata": {},
   "outputs": [],
   "source": [
    "# define a few factors to associate with this model\n",
    "factor_a_b = Factor(variables=['A', 'B'], cardinality=[2, 2], values=[90, 100, 1, 10])\n",
    "factor_b_c = Factor(variables=['B', 'C'], cardinality=[2, 2], values=[10, 80, 70, 30])\n",
    "factor_c_d = Factor(variables=['C', 'D'], cardinality=[2, 2], values=[10, 1, 100, 90])\n",
    "factor_d_a = Factor(variables=['D', 'A'], cardinality=[2, 2], values=[80, 60, 20, 10])"
   ]
  },
  {
   "cell_type": "code",
   "execution_count": 16,
   "metadata": {},
   "outputs": [
    {
     "data": {
      "text/plain": [
       "[<DiscreteFactor representing phi(A:2, B:2) at 0x11551c610>,\n",
       " <DiscreteFactor representing phi(B:2, C:2) at 0x11551c5d0>,\n",
       " <DiscreteFactor representing phi(C:2, D:2) at 0x11551c650>,\n",
       " <DiscreteFactor representing phi(D:2, A:2) at 0x11551c750>]"
      ]
     },
     "execution_count": 16,
     "metadata": {},
     "output_type": "execute_result"
    }
   ],
   "source": [
    "# associate the factors to the model\n",
    "model.add_factors(factor_a_b, factor_b_c, factor_c_d, factor_d_a)\n",
    "model.get_factors()"
   ]
  },
  {
   "cell_type": "markdown",
   "metadata": {},
   "source": [
    "# Factor graph intro"
   ]
  },
  {
   "cell_type": "code",
   "execution_count": 17,
   "metadata": {},
   "outputs": [],
   "source": [
    "# First import FactorGraph class from pgmpy.models \n",
    "from pgmpy.models import FactorGraph \n",
    "factor_graph = FactorGraph()\n",
    "\n",
    "# Add nodes (both variable nodes and factor nodes) to the model # as we did in previous other models\n",
    "factor_graph.add_nodes_from(['A', 'B', 'C', 'D', 'phi1', 'phi2', 'phi3'])\n",
    "\n",
    "# Add edges between all variable nodes and factor nodes \n",
    "factor_graph.add_edges_from([('A', 'phi1'), \n",
    "                             ('B', 'phi1'), \n",
    "                             ('B', 'phi2'), \n",
    "                             ('C', 'phi2'), \n",
    "                             ('C', 'phi3'), \n",
    "                             ('A', 'phi3')])\n"
   ]
  },
  {
   "cell_type": "code",
   "execution_count": 18,
   "metadata": {},
   "outputs": [],
   "source": [
    "# We can also add factors into the model \n",
    "phi1 = Factor(['A', 'B'], [2, 2], np.random.rand(4)) \n",
    "phi2 = Factor(['B', 'C'], [2, 2], np.random.rand(4)) \n",
    "phi3 = Factor(['C', 'A'], [2, 2], np.random.rand(4)) \n",
    "factor_graph.add_factors(phi1, phi2, phi3)"
   ]
  },
  {
   "cell_type": "code",
   "execution_count": 19,
   "metadata": {},
   "outputs": [],
   "source": [
    "# convert a Markov model into a factor graph and vice versa\n",
    "mm = MarkovModel()\n",
    "mm.add_nodes_from(['A', 'B', 'C'])\n",
    "mm.add_edges_from([('A', 'B'), ('B', 'C'), ('C', 'A')]) \n",
    "mm.add_factors(phi1, phi2, phi3) \n",
    "\n",
    "factor_graph_from_mm = mm.to_factor_graph()"
   ]
  },
  {
   "cell_type": "code",
   "execution_count": 20,
   "metadata": {},
   "outputs": [
    {
     "name": "stdout",
     "output_type": "stream",
     "text": [
      "['A', 'C', 'B', 'phi_A_B', 'phi_C_A', 'phi_B_C']\n",
      "[('A', 'phi_C_A'), ('A', 'phi_A_B'), ('C', 'phi_C_A'), ('C', 'phi_B_C'), ('B', 'phi_B_C'), ('B', 'phi_A_B')]\n"
     ]
    }
   ],
   "source": [
    "# While converting a markov model into factor graph, factor nodes \n",
    "# would be automatically added the factor nodes would be in the \n",
    "# form of phi_node1_node2_...\n",
    "print(factor_graph_from_mm.nodes())\n",
    "print(factor_graph_from_mm.edges())"
   ]
  },
  {
   "cell_type": "markdown",
   "metadata": {},
   "source": [
    "# Independencies"
   ]
  },
  {
   "cell_type": "code",
   "execution_count": 21,
   "metadata": {},
   "outputs": [
    {
     "data": {
      "text/plain": [
       "(x2 _|_ x3, x1, x6, x7 | x4, x5)\n",
       "(x3 _|_ x2, x7, x4, x5 | x1, x6)\n",
       "(x1 _|_ x2, x6, x7, x5 | x3, x4)\n",
       "(x6 _|_ x2, x1, x7, x5 | x3, x4)\n",
       "(x7 _|_ x2, x3, x1, x6 | x4, x5)\n",
       "(x4 _|_ x3, x5 | x2, x1, x6, x7)\n",
       "(x5 _|_ x3, x1, x6, x4 | x2, x7)"
      ]
     },
     "execution_count": 21,
     "metadata": {},
     "output_type": "execute_result"
    }
   ],
   "source": [
    "# check the local independencies in the network\n",
    "mm = MarkovModel() \n",
    "mm.add_nodes_from(['x1', 'x2', 'x3', 'x4', 'x5', 'x6', 'x7']) \n",
    "mm.add_edges_from([('x1', 'x3'),\n",
    "                    ('x1', 'x4'),\n",
    "                    ('x2', 'x4'),\n",
    "                    ('x2', 'x5'),\n",
    "                    ('x3', 'x6'),\n",
    "                    ('x4', 'x6'),\n",
    "                    ('x4', 'x7'),\n",
    "                    ('x5', 'x7')])\n",
    "\n",
    "mm.get_local_independencies()"
   ]
  }
 ],
 "metadata": {
  "kernelspec": {
   "display_name": "Python 2",
   "language": "python",
   "name": "python2"
  },
  "language_info": {
   "codemirror_mode": {
    "name": "ipython",
    "version": 2
   },
   "file_extension": ".py",
   "mimetype": "text/x-python",
   "name": "python",
   "nbconvert_exporter": "python",
   "pygments_lexer": "ipython2",
   "version": "2.7.15"
  }
 },
 "nbformat": 4,
 "nbformat_minor": 2
}
