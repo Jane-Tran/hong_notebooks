{
 "cells": [
  {
   "cell_type": "markdown",
   "metadata": {},
   "source": [
    "# Số Hữu Tỉ. Số Thực\n",
    "\n",
    "## Bài 1: Tập hợp Q các số hữu tỉ\n",
    "\n",
    "## Bài 2: Cộng, trừ số hữu tỉ\n",
    "\n",
    "## Bài 3: Nhân, chia số hữu tỉ\n",
    "\n",
    "## Bài 4: Giá trị tuyệt đối của một số hữu tỉ. Cộng, trừ, nhân, chia số thập phân\n",
    "\n",
    "## Bài 5: Lũy thừa của một số hữu tỉ\n",
    "\n",
    "## Bài 6: Lũy thừa của một số hữu tỉ (tiếp)\n",
    "\n",
    "## Bài 7: Tỉ lệ thức\n",
    "\n",
    "## Bài 8: Tính chất của dãy tỉ số bằng nhau\n",
    "\n",
    "## Bài 9: Số thập phân hữu hạn. Số thập phân vô hạn tuần hoàn\n",
    "\n",
    "## Bài 10: Làm tròn số\n",
    "\n",
    "## Bài 11: Số vô tỉ. Khái niệm về căn bậc hai\n",
    "\n",
    "## Bài 12: Số thực\n"
   ]
  },
  {
   "cell_type": "markdown",
   "metadata": {},
   "source": [
    "# Hàm Số Và Đồ Thị\n",
    "\n",
    "## Bài 1: Đại lượng tỉ tệ thuận\n",
    "\n",
    "## Bài 2: Một số bài toán về đại lượng tỉ lệ thuận\n",
    "\n",
    "## Bài 3: Đại lượng tỉ lệ nghịch\n",
    "\n",
    "## Bài 4: Một số bài toán về đại lượng tỉ lệ nghịch\n",
    "\n",
    "## Bài 5: Hàm số\n",
    "\n",
    "## Bài 6: Mặt phẳng tọa độ\n",
    "\n",
    "## Bài 7: Đồ thị của hàm số y = ax (a ≠ 0)"
   ]
  },
  {
   "cell_type": "markdown",
   "metadata": {},
   "source": [
    "# Thống Kê\n",
    "\n",
    "## Bài 1: Thu thập số liệu thống kê, tần số - Luyện tập\n",
    "\n",
    "## Bài 2: Bảng\n",
    "\n",
    "## Bài 3: Biểu đồ - Luyện tập\n",
    "\n",
    "## Bài 4: Số trung bình cộng - Luyện tập "
   ]
  },
  {
   "cell_type": "markdown",
   "metadata": {},
   "source": [
    "# Biểu Thức Đại Số\n",
    "\n",
    "\n",
    "## Bài 1: Khái niệm về biểu thức đại số\n",
    "\n",
    "## Bài 2: Giá trị của một biểu thức đại số\n",
    "\n",
    "## Bài 3: Đơn thức\n",
    "\n",
    "## Bài 4: Đơn thức đồng dạng - Luyện tập\n",
    "\n",
    "## Bài 5: Đa thức\n",
    "\n",
    "## Bài 6: Cộng, trừ đa thức - Luyện tập\n",
    "\n",
    "## Bài 7: Đa thức một biến\n",
    "\n",
    "## Bài 8: Cộng, trừ đa thức một biến - Luyện tập\n",
    "\n",
    "## Bài 9: Nghiệm của đa thức một biến\n"
   ]
  },
  {
   "cell_type": "markdown",
   "metadata": {},
   "source": [
    "# Đường Thẳng Vuông Góc. Đường Thẳng Song Song \n",
    "\n",
    "## Bài 1: Hai góc đối đỉnh\n",
    "\n",
    "## Bài 2: Hai đường thẳng vuông góc\n",
    "\n",
    "## Bài 3: Các góc tạo bởi một đường thẳng cắt hai đường thẳng\n",
    "\n",
    "## Bài 4: Hai đường thẳng song song\n",
    "\n",
    "## Bài 5: Tiên đề Ơ-clit về đường thẳng song song\n",
    "\n",
    "## Bài 6: Từ vuông góc đến song song\n",
    "\n",
    "## Bài 7: Định lí\n"
   ]
  },
  {
   "cell_type": "markdown",
   "metadata": {},
   "source": [
    "# Tam Giác\n",
    "\n",
    "## Bài 1: Tổng ba góc của một tam giác\n",
    "\n",
    "## Bài 2: Hai tam giác bằng nhau\n",
    "\n",
    "## Bài 3: Trường hợp bằng nhau thứ nhất của tam giác: cạnh - cạnh - cạnh (ccc)\n",
    "\n",
    "## Bài 4: Trường hợp bằng nhau thứ hai của tam giác: cạnh - góc - cạnh (cgc)\n",
    "\n",
    "## Bài 5: Trường hợp bằng nhau thứ ba của tam giác: góc - cạnh - góc (gcg)\n",
    "\n",
    "## Bài 6: Tam giác cân\n",
    "\n",
    "## Bài 7: Định lí Pi-ta-go\n",
    "\n",
    "## Bài 8: Các trường hợp bằng nhau của tam giác vuông\n"
   ]
  },
  {
   "cell_type": "markdown",
   "metadata": {},
   "source": [
    "# Quan Hệ Giữa Các Yếu Tố Trong Tam Giác. Các Đường Đồng Quy Của Tam Giác\n",
    "\n",
    "## Bài 1: Quan hệ giữa góc và cạnh đối diện trong một tam giác - Luyện tập\n",
    "\n",
    "## Bài 2: Quan hệ giữa đường vuông góc và đường xiên, đường xiên và hình chiếu - Luyện tập\n",
    "\n",
    "## Bài 3: Quan hệ giữa ba cạnh của một tam giác Bất đẳng thức tam giác - Luyện tập\n",
    "\n",
    "## Bài 4: Tính chất ba đường trung tuyến của tam giác - Luyện tập\n",
    "\n",
    "## Bài 5: Tính chất tia phân giác của một góc - Luyện tập\n",
    "\n",
    "## Bài 6: Tính chất ba đường phân giác của tam giác - Luyện tập\n",
    "\n",
    "## Bài 7: Tính chất đường trung trực của một đoạn thẳng - Luyện tập\n",
    "\n",
    "## Bài 8: Tính chất ba đường trung trực của tam giác - Luyện tập\n",
    "\n",
    "## Bài 9: Tính chất ba đường cao của tam giác - Luyện tập\n"
   ]
  }
 ],
 "metadata": {
  "kernelspec": {
   "display_name": "Python 2",
   "language": "python",
   "name": "python2"
  },
  "language_info": {
   "codemirror_mode": {
    "name": "ipython",
    "version": 2
   },
   "file_extension": ".py",
   "mimetype": "text/x-python",
   "name": "python",
   "nbconvert_exporter": "python",
   "pygments_lexer": "ipython2",
   "version": "2.7.10"
  }
 },
 "nbformat": 4,
 "nbformat_minor": 2
}
