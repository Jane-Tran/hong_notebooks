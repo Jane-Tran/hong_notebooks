{
 "cells": [
  {
   "cell_type": "markdown",
   "metadata": {},
   "source": [
    "# Số hữu tỉ $\\mathbb{Q}$\n",
    "\n",
    "- Có thể viết dưới dạng $\\frac{a}{b} \\mid a,b \\in \\mathbb{Z}, b \\ne 0$.\n",
    "    - Vd: $2 = \\frac{2}{1} = \\frac{4}{2} = \\frac{8}{4} = ...$, $0.5 = -\\frac{1}{2} = -\\frac{2}{4} = ...$\n",
    "- Tỉ lệ thức (đẳng thức): $\\frac{a}{b} = \\frac{c}{d} (a:b = c:d)$\n",
    "    - $a,b$: ngoại tỉ.\n",
    "    - $c,d$: trung tỉ.\n",
    "- Số thập phân hữu hạn và vô hạn tuần hoàn.\n",
    "- Số vô tỉ (incommensurable) là số thập phân vô hạn không tuần hoàn, ký hiệu $\\mathbb{I}$, ví dụ $\\sqrt 2$."
   ]
  },
  {
   "cell_type": "markdown",
   "metadata": {},
   "source": [
    "# Số thực $\\mathbb{R} = \\mathbb{Q} + \\mathbb{I}$\n",
    "\n",
    "- Hàm số và đồ thị:\n",
    "    - Tỉ lệ thuận/nghịch.\n",
    "    - Toạ độ.\n",
    "    - Hàm số: $y = ax$.\n",
    "- Biểu thức đại số (algebraic expression)   \n",
    "    - Biểu thức số: 5+1+9.\n",
    "    - Biểu thức đại số: 2(5 + x), x gọi là biến.\n",
    "- Đơn thức (monomial): $-\\frac{2}{5}x^2y, 2x^4y^7zt^2$.\n",
    "- Đa thức (polynomial): $x + y^2, 1 + x + y$.\n",
    "- Đơn thức thu gọn\n",
    "- Bậc của đơn thức: $-2x^2y^3$ là $5$.\n",
    "- Đơn thức đồng dạng: $-\\frac{1}{2}xy^2, 5xy^2$."
   ]
  }
 ],
 "metadata": {
  "kernelspec": {
   "display_name": "Python 2",
   "language": "python",
   "name": "python2"
  },
  "language_info": {
   "codemirror_mode": {
    "name": "ipython",
    "version": 2
   },
   "file_extension": ".py",
   "mimetype": "text/x-python",
   "name": "python",
   "nbconvert_exporter": "python",
   "pygments_lexer": "ipython2",
   "version": "2.7.10"
  }
 },
 "nbformat": 4,
 "nbformat_minor": 2
}
