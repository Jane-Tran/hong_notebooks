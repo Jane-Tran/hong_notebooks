{
 "cells": [
  {
   "cell_type": "markdown",
   "metadata": {},
   "source": [
    "# Số tự nhiên $\\mathbb{N}$\n",
    "- Tập hợp.\n",
    "- Phép +, -, *, /.\n",
    "- Luỹ thừa: $a^b$, phép *, /.\n",
    "- Dấu hiệu chia hết ($\\vdots$) cho 2,5 và 3,9.\n",
    "- ƯCLN, BCNN (Greatest Common Divisor, Least Common Multiple)."
   ]
  },
  {
   "cell_type": "markdown",
   "metadata": {},
   "source": [
    "# Số nguyên $\\mathbb{Z}$\n",
    "\n",
    "- Nguyên âm, 0, nguyên dương.\n",
    "- Trị tuyệt đối ($|\\bullet|$ absolute).\n",
    "- Phép +, -, *, /."
   ]
  },
  {
   "cell_type": "markdown",
   "metadata": {},
   "source": [
    "# Phân số\n",
    "\n",
    "- $\\frac{a}{b} \\mid a, b \\in \\mathbb{Z}$.\n",
    "- $\\frac{a}{b} = \\frac{c}{d} \\iff a\\cdot d = b\\cdot c$.\n",
    "- Rút gọn sử dụng ƯCLN.\n",
    "- Quy đồng mẫu sử dụng BCNN.\n",
    "- Ứng dụng: so sánh, +, -, *, /.\n",
    "- Hỗn số (mixed number)\n",
    "    - Vd: $3 + \\frac{2}{5} = 3\\frac{2}{5}$.\n",
    "    - Ứng dụng: $1h15ph = 1\\frac{1}{4}h = \\frac{5}{4}h$.\n",
    "- Biểu đồ: cột (bar), ô vuông (heatmap), quạt (pie).    "
   ]
  }
 ],
 "metadata": {
  "kernelspec": {
   "display_name": "Python 2",
   "language": "python",
   "name": "python2"
  },
  "language_info": {
   "codemirror_mode": {
    "name": "ipython",
    "version": 2
   },
   "file_extension": ".py",
   "mimetype": "text/x-python",
   "name": "python",
   "nbconvert_exporter": "python",
   "pygments_lexer": "ipython2",
   "version": "2.7.10"
  }
 },
 "nbformat": 4,
 "nbformat_minor": 2
}
