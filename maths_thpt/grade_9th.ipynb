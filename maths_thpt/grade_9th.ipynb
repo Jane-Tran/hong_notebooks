{
 "cells": [
  {
   "cell_type": "markdown",
   "metadata": {},
   "source": [
    "# Căn bậc 2, 3\n",
    "\n",
    "- $x^2 = a, \\sqrt a$ gọi là căn bậc 2 ($a \\ge 0$).\n",
    "- Căn thức bậc 2:\n",
    "$$\\sqrt A, (A \\ge 0)$$ là biểu thức đại số.\n",
    "- $\\sqrt{A^2}=|A| \\iff \\sqrt A^2 = A \\ (A \\ge 0), \\sqrt A^2 = -A \\ (A < 0)$.\n",
    "- $\\sqrt a \\sqrt b = \\sqrt {ab} \\ (a, b \\ge 0)$ (khai phương).\n",
    "    - Vd: $\\sqrt{2^4(-7)^2} = 4.7 = 28$\n",
    "- $\\sqrt{\\frac{a}{b}} = \\frac{\\sqrt a}{\\sqrt b} \\ (a \\ge 0, b > 0)$.\n",
    "- Đưa thừa số ra ngoài dấu căn: $$\\sqrt{A^2B} = |A|\\sqrt B$$\n",
    "    - Nếu $A \\ge 0, B \\ge 0 \\Rightarrow \\sqrt{A^2B} = A \\sqrt B$.\n",
    "    - Nếu $A < 0, B \\ge 0 \\Rightarrow \\sqrt{A^2B} = -A \\sqrt B$.  \n",
    "\n",
    "- Đưa thừa số vào trong dấu căn:\n",
    "    - Nếu $A \\ge 0, B \\ge 0 \\Rightarrow A \\sqrt B = \\sqrt{A^2B}$.\n",
    "    - Nếu $A < 0, B \\ge 0 \\Rightarrow A \\sqrt B = -\\sqrt{A^2B}$.\n",
    "\n",
    "- Khử mẫu của biểu thức lấy căn bậc hai.\n",
    "- Trục căn thức bậc hai ở mẫu."
   ]
  },
  {
   "cell_type": "markdown",
   "metadata": {},
   "source": [
    "# Hàm số bậc nhất\n",
    "\n",
    "$$y = ax + b \\ (a \\ne 0)$$\n",
    "- $a > 0$: đồng biến.\n",
    "- $a < 0$: nghịch biến.\n",
    "- $a$: hệ số góc (slope).\n",
    "\n",
    "- Đường thẳng song song: $d \\parallel d'$.\n",
    "- Đường thẳng cắt nhau: $d \\cap d'$."
   ]
  },
  {
   "cell_type": "markdown",
   "metadata": {},
   "source": [
    "# Hệ hai phương trình bậc nhất hai ẩn\n",
    "\n",
    "- Phương trình bậc nhất 2 ẩn:\n",
    "$$ax + by = c, \\ nghiệm \\ (x_0; y_0)$$\n",
    "\n",
    "- Hai phương trình bậc nhất 2 ẩn:\n",
    "$$\n",
    "\\left\\{\\begin{matrix} ax+by=c \\ (d)\\\\ a'x+b'y=c' \\ (d') \\end{matrix}\\right. (I)\n",
    "$$\n",
    "    - $d \\cap d'$: có nghiệm duy nhất.\n",
    "    - $d \\parallel d'$: vô nghiệm.\n",
    "    - $d \\equiv d'$: vô số nghiệm.\n",
    "    \n",
    "- Giải bằng phương pháp:\n",
    "    - Thế.\n",
    "    - Cộng đại số (vế trên trừ vế dưới).\n",
    "- Giải toán bằng cách lập hệ.    "
   ]
  },
  {
   "cell_type": "markdown",
   "metadata": {},
   "source": [
    "# Phương trình bậc hai một ẩn \n",
    "\n",
    "$$y = ax^2$$\n",
    "\n",
    "$$ax^2 + bx + c = 0 \\ (a \\ne 0)$$\n",
    "\n",
    "- Hệ thức Vi-ét:\n",
    "$$S = x_1 + x_2, P = x_1.x_2$$\n",
    "$$x^2 - Sx + P = 0$$\n",
    "\n",
    "- Phương trình trùng phương\n",
    "$$ax^4 + bx^2 + c = 0 \\ (a \\ne 0)$$\n",
    "    - Đặt $t = x^2$.\n",
    "- Đại số = lý thuyết số, hình học, giải tích, etc.\n",
    "- Số học = +, -, *, / số $\\mathbb{N}$."
   ]
  }
 ],
 "metadata": {
  "kernelspec": {
   "display_name": "Python 2",
   "language": "python",
   "name": "python2"
  },
  "language_info": {
   "codemirror_mode": {
    "name": "ipython",
    "version": 2
   },
   "file_extension": ".py",
   "mimetype": "text/x-python",
   "name": "python",
   "nbconvert_exporter": "python",
   "pygments_lexer": "ipython2",
   "version": "2.7.10"
  }
 },
 "nbformat": 4,
 "nbformat_minor": 2
}
