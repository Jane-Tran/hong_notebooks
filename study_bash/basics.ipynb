{
 "cells": [
  {
   "cell_type": "markdown",
   "metadata": {},
   "source": [
    "# Hello World Bash Shell Script"
   ]
  },
  {
   "cell_type": "code",
   "execution_count": 1,
   "metadata": {},
   "outputs": [
    {
     "name": "stdout",
     "output_type": "stream",
     "text": [
      "Hello World\n"
     ]
    }
   ],
   "source": [
    "#!/bin/bash\n",
    "\n",
    "echo \"Hello World\""
   ]
  },
  {
   "cell_type": "markdown",
   "metadata": {},
   "source": [
    "# Simple Backup Bash Shell Script"
   ]
  },
  {
   "cell_type": "code",
   "execution_count": 2,
   "metadata": {},
   "outputs": [],
   "source": [
    "#!/bin/bash\n",
    "\n",
    "tar -czf /tmp/myhome_directory.tar.gz ."
   ]
  },
  {
   "cell_type": "markdown",
   "metadata": {},
   "source": [
    "# Variables"
   ]
  },
  {
   "cell_type": "code",
   "execution_count": 3,
   "metadata": {},
   "outputs": [
    {
     "name": "stdout",
     "output_type": "stream",
     "text": [
      "Welcome back hongong. Today is Tuesday, which is the best day of the entire week.\n",
      "Your Bash shell version is: 3.2.57(1)-release. Enjoy.\n"
     ]
    }
   ],
   "source": [
    "#!/bin/bash\n",
    "# $variable: return value of variable\n",
    "# $(command line): return value of command\n",
    "\n",
    "greeting=\"Welcome\"\n",
    "user=$(whoami)\n",
    "day=$(date +%A)\n",
    "\n",
    "echo \"$greeting back $user. Today is $day, which is the best day of the entire week.\"\n",
    "echo \"Your Bash shell version is: $BASH_VERSION. Enjoy.\""
   ]
  },
  {
   "cell_type": "code",
   "execution_count": 4,
   "metadata": {},
   "outputs": [
    {
     "name": "stdout",
     "output_type": "stream",
     "text": [
      "Backup of . completed! Details about the output backup file:\n",
      "-rw-r--r--  1 hongong  wheel  2310 May 15 17:45 /tmp/hongong_home_2018-05-15_174532.tar.gz\n"
     ]
    }
   ],
   "source": [
    "#!/bin/bash\n",
    "# This bash script is used to backup a user's home directory to /tmp/.\n",
    "# ${params}: parameter expansion\n",
    "\n",
    "user=$(whoami)\n",
    "input=.\n",
    "output=/tmp/${user}_home_$(date +%Y-%m-%d_%H%M%S).tar.gz\n",
    "\n",
    "tar -czf $output $input\n",
    "echo \"Backup of $input completed! Details about the output backup file:\"\n",
    "ls -l $output"
   ]
  },
  {
   "cell_type": "markdown",
   "metadata": {},
   "source": [
    "# Input, output and error directory"
   ]
  },
  {
   "cell_type": "code",
   "execution_count": 5,
   "metadata": {},
   "outputs": [],
   "source": [
    "# >: stdout\n",
    "# 2>: stderr\n",
    "# &>: stdout + stderr"
   ]
  },
  {
   "cell_type": "code",
   "execution_count": 6,
   "metadata": {},
   "outputs": [
    {
     "name": "stdout",
     "output_type": "stream",
     "text": [
      "Backup of . completed! Details about the output backup file:\n",
      "-rw-r--r--  1 hongong  wheel  2310 May 15 17:45 /tmp/hongong_home_2018-05-15_174533.tar.gz\n"
     ]
    }
   ],
   "source": [
    "#!/bin/bash\n",
    "\n",
    "# This bash script is used to backup a user's home directory to /tmp/.\n",
    "\n",
    "user=$(whoami)\n",
    "input=.\n",
    "output=/tmp/${user}_home_$(date +%Y-%m-%d_%H%M%S).tar.gz\n",
    "\n",
    "tar -czf $output $input 2> /dev/null\n",
    "echo \"Backup of $input completed! Details about the output backup file:\"\n",
    "ls -l $output"
   ]
  },
  {
   "cell_type": "markdown",
   "metadata": {},
   "source": [
    "# Functions"
   ]
  },
  {
   "cell_type": "code",
   "execution_count": 7,
   "metadata": {},
   "outputs": [
    {
     "name": "stdout",
     "output_type": "stream",
     "text": [
      "Files to be included:       2\n",
      "Directories to be included:       2\n"
     ]
    }
   ],
   "source": [
    "#!/bin/bash\n",
    "\n",
    "# This bash script is used to backup a user's home directory to /tmp/.\n",
    "\n",
    "user=$(whoami)\n",
    "input=.\n",
    "output=/tmp/${user}_home_$(date +%Y-%m-%d_%H%M%S).tar.gz\n",
    "\n",
    "# The function total_files reports a total number of files for a given directory. \n",
    "function total_files {\n",
    "        find $1 -type f | wc -l\n",
    "}\n",
    "\n",
    "# The function total_directories reports a total number of directories\n",
    "# for a given directory. \n",
    "function total_directories {\n",
    "        find $1 -type d | wc -l\n",
    "}\n",
    "\n",
    "echo -n \"Files to be included:\"\n",
    "total_files $input\n",
    "echo -n \"Directories to be included:\"\n",
    "total_directories $input"
   ]
  },
  {
   "cell_type": "markdown",
   "metadata": {},
   "source": [
    "# Numeric and String Comparisons\n",
    "\n",
    "Description/Numeric comparison/String comparison\n",
    "- less than/-lt/<\n",
    "- greater than/-gt/>\n",
    "- equal/-eq/=\n",
    "- not equal/-ne/!=\n",
    "- less or equal/-le/\n",
    "- greater or equal/-ge/"
   ]
  },
  {
   "cell_type": "code",
   "execution_count": 8,
   "metadata": {},
   "outputs": [
    {
     "name": "stdout",
     "output_type": "stream",
     "text": [
      "Are UNIX and GNU strings equal?\n",
      "1\n",
      "Is 100 equal to 100 ?\n",
      "0\n"
     ]
    }
   ],
   "source": [
    "#!/bin/bash\n",
    "# 1: false\n",
    "# 0: true\n",
    "# $?: previously executed evaluation\n",
    "\n",
    "string_a=\"UNIX\"\n",
    "string_b=\"GNU\"\n",
    "\n",
    "echo \"Are $string_a and $string_b strings equal?\"\n",
    "[ $string_a = $string_b ]; echo $?\n",
    "\n",
    "num_a=100\n",
    "num_b=100\n",
    "\n",
    "echo \"Is $num_a equal to $num_b ?\" \n",
    "[ $num_a -eq $num_b ]; echo $?"
   ]
  },
  {
   "cell_type": "markdown",
   "metadata": {},
   "source": [
    "# Conditional Statements"
   ]
  },
  {
   "cell_type": "code",
   "execution_count": 9,
   "metadata": {},
   "outputs": [
    {
     "name": "stdout",
     "output_type": "stream",
     "text": [
      "100 is less than 200\n"
     ]
    }
   ],
   "source": [
    "#!/bin/bash\n",
    "\n",
    "num_a=100\n",
    "num_b=200\n",
    "\n",
    "if [ $num_a -lt $num_b ]; then\n",
    "    echo \"$num_a is less than $num_b\"\n",
    "fi"
   ]
  },
  {
   "cell_type": "code",
   "execution_count": 10,
   "metadata": {},
   "outputs": [
    {
     "name": "stdout",
     "output_type": "stream",
     "text": [
      "400 is greater than 200\n"
     ]
    }
   ],
   "source": [
    "#!/bin/bash\n",
    "\n",
    "num_a=400\n",
    "num_b=200\n",
    "\n",
    "if [ $num_a -lt $num_b ]; then\n",
    "    echo \"$num_a is less than $num_b\"\n",
    "else\n",
    "    echo \"$num_a is greater than $num_b\"\n",
    "fi"
   ]
  },
  {
   "cell_type": "markdown",
   "metadata": {},
   "source": [
    "# Positional Parameters"
   ]
  },
  {
   "cell_type": "code",
   "execution_count": 11,
   "metadata": {},
   "outputs": [
    {
     "name": "stdout",
     "output_type": "stream",
     "text": [
      "\n",
      "0\n",
      "\n"
     ]
    }
   ],
   "source": [
    "#!/bin/bash\n",
    "# $#: print the total number of supplied arguments\n",
    "# $*: print all arguments. \n",
    "\n",
    "echo $1 $2 $4\n",
    "echo $#\n",
    "echo $*"
   ]
  },
  {
   "cell_type": "code",
   "execution_count": 12,
   "metadata": {},
   "outputs": [],
   "source": [
    "#!/bin/bash                                                                                                                                                                                                                                                                    \n",
    "# This bash script is used to backup a user's home directory to /tmp/.\n",
    "# -z: check whether positional parameter $1 contains any value\n",
    "# -d: directory\n",
    "\n",
    "if [ -z $1 ]; then\n",
    "    user=$(whoami)\n",
    "else\n",
    "    if [ ! -d \"/home/$1\" ]; then\n",
    "        echo \"Requested $1 user home directory doesn't exist.\"\n",
    "        exit 1\n",
    "    fi\n",
    "    user=$1\n",
    "fi"
   ]
  },
  {
   "cell_type": "markdown",
   "metadata": {},
   "source": [
    "# Bash Loops"
   ]
  },
  {
   "cell_type": "code",
   "execution_count": 13,
   "metadata": {},
   "outputs": [
    {
     "name": "stdout",
     "output_type": "stream",
     "text": [
      "1\n",
      "2\n",
      "3\n"
     ]
    }
   ],
   "source": [
    "#!/bin/bash\n",
    "\n",
    "for i in 1 2 3; do\n",
    "    echo $i\n",
    "done"
   ]
  },
  {
   "cell_type": "code",
   "execution_count": 14,
   "metadata": {},
   "outputs": [
    {
     "name": "stdout",
     "output_type": "stream",
     "text": [
      "1\n",
      "2\n",
      "3\n"
     ]
    }
   ],
   "source": [
    "#!/bin/bash\n",
    "# let command evaluates a mathematical expression and stores its result into a variable\n",
    "counter=0\n",
    "while [ $counter -lt 3 ]; do\n",
    "    let counter+=1\n",
    "    echo $counter\n",
    "done"
   ]
  },
  {
   "cell_type": "code",
   "execution_count": 15,
   "metadata": {},
   "outputs": [
    {
     "name": "stdout",
     "output_type": "stream",
     "text": [
      "5\n",
      "4\n",
      "3\n",
      "2\n"
     ]
    }
   ],
   "source": [
    "#!/bin/bash\n",
    "\n",
    "counter=6\n",
    "until [ $counter -lt 3 ]; do\n",
    "    let counter-=1\n",
    "    echo $counter\n",
    "done"
   ]
  },
  {
   "cell_type": "markdown",
   "metadata": {},
   "source": [
    "# Bash Arithmetics"
   ]
  },
  {
   "cell_type": "code",
   "execution_count": 16,
   "metadata": {},
   "outputs": [
    {
     "name": "stdout",
     "output_type": "stream",
     "text": [
      "17\n"
     ]
    }
   ],
   "source": [
    "#!/bin/bash\n",
    "\n",
    "a=$((12+5))\n",
    "echo $a"
   ]
  },
  {
   "cell_type": "code",
   "execution_count": 17,
   "metadata": {},
   "outputs": [
    {
     "name": "stdout",
     "output_type": "stream",
     "text": [
      "17\n"
     ]
    }
   ],
   "source": [
    "#!/bin/bash\n",
    "\n",
    "a=$(expr 12 + 5)\n",
    "echo $a"
   ]
  },
  {
   "cell_type": "code",
   "execution_count": 18,
   "metadata": {},
   "outputs": [
    {
     "name": "stdout",
     "output_type": "stream",
     "text": [
      "8\n"
     ]
    }
   ],
   "source": [
    "#!/bin/bash\n",
    "\n",
    "let a=2**3\n",
    "echo $a"
   ]
  },
  {
   "cell_type": "code",
   "execution_count": 19,
   "metadata": {},
   "outputs": [
    {
     "name": "stdout",
     "output_type": "stream",
     "text": [
      "3\n",
      "3.695652173913043478260869565217\n"
     ]
    }
   ],
   "source": [
    "#!/bin/bash\n",
    "\n",
    "echo '8.5 / 2.3' | bc\n",
    "echo 'scale=30;8.5 / 2.3' | bc"
   ]
  }
 ],
 "metadata": {
  "kernelspec": {
   "display_name": "Bash",
   "language": "bash",
   "name": "bash"
  },
  "language_info": {
   "codemirror_mode": "shell",
   "file_extension": ".sh",
   "mimetype": "text/x-sh",
   "name": "bash"
  }
 },
 "nbformat": 4,
 "nbformat_minor": 2
}
