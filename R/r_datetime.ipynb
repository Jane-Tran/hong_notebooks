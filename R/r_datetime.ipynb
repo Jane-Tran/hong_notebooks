{
 "cells": [
  {
   "cell_type": "markdown",
   "metadata": {},
   "source": [
    "<h2>Ngày</h2>\n",
    "Chúng ta bắt đầu bằng việc lấy ngày hiện tại và lưu vào biến d1."
   ]
  },
  {
   "cell_type": "code",
   "execution_count": 1,
   "metadata": {},
   "outputs": [
    {
     "data": {
      "text/html": [
       "<time datetime=\"2018-04-17\">2018-04-17</time>"
      ],
      "text/latex": [
       "2018-04-17"
      ],
      "text/markdown": [
       "2018-04-17"
      ],
      "text/plain": [
       "[1] \"2018-04-17\""
      ]
     },
     "metadata": {},
     "output_type": "display_data"
    }
   ],
   "source": [
    "d1 <- Sys.Date()\n",
    "d1"
   ]
  },
  {
   "cell_type": "code",
   "execution_count": 2,
   "metadata": {},
   "outputs": [
    {
     "data": {
      "text/html": [
       "'Date'"
      ],
      "text/latex": [
       "'Date'"
      ],
      "text/markdown": [
       "'Date'"
      ],
      "text/plain": [
       "[1] \"Date\""
      ]
     },
     "metadata": {},
     "output_type": "display_data"
    }
   ],
   "source": [
    "# kiểm tra kiểu dữ liệu của d1\n",
    "class(d1)"
   ]
  },
  {
   "cell_type": "code",
   "execution_count": 3,
   "metadata": {},
   "outputs": [
    {
     "data": {
      "text/html": [
       "17638"
      ],
      "text/latex": [
       "17638"
      ],
      "text/markdown": [
       "17638"
      ],
      "text/plain": [
       "[1] 17638"
      ]
     },
     "metadata": {},
     "output_type": "display_data"
    }
   ],
   "source": [
    "# quan sát giá trị bên trong biến d1\n",
    "unclass(d1)"
   ]
  },
  {
   "cell_type": "markdown",
   "metadata": {},
   "source": [
    "Giá trị trên bằng đúng số ngày kể từ 1970-01-01. Tuy nhiên, nếu bạn in ra ngoài console thì bạn sẽ nhận được định dạng -- YEAR-MONTH-DAY\n"
   ]
  },
  {
   "cell_type": "code",
   "execution_count": 4,
   "metadata": {},
   "outputs": [
    {
     "name": "stdout",
     "output_type": "stream",
     "text": [
      "[1] \"2018-04-17\"\n"
     ]
    }
   ],
   "source": [
    "print(d1)"
   ]
  },
  {
   "cell_type": "code",
   "execution_count": 5,
   "metadata": {},
   "outputs": [
    {
     "data": {
      "text/html": [
       "-365"
      ],
      "text/latex": [
       "-365"
      ],
      "text/markdown": [
       "-365"
      ],
      "text/plain": [
       "[1] -365"
      ]
     },
     "metadata": {},
     "output_type": "display_data"
    }
   ],
   "source": [
    "# Giả sử chúng ta muốn xem số ngày trước 1970-01-01 là năm 1969? Ta sẽ tạo biến d2 như sau:\n",
    "d2 <- as.Date(\"1969-01-01\")\n",
    "\n",
    "# quan sát giá trị bên trong biến d2\n",
    "unclass(d2)"
   ]
  },
  {
   "cell_type": "markdown",
   "metadata": {},
   "source": [
    "Như các bạn dự đoán, chúng ta sẽ nhận được giá trị âm. Trong trường hợp này, -365 chính bằng một năm trước so với 1970-01-01.\n",
    "<h2>Thời gian</h2>\n",
    "Bây giờ, chúng ta sẽ xem cách mà R lưu Thời gian. Chúng ta có thể lấy Ngày và Thời gian hiện tại bằng cách sử dụng hàm Sys.time().\n"
   ]
  },
  {
   "cell_type": "code",
   "execution_count": 6,
   "metadata": {},
   "outputs": [
    {
     "data": {
      "text/plain": [
       "[1] \"2018-04-17 14:59:46 +07\""
      ]
     },
     "metadata": {},
     "output_type": "display_data"
    }
   ],
   "source": [
    "t1 <- Sys.time()\n",
    "\n",
    "# quan sát nội dung của t1\n",
    "t1"
   ]
  },
  {
   "cell_type": "code",
   "execution_count": 7,
   "metadata": {},
   "outputs": [
    {
     "data": {
      "text/html": [
       "<ol class=list-inline>\n",
       "\t<li>'POSIXct'</li>\n",
       "\t<li>'POSIXt'</li>\n",
       "</ol>\n"
      ],
      "text/latex": [
       "\\begin{enumerate*}\n",
       "\\item 'POSIXct'\n",
       "\\item 'POSIXt'\n",
       "\\end{enumerate*}\n"
      ],
      "text/markdown": [
       "1. 'POSIXct'\n",
       "2. 'POSIXt'\n",
       "\n",
       "\n"
      ],
      "text/plain": [
       "[1] \"POSIXct\" \"POSIXt\" "
      ]
     },
     "metadata": {},
     "output_type": "display_data"
    }
   ],
   "source": [
    "# kiểm tra kiểu dữ liệu của t1\n",
    "class(t1)"
   ]
  },
  {
   "cell_type": "markdown",
   "metadata": {},
   "source": [
    "Như đã đề cập trước đó, POSIXct là một trong hai cách mà R biểu diễn thông tin về thời gian (tạm thời có thể không quan tâm đến giá trị thứ hai, POSIXt, chỉ là hàm như POSIXct và POSIXlt). Ta dùng hàm unclass() để xem giá trị bên trong biến t1 (số giây kể từ năm 1970).\n"
   ]
  },
  {
   "cell_type": "code",
   "execution_count": 8,
   "metadata": {},
   "outputs": [
    {
     "data": {
      "text/html": [
       "1523951986.0041"
      ],
      "text/latex": [
       "1523951986.0041"
      ],
      "text/markdown": [
       "1523951986.0041"
      ],
      "text/plain": [
       "[1] 1523951986"
      ]
     },
     "metadata": {},
     "output_type": "display_data"
    }
   ],
   "source": [
    "unclass(t1)"
   ]
  },
  {
   "cell_type": "markdown",
   "metadata": {},
   "source": [
    "Mặc định, Sys.time() sẽ trả về đối tượng thuộc lớp POSIXct, nhưng chúng ta có thể ép kiểu kết quả thành POSIXlt với hàm as.POSIXlt(Sys.time()).\n"
   ]
  },
  {
   "cell_type": "code",
   "execution_count": 9,
   "metadata": {},
   "outputs": [
    {
     "data": {
      "text/html": [
       "<ol class=list-inline>\n",
       "\t<li>'POSIXlt'</li>\n",
       "\t<li>'POSIXt'</li>\n",
       "</ol>\n"
      ],
      "text/latex": [
       "\\begin{enumerate*}\n",
       "\\item 'POSIXlt'\n",
       "\\item 'POSIXt'\n",
       "\\end{enumerate*}\n"
      ],
      "text/markdown": [
       "1. 'POSIXlt'\n",
       "2. 'POSIXt'\n",
       "\n",
       "\n"
      ],
      "text/plain": [
       "[1] \"POSIXlt\" \"POSIXt\" "
      ]
     },
     "metadata": {},
     "output_type": "display_data"
    }
   ],
   "source": [
    "t2 <- as.POSIXlt(Sys.time())\n",
    "\n",
    "# kiểm tra kiểu dữ liệu của t2\n",
    "class(t2)"
   ]
  },
  {
   "cell_type": "code",
   "execution_count": 10,
   "metadata": {},
   "outputs": [
    {
     "data": {
      "text/plain": [
       "[1] \"2018-04-17 14:59:46 +07\""
      ]
     },
     "metadata": {},
     "output_type": "display_data"
    }
   ],
   "source": [
    "# quan sát nội dung của t2\n",
    "t2"
   ]
  },
  {
   "cell_type": "code",
   "execution_count": 11,
   "metadata": {
    "scrolled": true
   },
   "outputs": [
    {
     "name": "stdout",
     "output_type": "stream",
     "text": [
      "$sec\n",
      "[1] 46.04806\n",
      "\n",
      "$min\n",
      "[1] 59\n",
      "\n",
      "$hour\n",
      "[1] 14\n",
      "\n",
      "$mday\n",
      "[1] 17\n",
      "\n",
      "$mon\n",
      "[1] 3\n",
      "\n",
      "$year\n",
      "[1] 118\n",
      "\n",
      "$wday\n",
      "[1] 2\n",
      "\n",
      "$yday\n",
      "[1] 106\n",
      "\n",
      "$isdst\n",
      "[1] 0\n",
      "\n",
      "$zone\n",
      "[1] \"+07\"\n",
      "\n",
      "$gmtoff\n",
      "[1] 25200\n",
      "\n",
      "attr(,\"tzone\")\n",
      "[1] \"\"    \"+07\" \"   \"\n"
     ]
    }
   ],
   "source": [
    "# quan sát giá trị bên trong t2\n",
    "print(unclass(t2))"
   ]
  },
  {
   "cell_type": "markdown",
   "metadata": {},
   "source": [
    "t2 đối tượng thuộc lớp POSIXlt (danh sách các giá trị tạo nên Ngày và Thời gian). Sử dụng hàm str(unclass(t2)) để có kết quả hiển thị gọn hơn.\n"
   ]
  },
  {
   "cell_type": "code",
   "execution_count": 12,
   "metadata": {},
   "outputs": [
    {
     "name": "stdout",
     "output_type": "stream",
     "text": [
      "List of 11\n",
      " $ sec   : num 46\n",
      " $ min   : int 59\n",
      " $ hour  : int 14\n",
      " $ mday  : int 17\n",
      " $ mon   : int 3\n",
      " $ year  : int 118\n",
      " $ wday  : int 2\n",
      " $ yday  : int 106\n",
      " $ isdst : int 0\n",
      " $ zone  : chr \"+07\"\n",
      " $ gmtoff: int 25200\n",
      " - attr(*, \"tzone\")= chr [1:3] \"\" \"+07\" \"   \"\n"
     ]
    }
   ],
   "source": [
    "str(unclass(t2)) "
   ]
  },
  {
   "cell_type": "code",
   "execution_count": 13,
   "metadata": {},
   "outputs": [
    {
     "data": {
      "text/html": [
       "59"
      ],
      "text/latex": [
       "59"
      ],
      "text/markdown": [
       "59"
      ],
      "text/plain": [
       "[1] 59"
      ]
     },
     "metadata": {},
     "output_type": "display_data"
    }
   ],
   "source": [
    "# chỉ lấy thông tin phút của t2\n",
    "t2$min"
   ]
  },
  {
   "cell_type": "markdown",
   "metadata": {},
   "source": [
    "Hiện tại chúng ta đã khảo sát hết ba loại kiểu dữ liệu của đối tượng Ngày và Thời gian. Chúng ta hãy xem thêm các hàm rút trích thông tin hữu ích từ ba kiểu dữ liệu này -- weekdays(), months(), và quarters().\n"
   ]
  },
  {
   "cell_type": "code",
   "execution_count": 14,
   "metadata": {},
   "outputs": [
    {
     "data": {
      "text/html": [
       "'Tuesday'"
      ],
      "text/latex": [
       "'Tuesday'"
      ],
      "text/markdown": [
       "'Tuesday'"
      ],
      "text/plain": [
       "[1] \"Tuesday\""
      ]
     },
     "metadata": {},
     "output_type": "display_data"
    }
   ],
   "source": [
    "# lấy thông tin thứ trong tuần\n",
    "weekdays(d1)"
   ]
  },
  {
   "cell_type": "code",
   "execution_count": 15,
   "metadata": {},
   "outputs": [
    {
     "data": {
      "text/html": [
       "'April'"
      ],
      "text/latex": [
       "'April'"
      ],
      "text/markdown": [
       "'April'"
      ],
      "text/plain": [
       "[1] \"April\""
      ]
     },
     "metadata": {},
     "output_type": "display_data"
    }
   ],
   "source": [
    "# lấy thông tin tháng của t1 (POSIXct)\n",
    "months(t1)"
   ]
  },
  {
   "cell_type": "code",
   "execution_count": 16,
   "metadata": {},
   "outputs": [
    {
     "data": {
      "text/html": [
       "'Q2'"
      ],
      "text/latex": [
       "'Q2'"
      ],
      "text/markdown": [
       "'Q2'"
      ],
      "text/plain": [
       "[1] \"Q2\""
      ]
     },
     "metadata": {},
     "output_type": "display_data"
    }
   ],
   "source": [
    "# lấy thông tin quý trong năm của t2 (POSIXlt)\n",
    "quarters(t2)"
   ]
  },
  {
   "cell_type": "markdown",
   "metadata": {},
   "source": [
    "Thông thường, tập dữ liệu về Ngày và Thời gian có định dạng mà R không thể nhận diện được. Hàm strptime() sẽ giúp ta giải quyết tình huống này. Hàm này sẽ chuyển đổi character vectors thành POSIXlt. Tương tự như hàm as.POSIXlt(), ngoại trừ thông tin đầu vào không cần ở dạng (YYYY-MM-DD).\n"
   ]
  },
  {
   "cell_type": "code",
   "execution_count": 17,
   "metadata": {},
   "outputs": [
    {
     "data": {
      "text/html": [
       "'October 17, 1986 08:24'"
      ],
      "text/latex": [
       "'October 17, 1986 08:24'"
      ],
      "text/markdown": [
       "'October 17, 1986 08:24'"
      ],
      "text/plain": [
       "[1] \"October 17, 1986 08:24\""
      ]
     },
     "metadata": {},
     "output_type": "display_data"
    }
   ],
   "source": [
    "t3 <- \"October 17, 1986 08:24\"\n",
    "t3"
   ]
  },
  {
   "cell_type": "code",
   "execution_count": 18,
   "metadata": {},
   "outputs": [
    {
     "data": {
      "text/plain": [
       "[1] \"1986-10-17 08:24:00 +07\""
      ]
     },
     "metadata": {},
     "output_type": "display_data"
    }
   ],
   "source": [
    "# chuyển đổi sang định dạng Ngày và Thời gian mà R có thể nhận diện\n",
    "t4 <- strptime(t3, \"%B %d, %Y %H:%M\")\n",
    "t4"
   ]
  },
  {
   "cell_type": "code",
   "execution_count": 19,
   "metadata": {},
   "outputs": [
    {
     "data": {
      "text/html": [
       "<ol class=list-inline>\n",
       "\t<li>'POSIXlt'</li>\n",
       "\t<li>'POSIXt'</li>\n",
       "</ol>\n"
      ],
      "text/latex": [
       "\\begin{enumerate*}\n",
       "\\item 'POSIXlt'\n",
       "\\item 'POSIXt'\n",
       "\\end{enumerate*}\n"
      ],
      "text/markdown": [
       "1. 'POSIXlt'\n",
       "2. 'POSIXt'\n",
       "\n",
       "\n"
      ],
      "text/plain": [
       "[1] \"POSIXlt\" \"POSIXt\" "
      ]
     },
     "metadata": {},
     "output_type": "display_data"
    }
   ],
   "source": [
    "# kiểm tra kiểu dữ liệu của t4\n",
    "class(t4)"
   ]
  },
  {
   "cell_type": "markdown",
   "metadata": {},
   "source": [
    "Cuối cùng, có rất nhiều toán tử có thể thao tác trên dữ liệu Ngày và Thời gian, bao gồm toán tử số học (+ và -) và so sánh (<, ==, ...)\n"
   ]
  },
  {
   "cell_type": "code",
   "execution_count": 20,
   "metadata": {},
   "outputs": [
    {
     "data": {
      "text/html": [
       "TRUE"
      ],
      "text/latex": [
       "TRUE"
      ],
      "text/markdown": [
       "TRUE"
      ],
      "text/plain": [
       "[1] TRUE"
      ]
     },
     "metadata": {},
     "output_type": "display_data"
    }
   ],
   "source": [
    "# so sánh thời gian hiện tại với thời gian t1 trước đó\n",
    "Sys.time() > t1"
   ]
  },
  {
   "cell_type": "code",
   "execution_count": 21,
   "metadata": {},
   "outputs": [
    {
     "data": {
      "text/plain": [
       "Time difference of 0.2188811 secs"
      ]
     },
     "metadata": {},
     "output_type": "display_data"
    }
   ],
   "source": [
    "# khoảng cách giữa hai thời điểm\n",
    "Sys.time() - t1"
   ]
  },
  {
   "cell_type": "code",
   "execution_count": 22,
   "metadata": {},
   "outputs": [
    {
     "data": {
      "text/plain": [
       "Time difference of 2.700706e-06 days"
      ]
     },
     "metadata": {},
     "output_type": "display_data"
    }
   ],
   "source": [
    "# tương tự như tính toán trên với hàm difftime()\n",
    "difftime(Sys.time(), t1, units = 'days')"
   ]
  },
  {
   "cell_type": "markdown",
   "metadata": {},
   "source": [
    "Trong bài viết này, chúng ta đã học về cơ chế lưu Ngày và Thời gian bên trong R. Nếu bạn làm việc nhiều với kiểu dữ liệu này thì bạn nên xem qua lubridate package phát triển bởi Hadley Wickham.\n",
    "\n",
    "<strong>Nguồn tham khảo:</strong> <a href=\"http://swirlstats.com/\" target=\"_blank\" rel=\"noopener\">http://swirlstats.com/</a>"
   ]
  }
 ],
 "metadata": {
  "kernelspec": {
   "display_name": "R",
   "language": "R",
   "name": "ir"
  },
  "language_info": {
   "codemirror_mode": "r",
   "file_extension": ".r",
   "mimetype": "text/x-r-source",
   "name": "R",
   "pygments_lexer": "r",
   "version": "3.4.4"
  }
 },
 "nbformat": 4,
 "nbformat_minor": 2
}
