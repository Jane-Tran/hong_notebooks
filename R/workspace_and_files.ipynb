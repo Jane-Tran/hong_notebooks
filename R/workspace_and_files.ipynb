{
 "cells": [
  {
   "cell_type": "markdown",
   "metadata": {},
   "source": [
    "Các hệ điều hành khác nhau sẽ có những quy định cú pháp liên quan đến đường dẫn đến file và folder. Do đó, có thể kết quả hiển thị dưới đây (Ubuntu) sẽ khác với máy tính của bạn.\n",
    "\n",
    "Tuy nhiên, điều quan trọng là R cung cấp những hàm API thông dụng để tương tác với files và folders. Nhờ vậy mà code của bạn có thể chạy trên nhiều hệ điều hành khác nhau.\n",
    "\n",
    "Đầu tiên, ta muốn biết hiện tại chúng ta đang ở vị trí nào trong workspace. Sử dụng hàm getwd() để trả về vị trí làm việc hiện tại."
   ]
  },
  {
   "cell_type": "code",
   "execution_count": 1,
   "metadata": {},
   "outputs": [
    {
     "data": {
      "text/html": [
       "'/Users/hongong/Documents/hong_notebooks/R'"
      ],
      "text/latex": [
       "'/Users/hongong/Documents/hong\\_notebooks/R'"
      ],
      "text/markdown": [
       "'/Users/hongong/Documents/hong_notebooks/R'"
      ],
      "text/plain": [
       "[1] \"/Users/hongong/Documents/hong_notebooks/R\""
      ]
     },
     "metadata": {},
     "output_type": "display_data"
    }
   ],
   "source": [
    "getwd()"
   ]
  },
  {
   "cell_type": "code",
   "execution_count": 2,
   "metadata": {},
   "outputs": [
    {
     "data": {
      "text/html": [],
      "text/latex": [],
      "text/markdown": [],
      "text/plain": [
       "character(0)"
      ]
     },
     "metadata": {},
     "output_type": "display_data"
    }
   ],
   "source": [
    "# liệt kê danh sách các object (những biến được khởi tạo như x, y, my_data) có bên trong workspace của bạn.\n",
    "ls()"
   ]
  },
  {
   "cell_type": "markdown",
   "metadata": {},
   "source": [
    "Đa số API của R khá tương đồng với những lệnh command line trong hệ Unix (Mac OS, Ubuntu, Linux).\n",
    "Để liệt kê danh sách các files bên trong workspace hiện tại ta dùng lệnh sau:"
   ]
  },
  {
   "cell_type": "code",
   "execution_count": 3,
   "metadata": {},
   "outputs": [
    {
     "data": {
      "text/html": [
       "<ol class=list-inline>\n",
       "\t<li>'introduction.ipynb'</li>\n",
       "\t<li>'mytest2.R'</li>\n",
       "\t<li>'mytest3.R'</li>\n",
       "\t<li>'testdir'</li>\n",
       "\t<li>'workspace_and_files.ipynb'</li>\n",
       "</ol>\n"
      ],
      "text/latex": [
       "\\begin{enumerate*}\n",
       "\\item 'introduction.ipynb'\n",
       "\\item 'mytest2.R'\n",
       "\\item 'mytest3.R'\n",
       "\\item 'testdir'\n",
       "\\item 'workspace\\_and\\_files.ipynb'\n",
       "\\end{enumerate*}\n"
      ],
      "text/markdown": [
       "1. 'introduction.ipynb'\n",
       "2. 'mytest2.R'\n",
       "3. 'mytest3.R'\n",
       "4. 'testdir'\n",
       "5. 'workspace_and_files.ipynb'\n",
       "\n",
       "\n"
      ],
      "text/plain": [
       "[1] \"introduction.ipynb\"        \"mytest2.R\"                \n",
       "[3] \"mytest3.R\"                 \"testdir\"                  \n",
       "[5] \"workspace_and_files.ipynb\""
      ]
     },
     "metadata": {},
     "output_type": "display_data"
    }
   ],
   "source": [
    "list.files()"
   ]
  },
  {
   "cell_type": "code",
   "execution_count": 4,
   "metadata": {},
   "outputs": [
    {
     "data": {
      "text/html": [
       "<ol class=list-inline>\n",
       "\t<li>'introduction.ipynb'</li>\n",
       "\t<li>'mytest2.R'</li>\n",
       "\t<li>'mytest3.R'</li>\n",
       "\t<li>'testdir'</li>\n",
       "\t<li>'workspace_and_files.ipynb'</li>\n",
       "</ol>\n"
      ],
      "text/latex": [
       "\\begin{enumerate*}\n",
       "\\item 'introduction.ipynb'\n",
       "\\item 'mytest2.R'\n",
       "\\item 'mytest3.R'\n",
       "\\item 'testdir'\n",
       "\\item 'workspace\\_and\\_files.ipynb'\n",
       "\\end{enumerate*}\n"
      ],
      "text/markdown": [
       "1. 'introduction.ipynb'\n",
       "2. 'mytest2.R'\n",
       "3. 'mytest3.R'\n",
       "4. 'testdir'\n",
       "5. 'workspace_and_files.ipynb'\n",
       "\n",
       "\n"
      ],
      "text/plain": [
       "[1] \"introduction.ipynb\"        \"mytest2.R\"                \n",
       "[3] \"mytest3.R\"                 \"testdir\"                  \n",
       "[5] \"workspace_and_files.ipynb\""
      ]
     },
     "metadata": {},
     "output_type": "display_data"
    }
   ],
   "source": [
    "# hàm dir() cũng có chức năng tương tự\n",
    "dir()"
   ]
  },
  {
   "cell_type": "markdown",
   "metadata": {},
   "source": [
    "Sử dụng hàm args() với đối số là tên hàm là một cách hay để xem danh sách các đối số của hàm này."
   ]
  },
  {
   "cell_type": "code",
   "execution_count": 5,
   "metadata": {},
   "outputs": [
    {
     "data": {
      "text/html": [
       "<pre class=language-r><code>function (path = \".\", pattern = NULL, all.files = FALSE, full.names = FALSE, \n",
       "<span style=white-space:pre-wrap>    recursive = FALSE, ignore.case = FALSE, include.dirs = FALSE, </span>\n",
       "<span style=white-space:pre-wrap>    no.. = FALSE) </span>\n",
       "NULL</code></pre>"
      ],
      "text/latex": [
       "\\begin{minted}{r}\n",
       "function (path = \".\", pattern = NULL, all.files = FALSE, full.names = FALSE, \n",
       "    recursive = FALSE, ignore.case = FALSE, include.dirs = FALSE, \n",
       "    no.. = FALSE) \n",
       "NULL\n",
       "\\end{minted}"
      ],
      "text/markdown": [
       "```r\n",
       "function (path = \".\", pattern = NULL, all.files = FALSE, full.names = FALSE, \n",
       "    recursive = FALSE, ignore.case = FALSE, include.dirs = FALSE, \n",
       "    no.. = FALSE) \n",
       "NULL\n",
       "```"
      ],
      "text/plain": [
       "function (path = \".\", pattern = NULL, all.files = FALSE, full.names = FALSE, \n",
       "    recursive = FALSE, ignore.case = FALSE, include.dirs = FALSE, \n",
       "    no.. = FALSE) \n",
       "NULL"
      ]
     },
     "metadata": {},
     "output_type": "display_data"
    }
   ],
   "source": [
    "args(list.files)"
   ]
  },
  {
   "cell_type": "markdown",
   "metadata": {},
   "source": [
    "Sau đây là danh sách các hàm để tạo và thay đổi trên thư mục và tập tin:"
   ]
  },
  {
   "cell_type": "code",
   "execution_count": 6,
   "metadata": {},
   "outputs": [
    {
     "name": "stderr",
     "output_type": "stream",
     "text": [
      "Warning message in dir.create(\"testdir\"):\n",
      "“'testdir' already exists”"
     ]
    }
   ],
   "source": [
    "# tạo thư mục testdir\n",
    "dir.create(\"testdir\")"
   ]
  },
  {
   "cell_type": "code",
   "execution_count": 7,
   "metadata": {},
   "outputs": [
    {
     "data": {
      "text/html": [
       "TRUE"
      ],
      "text/latex": [
       "TRUE"
      ],
      "text/markdown": [
       "TRUE"
      ],
      "text/plain": [
       "[1] TRUE"
      ]
     },
     "metadata": {},
     "output_type": "display_data"
    }
   ],
   "source": [
    "# tạo file có tên mytest.R\n",
    "file.create(\"mytest.R\")"
   ]
  },
  {
   "cell_type": "code",
   "execution_count": 8,
   "metadata": {},
   "outputs": [
    {
     "data": {
      "text/html": [
       "TRUE"
      ],
      "text/latex": [
       "TRUE"
      ],
      "text/markdown": [
       "TRUE"
      ],
      "text/plain": [
       "[1] TRUE"
      ]
     },
     "metadata": {},
     "output_type": "display_data"
    }
   ],
   "source": [
    "# kiểm tra xem file mytest.R có tồn tại hay không\n",
    "file.exists(\"mytest.R\")"
   ]
  },
  {
   "cell_type": "code",
   "execution_count": 9,
   "metadata": {},
   "outputs": [
    {
     "data": {
      "text/html": [
       "<table>\n",
       "<thead><tr><th></th><th scope=col>size</th><th scope=col>isdir</th><th scope=col>mode</th><th scope=col>mtime</th><th scope=col>ctime</th><th scope=col>atime</th><th scope=col>uid</th><th scope=col>gid</th><th scope=col>uname</th><th scope=col>grname</th></tr></thead>\n",
       "<tbody>\n",
       "\t<tr><th scope=row>mytest.R</th><td>0                  </td><td>FALSE              </td><td>644                </td><td>2018-04-17 10:19:06</td><td>2018-04-17 10:19:06</td><td>2018-04-17 10:19:06</td><td>501                </td><td>20                 </td><td>hongong            </td><td>staff              </td></tr>\n",
       "</tbody>\n",
       "</table>\n"
      ],
      "text/latex": [
       "\\begin{tabular}{r|llllllllll}\n",
       "  & size & isdir & mode & mtime & ctime & atime & uid & gid & uname & grname\\\\\n",
       "\\hline\n",
       "\tmytest.R & 0                   & FALSE               & 644                 & 2018-04-17 10:19:06 & 2018-04-17 10:19:06 & 2018-04-17 10:19:06 & 501                 & 20                  & hongong             & staff              \\\\\n",
       "\\end{tabular}\n"
      ],
      "text/markdown": [
       "\n",
       "| <!--/--> | size | isdir | mode | mtime | ctime | atime | uid | gid | uname | grname | \n",
       "|---|\n",
       "| mytest.R | 0                   | FALSE               | 644                 | 2018-04-17 10:19:06 | 2018-04-17 10:19:06 | 2018-04-17 10:19:06 | 501                 | 20                  | hongong             | staff               | \n",
       "\n",
       "\n"
      ],
      "text/plain": [
       "         size isdir mode mtime               ctime              \n",
       "mytest.R 0    FALSE 644  2018-04-17 10:19:06 2018-04-17 10:19:06\n",
       "         atime               uid gid uname   grname\n",
       "mytest.R 2018-04-17 10:19:06 501 20  hongong staff "
      ]
     },
     "metadata": {},
     "output_type": "display_data"
    }
   ],
   "source": [
    "# xem thông tin file\n",
    "file.info(\"mytest.R\")"
   ]
  },
  {
   "cell_type": "code",
   "execution_count": 10,
   "metadata": {},
   "outputs": [
    {
     "data": {
      "text/plain": [
       "[1] \"644\""
      ]
     },
     "metadata": {},
     "output_type": "display_data"
    }
   ],
   "source": [
    "# xem thông tin thuộc tính mode của file\n",
    "file.info(\"mytest.R\")$mode"
   ]
  },
  {
   "cell_type": "code",
   "execution_count": 11,
   "metadata": {},
   "outputs": [
    {
     "data": {
      "text/html": [
       "TRUE"
      ],
      "text/latex": [
       "TRUE"
      ],
      "text/markdown": [
       "TRUE"
      ],
      "text/plain": [
       "[1] TRUE"
      ]
     },
     "metadata": {},
     "output_type": "display_data"
    }
   ],
   "source": [
    "# đổi tên file\n",
    "file.rename(\"mytest.R\", \"mytest2.R\")"
   ]
  },
  {
   "cell_type": "code",
   "execution_count": 12,
   "metadata": {},
   "outputs": [
    {
     "data": {
      "text/html": [
       "FALSE"
      ],
      "text/latex": [
       "FALSE"
      ],
      "text/markdown": [
       "FALSE"
      ],
      "text/plain": [
       "[1] FALSE"
      ]
     },
     "metadata": {},
     "output_type": "display_data"
    }
   ],
   "source": [
    "# sao chép file\n",
    "file.copy(\"mytest2.R\", \"mytest3.R\")"
   ]
  },
  {
   "cell_type": "code",
   "execution_count": 13,
   "metadata": {},
   "outputs": [
    {
     "data": {
      "text/html": [
       "'mytest3.R'"
      ],
      "text/latex": [
       "'mytest3.R'"
      ],
      "text/markdown": [
       "'mytest3.R'"
      ],
      "text/plain": [
       "[1] \"mytest3.R\""
      ]
     },
     "metadata": {},
     "output_type": "display_data"
    }
   ],
   "source": [
    "# lấy đường dẫn tương đối của file so với workspace hiện tại\n",
    "file.path(\"mytest3.R\")"
   ]
  },
  {
   "cell_type": "code",
   "execution_count": 14,
   "metadata": {},
   "outputs": [
    {
     "data": {
      "text/html": [
       "'folder1/folder2'"
      ],
      "text/latex": [
       "'folder1/folder2'"
      ],
      "text/markdown": [
       "'folder1/folder2'"
      ],
      "text/plain": [
       "[1] \"folder1/folder2\""
      ]
     },
     "metadata": {},
     "output_type": "display_data"
    }
   ],
   "source": [
    "# tạo đường dẫn đến folder, độc lập với hệ điều hành (Unix \"/\", Windows \"\\\")\n",
    "file.path(\"folder1\", \"folder2\")"
   ]
  },
  {
   "cell_type": "code",
   "execution_count": 15,
   "metadata": {},
   "outputs": [],
   "source": [
    "# tạo thư mục lồng nhau\n",
    "dir.create(file.path(\"testdir2\", \"testdir3\"), recursive = TRUE)"
   ]
  },
  {
   "cell_type": "code",
   "execution_count": 16,
   "metadata": {},
   "outputs": [],
   "source": [
    "# xóa thư mục và các tập tin bên trong\n",
    "unlink(\"testdir2\", recursive = TRUE)"
   ]
  },
  {
   "cell_type": "markdown",
   "metadata": {},
   "source": [
    "Thay vì nhập các dòng lệnh trên thì IDE RStudio hỗ trợ cho chúng ta giao diện có thể tương tác trực tiếp với tập tin và thư mục. Tuy nhiên, việc sử dụng các mã lệnh cho phép chúng ta có thể chuyển giao các thông số cài đặt một cách tự động ở các hệ thống khác. Vì vậy, ta nên biết qua những lệnh hỗ trợ làm việc với tập tin và thư mục trong R.\n",
    "\n",
    "<strong>Nguồn tham khảo:</strong> <a href=\"http://swirlstats.com/\" target=\"_blank\" rel=\"noopener\">http://swirlstats.com/</a>"
   ]
  }
 ],
 "metadata": {
  "kernelspec": {
   "display_name": "R",
   "language": "R",
   "name": "ir"
  },
  "language_info": {
   "codemirror_mode": "r",
   "file_extension": ".r",
   "mimetype": "text/x-r-source",
   "name": "R",
   "pygments_lexer": "r",
   "version": "3.4.4"
  }
 },
 "nbformat": 4,
 "nbformat_minor": 2
}
