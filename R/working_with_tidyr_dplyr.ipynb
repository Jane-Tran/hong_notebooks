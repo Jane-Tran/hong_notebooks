{
 "cells": [
  {
   "cell_type": "markdown",
   "metadata": {},
   "source": [
    "Để bắt đầu, chúng ta cần load thư viện tidyr."
   ]
  },
  {
   "cell_type": "code",
   "execution_count": null,
   "metadata": {},
   "outputs": [],
   "source": [
    "# The easiest way to get tidyr is to install the whole tidyverse:\n",
    "# install.packages(\"tidyr\")\n",
    "# install.packages(\"dplyr\")\n",
    "library(tidyr)\n",
    "library(dplyr)"
   ]
  },
  {
   "cell_type": "markdown",
   "metadata": {},
   "source": [
    "Tác giả của tidyr, Hadley Wickham, có thảo luận về triết lý đằng sau việc dọn dẹp dữ liệu (tidy data) trong bài báo: http://vita.had.co.nz/papers/tidy-data.pdf. Bài báo này nên đọc nếu bạn làm việc với phân tích dữ liệu.\n",
    "\n",
    "Tidy data là định dạng chuẩn cho các phân tích exploration và bước tiền xử lý cho các công cụ khác làm việc mượt mà hơn trên dữ liệu đã được dọn dẹp. Cụ thể, tidy data thỏa mãn ba điều kiện.\n",
    "<ul>\n",
    "\t<li>Mỗi thuộc tính chỉ thuộc một cột dữ liệu</li>\n",
    "\t<li>Mỗi đối tượng chỉ chứa trên một dòng dữ liệu</li>\n",
    "\t<li>Mỗi loại đối tượng chỉ thuộc một bảng dữ liệu</li>\n",
    "</ul>"
   ]
  },
  {
   "cell_type": "markdown",
   "metadata": {},
   "source": [
    "<h2>Mỗi thuộc tính chỉ thuộc một cột dữ liệu</h2>\n",
    "Những tập dữ liệu không thỏa các điều kiện trên được xem là dữ liệu hỗn độn (messy data). Vấn đề đầu tiên đó là cột dữ liệu chỉ chứa giá trị chứ không có tên thuộc tính. Ta lấy tập dữ liệu 'students' sau làm ví dụ cho trường hợp này."
   ]
  },
  {
   "cell_type": "code",
   "execution_count": 2,
   "metadata": {},
   "outputs": [],
   "source": [
    "# Initialize\n",
    "# number of letter grades (A - E)\n",
    ".ng <- 5\n",
    "# max number of students/group\n",
    ".gmax <- 8\n",
    "\n",
    "### column headers are values, not variable names\n",
    "\n",
    "set.seed(1234)\n",
    "students <- data.frame(\n",
    "  grade = LETTERS[1:.ng],\n",
    "  male = sample(0:.gmax, .ng, replace = TRUE),\n",
    "  female = sample(0:.gmax, .ng, replace = TRUE)\n",
    ")\n",
    "\n",
    "### multiple variables are stored in one column\n",
    "\n",
    "set.seed(1211)\n",
    "students2 <- data.frame(\n",
    "  grade = LETTERS[1:.ng],\n",
    "  male_1 = sample(0:.gmax, .ng, replace = TRUE),\n",
    "  female_1 = sample(0:.gmax, .ng, replace = TRUE),\n",
    "  male_2 = sample(0:.gmax, .ng, replace = TRUE),\n",
    "  female_2 = sample(0:.gmax, .ng, replace = TRUE)\n",
    ")\n",
    "\n",
    "### loading data\n",
    "students3 <- read.csv(\"data/students3.csv\", na.strings = \"\", stringsAsFactors = FALSE)\n",
    "students4 <- read.csv(\"data/students4.csv\", stringsAsFactors = FALSE)\n",
    "sat <- read.csv(\"data/sat13.csv\", stringsAsFactors = FALSE)\n",
    "\n",
    "### a single observational unit is stored in multiple tables\n",
    "\n",
    "passed <- students4 %>%\n",
    "  select(name, class, final) %>%\n",
    "  filter(final == \"A\" | final == \"B\")\n",
    "\n",
    "failed <- students4 %>%\n",
    "  select(name, class, final) %>%\n",
    "  filter(final == \"C\" | final == \"D\" | final == \"E\")"
   ]
  },
  {
   "cell_type": "code",
   "execution_count": 3,
   "metadata": {},
   "outputs": [
    {
     "data": {
      "text/html": [
       "<table>\n",
       "<thead><tr><th scope=col>grade</th><th scope=col>male</th><th scope=col>female</th></tr></thead>\n",
       "<tbody>\n",
       "\t<tr><td>A</td><td>1</td><td>5</td></tr>\n",
       "\t<tr><td>B</td><td>5</td><td>0</td></tr>\n",
       "\t<tr><td>C</td><td>5</td><td>2</td></tr>\n",
       "\t<tr><td>D</td><td>5</td><td>5</td></tr>\n",
       "\t<tr><td>E</td><td>7</td><td>4</td></tr>\n",
       "</tbody>\n",
       "</table>\n"
      ],
      "text/latex": [
       "\\begin{tabular}{r|lll}\n",
       " grade & male & female\\\\\n",
       "\\hline\n",
       "\t A & 1 & 5\\\\\n",
       "\t B & 5 & 0\\\\\n",
       "\t C & 5 & 2\\\\\n",
       "\t D & 5 & 5\\\\\n",
       "\t E & 7 & 4\\\\\n",
       "\\end{tabular}\n"
      ],
      "text/markdown": [
       "\n",
       "grade | male | female | \n",
       "|---|---|---|---|---|\n",
       "| A | 1 | 5 | \n",
       "| B | 5 | 0 | \n",
       "| C | 5 | 2 | \n",
       "| D | 5 | 5 | \n",
       "| E | 7 | 4 | \n",
       "\n",
       "\n"
      ],
      "text/plain": [
       "  grade male female\n",
       "1 A     1    5     \n",
       "2 B     5    0     \n",
       "3 C     5    2     \n",
       "4 D     5    5     \n",
       "5 E     7    4     "
      ]
     },
     "metadata": {},
     "output_type": "display_data"
    }
   ],
   "source": [
    "students"
   ]
  },
  {
   "cell_type": "markdown",
   "metadata": {},
   "source": [
    "Cột đầu tiên biểu diễn xếp hạng có thể có của từng học sinh. Cột thứ hai và ba thể hiện số lượng nữ sinh và nam sinh tương ứng với xếp hạng này. Tập dữ liệu này thật ra có ba thuộc tính: grade, sex, và count. Thuộc tính đầu tiên là grade đã thỏa điều kiện với cột đầu tiên. Thuộc tính thứ hai sex được biểu diễn bởi hai cột dữ liệu hai và ba. Thuộc tính thứ ba count là số lượng học sinh cho mỗi kết hợp của grade và sex.\n",
    "\n",
    "Đễ dọn dẹp tập dữ liệu students, ta cần một cột dữ liệu cho từng thuộc tính trên. Chúng ta sẽ dùng hàm gather() từ thư viện tidyr để hoàn thành tác vụ này."
   ]
  },
  {
   "cell_type": "code",
   "execution_count": 4,
   "metadata": {},
   "outputs": [
    {
     "data": {
      "text/html": [
       "<pre class=language-r><code>function (data, key = \"key\", value = \"value\", ..., na.rm = FALSE, \n",
       "<span style=white-space:pre-wrap>    convert = FALSE, factor_key = FALSE) </span>\n",
       "NULL</code></pre>"
      ],
      "text/latex": [
       "\\begin{minted}{r}\n",
       "function (data, key = \"key\", value = \"value\", ..., na.rm = FALSE, \n",
       "    convert = FALSE, factor\\_key = FALSE) \n",
       "NULL\n",
       "\\end{minted}"
      ],
      "text/markdown": [
       "```r\n",
       "function (data, key = \"key\", value = \"value\", ..., na.rm = FALSE, \n",
       "    convert = FALSE, factor_key = FALSE) \n",
       "NULL\n",
       "```"
      ],
      "text/plain": [
       "function (data, key = \"key\", value = \"value\", ..., na.rm = FALSE, \n",
       "    convert = FALSE, factor_key = FALSE) \n",
       "NULL"
      ]
     },
     "metadata": {},
     "output_type": "display_data"
    }
   ],
   "source": [
    "args(gather)"
   ]
  },
  {
   "cell_type": "code",
   "execution_count": 5,
   "metadata": {},
   "outputs": [
    {
     "data": {
      "text/html": [
       "<table>\n",
       "<thead><tr><th scope=col>grade</th><th scope=col>sex</th><th scope=col>count</th></tr></thead>\n",
       "<tbody>\n",
       "\t<tr><td>A     </td><td>male  </td><td>1     </td></tr>\n",
       "\t<tr><td>B     </td><td>male  </td><td>5     </td></tr>\n",
       "\t<tr><td>C     </td><td>male  </td><td>5     </td></tr>\n",
       "\t<tr><td>D     </td><td>male  </td><td>5     </td></tr>\n",
       "\t<tr><td>E     </td><td>male  </td><td>7     </td></tr>\n",
       "\t<tr><td>A     </td><td>female</td><td>5     </td></tr>\n",
       "\t<tr><td>B     </td><td>female</td><td>0     </td></tr>\n",
       "\t<tr><td>C     </td><td>female</td><td>2     </td></tr>\n",
       "\t<tr><td>D     </td><td>female</td><td>5     </td></tr>\n",
       "\t<tr><td>E     </td><td>female</td><td>4     </td></tr>\n",
       "</tbody>\n",
       "</table>\n"
      ],
      "text/latex": [
       "\\begin{tabular}{r|lll}\n",
       " grade & sex & count\\\\\n",
       "\\hline\n",
       "\t A      & male   & 1     \\\\\n",
       "\t B      & male   & 5     \\\\\n",
       "\t C      & male   & 5     \\\\\n",
       "\t D      & male   & 5     \\\\\n",
       "\t E      & male   & 7     \\\\\n",
       "\t A      & female & 5     \\\\\n",
       "\t B      & female & 0     \\\\\n",
       "\t C      & female & 2     \\\\\n",
       "\t D      & female & 5     \\\\\n",
       "\t E      & female & 4     \\\\\n",
       "\\end{tabular}\n"
      ],
      "text/markdown": [
       "\n",
       "grade | sex | count | \n",
       "|---|---|---|---|---|---|---|---|---|---|\n",
       "| A      | male   | 1      | \n",
       "| B      | male   | 5      | \n",
       "| C      | male   | 5      | \n",
       "| D      | male   | 5      | \n",
       "| E      | male   | 7      | \n",
       "| A      | female | 5      | \n",
       "| B      | female | 0      | \n",
       "| C      | female | 2      | \n",
       "| D      | female | 5      | \n",
       "| E      | female | 4      | \n",
       "\n",
       "\n"
      ],
      "text/plain": [
       "   grade sex    count\n",
       "1  A     male   1    \n",
       "2  B     male   5    \n",
       "3  C     male   5    \n",
       "4  D     male   5    \n",
       "5  E     male   7    \n",
       "6  A     female 5    \n",
       "7  B     female 0    \n",
       "8  C     female 2    \n",
       "9  D     female 5    \n",
       "10 E     female 4    "
      ]
     },
     "metadata": {},
     "output_type": "display_data"
    }
   ],
   "source": [
    "# Gather takes multiple columns and collapses into key-value pairs,\n",
    "# duplicating all other columns as needed. You use ‘gather()’ when\n",
    "# you notice that you have columns that are not variables.\n",
    "# -y: exclude column\n",
    "gather(data=students, key=\"sex\", value=\"count\", -\"grade\")"
   ]
  },
  {
   "cell_type": "markdown",
   "metadata": {},
   "source": [
    "Mỗi dòng dữ liệu bây giờ chỉ thể hiện một đối tượng duy nhất được đặc trưng bởi kết hợp giữa thuộc tính grade và sex. Mỗi thuộc tính (grade, sex, và count) được lưu bởi duy nhất một cột dữ liệu. Ta đã có tidy data.\n",
    "\n",
    "Điều quan trọng chúng ta cần hiểu được ý nghĩa của các đối số truyền vào hàm gather(). Đối số data ở đây là students. Đối số key và value gồm có sex và count để đặt tên cho cột thuộc tính của tidy dataset. Đối số sau cùng là grade, ta muốn gom tất cả các cột dữ liệu ngoại trừ cột dữ liệu grade (vì grade đã thảo điều kiện tidy data).\n",
    "\n",
    "Tập dữ liệu lộn xộn thứ hai ta sẽ quan sát có nhiều thuộc tính được lưu bên trong duy nhất một cột thuộc tính. Ta có tập dữ liệu student2 như sau:"
   ]
  },
  {
   "cell_type": "code",
   "execution_count": 6,
   "metadata": {},
   "outputs": [
    {
     "data": {
      "text/html": [
       "<table>\n",
       "<thead><tr><th scope=col>grade</th><th scope=col>male_1</th><th scope=col>female_1</th><th scope=col>male_2</th><th scope=col>female_2</th></tr></thead>\n",
       "<tbody>\n",
       "\t<tr><td>A</td><td>3</td><td>4</td><td>3</td><td>4</td></tr>\n",
       "\t<tr><td>B</td><td>6</td><td>4</td><td>3</td><td>5</td></tr>\n",
       "\t<tr><td>C</td><td>7</td><td>4</td><td>3</td><td>8</td></tr>\n",
       "\t<tr><td>D</td><td>4</td><td>0</td><td>8</td><td>1</td></tr>\n",
       "\t<tr><td>E</td><td>1</td><td>1</td><td>2</td><td>7</td></tr>\n",
       "</tbody>\n",
       "</table>\n"
      ],
      "text/latex": [
       "\\begin{tabular}{r|lllll}\n",
       " grade & male\\_1 & female\\_1 & male\\_2 & female\\_2\\\\\n",
       "\\hline\n",
       "\t A & 3 & 4 & 3 & 4\\\\\n",
       "\t B & 6 & 4 & 3 & 5\\\\\n",
       "\t C & 7 & 4 & 3 & 8\\\\\n",
       "\t D & 4 & 0 & 8 & 1\\\\\n",
       "\t E & 1 & 1 & 2 & 7\\\\\n",
       "\\end{tabular}\n"
      ],
      "text/markdown": [
       "\n",
       "grade | male_1 | female_1 | male_2 | female_2 | \n",
       "|---|---|---|---|---|\n",
       "| A | 3 | 4 | 3 | 4 | \n",
       "| B | 6 | 4 | 3 | 5 | \n",
       "| C | 7 | 4 | 3 | 8 | \n",
       "| D | 4 | 0 | 8 | 1 | \n",
       "| E | 1 | 1 | 2 | 7 | \n",
       "\n",
       "\n"
      ],
      "text/plain": [
       "  grade male_1 female_1 male_2 female_2\n",
       "1 A     3      4        3      4       \n",
       "2 B     6      4        3      5       \n",
       "3 C     7      4        3      8       \n",
       "4 D     4      0        8      1       \n",
       "5 E     1      1        2      7       "
      ]
     },
     "metadata": {},
     "output_type": "display_data"
    }
   ],
   "source": [
    "students2"
   ]
  },
  {
   "cell_type": "markdown",
   "metadata": {},
   "source": [
    "Tập dữ liệu này khá tương đồng với tập dữ liệu ban đầu, ngoại trừ ta có thêm hai lớp phân biệt 1 và 2. Chúng ta có thêm tổng số lượng cho từng lớp. students2 bị xếp vào tập dữ liệu lộn xộn (messy data) khi cột thuộc tính là các giá trị (male_1, female_1,...) mà không phải là tên thuộc tính (sex, class, và count).\n",
    "\n",
    "Tuy nhiên, nó cũng chứa nhiều thuộc tính được lưu trong mỗi cột (sex và class) là dấu hiệu khác của dữ liệu lộn xộn. Dọn dẹp tập dữ liệu này gồm hai bước. Ta hãy dùng hàm gather() để nạp chồng các cột dữ liệu của students2 như lúc nãy. Lần này, đặt tên cho đối số 'key' là sex_class và 'value' là count. Ta lưu kết quả trả về vào biến res."
   ]
  },
  {
   "cell_type": "code",
   "execution_count": 7,
   "metadata": {},
   "outputs": [
    {
     "data": {
      "text/html": [
       "<table>\n",
       "<thead><tr><th scope=col>grade</th><th scope=col>sex_class</th><th scope=col>count</th></tr></thead>\n",
       "<tbody>\n",
       "\t<tr><td>A       </td><td>male_1  </td><td>3       </td></tr>\n",
       "\t<tr><td>B       </td><td>male_1  </td><td>6       </td></tr>\n",
       "\t<tr><td>C       </td><td>male_1  </td><td>7       </td></tr>\n",
       "\t<tr><td>D       </td><td>male_1  </td><td>4       </td></tr>\n",
       "\t<tr><td>E       </td><td>male_1  </td><td>1       </td></tr>\n",
       "\t<tr><td>A       </td><td>female_1</td><td>4       </td></tr>\n",
       "</tbody>\n",
       "</table>\n"
      ],
      "text/latex": [
       "\\begin{tabular}{r|lll}\n",
       " grade & sex\\_class & count\\\\\n",
       "\\hline\n",
       "\t A          & male\\_1   & 3         \\\\\n",
       "\t B          & male\\_1   & 6         \\\\\n",
       "\t C          & male\\_1   & 7         \\\\\n",
       "\t D          & male\\_1   & 4         \\\\\n",
       "\t E          & male\\_1   & 1         \\\\\n",
       "\t A          & female\\_1 & 4         \\\\\n",
       "\\end{tabular}\n"
      ],
      "text/markdown": [
       "\n",
       "grade | sex_class | count | \n",
       "|---|---|---|---|---|---|\n",
       "| A        | male_1   | 3        | \n",
       "| B        | male_1   | 6        | \n",
       "| C        | male_1   | 7        | \n",
       "| D        | male_1   | 4        | \n",
       "| E        | male_1   | 1        | \n",
       "| A        | female_1 | 4        | \n",
       "\n",
       "\n"
      ],
      "text/plain": [
       "  grade sex_class count\n",
       "1 A     male_1    3    \n",
       "2 B     male_1    6    \n",
       "3 C     male_1    7    \n",
       "4 D     male_1    4    \n",
       "5 E     male_1    1    \n",
       "6 A     female_1  4    "
      ]
     },
     "metadata": {},
     "output_type": "display_data"
    }
   ],
   "source": [
    "res <- gather(students2, sex_class, count, -grade)\n",
    "head(res)"
   ]
  },
  {
   "cell_type": "markdown",
   "metadata": {},
   "source": [
    "Ta đã hoàn thành nửa bước dọn dẹp dữ liệu, nhưng chúng ta vẫn còn hai thuộc tính sex và class được lưu trong cùng một cột sex_class. tidyr cung cấp hàm separate() hữu dụng cho việc chia một cột dữ liệu thành nhiều cột. Ta gọi hàm này cho res để chia cột sex_class thành sex và class."
   ]
  },
  {
   "cell_type": "code",
   "execution_count": 8,
   "metadata": {},
   "outputs": [
    {
     "data": {
      "text/html": [
       "<pre class=language-r><code>function (data, col, into, sep = \"[^[:alnum:]]+\", remove = TRUE, \n",
       "<span style=white-space:pre-wrap>    convert = FALSE, extra = \"warn\", fill = \"warn\", ...) </span>\n",
       "NULL</code></pre>"
      ],
      "text/latex": [
       "\\begin{minted}{r}\n",
       "function (data, col, into, sep = \"{[}\\textasciicircum{}{[}:alnum:{]}{]}+\", remove = TRUE, \n",
       "    convert = FALSE, extra = \"warn\", fill = \"warn\", ...) \n",
       "NULL\n",
       "\\end{minted}"
      ],
      "text/markdown": [
       "```r\n",
       "function (data, col, into, sep = \"[^[:alnum:]]+\", remove = TRUE, \n",
       "    convert = FALSE, extra = \"warn\", fill = \"warn\", ...) \n",
       "NULL\n",
       "```"
      ],
      "text/plain": [
       "function (data, col, into, sep = \"[^[:alnum:]]+\", remove = TRUE, \n",
       "    convert = FALSE, extra = \"warn\", fill = \"warn\", ...) \n",
       "NULL"
      ]
     },
     "metadata": {},
     "output_type": "display_data"
    }
   ],
   "source": [
    "args(separate)"
   ]
  },
  {
   "cell_type": "code",
   "execution_count": 9,
   "metadata": {},
   "outputs": [
    {
     "data": {
      "text/html": [
       "<table>\n",
       "<thead><tr><th scope=col>grade</th><th scope=col>sex</th><th scope=col>class</th><th scope=col>count</th></tr></thead>\n",
       "<tbody>\n",
       "\t<tr><td>A     </td><td>male  </td><td>1     </td><td>3     </td></tr>\n",
       "\t<tr><td>B     </td><td>male  </td><td>1     </td><td>6     </td></tr>\n",
       "\t<tr><td>C     </td><td>male  </td><td>1     </td><td>7     </td></tr>\n",
       "\t<tr><td>D     </td><td>male  </td><td>1     </td><td>4     </td></tr>\n",
       "\t<tr><td>E     </td><td>male  </td><td>1     </td><td>1     </td></tr>\n",
       "\t<tr><td>A     </td><td>female</td><td>1     </td><td>4     </td></tr>\n",
       "</tbody>\n",
       "</table>\n"
      ],
      "text/latex": [
       "\\begin{tabular}{r|llll}\n",
       " grade & sex & class & count\\\\\n",
       "\\hline\n",
       "\t A      & male   & 1      & 3     \\\\\n",
       "\t B      & male   & 1      & 6     \\\\\n",
       "\t C      & male   & 1      & 7     \\\\\n",
       "\t D      & male   & 1      & 4     \\\\\n",
       "\t E      & male   & 1      & 1     \\\\\n",
       "\t A      & female & 1      & 4     \\\\\n",
       "\\end{tabular}\n"
      ],
      "text/markdown": [
       "\n",
       "grade | sex | class | count | \n",
       "|---|---|---|---|---|---|\n",
       "| A      | male   | 1      | 3      | \n",
       "| B      | male   | 1      | 6      | \n",
       "| C      | male   | 1      | 7      | \n",
       "| D      | male   | 1      | 4      | \n",
       "| E      | male   | 1      | 1      | \n",
       "| A      | female | 1      | 4      | \n",
       "\n",
       "\n"
      ],
      "text/plain": [
       "  grade sex    class count\n",
       "1 A     male   1     3    \n",
       "2 B     male   1     6    \n",
       "3 C     male   1     7    \n",
       "4 D     male   1     4    \n",
       "5 E     male   1     1    \n",
       "6 A     female 1     4    "
      ]
     },
     "metadata": {},
     "output_type": "display_data"
    }
   ],
   "source": [
    "head(separate(res, sex_class, c(\"sex\", \"class\")))"
   ]
  },
  {
   "cell_type": "markdown",
   "metadata": {},
   "source": [
    "Thật tiện lợi, hàm separate() có khả năng biết được cách để chia cột sex\\_class. Mặc định hàm này chia dựa trên dấu gạch dưới \"_\", ta có thể chỉ định kí tự phân chia bằng đối số 'sep'.\n",
    "\n",
    "Dọn dẹp tập dữ liệu students2 cần hai hàm gather() và separate(). Như vậy, ta có thể sử dụng kĩ thuật chaining bên dplyr bằng toán tử %&gt;% để kết nhiều hàm cùng lúc."
   ]
  },
  {
   "cell_type": "code",
   "execution_count": 10,
   "metadata": {},
   "outputs": [
    {
     "data": {
      "text/html": [
       "<table>\n",
       "<thead><tr><th scope=col>grade</th><th scope=col>sex</th><th scope=col>class</th><th scope=col>count</th></tr></thead>\n",
       "<tbody>\n",
       "\t<tr><td>A     </td><td>male  </td><td>1     </td><td>3     </td></tr>\n",
       "\t<tr><td>B     </td><td>male  </td><td>1     </td><td>6     </td></tr>\n",
       "\t<tr><td>C     </td><td>male  </td><td>1     </td><td>7     </td></tr>\n",
       "\t<tr><td>D     </td><td>male  </td><td>1     </td><td>4     </td></tr>\n",
       "\t<tr><td>E     </td><td>male  </td><td>1     </td><td>1     </td></tr>\n",
       "\t<tr><td>A     </td><td>female</td><td>1     </td><td>4     </td></tr>\n",
       "</tbody>\n",
       "</table>\n"
      ],
      "text/latex": [
       "\\begin{tabular}{r|llll}\n",
       " grade & sex & class & count\\\\\n",
       "\\hline\n",
       "\t A      & male   & 1      & 3     \\\\\n",
       "\t B      & male   & 1      & 6     \\\\\n",
       "\t C      & male   & 1      & 7     \\\\\n",
       "\t D      & male   & 1      & 4     \\\\\n",
       "\t E      & male   & 1      & 1     \\\\\n",
       "\t A      & female & 1      & 4     \\\\\n",
       "\\end{tabular}\n"
      ],
      "text/markdown": [
       "\n",
       "grade | sex | class | count | \n",
       "|---|---|---|---|---|---|\n",
       "| A      | male   | 1      | 3      | \n",
       "| B      | male   | 1      | 6      | \n",
       "| C      | male   | 1      | 7      | \n",
       "| D      | male   | 1      | 4      | \n",
       "| E      | male   | 1      | 1      | \n",
       "| A      | female | 1      | 4      | \n",
       "\n",
       "\n"
      ],
      "text/plain": [
       "  grade sex    class count\n",
       "1 A     male   1     3    \n",
       "2 B     male   1     6    \n",
       "3 C     male   1     7    \n",
       "4 D     male   1     4    \n",
       "5 E     male   1     1    \n",
       "6 A     female 1     4    "
      ]
     },
     "metadata": {},
     "output_type": "display_data"
    }
   ],
   "source": [
    "students2 %>%\n",
    "gather(sex_class, count, -grade) %>%\n",
    "separate(sex_class, c(\"sex\", \"class\")) %>%\n",
    "head"
   ]
  },
  {
   "cell_type": "markdown",
   "metadata": {},
   "source": [
    "<h2>Mỗi đối tượng chỉ chứa trên một dòng dữ liệu</h2>\n",
    "Dấu hiệu thứ ba của tập dữ liệu hỗn độn là khi các thuộc tính được lưu trên cả dòng và cột. Ta lấy ví dụ ở tập dữ liệu students3 sau:"
   ]
  },
  {
   "cell_type": "code",
   "execution_count": 11,
   "metadata": {},
   "outputs": [
    {
     "data": {
      "text/html": [
       "<table>\n",
       "<thead><tr><th scope=col>name</th><th scope=col>test</th><th scope=col>class1</th><th scope=col>class2</th><th scope=col>class3</th><th scope=col>class4</th><th scope=col>class5</th></tr></thead>\n",
       "<tbody>\n",
       "\t<tr><td>Sally  </td><td>midterm</td><td>A      </td><td>NA     </td><td>B      </td><td>NA     </td><td>NA     </td></tr>\n",
       "\t<tr><td>Sally  </td><td>final  </td><td>C      </td><td>NA     </td><td>C      </td><td>NA     </td><td>NA     </td></tr>\n",
       "\t<tr><td>Jeff   </td><td>midterm</td><td>NA     </td><td>D      </td><td>NA     </td><td>A      </td><td>NA     </td></tr>\n",
       "\t<tr><td>Jeff   </td><td>final  </td><td>NA     </td><td>E      </td><td>NA     </td><td>C      </td><td>NA     </td></tr>\n",
       "\t<tr><td>Roger  </td><td>midterm</td><td>NA     </td><td>C      </td><td>NA     </td><td>NA     </td><td>B      </td></tr>\n",
       "\t<tr><td>Roger  </td><td>final  </td><td>NA     </td><td>A      </td><td>NA     </td><td>NA     </td><td>A      </td></tr>\n",
       "</tbody>\n",
       "</table>\n"
      ],
      "text/latex": [
       "\\begin{tabular}{r|lllllll}\n",
       " name & test & class1 & class2 & class3 & class4 & class5\\\\\n",
       "\\hline\n",
       "\t Sally   & midterm & A       & NA      & B       & NA      & NA     \\\\\n",
       "\t Sally   & final   & C       & NA      & C       & NA      & NA     \\\\\n",
       "\t Jeff    & midterm & NA      & D       & NA      & A       & NA     \\\\\n",
       "\t Jeff    & final   & NA      & E       & NA      & C       & NA     \\\\\n",
       "\t Roger   & midterm & NA      & C       & NA      & NA      & B      \\\\\n",
       "\t Roger   & final   & NA      & A       & NA      & NA      & A      \\\\\n",
       "\\end{tabular}\n"
      ],
      "text/markdown": [
       "\n",
       "name | test | class1 | class2 | class3 | class4 | class5 | \n",
       "|---|---|---|---|---|---|\n",
       "| Sally   | midterm | A       | NA      | B       | NA      | NA      | \n",
       "| Sally   | final   | C       | NA      | C       | NA      | NA      | \n",
       "| Jeff    | midterm | NA      | D       | NA      | A       | NA      | \n",
       "| Jeff    | final   | NA      | E       | NA      | C       | NA      | \n",
       "| Roger   | midterm | NA      | C       | NA      | NA      | B       | \n",
       "| Roger   | final   | NA      | A       | NA      | NA      | A       | \n",
       "\n",
       "\n"
      ],
      "text/plain": [
       "  name  test    class1 class2 class3 class4 class5\n",
       "1 Sally midterm A      NA     B      NA     NA    \n",
       "2 Sally final   C      NA     C      NA     NA    \n",
       "3 Jeff  midterm NA     D      NA     A      NA    \n",
       "4 Jeff  final   NA     E      NA     C      NA    \n",
       "5 Roger midterm NA     C      NA     NA     B     \n",
       "6 Roger final   NA     A      NA     NA     A     "
      ]
     },
     "metadata": {},
     "output_type": "display_data"
    }
   ],
   "source": [
    "head(students3)"
   ]
  },
  {
   "cell_type": "markdown",
   "metadata": {},
   "source": [
    "Trong students3, ta có giá trị xếp hạng midterm và final exam cho năm học sinh, mỗi học sinh đăng ký học năm lớp tương ứng.\n",
    "\n",
    "Thuộc tính đầu tiên, name, ta sẽ giữ nguyên. Năm cột dữ liệu còn lại từ class1 đến class5 nên được gom thành cột thuộc tính class. Giá trị trong cột test là midterm và final cũng nên được gom thành các cột thuộc tính tương ứng."
   ]
  },
  {
   "cell_type": "code",
   "execution_count": 12,
   "metadata": {},
   "outputs": [
    {
     "data": {
      "text/html": [
       "<table>\n",
       "<thead><tr><th></th><th scope=col>name</th><th scope=col>test</th><th scope=col>class</th><th scope=col>grade</th></tr></thead>\n",
       "<tbody>\n",
       "\t<tr><th scope=row>1</th><td>Sally  </td><td>midterm</td><td>class1 </td><td>A      </td></tr>\n",
       "\t<tr><th scope=row>2</th><td>Sally  </td><td>final  </td><td>class1 </td><td>C      </td></tr>\n",
       "\t<tr><th scope=row>9</th><td>Brian  </td><td>midterm</td><td>class1 </td><td>B      </td></tr>\n",
       "\t<tr><th scope=row>10</th><td>Brian  </td><td>final  </td><td>class1 </td><td>B      </td></tr>\n",
       "\t<tr><th scope=row>13</th><td>Jeff   </td><td>midterm</td><td>class2 </td><td>D      </td></tr>\n",
       "\t<tr><th scope=row>14</th><td>Jeff   </td><td>final  </td><td>class2 </td><td>E      </td></tr>\n",
       "</tbody>\n",
       "</table>\n"
      ],
      "text/latex": [
       "\\begin{tabular}{r|llll}\n",
       "  & name & test & class & grade\\\\\n",
       "\\hline\n",
       "\t1 & Sally   & midterm & class1  & A      \\\\\n",
       "\t2 & Sally   & final   & class1  & C      \\\\\n",
       "\t9 & Brian   & midterm & class1  & B      \\\\\n",
       "\t10 & Brian   & final   & class1  & B      \\\\\n",
       "\t13 & Jeff    & midterm & class2  & D      \\\\\n",
       "\t14 & Jeff    & final   & class2  & E      \\\\\n",
       "\\end{tabular}\n"
      ],
      "text/markdown": [
       "\n",
       "| <!--/--> | name | test | class | grade | \n",
       "|---|---|---|---|---|---|\n",
       "| 1 | Sally   | midterm | class1  | A       | \n",
       "| 2 | Sally   | final   | class1  | C       | \n",
       "| 9 | Brian   | midterm | class1  | B       | \n",
       "| 10 | Brian   | final   | class1  | B       | \n",
       "| 13 | Jeff    | midterm | class2  | D       | \n",
       "| 14 | Jeff    | final   | class2  | E       | \n",
       "\n",
       "\n"
      ],
      "text/plain": [
       "   name  test    class  grade\n",
       "1  Sally midterm class1 A    \n",
       "2  Sally final   class1 C    \n",
       "9  Brian midterm class1 B    \n",
       "10 Brian final   class1 B    \n",
       "13 Jeff  midterm class2 D    \n",
       "14 Jeff  final   class2 E    "
      ]
     },
     "metadata": {},
     "output_type": "display_data"
    }
   ],
   "source": [
    "students3 %>%\n",
    "gather(class, grade, class1:class5, na.rm = TRUE) %>%\n",
    "head"
   ]
  },
  {
   "cell_type": "markdown",
   "metadata": {},
   "source": [
    "Bước tiếp theo ta sẽ cần đến hàm spread()."
   ]
  },
  {
   "cell_type": "code",
   "execution_count": 13,
   "metadata": {},
   "outputs": [
    {
     "data": {
      "text/html": [
       "<pre class=language-r><code>function (data, key, value, fill = NA, convert = FALSE, drop = TRUE, \n",
       "<span style=white-space:pre-wrap>    sep = NULL) </span>\n",
       "NULL</code></pre>"
      ],
      "text/latex": [
       "\\begin{minted}{r}\n",
       "function (data, key, value, fill = NA, convert = FALSE, drop = TRUE, \n",
       "    sep = NULL) \n",
       "NULL\n",
       "\\end{minted}"
      ],
      "text/markdown": [
       "```r\n",
       "function (data, key, value, fill = NA, convert = FALSE, drop = TRUE, \n",
       "    sep = NULL) \n",
       "NULL\n",
       "```"
      ],
      "text/plain": [
       "function (data, key, value, fill = NA, convert = FALSE, drop = TRUE, \n",
       "    sep = NULL) \n",
       "NULL"
      ]
     },
     "metadata": {},
     "output_type": "display_data"
    }
   ],
   "source": [
    "args(spread)"
   ]
  },
  {
   "cell_type": "code",
   "execution_count": 14,
   "metadata": {},
   "outputs": [
    {
     "data": {
      "text/html": [
       "<table>\n",
       "<thead><tr><th scope=col>name</th><th scope=col>class</th><th scope=col>final</th><th scope=col>midterm</th></tr></thead>\n",
       "<tbody>\n",
       "\t<tr><td>Brian </td><td>class1</td><td>B     </td><td>B     </td></tr>\n",
       "\t<tr><td>Brian </td><td>class5</td><td>C     </td><td>A     </td></tr>\n",
       "\t<tr><td>Jeff  </td><td>class2</td><td>E     </td><td>D     </td></tr>\n",
       "\t<tr><td>Jeff  </td><td>class4</td><td>C     </td><td>A     </td></tr>\n",
       "\t<tr><td>Karen </td><td>class3</td><td>C     </td><td>C     </td></tr>\n",
       "\t<tr><td>Karen </td><td>class4</td><td>A     </td><td>A     </td></tr>\n",
       "</tbody>\n",
       "</table>\n"
      ],
      "text/latex": [
       "\\begin{tabular}{r|llll}\n",
       " name & class & final & midterm\\\\\n",
       "\\hline\n",
       "\t Brian  & class1 & B      & B     \\\\\n",
       "\t Brian  & class5 & C      & A     \\\\\n",
       "\t Jeff   & class2 & E      & D     \\\\\n",
       "\t Jeff   & class4 & C      & A     \\\\\n",
       "\t Karen  & class3 & C      & C     \\\\\n",
       "\t Karen  & class4 & A      & A     \\\\\n",
       "\\end{tabular}\n"
      ],
      "text/markdown": [
       "\n",
       "name | class | final | midterm | \n",
       "|---|---|---|---|---|---|\n",
       "| Brian  | class1 | B      | B      | \n",
       "| Brian  | class5 | C      | A      | \n",
       "| Jeff   | class2 | E      | D      | \n",
       "| Jeff   | class4 | C      | A      | \n",
       "| Karen  | class3 | C      | C      | \n",
       "| Karen  | class4 | A      | A      | \n",
       "\n",
       "\n"
      ],
      "text/plain": [
       "  name  class  final midterm\n",
       "1 Brian class1 B     B      \n",
       "2 Brian class5 C     A      \n",
       "3 Jeff  class2 E     D      \n",
       "4 Jeff  class4 C     A      \n",
       "5 Karen class3 C     C      \n",
       "6 Karen class4 A     A      "
      ]
     },
     "metadata": {},
     "output_type": "display_data"
    }
   ],
   "source": [
    "# Spread a key-value pair across multiple columns.\n",
    "# spread(data, key, value, fill = NA, convert = FALSE, drop = TRUE)\n",
    "students3 %>%\n",
    "gather(class, grade, class1:class5, na.rm = TRUE) %>%\n",
    "spread(test, grade) %>%\n",
    "head"
   ]
  },
  {
   "cell_type": "markdown",
   "metadata": {},
   "source": [
    "Sau cùng, chúng ta muốn các giá trị trong cột class đơn giản là 1, 2, ..., 5 thay vì class1, class2, ..., class5. Chúng ta có thể dùng hàm extract_numeric() của tidyr để làm việc này."
   ]
  },
  {
   "cell_type": "code",
   "execution_count": 15,
   "metadata": {},
   "outputs": [
    {
     "data": {
      "text/html": [
       "<pre class=language-r><code>function (x) \n",
       "NULL</code></pre>"
      ],
      "text/latex": [
       "\\begin{minted}{r}\n",
       "function (x) \n",
       "NULL\n",
       "\\end{minted}"
      ],
      "text/markdown": [
       "```r\n",
       "function (x) \n",
       "NULL\n",
       "```"
      ],
      "text/plain": [
       "function (x) \n",
       "NULL"
      ]
     },
     "metadata": {},
     "output_type": "display_data"
    }
   ],
   "source": [
    "args(extract_numeric)"
   ]
  },
  {
   "cell_type": "code",
   "execution_count": 16,
   "metadata": {},
   "outputs": [
    {
     "name": "stderr",
     "output_type": "stream",
     "text": [
      "extract_numeric() is deprecated: please use readr::parse_number() instead\n"
     ]
    },
    {
     "data": {
      "text/html": [
       "<table>\n",
       "<thead><tr><th scope=col>name</th><th scope=col>class</th><th scope=col>final</th><th scope=col>midterm</th></tr></thead>\n",
       "<tbody>\n",
       "\t<tr><td>Brian</td><td>1    </td><td>B    </td><td>B    </td></tr>\n",
       "\t<tr><td>Brian</td><td>5    </td><td>C    </td><td>A    </td></tr>\n",
       "\t<tr><td>Jeff </td><td>2    </td><td>E    </td><td>D    </td></tr>\n",
       "\t<tr><td>Jeff </td><td>4    </td><td>C    </td><td>A    </td></tr>\n",
       "\t<tr><td>Karen</td><td>3    </td><td>C    </td><td>C    </td></tr>\n",
       "\t<tr><td>Karen</td><td>4    </td><td>A    </td><td>A    </td></tr>\n",
       "</tbody>\n",
       "</table>\n"
      ],
      "text/latex": [
       "\\begin{tabular}{r|llll}\n",
       " name & class & final & midterm\\\\\n",
       "\\hline\n",
       "\t Brian & 1     & B     & B    \\\\\n",
       "\t Brian & 5     & C     & A    \\\\\n",
       "\t Jeff  & 2     & E     & D    \\\\\n",
       "\t Jeff  & 4     & C     & A    \\\\\n",
       "\t Karen & 3     & C     & C    \\\\\n",
       "\t Karen & 4     & A     & A    \\\\\n",
       "\\end{tabular}\n"
      ],
      "text/markdown": [
       "\n",
       "name | class | final | midterm | \n",
       "|---|---|---|---|---|---|\n",
       "| Brian | 1     | B     | B     | \n",
       "| Brian | 5     | C     | A     | \n",
       "| Jeff  | 2     | E     | D     | \n",
       "| Jeff  | 4     | C     | A     | \n",
       "| Karen | 3     | C     | C     | \n",
       "| Karen | 4     | A     | A     | \n",
       "\n",
       "\n"
      ],
      "text/plain": [
       "  name  class final midterm\n",
       "1 Brian 1     B     B      \n",
       "2 Brian 5     C     A      \n",
       "3 Jeff  2     E     D      \n",
       "4 Jeff  4     C     A      \n",
       "5 Karen 3     C     C      \n",
       "6 Karen 4     A     A      "
      ]
     },
     "metadata": {},
     "output_type": "display_data"
    }
   ],
   "source": [
    "students3 %>%\n",
    "gather(class, grade, class1:class5, na.rm = TRUE) %>%\n",
    "spread(test, grade) %>%\n",
    "mutate(class = extract_numeric(class)) %>%\n",
    "head"
   ]
  },
  {
   "cell_type": "markdown",
   "metadata": {},
   "source": [
    "<h2>Mỗi loại đối tượng chỉ thuộc một bảng dữ liệu</h2>\n",
    "Trường hợp thứ tư của dữ liệu hỗn độn đó là nhiều loại đối tượng khác nhau được lưu chung một bảng. Ta xét ví dụ này với students4\n"
   ]
  },
  {
   "cell_type": "code",
   "execution_count": 17,
   "metadata": {},
   "outputs": [
    {
     "data": {
      "text/html": [
       "<table>\n",
       "<thead><tr><th scope=col>id</th><th scope=col>name</th><th scope=col>sex</th><th scope=col>class</th><th scope=col>midterm</th><th scope=col>final</th></tr></thead>\n",
       "<tbody>\n",
       "\t<tr><td>168  </td><td>Brian</td><td>F    </td><td>1    </td><td>B    </td><td>B    </td></tr>\n",
       "\t<tr><td>168  </td><td>Brian</td><td>F    </td><td>5    </td><td>A    </td><td>C    </td></tr>\n",
       "\t<tr><td>588  </td><td>Sally</td><td>M    </td><td>1    </td><td>A    </td><td>C    </td></tr>\n",
       "\t<tr><td>588  </td><td>Sally</td><td>M    </td><td>3    </td><td>B    </td><td>C    </td></tr>\n",
       "\t<tr><td>710  </td><td>Jeff </td><td>M    </td><td>2    </td><td>D    </td><td>E    </td></tr>\n",
       "\t<tr><td>710  </td><td>Jeff </td><td>M    </td><td>4    </td><td>A    </td><td>C    </td></tr>\n",
       "</tbody>\n",
       "</table>\n"
      ],
      "text/latex": [
       "\\begin{tabular}{r|llllll}\n",
       " id & name & sex & class & midterm & final\\\\\n",
       "\\hline\n",
       "\t 168   & Brian & F     & 1     & B     & B    \\\\\n",
       "\t 168   & Brian & F     & 5     & A     & C    \\\\\n",
       "\t 588   & Sally & M     & 1     & A     & C    \\\\\n",
       "\t 588   & Sally & M     & 3     & B     & C    \\\\\n",
       "\t 710   & Jeff  & M     & 2     & D     & E    \\\\\n",
       "\t 710   & Jeff  & M     & 4     & A     & C    \\\\\n",
       "\\end{tabular}\n"
      ],
      "text/markdown": [
       "\n",
       "id | name | sex | class | midterm | final | \n",
       "|---|---|---|---|---|---|\n",
       "| 168   | Brian | F     | 1     | B     | B     | \n",
       "| 168   | Brian | F     | 5     | A     | C     | \n",
       "| 588   | Sally | M     | 1     | A     | C     | \n",
       "| 588   | Sally | M     | 3     | B     | C     | \n",
       "| 710   | Jeff  | M     | 2     | D     | E     | \n",
       "| 710   | Jeff  | M     | 4     | A     | C     | \n",
       "\n",
       "\n"
      ],
      "text/plain": [
       "  id  name  sex class midterm final\n",
       "1 168 Brian F   1     B       B    \n",
       "2 168 Brian F   5     A       C    \n",
       "3 588 Sally M   1     A       C    \n",
       "4 588 Sally M   3     B       C    \n",
       "5 710 Jeff  M   2     D       E    \n",
       "6 710 Jeff  M   4     A       C    "
      ]
     },
     "metadata": {},
     "output_type": "display_data"
    }
   ],
   "source": [
    "head(students4)"
   ]
  },
  {
   "cell_type": "markdown",
   "metadata": {},
   "source": [
    "students4 khá giống students3. Điểm khác biệt duy nhất đó là students4 có thêm cột id cho mỗi học sinh cùng với giới tính (M = male; F = female).\n",
    "\n",
    "Nhìn sơ qua, ta không thấy gì bất ổn với students4. Tất cả các cột đều là thuộc tính và tất cả các đối tượng đều thuộc một dòng. Tuy nhiên, để ý cột id, name, và sex lặp lại hai lần, điều này có vẻ dư thừa. Đây là dấu hiệu dữ liệu của chúng ta chứa nhiều loại đối tượng trên cùng một bảng dữ liệu.\n",
    "\n",
    "Giải pháp của chúng ta chia students4 thành hai bảng tách biệt -- một bảng chứa thông tin cơ bản của student (id, name, và sex) bảng còn lại chứa grades (id, class, midterm, final)."
   ]
  },
  {
   "cell_type": "code",
   "execution_count": 18,
   "metadata": {},
   "outputs": [
    {
     "data": {
      "text/html": [
       "<table>\n",
       "<thead><tr><th></th><th scope=col>id</th><th scope=col>name</th><th scope=col>sex</th></tr></thead>\n",
       "<tbody>\n",
       "\t<tr><th scope=row>1</th><td>168  </td><td>Brian</td><td>F    </td></tr>\n",
       "\t<tr><th scope=row>3</th><td>588  </td><td>Sally</td><td>M    </td></tr>\n",
       "\t<tr><th scope=row>5</th><td>710  </td><td>Jeff </td><td>M    </td></tr>\n",
       "\t<tr><th scope=row>7</th><td>731  </td><td>Roger</td><td>F    </td></tr>\n",
       "\t<tr><th scope=row>9</th><td>908  </td><td>Karen</td><td>M    </td></tr>\n",
       "</tbody>\n",
       "</table>\n"
      ],
      "text/latex": [
       "\\begin{tabular}{r|lll}\n",
       "  & id & name & sex\\\\\n",
       "\\hline\n",
       "\t1 & 168   & Brian & F    \\\\\n",
       "\t3 & 588   & Sally & M    \\\\\n",
       "\t5 & 710   & Jeff  & M    \\\\\n",
       "\t7 & 731   & Roger & F    \\\\\n",
       "\t9 & 908   & Karen & M    \\\\\n",
       "\\end{tabular}\n"
      ],
      "text/markdown": [
       "\n",
       "| <!--/--> | id | name | sex | \n",
       "|---|---|---|---|---|\n",
       "| 1 | 168   | Brian | F     | \n",
       "| 3 | 588   | Sally | M     | \n",
       "| 5 | 710   | Jeff  | M     | \n",
       "| 7 | 731   | Roger | F     | \n",
       "| 9 | 908   | Karen | M     | \n",
       "\n",
       "\n"
      ],
      "text/plain": [
       "  id  name  sex\n",
       "1 168 Brian F  \n",
       "3 588 Sally M  \n",
       "5 710 Jeff  M  \n",
       "7 731 Roger F  \n",
       "9 908 Karen M  "
      ]
     },
     "metadata": {},
     "output_type": "display_data"
    }
   ],
   "source": [
    "# bảng dữ liệu chứa thông tin học sinh\n",
    "student_info <- students4 %>%\n",
    "select(id, name, sex) %>%\n",
    "unique\n",
    "\n",
    "head(student_info)"
   ]
  },
  {
   "cell_type": "code",
   "execution_count": 19,
   "metadata": {},
   "outputs": [
    {
     "data": {
      "text/html": [
       "<table>\n",
       "<thead><tr><th scope=col>id</th><th scope=col>class</th><th scope=col>midterm</th><th scope=col>final</th></tr></thead>\n",
       "<tbody>\n",
       "\t<tr><td>168</td><td>1  </td><td>B  </td><td>B  </td></tr>\n",
       "\t<tr><td>168</td><td>5  </td><td>A  </td><td>C  </td></tr>\n",
       "\t<tr><td>588</td><td>1  </td><td>A  </td><td>C  </td></tr>\n",
       "\t<tr><td>588</td><td>3  </td><td>B  </td><td>C  </td></tr>\n",
       "\t<tr><td>710</td><td>2  </td><td>D  </td><td>E  </td></tr>\n",
       "\t<tr><td>710</td><td>4  </td><td>A  </td><td>C  </td></tr>\n",
       "</tbody>\n",
       "</table>\n"
      ],
      "text/latex": [
       "\\begin{tabular}{r|llll}\n",
       " id & class & midterm & final\\\\\n",
       "\\hline\n",
       "\t 168 & 1   & B   & B  \\\\\n",
       "\t 168 & 5   & A   & C  \\\\\n",
       "\t 588 & 1   & A   & C  \\\\\n",
       "\t 588 & 3   & B   & C  \\\\\n",
       "\t 710 & 2   & D   & E  \\\\\n",
       "\t 710 & 4   & A   & C  \\\\\n",
       "\\end{tabular}\n"
      ],
      "text/markdown": [
       "\n",
       "id | class | midterm | final | \n",
       "|---|---|---|---|---|---|\n",
       "| 168 | 1   | B   | B   | \n",
       "| 168 | 5   | A   | C   | \n",
       "| 588 | 1   | A   | C   | \n",
       "| 588 | 3   | B   | C   | \n",
       "| 710 | 2   | D   | E   | \n",
       "| 710 | 4   | A   | C   | \n",
       "\n",
       "\n"
      ],
      "text/plain": [
       "  id  class midterm final\n",
       "1 168 1     B       B    \n",
       "2 168 5     A       C    \n",
       "3 588 1     A       C    \n",
       "4 588 3     B       C    \n",
       "5 710 2     D       E    \n",
       "6 710 4     A       C    "
      ]
     },
     "metadata": {},
     "output_type": "display_data"
    }
   ],
   "source": [
    "gradebook <- students4 %>% select(id, class, midterm, final)\n",
    "head(gradebook)"
   ]
  },
  {
   "cell_type": "markdown",
   "metadata": {},
   "source": [
    "Điều quan trọng cần lưu ý là chúng ta đặt cột id ở cả hai bảng dữ liệu. id ở đây là 'primary key' để tham chiếu đến thông tin học sinh. Không có chỉ định cột id cho bảng gradebook, ta không thể xác định được đây là xếp hạng của học sinh nào.\n",
    "\n",
    "Trường hợp cuối cùng của dữ liệu hỗn độn đó là một loại đối tượng lại được lưu ở nhiều bảng khác nhau. Trái ngược với trường hợp thứ tư. Ta lấy ví dụ sau:"
   ]
  },
  {
   "cell_type": "code",
   "execution_count": 20,
   "metadata": {},
   "outputs": [
    {
     "data": {
      "text/html": [
       "<table>\n",
       "<thead><tr><th scope=col>name</th><th scope=col>class</th><th scope=col>final</th></tr></thead>\n",
       "<tbody>\n",
       "\t<tr><td>Brian</td><td>1    </td><td>B    </td></tr>\n",
       "\t<tr><td>Roger</td><td>2    </td><td>A    </td></tr>\n",
       "\t<tr><td>Roger</td><td>5    </td><td>A    </td></tr>\n",
       "\t<tr><td>Karen</td><td>4    </td><td>A    </td></tr>\n",
       "</tbody>\n",
       "</table>\n"
      ],
      "text/latex": [
       "\\begin{tabular}{r|lll}\n",
       " name & class & final\\\\\n",
       "\\hline\n",
       "\t Brian & 1     & B    \\\\\n",
       "\t Roger & 2     & A    \\\\\n",
       "\t Roger & 5     & A    \\\\\n",
       "\t Karen & 4     & A    \\\\\n",
       "\\end{tabular}\n"
      ],
      "text/markdown": [
       "\n",
       "name | class | final | \n",
       "|---|---|---|---|\n",
       "| Brian | 1     | B     | \n",
       "| Roger | 2     | A     | \n",
       "| Roger | 5     | A     | \n",
       "| Karen | 4     | A     | \n",
       "\n",
       "\n"
      ],
      "text/plain": [
       "  name  class final\n",
       "1 Brian 1     B    \n",
       "2 Roger 2     A    \n",
       "3 Roger 5     A    \n",
       "4 Karen 4     A    "
      ]
     },
     "metadata": {},
     "output_type": "display_data"
    }
   ],
   "source": [
    "# danh sách đậu\n",
    "passed"
   ]
  },
  {
   "cell_type": "code",
   "execution_count": 21,
   "metadata": {},
   "outputs": [
    {
     "data": {
      "text/html": [
       "<table>\n",
       "<thead><tr><th scope=col>name</th><th scope=col>class</th><th scope=col>final</th></tr></thead>\n",
       "<tbody>\n",
       "\t<tr><td>Brian</td><td>5    </td><td>C    </td></tr>\n",
       "\t<tr><td>Sally</td><td>1    </td><td>C    </td></tr>\n",
       "\t<tr><td>Sally</td><td>3    </td><td>C    </td></tr>\n",
       "\t<tr><td>Jeff </td><td>2    </td><td>E    </td></tr>\n",
       "\t<tr><td>Jeff </td><td>4    </td><td>C    </td></tr>\n",
       "\t<tr><td>Karen</td><td>3    </td><td>C    </td></tr>\n",
       "</tbody>\n",
       "</table>\n"
      ],
      "text/latex": [
       "\\begin{tabular}{r|lll}\n",
       " name & class & final\\\\\n",
       "\\hline\n",
       "\t Brian & 5     & C    \\\\\n",
       "\t Sally & 1     & C    \\\\\n",
       "\t Sally & 3     & C    \\\\\n",
       "\t Jeff  & 2     & E    \\\\\n",
       "\t Jeff  & 4     & C    \\\\\n",
       "\t Karen & 3     & C    \\\\\n",
       "\\end{tabular}\n"
      ],
      "text/markdown": [
       "\n",
       "name | class | final | \n",
       "|---|---|---|---|---|---|\n",
       "| Brian | 5     | C     | \n",
       "| Sally | 1     | C     | \n",
       "| Sally | 3     | C     | \n",
       "| Jeff  | 2     | E     | \n",
       "| Jeff  | 4     | C     | \n",
       "| Karen | 3     | C     | \n",
       "\n",
       "\n"
      ],
      "text/plain": [
       "  name  class final\n",
       "1 Brian 5     C    \n",
       "2 Sally 1     C    \n",
       "3 Sally 3     C    \n",
       "4 Jeff  2     E    \n",
       "5 Jeff  4     C    \n",
       "6 Karen 3     C    "
      ]
     },
     "metadata": {},
     "output_type": "display_data"
    }
   ],
   "source": [
    "# danh sách rớt\n",
    "failed"
   ]
  },
  {
   "cell_type": "markdown",
   "metadata": {},
   "source": [
    "Các giáo viên quyết định xem xếp hạng final như thế nào để quyết định học sinh đâu hay rớt. Như bạn có thể suy luận từ tập dữ liệu trên, những học sinh nào có xếp loại A hoặc B thì đậu và ngược lại thì rớt.\n",
    "\n",
    "Tên của các tập dữ liệu này sẽ là giá trị của cột thuộc tính mới gọi là 'status'. Trước khi kết hai bảng này lại với nhau, ta sẽ thêm một cột dữ liệu mới để chứa thông tin này.\n",
    "\n",
    "Sử dụng hàm mutate() để thêm cột thuộc tính mới cho bảng passed. Cột thuộc tính này có tên là status với giá trị là passed (kiểu character string). Tương tự cho cột thuộc tính ở bảng failed."
   ]
  },
  {
   "cell_type": "code",
   "execution_count": 22,
   "metadata": {},
   "outputs": [
    {
     "data": {
      "text/html": [
       "<pre class=language-r><code>function (.data, ...) \n",
       "NULL</code></pre>"
      ],
      "text/latex": [
       "\\begin{minted}{r}\n",
       "function (.data, ...) \n",
       "NULL\n",
       "\\end{minted}"
      ],
      "text/markdown": [
       "```r\n",
       "function (.data, ...) \n",
       "NULL\n",
       "```"
      ],
      "text/plain": [
       "function (.data, ...) \n",
       "NULL"
      ]
     },
     "metadata": {},
     "output_type": "display_data"
    }
   ],
   "source": [
    "# mutate() adds new variables and preserves existing; transmute() drops existing variables. \n",
    "args(mutate)"
   ]
  },
  {
   "cell_type": "code",
   "execution_count": 23,
   "metadata": {},
   "outputs": [
    {
     "data": {
      "text/html": [
       "<table>\n",
       "<thead><tr><th scope=col>name</th><th scope=col>class</th><th scope=col>final</th><th scope=col>status</th></tr></thead>\n",
       "<tbody>\n",
       "\t<tr><td>Brian </td><td>1     </td><td>B     </td><td>passed</td></tr>\n",
       "\t<tr><td>Roger </td><td>2     </td><td>A     </td><td>passed</td></tr>\n",
       "\t<tr><td>Roger </td><td>5     </td><td>A     </td><td>passed</td></tr>\n",
       "\t<tr><td>Karen </td><td>4     </td><td>A     </td><td>passed</td></tr>\n",
       "</tbody>\n",
       "</table>\n"
      ],
      "text/latex": [
       "\\begin{tabular}{r|llll}\n",
       " name & class & final & status\\\\\n",
       "\\hline\n",
       "\t Brian  & 1      & B      & passed\\\\\n",
       "\t Roger  & 2      & A      & passed\\\\\n",
       "\t Roger  & 5      & A      & passed\\\\\n",
       "\t Karen  & 4      & A      & passed\\\\\n",
       "\\end{tabular}\n"
      ],
      "text/markdown": [
       "\n",
       "name | class | final | status | \n",
       "|---|---|---|---|\n",
       "| Brian  | 1      | B      | passed | \n",
       "| Roger  | 2      | A      | passed | \n",
       "| Roger  | 5      | A      | passed | \n",
       "| Karen  | 4      | A      | passed | \n",
       "\n",
       "\n"
      ],
      "text/plain": [
       "  name  class final status\n",
       "1 Brian 1     B     passed\n",
       "2 Roger 2     A     passed\n",
       "3 Roger 5     A     passed\n",
       "4 Karen 4     A     passed"
      ]
     },
     "metadata": {},
     "output_type": "display_data"
    }
   ],
   "source": [
    "passed <- passed %>% mutate(status = \"passed\")\n",
    "passed"
   ]
  },
  {
   "cell_type": "code",
   "execution_count": 24,
   "metadata": {},
   "outputs": [
    {
     "data": {
      "text/html": [
       "<table>\n",
       "<thead><tr><th scope=col>name</th><th scope=col>class</th><th scope=col>final</th><th scope=col>status</th></tr></thead>\n",
       "<tbody>\n",
       "\t<tr><td>Brian </td><td>5     </td><td>C     </td><td>failed</td></tr>\n",
       "\t<tr><td>Sally </td><td>1     </td><td>C     </td><td>failed</td></tr>\n",
       "\t<tr><td>Sally </td><td>3     </td><td>C     </td><td>failed</td></tr>\n",
       "\t<tr><td>Jeff  </td><td>2     </td><td>E     </td><td>failed</td></tr>\n",
       "\t<tr><td>Jeff  </td><td>4     </td><td>C     </td><td>failed</td></tr>\n",
       "\t<tr><td>Karen </td><td>3     </td><td>C     </td><td>failed</td></tr>\n",
       "</tbody>\n",
       "</table>\n"
      ],
      "text/latex": [
       "\\begin{tabular}{r|llll}\n",
       " name & class & final & status\\\\\n",
       "\\hline\n",
       "\t Brian  & 5      & C      & failed\\\\\n",
       "\t Sally  & 1      & C      & failed\\\\\n",
       "\t Sally  & 3      & C      & failed\\\\\n",
       "\t Jeff   & 2      & E      & failed\\\\\n",
       "\t Jeff   & 4      & C      & failed\\\\\n",
       "\t Karen  & 3      & C      & failed\\\\\n",
       "\\end{tabular}\n"
      ],
      "text/markdown": [
       "\n",
       "name | class | final | status | \n",
       "|---|---|---|---|---|---|\n",
       "| Brian  | 5      | C      | failed | \n",
       "| Sally  | 1      | C      | failed | \n",
       "| Sally  | 3      | C      | failed | \n",
       "| Jeff   | 2      | E      | failed | \n",
       "| Jeff   | 4      | C      | failed | \n",
       "| Karen  | 3      | C      | failed | \n",
       "\n",
       "\n"
      ],
      "text/plain": [
       "  name  class final status\n",
       "1 Brian 5     C     failed\n",
       "2 Sally 1     C     failed\n",
       "3 Sally 3     C     failed\n",
       "4 Jeff  2     E     failed\n",
       "5 Jeff  4     C     failed\n",
       "6 Karen 3     C     failed"
      ]
     },
     "metadata": {},
     "output_type": "display_data"
    }
   ],
   "source": [
    "failed <- failed %>% mutate(status = \"failed\")\n",
    "failed"
   ]
  },
  {
   "cell_type": "markdown",
   "metadata": {},
   "source": [
    "Ta sử dụng hàm bind_rows() để kết hai bảng này lại"
   ]
  },
  {
   "cell_type": "code",
   "execution_count": 25,
   "metadata": {},
   "outputs": [
    {
     "data": {
      "text/html": [
       "<pre class=language-r><code>function (..., .id = NULL) \n",
       "NULL</code></pre>"
      ],
      "text/latex": [
       "\\begin{minted}{r}\n",
       "function (..., .id = NULL) \n",
       "NULL\n",
       "\\end{minted}"
      ],
      "text/markdown": [
       "```r\n",
       "function (..., .id = NULL) \n",
       "NULL\n",
       "```"
      ],
      "text/plain": [
       "function (..., .id = NULL) \n",
       "NULL"
      ]
     },
     "metadata": {},
     "output_type": "display_data"
    }
   ],
   "source": [
    "args(bind_rows)"
   ]
  },
  {
   "cell_type": "code",
   "execution_count": 26,
   "metadata": {},
   "outputs": [
    {
     "data": {
      "text/html": [
       "<table>\n",
       "<thead><tr><th scope=col>name</th><th scope=col>class</th><th scope=col>final</th><th scope=col>status</th></tr></thead>\n",
       "<tbody>\n",
       "\t<tr><td>Brian </td><td>1     </td><td>B     </td><td>passed</td></tr>\n",
       "\t<tr><td>Roger </td><td>2     </td><td>A     </td><td>passed</td></tr>\n",
       "\t<tr><td>Roger </td><td>5     </td><td>A     </td><td>passed</td></tr>\n",
       "\t<tr><td>Karen </td><td>4     </td><td>A     </td><td>passed</td></tr>\n",
       "\t<tr><td>Brian </td><td>5     </td><td>C     </td><td>failed</td></tr>\n",
       "\t<tr><td>Sally </td><td>1     </td><td>C     </td><td>failed</td></tr>\n",
       "\t<tr><td>Sally </td><td>3     </td><td>C     </td><td>failed</td></tr>\n",
       "\t<tr><td>Jeff  </td><td>2     </td><td>E     </td><td>failed</td></tr>\n",
       "\t<tr><td>Jeff  </td><td>4     </td><td>C     </td><td>failed</td></tr>\n",
       "\t<tr><td>Karen </td><td>3     </td><td>C     </td><td>failed</td></tr>\n",
       "</tbody>\n",
       "</table>\n"
      ],
      "text/latex": [
       "\\begin{tabular}{r|llll}\n",
       " name & class & final & status\\\\\n",
       "\\hline\n",
       "\t Brian  & 1      & B      & passed\\\\\n",
       "\t Roger  & 2      & A      & passed\\\\\n",
       "\t Roger  & 5      & A      & passed\\\\\n",
       "\t Karen  & 4      & A      & passed\\\\\n",
       "\t Brian  & 5      & C      & failed\\\\\n",
       "\t Sally  & 1      & C      & failed\\\\\n",
       "\t Sally  & 3      & C      & failed\\\\\n",
       "\t Jeff   & 2      & E      & failed\\\\\n",
       "\t Jeff   & 4      & C      & failed\\\\\n",
       "\t Karen  & 3      & C      & failed\\\\\n",
       "\\end{tabular}\n"
      ],
      "text/markdown": [
       "\n",
       "name | class | final | status | \n",
       "|---|---|---|---|---|---|---|---|---|---|\n",
       "| Brian  | 1      | B      | passed | \n",
       "| Roger  | 2      | A      | passed | \n",
       "| Roger  | 5      | A      | passed | \n",
       "| Karen  | 4      | A      | passed | \n",
       "| Brian  | 5      | C      | failed | \n",
       "| Sally  | 1      | C      | failed | \n",
       "| Sally  | 3      | C      | failed | \n",
       "| Jeff   | 2      | E      | failed | \n",
       "| Jeff   | 4      | C      | failed | \n",
       "| Karen  | 3      | C      | failed | \n",
       "\n",
       "\n"
      ],
      "text/plain": [
       "   name  class final status\n",
       "1  Brian 1     B     passed\n",
       "2  Roger 2     A     passed\n",
       "3  Roger 5     A     passed\n",
       "4  Karen 4     A     passed\n",
       "5  Brian 5     C     failed\n",
       "6  Sally 1     C     failed\n",
       "7  Sally 3     C     failed\n",
       "8  Jeff  2     E     failed\n",
       "9  Jeff  4     C     failed\n",
       "10 Karen 3     C     failed"
      ]
     },
     "metadata": {},
     "output_type": "display_data"
    }
   ],
   "source": [
    "bind_rows(passed, failed)"
   ]
  },
  {
   "cell_type": "markdown",
   "metadata": {},
   "source": [
    "Tất nhiên, chúng ta có thể sắp xếp các dòng dữ liệu theo ý của mình, nhưng điều quan trọng ở đây là mỗi dòng dữ liệu thể hiện một loại đối tượng, mỗi cột dữ liệu là một thuộc tính, và một bảng chỉ chứa một loại đối tượng duy nhất. Như vậy, tập dữ liệu của chúng ta là tidy data.\n",
    "\n",
    "Chúng ta đã khảo sát khá nhiều ở bài viết này. Bây giờ là lúc tổng hợp mọi thứ để làm việc với dữ liệu thực tế. SAT là một chứng chỉ thông dụng kiểm tra trình độ toán học ở Mĩ gồm: kĩ năng đọc hiểu, toán, và kĩ năng viết luận. Các sinh viên có thể đạt tối đa 800 điểm ở mỗi phần. Tập dữ liệu sau chứa thông tin các sinh viên thực hiện cuộc kiểm tra này. Lấy từ tập dữ liệu 'Total Group Report 2013'. Có thể download tại: http://research.collegeboard.org/programs/sat/data/cb-seniors-2013."
   ]
  },
  {
   "cell_type": "code",
   "execution_count": 27,
   "metadata": {},
   "outputs": [
    {
     "data": {
      "text/html": [
       "<table>\n",
       "<thead><tr><th scope=col>score_range</th><th scope=col>read_male</th><th scope=col>read_fem</th><th scope=col>read_total</th><th scope=col>math_male</th><th scope=col>math_fem</th><th scope=col>math_total</th><th scope=col>write_male</th><th scope=col>write_fem</th><th scope=col>write_total</th></tr></thead>\n",
       "<tbody>\n",
       "\t<tr><td>700-800</td><td> 40151 </td><td> 38898 </td><td> 79049 </td><td> 74461 </td><td> 46040 </td><td>120501 </td><td> 31574 </td><td> 39101 </td><td> 70675 </td></tr>\n",
       "\t<tr><td>600-690</td><td>121950 </td><td>126084 </td><td>248034 </td><td>162564 </td><td>133954 </td><td>296518 </td><td>100963 </td><td>125368 </td><td>226331 </td></tr>\n",
       "\t<tr><td>500-590</td><td>227141 </td><td>259553 </td><td>486694 </td><td>233141 </td><td>257678 </td><td>490819 </td><td>202326 </td><td>247239 </td><td>449565 </td></tr>\n",
       "\t<tr><td>400-490</td><td>242554 </td><td>296793 </td><td>539347 </td><td>204670 </td><td>288696 </td><td>493366 </td><td>262623 </td><td>302933 </td><td>565556 </td></tr>\n",
       "\t<tr><td>300-390</td><td>113568 </td><td>133473 </td><td>247041 </td><td> 82468 </td><td>131025 </td><td>213493 </td><td>146106 </td><td>144381 </td><td>290487 </td></tr>\n",
       "\t<tr><td>200-290</td><td> 30728 </td><td> 29154 </td><td> 59882 </td><td> 18788 </td><td> 26562 </td><td> 45350 </td><td> 32500 </td><td> 24933 </td><td> 57433 </td></tr>\n",
       "</tbody>\n",
       "</table>\n"
      ],
      "text/latex": [
       "\\begin{tabular}{r|llllllllll}\n",
       " score\\_range & read\\_male & read\\_fem & read\\_total & math\\_male & math\\_fem & math\\_total & write\\_male & write\\_fem & write\\_total\\\\\n",
       "\\hline\n",
       "\t 700-800 &  40151  &  38898  &  79049  &  74461  &  46040  & 120501  &  31574  &  39101  &  70675 \\\\\n",
       "\t 600-690 & 121950  & 126084  & 248034  & 162564  & 133954  & 296518  & 100963  & 125368  & 226331 \\\\\n",
       "\t 500-590 & 227141  & 259553  & 486694  & 233141  & 257678  & 490819  & 202326  & 247239  & 449565 \\\\\n",
       "\t 400-490 & 242554  & 296793  & 539347  & 204670  & 288696  & 493366  & 262623  & 302933  & 565556 \\\\\n",
       "\t 300-390 & 113568  & 133473  & 247041  &  82468  & 131025  & 213493  & 146106  & 144381  & 290487 \\\\\n",
       "\t 200-290 &  30728  &  29154  &  59882  &  18788  &  26562  &  45350  &  32500  &  24933  &  57433 \\\\\n",
       "\\end{tabular}\n"
      ],
      "text/markdown": [
       "\n",
       "score_range | read_male | read_fem | read_total | math_male | math_fem | math_total | write_male | write_fem | write_total | \n",
       "|---|---|---|---|---|---|\n",
       "| 700-800 |  40151  |  38898  |  79049  |  74461  |  46040  | 120501  |  31574  |  39101  |  70675  | \n",
       "| 600-690 | 121950  | 126084  | 248034  | 162564  | 133954  | 296518  | 100963  | 125368  | 226331  | \n",
       "| 500-590 | 227141  | 259553  | 486694  | 233141  | 257678  | 490819  | 202326  | 247239  | 449565  | \n",
       "| 400-490 | 242554  | 296793  | 539347  | 204670  | 288696  | 493366  | 262623  | 302933  | 565556  | \n",
       "| 300-390 | 113568  | 133473  | 247041  |  82468  | 131025  | 213493  | 146106  | 144381  | 290487  | \n",
       "| 200-290 |  30728  |  29154  |  59882  |  18788  |  26562  |  45350  |  32500  |  24933  |  57433  | \n",
       "\n",
       "\n"
      ],
      "text/plain": [
       "  score_range read_male read_fem read_total math_male math_fem math_total\n",
       "1 700-800      40151     38898    79049      74461     46040   120501    \n",
       "2 600-690     121950    126084   248034     162564    133954   296518    \n",
       "3 500-590     227141    259553   486694     233141    257678   490819    \n",
       "4 400-490     242554    296793   539347     204670    288696   493366    \n",
       "5 300-390     113568    133473   247041      82468    131025   213493    \n",
       "6 200-290      30728     29154    59882      18788     26562    45350    \n",
       "  write_male write_fem write_total\n",
       "1  31574      39101     70675     \n",
       "2 100963     125368    226331     \n",
       "3 202326     247239    449565     \n",
       "4 262623     302933    565556     \n",
       "5 146106     144381    290487     \n",
       "6  32500      24933     57433     "
      ]
     },
     "metadata": {},
     "output_type": "display_data"
    }
   ],
   "source": [
    "sat"
   ]
  },
  {
   "cell_type": "code",
   "execution_count": 28,
   "metadata": {},
   "outputs": [
    {
     "data": {
      "text/html": [
       "<table>\n",
       "<thead><tr><th scope=col>score_range</th><th scope=col>part</th><th scope=col>sex</th><th scope=col>count</th><th scope=col>total</th><th scope=col>prop</th></tr></thead>\n",
       "<tbody>\n",
       "\t<tr><td>700-800   </td><td>read      </td><td>male      </td><td> 40151    </td><td>776092    </td><td>0.05173485</td></tr>\n",
       "\t<tr><td>600-690   </td><td>read      </td><td>male      </td><td>121950    </td><td>776092    </td><td>0.15713343</td></tr>\n",
       "\t<tr><td>500-590   </td><td>read      </td><td>male      </td><td>227141    </td><td>776092    </td><td>0.29267278</td></tr>\n",
       "\t<tr><td>400-490   </td><td>read      </td><td>male      </td><td>242554    </td><td>776092    </td><td>0.31253253</td></tr>\n",
       "\t<tr><td>300-390   </td><td>read      </td><td>male      </td><td>113568    </td><td>776092    </td><td>0.14633317</td></tr>\n",
       "\t<tr><td>200-290   </td><td>read      </td><td>male      </td><td> 30728    </td><td>776092    </td><td>0.03959324</td></tr>\n",
       "</tbody>\n",
       "</table>\n"
      ],
      "text/latex": [
       "\\begin{tabular}{r|llllll}\n",
       " score\\_range & part & sex & count & total & prop\\\\\n",
       "\\hline\n",
       "\t 700-800    & read       & male       &  40151     & 776092     & 0.05173485\\\\\n",
       "\t 600-690    & read       & male       & 121950     & 776092     & 0.15713343\\\\\n",
       "\t 500-590    & read       & male       & 227141     & 776092     & 0.29267278\\\\\n",
       "\t 400-490    & read       & male       & 242554     & 776092     & 0.31253253\\\\\n",
       "\t 300-390    & read       & male       & 113568     & 776092     & 0.14633317\\\\\n",
       "\t 200-290    & read       & male       &  30728     & 776092     & 0.03959324\\\\\n",
       "\\end{tabular}\n"
      ],
      "text/markdown": [
       "\n",
       "score_range | part | sex | count | total | prop | \n",
       "|---|---|---|---|---|---|\n",
       "| 700-800    | read       | male       |  40151     | 776092     | 0.05173485 | \n",
       "| 600-690    | read       | male       | 121950     | 776092     | 0.15713343 | \n",
       "| 500-590    | read       | male       | 227141     | 776092     | 0.29267278 | \n",
       "| 400-490    | read       | male       | 242554     | 776092     | 0.31253253 | \n",
       "| 300-390    | read       | male       | 113568     | 776092     | 0.14633317 | \n",
       "| 200-290    | read       | male       |  30728     | 776092     | 0.03959324 | \n",
       "\n",
       "\n"
      ],
      "text/plain": [
       "  score_range part sex  count  total  prop      \n",
       "1 700-800     read male  40151 776092 0.05173485\n",
       "2 600-690     read male 121950 776092 0.15713343\n",
       "3 500-590     read male 227141 776092 0.29267278\n",
       "4 400-490     read male 242554 776092 0.31253253\n",
       "5 300-390     read male 113568 776092 0.14633317\n",
       "6 200-290     read male  30728 776092 0.03959324"
      ]
     },
     "metadata": {},
     "output_type": "display_data"
    }
   ],
   "source": [
    "# 1. select() all columns that do NOT contain the word \"total\",\n",
    "# since if we have the male and female data, we can always\n",
    "# recreate the total count in a separate column, if we want it.\n",
    "# Hint: Use the contains() function, which you'll\n",
    "# find detailed in 'Special functions' section of ?select.\n",
    "#\n",
    "# 2. gather() all columns EXCEPT score_range, using\n",
    "# key = part_sex and value = count.\n",
    "#\n",
    "# 3. separate() part_sex into two separate variables (columns),\n",
    "# called \"part\" and \"sex\", respectively. You may need to check\n",
    "# the 'Examples' section of ?separate to remember how the 'into'\n",
    "# argument should be phrased.\n",
    "# 4. Use group_by() (from dplyr) to group the data by part and\n",
    "# sex, in that order.\n",
    "#\n",
    "# 5. Use mutate to add two new columns, whose values will be\n",
    "# automatically computed group-by-group:\n",
    "#\n",
    "#   * total = sum(count)\n",
    "#   * prop = count / total\n",
    "\n",
    "sat %>%\n",
    "select(-contains(\"total\")) %>%\n",
    "gather(part_sex, count, -score_range) %>%\n",
    "separate(part_sex, c(\"part\", \"sex\")) %>%\n",
    "group_by(part, sex) %>%\n",
    "mutate(total = sum(count),\n",
    "     prop = count / total\n",
    ") %>% head"
   ]
  },
  {
   "cell_type": "markdown",
   "metadata": {},
   "source": [
    "Ở bài viết này, chúng ta đã học được các dọn dẹp dữ liệu với tidyr và dplyr. Các công cụ này sẽ giúp bạn dành ít thời gian và công sức trong việc lấy và làm sạch dữ liệu để có nhiều thời gian hơn chuẩn bị cho các các bước phân tích kế tiếp.\n",
    "\n",
    "<strong>Nguồn tham khảo:</strong> <a href=\"http://swirlstats.com/\" target=\"_blank\" rel=\"noopener\">http://swirlstats.com/</a>\n",
    "\n",
    "<strong>Tham khảo thêm: </strong><a href=\"http://www.datasciencecentral.com/profiles/blogs/introduction-to-data-quality\" target=\"_blank\" rel=\"noopener\">Introduction to data quality</a>"
   ]
  }
 ],
 "metadata": {
  "kernelspec": {
   "display_name": "R",
   "language": "R",
   "name": "ir"
  },
  "language_info": {
   "codemirror_mode": "r",
   "file_extension": ".r",
   "mimetype": "text/x-r-source",
   "name": "R",
   "pygments_lexer": "r",
   "version": "3.4.4"
  }
 },
 "nbformat": 4,
 "nbformat_minor": 2
}
