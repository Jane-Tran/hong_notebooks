{
 "cells": [
  {
   "cell_type": "markdown",
   "metadata": {},
   "source": [
    "Đầu tiên, ta có thể sử dụng R làm máy tính bỏ túi đơn giản. Chỉ cần nhập phép toán và nhấn Enter."
   ]
  },
  {
   "cell_type": "code",
   "execution_count": 1,
   "metadata": {},
   "outputs": [
    {
     "data": {
      "text/html": [
       "12"
      ],
      "text/latex": [
       "12"
      ],
      "text/markdown": [
       "12"
      ],
      "text/plain": [
       "[1] 12"
      ]
     },
     "metadata": {},
     "output_type": "display_data"
    }
   ],
   "source": [
    "5 + 7"
   ]
  },
  {
   "cell_type": "markdown",
   "metadata": {},
   "source": [
    "Theo mặc định, R sẽ tự động in ra kết quả là 12. Nếu ta muốn sử dụng kết quả hiện tại cho những tính toán tiếp theo thì ta có thể lưu kết quả này lại vào một biến mới. Ta sử dụng toán tử gán để gán giá trị cho biến như sau:"
   ]
  },
  {
   "cell_type": "code",
   "execution_count": 2,
   "metadata": {},
   "outputs": [],
   "source": [
    "x <- 5 + 7"
   ]
  },
  {
   "cell_type": "markdown",
   "metadata": {},
   "source": [
    "Dòng lệnh trên có nghĩa là gán giá trị từ phép toán (5 + 7) vào biến x. Lúc này kết quả 12 sẽ được lưu vào biến x và R không in kết quả ra dòng lệnh. Để hiển thị giá trị của biến x ta có hai cách. Cách thứ nhất bạn chỉ cần nhập biến x và nhấn Enter và cách thứ hai bạn dùng lệnh print() để in dữ liệu ra dòng lệnh."
   ]
  },
  {
   "cell_type": "code",
   "execution_count": 3,
   "metadata": {},
   "outputs": [
    {
     "data": {
      "text/html": [
       "12"
      ],
      "text/latex": [
       "12"
      ],
      "text/markdown": [
       "12"
      ],
      "text/plain": [
       "[1] 12"
      ]
     },
     "metadata": {},
     "output_type": "display_data"
    }
   ],
   "source": [
    "x # cách một"
   ]
  },
  {
   "cell_type": "code",
   "execution_count": 4,
   "metadata": {},
   "outputs": [
    {
     "name": "stdout",
     "output_type": "stream",
     "text": [
      "[1] 12\n"
     ]
    }
   ],
   "source": [
    "print(x) # cách hai"
   ]
  },
  {
   "cell_type": "markdown",
   "metadata": {},
   "source": [
    "Kí hiệu \"#\" trên dùng để comment một dòng lệnh trong R. Bây giờ, ta sẽ tiếp tục cho phép tính gán kết quả tính toán (x - 3) cho biến mới y."
   ]
  },
  {
   "cell_type": "code",
   "execution_count": 5,
   "metadata": {},
   "outputs": [],
   "source": [
    "y <- x - 3"
   ]
  },
  {
   "cell_type": "markdown",
   "metadata": {},
   "source": [
    "Tương tự, bạn có thể in biến y ra dòng lệnh để xem giá trị của biến này. R là ngôn ngữ lập trình hướng đối tượng, tất cả các thành phần bên trong R đều là đối tượng. Ngay cả biến x, y ở trên cũng được biểu diễn bởi đối tượng vector với độ dài (length) là 1. Cách đơn giản nhất để tạo một vector là sử dụng hàm c() (concatenate hay combine). Bây giờ, ta sẽ tiến hành tạo một vector chứa các số 1.1, 9, 3.14 và lưu vào biến z như sau:"
   ]
  },
  {
   "cell_type": "code",
   "execution_count": 6,
   "metadata": {},
   "outputs": [],
   "source": [
    "z <- c(1.1, 9, 3.14)"
   ]
  },
  {
   "cell_type": "markdown",
   "metadata": {},
   "source": [
    "Như vậy, ta vừa tạo ra một biến z có kiểu đối tượng là vector. Để tìm hiểu kỹ hơn về hàm c() ta có thể sử dụng lệnh \"?\" để mở tài liệu mô tả về hàm này như sau:"
   ]
  },
  {
   "cell_type": "code",
   "execution_count": 7,
   "metadata": {},
   "outputs": [],
   "source": [
    "?c"
   ]
  },
  {
   "cell_type": "markdown",
   "metadata": {},
   "source": [
    "Để thoát ra bạn nhấn phím \"q\" (quit) và quay lại dòng lệnh làm việc. Lúc này, khi in biến z ra dòng lệnh ta sẽ có kết quả như sau:"
   ]
  },
  {
   "cell_type": "code",
   "execution_count": 8,
   "metadata": {},
   "outputs": [
    {
     "data": {
      "text/html": [
       "<ol class=list-inline>\n",
       "\t<li>1.1</li>\n",
       "\t<li>9</li>\n",
       "\t<li>3.14</li>\n",
       "</ol>\n"
      ],
      "text/latex": [
       "\\begin{enumerate*}\n",
       "\\item 1.1\n",
       "\\item 9\n",
       "\\item 3.14\n",
       "\\end{enumerate*}\n"
      ],
      "text/markdown": [
       "1. 1.1\n",
       "2. 9\n",
       "3. 3.14\n",
       "\n",
       "\n"
      ],
      "text/plain": [
       "[1] 1.10 9.00 3.14"
      ]
     },
     "metadata": {},
     "output_type": "display_data"
    }
   ],
   "source": [
    "z"
   ]
  },
  {
   "cell_type": "markdown",
   "metadata": {},
   "source": [
    "Để ý, ta không thấy danh sách trong vector z được phân cách bằng dấu \",\" như khi khởi tạo vector z. Tiếp theo, ta có thể tạo một vector mới bởi một vector trước đó:"
   ]
  },
  {
   "cell_type": "code",
   "execution_count": 9,
   "metadata": {},
   "outputs": [
    {
     "data": {
      "text/html": [
       "<ol class=list-inline>\n",
       "\t<li>1.1</li>\n",
       "\t<li>9</li>\n",
       "\t<li>3.14</li>\n",
       "\t<li>555</li>\n",
       "\t<li>1.1</li>\n",
       "\t<li>9</li>\n",
       "\t<li>3.14</li>\n",
       "</ol>\n"
      ],
      "text/latex": [
       "\\begin{enumerate*}\n",
       "\\item 1.1\n",
       "\\item 9\n",
       "\\item 3.14\n",
       "\\item 555\n",
       "\\item 1.1\n",
       "\\item 9\n",
       "\\item 3.14\n",
       "\\end{enumerate*}\n"
      ],
      "text/markdown": [
       "1. 1.1\n",
       "2. 9\n",
       "3. 3.14\n",
       "4. 555\n",
       "5. 1.1\n",
       "6. 9\n",
       "7. 3.14\n",
       "\n",
       "\n"
      ],
      "text/plain": [
       "[1]   1.10   9.00   3.14 555.00   1.10   9.00   3.14"
      ]
     },
     "metadata": {},
     "output_type": "display_data"
    }
   ],
   "source": [
    "c(z, 555, z)"
   ]
  },
  {
   "cell_type": "markdown",
   "metadata": {},
   "source": [
    "Ta thấy giá trị 555 đã được ép kiểu sang số thực (numeric) là 555.00. Numeric vector có thể biểu diễn dưới dạng đại số:"
   ]
  },
  {
   "cell_type": "code",
   "execution_count": 10,
   "metadata": {},
   "outputs": [
    {
     "data": {
      "text/html": [
       "<ol class=list-inline>\n",
       "\t<li>102.2</li>\n",
       "\t<li>118</li>\n",
       "\t<li>106.28</li>\n",
       "</ol>\n"
      ],
      "text/latex": [
       "\\begin{enumerate*}\n",
       "\\item 102.2\n",
       "\\item 118\n",
       "\\item 106.28\n",
       "\\end{enumerate*}\n"
      ],
      "text/markdown": [
       "1. 102.2\n",
       "2. 118\n",
       "3. 106.28\n",
       "\n",
       "\n"
      ],
      "text/plain": [
       "[1] 102.20 118.00 106.28"
      ]
     },
     "metadata": {},
     "output_type": "display_data"
    }
   ],
   "source": [
    "z * 2 + 100"
   ]
  },
  {
   "cell_type": "markdown",
   "metadata": {},
   "source": [
    "Trước tiên, R sẽ nhân từng phần tử trong biến z với 2. Sau đó, R tiếp tục cộng 100 cho từng phần tử này để cho kết quả như trên. Ngoài các toán tử cơ bản như \"+\", \"-\", \"*\", \"/\", và \"^\" (trong đó x^2 có nghĩa là x mũ 2), ta còn có thể áp dụng các hàm tính toán như sqrt() để lấy căn bậc hai hoặc abs() để lấy giá trị tuyệt đối. Ta thử lấy căn bậc hai của phép toán z - 1 và gán vào biến my_sqrt:"
   ]
  },
  {
   "cell_type": "code",
   "execution_count": 11,
   "metadata": {},
   "outputs": [
    {
     "data": {
      "text/html": [
       "<ol class=list-inline>\n",
       "\t<li>0.316227766016838</li>\n",
       "\t<li>2.82842712474619</li>\n",
       "\t<li>1.46287388383278</li>\n",
       "</ol>\n"
      ],
      "text/latex": [
       "\\begin{enumerate*}\n",
       "\\item 0.316227766016838\n",
       "\\item 2.82842712474619\n",
       "\\item 1.46287388383278\n",
       "\\end{enumerate*}\n"
      ],
      "text/markdown": [
       "1. 0.316227766016838\n",
       "2. 2.82842712474619\n",
       "3. 1.46287388383278\n",
       "\n",
       "\n"
      ],
      "text/plain": [
       "[1] 0.3162278 2.8284271 1.4628739"
      ]
     },
     "metadata": {},
     "output_type": "display_data"
    }
   ],
   "source": [
    "my_sqrt <- sqrt(z - 1)\n",
    "my_sqrt"
   ]
  },
  {
   "cell_type": "markdown",
   "metadata": {},
   "source": [
    "Lúc này, ta thấy biến my_sqrt là vector có độ dài là 3, chứa kết quả trả về của phép toán sqrt(z - 1). Chắc các bạn cũng có thể đoán ra được, trong phép toán trên, R lần lượt trừ 1 cho từng phần tử trong biến z, sau đó R lấy căn bậc hai của từng phần tử này và gán kết quả trả về cho biến my_sqrt.   Khi hai vectors có cùng độ dài, R sẽ thực hiện các phép toán (\"+\", \"-\", \"*\", \"/\",...) từng phần tử tương ứng. Nếu hai vectors có độ dài khác nhau, R sẽ \"recycles\" vector có độ dài ngắn hơn sao cho nó có độ dài bằng với vector dài hơn. Khi ta thực hiện phép tính z * 2 + 100 ở ví dụ trước, z là vector có độ dài là 3 còn 2 và 100 là vector có độ dài là 1. Đằng sau phép tính này, R đã \"recycling\" 2 để tạo ra vector chứa 3 giá trị 2, và \"recycling\" 100 để tạo ra vector chứa 3 giá trị 100. Hay, phép tính trên được biến đổi thành z * c(2, 2, 2) + c(100, 100, 100). Lấy ví dụ khác để minh hoạ rõ hơn \"recycling\" hoạt động như thế nào. Ta thử cộng hai vector c(1, 2, 3, 4) và c(0, 10)."
   ]
  },
  {
   "cell_type": "code",
   "execution_count": 12,
   "metadata": {},
   "outputs": [
    {
     "data": {
      "text/html": [
       "<ol class=list-inline>\n",
       "\t<li>1</li>\n",
       "\t<li>12</li>\n",
       "\t<li>3</li>\n",
       "\t<li>14</li>\n",
       "</ol>\n"
      ],
      "text/latex": [
       "\\begin{enumerate*}\n",
       "\\item 1\n",
       "\\item 12\n",
       "\\item 3\n",
       "\\item 14\n",
       "\\end{enumerate*}\n"
      ],
      "text/markdown": [
       "1. 1\n",
       "2. 12\n",
       "3. 3\n",
       "4. 14\n",
       "\n",
       "\n"
      ],
      "text/plain": [
       "[1]  1 12  3 14"
      ]
     },
     "metadata": {},
     "output_type": "display_data"
    }
   ],
   "source": [
    "c(1, 2, 3, 4) + c(0, 10)"
   ]
  },
  {
   "cell_type": "markdown",
   "metadata": {},
   "source": [
    "Ta thấy phép tính trên đã được R biến đổi thành c(1, 2, 3, 4) + c(0, 10, 0, 10). Trong trường hợp, hai vector có độ dài không chia hết cho nhau, R sẽ đưa ra một cảnh báo về phép tính này."
   ]
  },
  {
   "cell_type": "code",
   "execution_count": 13,
   "metadata": {},
   "outputs": [
    {
     "name": "stderr",
     "output_type": "stream",
     "text": [
      "Warning message in c(1, 2, 3, 4) + c(0, 10, 100):\n",
      "“longer object length is not a multiple of shorter object length”"
     ]
    },
    {
     "data": {
      "text/html": [
       "<ol class=list-inline>\n",
       "\t<li>1</li>\n",
       "\t<li>12</li>\n",
       "\t<li>103</li>\n",
       "\t<li>4</li>\n",
       "</ol>\n"
      ],
      "text/latex": [
       "\\begin{enumerate*}\n",
       "\\item 1\n",
       "\\item 12\n",
       "\\item 103\n",
       "\\item 4\n",
       "\\end{enumerate*}\n"
      ],
      "text/markdown": [
       "1. 1\n",
       "2. 12\n",
       "3. 103\n",
       "4. 4\n",
       "\n",
       "\n"
      ],
      "text/plain": [
       "[1]   1  12 103   4"
      ]
     },
     "metadata": {},
     "output_type": "display_data"
    }
   ],
   "source": [
    "c(1, 2, 3, 4) + c(0, 10, 100)"
   ]
  },
  {
   "cell_type": "markdown",
   "metadata": {},
   "source": [
    "Qua bài viết trên, chúng ta đã học được những thành phần cơ bản trong R, làm thế nào để gán giá trị, làm thế nào để tạo vector, và hiểu được cơ chế tính toán trên hai vector như thế nào. Bước tiếp theo, ta sẽ cùng nhau tìm hiểu về cơ chế quản lý tập tin và thư mục trong R.\n",
    "\n",
    "<strong>Nguồn tham khảo:</strong> <a href=\"http://swirlstats.com/\" target=\"_blank\" rel=\"noopener\">http://swirlstats.com/</a>"
   ]
  }
 ],
 "metadata": {
  "kernelspec": {
   "display_name": "R",
   "language": "R",
   "name": "ir"
  },
  "language_info": {
   "codemirror_mode": "r",
   "file_extension": ".r",
   "mimetype": "text/x-r-source",
   "name": "R",
   "pygments_lexer": "r",
   "version": "3.4.4"
  }
 },
 "nbformat": 4,
 "nbformat_minor": 2
}
