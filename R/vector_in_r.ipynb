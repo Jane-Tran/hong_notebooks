{
 "cells": [
  {
   "cell_type": "markdown",
   "metadata": {},
   "source": [
    "Trong bài viết trước, chúng ta hầu như chỉ làm việc với numeric vectors chứa các phần tử mang kiểu dữ liệu numeric (kiểu số thực). Ngoài kiểu dữ liệu này ra, ta còn có thể dùng kiểu dữ liệu logical, character, integer, và complex. Trong bài viết này, ta sẽ tìm hiểu về logical và character vectors.\n",
    "\n",
    "Logical vector có thể chứa các giá trị TRUE, FALSE, và NA (not available). Các giá trị này được sinh ra từ kết quả của các điều kiện logic. Chúng ta hãy xem qua ví dụ sau:"
   ]
  },
  {
   "cell_type": "code",
   "execution_count": 1,
   "metadata": {},
   "outputs": [
    {
     "data": {
      "text/html": [
       "<ol class=list-inline>\n",
       "\t<li>TRUE</li>\n",
       "\t<li>FALSE</li>\n",
       "\t<li>TRUE</li>\n",
       "\t<li>FALSE</li>\n",
       "</ol>\n"
      ],
      "text/latex": [
       "\\begin{enumerate*}\n",
       "\\item TRUE\n",
       "\\item FALSE\n",
       "\\item TRUE\n",
       "\\item FALSE\n",
       "\\end{enumerate*}\n"
      ],
      "text/markdown": [
       "1. TRUE\n",
       "2. FALSE\n",
       "3. TRUE\n",
       "4. FALSE\n",
       "\n",
       "\n"
      ],
      "text/plain": [
       "[1]  TRUE FALSE  TRUE FALSE"
      ]
     },
     "metadata": {},
     "output_type": "display_data"
    }
   ],
   "source": [
    "# tạo numeric vector gồm các giá trị sau\n",
    "num_vect <- c(0.5, 55, -10, 6)\n",
    "\n",
    "# xét điều kiện logic sau\n",
    "num_vect < 1"
   ]
  },
  {
   "cell_type": "markdown",
   "metadata": {},
   "source": [
    "Qua ví dụ trên, ta có thể thấy điều kiện logic trên num_vect < 1 sinh ra một vector có 4 giá trị logical. Câu điều kiện logic này lấy từng phần tử trong num_vect đem so sánh với 1 và trả ra kết quả logical tương ứng cho từng phần tử này. Phần tử đầu tiên có giá trị là 0.5, tất nhiên là nhỏ hơn 1 và do đó kết quả trả về là TRUE. Kế đến là 55 có giá trị không nhỏ hơn 1, do đó kết quả trả về là FALSE. Tương tự như vậy cho các phần tử còn lại ta sẽ có 4 giá trị logical tương ứng với 4 phần tử của num_vect.\n",
    "\n",
    "Ngoài kiểu so sánh với toán tử logical < trên ta còn có thể áp dụng các toán tử logical khác như >=, >, <=, ==, !=, ... Kế đến, giả sử chúng ta có hai toán hạng logic A và B, chúng ta muốn biết hội của hai toán hạng này là TRUE hay FALSE. Ta dùng toán tử \"|\" (hay còn gọi là toán tử hội 'union').\n",
    "\n",
    "Character vector cũng hay được dùng trong R. Dấu nháy kép dùng để ngăn cách các đối tượng character như ví dụ sau:\n"
   ]
  },
  {
   "cell_type": "code",
   "execution_count": 2,
   "metadata": {},
   "outputs": [
    {
     "data": {
      "text/html": [
       "<ol class=list-inline>\n",
       "\t<li>'My'</li>\n",
       "\t<li>'name'</li>\n",
       "\t<li>'is'</li>\n",
       "</ol>\n"
      ],
      "text/latex": [
       "\\begin{enumerate*}\n",
       "\\item 'My'\n",
       "\\item 'name'\n",
       "\\item 'is'\n",
       "\\end{enumerate*}\n"
      ],
      "text/markdown": [
       "1. 'My'\n",
       "2. 'name'\n",
       "3. 'is'\n",
       "\n",
       "\n"
      ],
      "text/plain": [
       "[1] \"My\"   \"name\" \"is\"  "
      ]
     },
     "metadata": {},
     "output_type": "display_data"
    }
   ],
   "source": [
    "my_char <- c(\"My\", \"name\", \"is\")\n",
    "my_char"
   ]
  },
  {
   "cell_type": "markdown",
   "metadata": {},
   "source": [
    "Hiện tại, my_char là một character vector có độ dài là 3. Giả sử chúng ta muốn nối các phần tử trong my_char lại với nhau để tạo thành một chuỗi character duy nhất. Chúng ta có thể sử dụng hàm paste() như sau:\n"
   ]
  },
  {
   "cell_type": "code",
   "execution_count": 3,
   "metadata": {},
   "outputs": [
    {
     "data": {
      "text/html": [
       "'My name is'"
      ],
      "text/latex": [
       "'My name is'"
      ],
      "text/markdown": [
       "'My name is'"
      ],
      "text/plain": [
       "[1] \"My name is\""
      ]
     },
     "metadata": {},
     "output_type": "display_data"
    }
   ],
   "source": [
    "# nối các phần tử lại với nhau và được ngăn cách bởi khoảng trắng\n",
    "paste(my_char, collapse = \" \")"
   ]
  },
  {
   "cell_type": "code",
   "execution_count": 4,
   "metadata": {},
   "outputs": [
    {
     "data": {
      "text/html": [
       "<ol class=list-inline>\n",
       "\t<li>'1X'</li>\n",
       "\t<li>'2Y'</li>\n",
       "\t<li>'3Z'</li>\n",
       "</ol>\n"
      ],
      "text/latex": [
       "\\begin{enumerate*}\n",
       "\\item '1X'\n",
       "\\item '2Y'\n",
       "\\item '3Z'\n",
       "\\end{enumerate*}\n"
      ],
      "text/markdown": [
       "1. '1X'\n",
       "2. '2Y'\n",
       "3. '3Z'\n",
       "\n",
       "\n"
      ],
      "text/plain": [
       "[1] \"1X\" \"2Y\" \"3Z\""
      ]
     },
     "metadata": {},
     "output_type": "display_data"
    }
   ],
   "source": [
    "# ví dụ phức tạp hơn về kết hai vector với hàm paste\n",
    "paste(1:3, c(\"X\", \"Y\", \"Z\"), sep = \"\")"
   ]
  },
  {
   "cell_type": "code",
   "execution_count": 5,
   "metadata": {},
   "outputs": [
    {
     "name": "stdout",
     "output_type": "stream",
     "text": [
      " [1] \"A-1\" \"B-2\" \"C-3\" \"D-4\" \"E-1\" \"F-2\" \"G-3\" \"H-4\" \"I-1\" \"J-2\" \"K-3\" \"L-4\"\n",
      "[13] \"M-1\" \"N-2\" \"O-3\" \"P-4\" \"Q-1\" \"R-2\" \"S-3\" \"T-4\" \"U-1\" \"V-2\" \"W-3\" \"X-4\"\n",
      "[25] \"Y-1\" \"Z-2\"\n"
     ]
    }
   ],
   "source": [
    "# do vector LETTERS có nhiều phần tử hơn numeric vector 1:4, R sẽ lặp xoay vòng để kết hai vector này lại\n",
    "print(paste(LETTERS, 1:4, sep = \"-\"))"
   ]
  },
  {
   "cell_type": "markdown",
   "metadata": {},
   "source": [
    "Qua các ví dụ trên, ta đã làm quen và thao tác được trên vector, kiểu dữ liệu thường được sử dụng trong R.\n",
    "\n",
    "<strong>Nguồn tham khảo:</strong> <a href=\"http://swirlstats.com/\" target=\"_blank\" rel=\"noopener noreferrer\">http://swirlstats.com/</a>"
   ]
  }
 ],
 "metadata": {
  "kernelspec": {
   "display_name": "R",
   "language": "R",
   "name": "ir"
  },
  "language_info": {
   "codemirror_mode": "r",
   "file_extension": ".r",
   "mimetype": "text/x-r-source",
   "name": "R",
   "pygments_lexer": "r",
   "version": "3.4.4"
  }
 },
 "nbformat": 4,
 "nbformat_minor": 2
}
