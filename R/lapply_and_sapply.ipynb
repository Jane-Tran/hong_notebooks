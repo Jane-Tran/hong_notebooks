{
 "cells": [
  {
   "cell_type": "markdown",
   "metadata": {},
   "source": [
    "<h2>lapply</h2>\n",
    "Chúng ta hãy xem hàm này đặc biệt như thế nào nhé. Sau khi nạp dữ liệu vào biến flags. Chúng ta hãy quan sát tổng quan dữ liệu."
   ]
  },
  {
   "cell_type": "code",
   "execution_count": 1,
   "metadata": {},
   "outputs": [
    {
     "data": {
      "text/html": [
       "<table>\n",
       "<thead><tr><th scope=col>name</th><th scope=col>landmass</th><th scope=col>zone</th><th scope=col>area</th><th scope=col>population</th><th scope=col>language</th><th scope=col>religion</th><th scope=col>bars</th><th scope=col>stripes</th><th scope=col>colours</th><th scope=col>⋯</th><th scope=col>saltires</th><th scope=col>quarters</th><th scope=col>sunstars</th><th scope=col>crescent</th><th scope=col>triangle</th><th scope=col>icon</th><th scope=col>animate</th><th scope=col>text</th><th scope=col>topleft</th><th scope=col>botright</th></tr></thead>\n",
       "<tbody>\n",
       "\t<tr><td>Albania       </td><td>3             </td><td>1             </td><td>  29          </td><td> 3            </td><td> 6            </td><td>6             </td><td>0             </td><td>0             </td><td>3             </td><td>⋯             </td><td>0             </td><td>0             </td><td>1             </td><td>0             </td><td>0             </td><td>0             </td><td>1             </td><td>0             </td><td>red           </td><td>red           </td></tr>\n",
       "\t<tr><td>Algeria       </td><td>4             </td><td>1             </td><td>2388          </td><td>20            </td><td> 8            </td><td>2             </td><td>2             </td><td>0             </td><td>3             </td><td>⋯             </td><td>0             </td><td>0             </td><td>1             </td><td>1             </td><td>0             </td><td>0             </td><td>0             </td><td>0             </td><td>green         </td><td>white         </td></tr>\n",
       "\t<tr><td>American-Samoa</td><td>6             </td><td>3             </td><td>   0          </td><td> 0            </td><td> 1            </td><td>1             </td><td>0             </td><td>0             </td><td>5             </td><td>⋯             </td><td>0             </td><td>0             </td><td>0             </td><td>0             </td><td>1             </td><td>1             </td><td>1             </td><td>0             </td><td>blue          </td><td>red           </td></tr>\n",
       "\t<tr><td>Andorra       </td><td>3             </td><td>1             </td><td>   0          </td><td> 0            </td><td> 6            </td><td>0             </td><td>3             </td><td>0             </td><td>3             </td><td>⋯             </td><td>0             </td><td>0             </td><td>0             </td><td>0             </td><td>0             </td><td>0             </td><td>0             </td><td>0             </td><td>blue          </td><td>red           </td></tr>\n",
       "\t<tr><td>Angola        </td><td>4             </td><td>2             </td><td>1247          </td><td> 7            </td><td>10            </td><td>5             </td><td>0             </td><td>2             </td><td>3             </td><td>⋯             </td><td>0             </td><td>0             </td><td>1             </td><td>0             </td><td>0             </td><td>1             </td><td>0             </td><td>0             </td><td>red           </td><td>black         </td></tr>\n",
       "\t<tr><td>Anguilla      </td><td>1             </td><td>4             </td><td>   0          </td><td> 0            </td><td> 1            </td><td>1             </td><td>0             </td><td>1             </td><td>3             </td><td>⋯             </td><td>0             </td><td>0             </td><td>0             </td><td>0             </td><td>0             </td><td>0             </td><td>1             </td><td>0             </td><td>white         </td><td>blue          </td></tr>\n",
       "</tbody>\n",
       "</table>\n"
      ],
      "text/latex": [
       "\\begin{tabular}{r|llllllllllllllllllllllllllllll}\n",
       " name & landmass & zone & area & population & language & religion & bars & stripes & colours & ⋯ & saltires & quarters & sunstars & crescent & triangle & icon & animate & text & topleft & botright\\\\\n",
       "\\hline\n",
       "\t Albania        & 3              & 1              &   29           &  3             &  6             & 6              & 0              & 0              & 3              & ⋯              & 0              & 0              & 1              & 0              & 0              & 0              & 1              & 0              & red            & red           \\\\\n",
       "\t Algeria        & 4              & 1              & 2388           & 20             &  8             & 2              & 2              & 0              & 3              & ⋯              & 0              & 0              & 1              & 1              & 0              & 0              & 0              & 0              & green          & white         \\\\\n",
       "\t American-Samoa & 6              & 3              &    0           &  0             &  1             & 1              & 0              & 0              & 5              & ⋯              & 0              & 0              & 0              & 0              & 1              & 1              & 1              & 0              & blue           & red           \\\\\n",
       "\t Andorra        & 3              & 1              &    0           &  0             &  6             & 0              & 3              & 0              & 3              & ⋯              & 0              & 0              & 0              & 0              & 0              & 0              & 0              & 0              & blue           & red           \\\\\n",
       "\t Angola         & 4              & 2              & 1247           &  7             & 10             & 5              & 0              & 2              & 3              & ⋯              & 0              & 0              & 1              & 0              & 0              & 1              & 0              & 0              & red            & black         \\\\\n",
       "\t Anguilla       & 1              & 4              &    0           &  0             &  1             & 1              & 0              & 1              & 3              & ⋯              & 0              & 0              & 0              & 0              & 0              & 0              & 1              & 0              & white          & blue          \\\\\n",
       "\\end{tabular}\n"
      ],
      "text/markdown": [
       "\n",
       "name | landmass | zone | area | population | language | religion | bars | stripes | colours | ⋯ | saltires | quarters | sunstars | crescent | triangle | icon | animate | text | topleft | botright | \n",
       "|---|---|---|---|---|---|\n",
       "| Albania        | 3              | 1              |   29           |  3             |  6             | 6              | 0              | 0              | 3              | ⋯              | 0              | 0              | 1              | 0              | 0              | 0              | 1              | 0              | red            | red            | \n",
       "| Algeria        | 4              | 1              | 2388           | 20             |  8             | 2              | 2              | 0              | 3              | ⋯              | 0              | 0              | 1              | 1              | 0              | 0              | 0              | 0              | green          | white          | \n",
       "| American-Samoa | 6              | 3              |    0           |  0             |  1             | 1              | 0              | 0              | 5              | ⋯              | 0              | 0              | 0              | 0              | 1              | 1              | 1              | 0              | blue           | red            | \n",
       "| Andorra        | 3              | 1              |    0           |  0             |  6             | 0              | 3              | 0              | 3              | ⋯              | 0              | 0              | 0              | 0              | 0              | 0              | 0              | 0              | blue           | red            | \n",
       "| Angola         | 4              | 2              | 1247           |  7             | 10             | 5              | 0              | 2              | 3              | ⋯              | 0              | 0              | 1              | 0              | 0              | 1              | 0              | 0              | red            | black          | \n",
       "| Anguilla       | 1              | 4              |    0           |  0             |  1             | 1              | 0              | 1              | 3              | ⋯              | 0              | 0              | 0              | 0              | 0              | 0              | 1              | 0              | white          | blue           | \n",
       "\n",
       "\n"
      ],
      "text/plain": [
       "  name           landmass zone area population language religion bars stripes\n",
       "1 Albania        3        1      29  3          6       6        0    0      \n",
       "2 Algeria        4        1    2388 20          8       2        2    0      \n",
       "3 American-Samoa 6        3       0  0          1       1        0    0      \n",
       "4 Andorra        3        1       0  0          6       0        3    0      \n",
       "5 Angola         4        2    1247  7         10       5        0    2      \n",
       "6 Anguilla       1        4       0  0          1       1        0    1      \n",
       "  colours ⋯ saltires quarters sunstars crescent triangle icon animate text\n",
       "1 3       ⋯ 0        0        1        0        0        0    1       0   \n",
       "2 3       ⋯ 0        0        1        1        0        0    0       0   \n",
       "3 5       ⋯ 0        0        0        0        1        1    1       0   \n",
       "4 3       ⋯ 0        0        0        0        0        0    0       0   \n",
       "5 3       ⋯ 0        0        1        0        0        1    0       0   \n",
       "6 3       ⋯ 0        0        0        0        0        0    1       0   \n",
       "  topleft botright\n",
       "1 red     red     \n",
       "2 green   white   \n",
       "3 blue    red     \n",
       "4 blue    red     \n",
       "5 red     black   \n",
       "6 white   blue    "
      ]
     },
     "metadata": {},
     "output_type": "display_data"
    }
   ],
   "source": [
    "flags <- read.csv(url(\"http://archive.ics.uci.edu/ml/machine-learning-databases/flags/flag.data\"))\n",
    "# Set column names\n",
    "colnames(flags) <- c(\"name\", \"landmass\", \"zone\", \"area\", \"population\",\n",
    "                     \"language\", \"religion\", \"bars\", \"stripes\", \"colours\",\n",
    "                     \"red\", \"green\", \"blue\", \"gold\", \"white\", \"black\",\n",
    "                     \"orange\", \"mainhue\", \"circles\", \"crosses\", \"saltires\",\n",
    "                     \"quarters\", \"sunstars\", \"crescent\", \"triangle\",\n",
    "                     \"icon\", \"animate\", \"text\", \"topleft\", \"botright\")\n",
    "\n",
    "# liệt kê 6 dòng dữ liệu ban đầu\n",
    "head(flags)"
   ]
  },
  {
   "cell_type": "code",
   "execution_count": 2,
   "metadata": {},
   "outputs": [
    {
     "data": {
      "text/html": [
       "<ol class=list-inline>\n",
       "\t<li>193</li>\n",
       "\t<li>30</li>\n",
       "</ol>\n"
      ],
      "text/latex": [
       "\\begin{enumerate*}\n",
       "\\item 193\n",
       "\\item 30\n",
       "\\end{enumerate*}\n"
      ],
      "text/markdown": [
       "1. 193\n",
       "2. 30\n",
       "\n",
       "\n"
      ],
      "text/plain": [
       "[1] 193  30"
      ]
     },
     "metadata": {},
     "output_type": "display_data"
    }
   ],
   "source": [
    "# kiểm tra số chiều của dữ liệu\n",
    "dim(flags)"
   ]
  },
  {
   "cell_type": "markdown",
   "metadata": {},
   "source": [
    "Quan sát trên cho ta biết tập dữ liệu có 194 dòng và 30 cột thuộc tính. Mỗi dòng thể hiện một quốc gia và mỗi cột thể hiện các đặc trưng quốc kỳ của từng quốc gia đó.\n",
    "\n",
    "Như bất kỳ tập dữ liệu nào, ta muốn biết định dạng lưu trữ của các thuộc tính. Hay nói cách khác, các thuộc tính thuộc kiểu dữ liệu 'class' nào. Điều gì sẽ xảy ra nếu ta nhập lệnh class(flags).\n"
   ]
  },
  {
   "cell_type": "code",
   "execution_count": 3,
   "metadata": {},
   "outputs": [
    {
     "data": {
      "text/html": [
       "'data.frame'"
      ],
      "text/latex": [
       "'data.frame'"
      ],
      "text/markdown": [
       "'data.frame'"
      ],
      "text/plain": [
       "[1] \"data.frame\""
      ]
     },
     "metadata": {},
     "output_type": "display_data"
    }
   ],
   "source": [
    "class(flags)"
   ]
  },
  {
   "cell_type": "markdown",
   "metadata": {},
   "source": [
    "Kết quả trên cho ta thấy, toàn bộ dữ liệu được lưu dưới kiểu dữ liệu 'data.frame', không phải là kết quả chúng ta cần tìm. Cái chúng ta cần đó là hàm class() sẽ áp dụng lên từng cột dữ liệu. Chúng ta có thể làm lần lượt cho từng cột dữ liệu. Nhưng có một cách nhanh hơn đó là dùng vòng lặp (loop).\n",
    "\n",
    "Hàm lapply() nhận đối số đầu vào là một list, áp dụng tính toán trên từng phần tử của list này, sau đó trả về một list khác có cùng độ dài với list ban đầu. Được biết data frame cũng là một list gồm các vectors (bạn có thể kiểm chứng bằng lệnh as.list(flags)), chúng ta có thể sử dụng lapply() để áp dụng hàm class() lên từng cột dữ liệu của tập dữ liệu flags."
   ]
  },
  {
   "cell_type": "code",
   "execution_count": 4,
   "metadata": {
    "scrolled": true
   },
   "outputs": [
    {
     "name": "stdout",
     "output_type": "stream",
     "text": [
      "$name\n",
      "[1] \"factor\"\n",
      "\n",
      "$landmass\n",
      "[1] \"integer\"\n",
      "\n",
      "$zone\n",
      "[1] \"integer\"\n",
      "\n",
      "$area\n",
      "[1] \"integer\"\n",
      "\n",
      "$population\n",
      "[1] \"integer\"\n",
      "\n",
      "$language\n",
      "[1] \"integer\"\n",
      "\n",
      "$religion\n",
      "[1] \"integer\"\n",
      "\n",
      "$bars\n",
      "[1] \"integer\"\n",
      "\n",
      "$stripes\n",
      "[1] \"integer\"\n",
      "\n",
      "$colours\n",
      "[1] \"integer\"\n",
      "\n",
      "$red\n",
      "[1] \"integer\"\n",
      "\n",
      "$green\n",
      "[1] \"integer\"\n",
      "\n",
      "$blue\n",
      "[1] \"integer\"\n",
      "\n",
      "$gold\n",
      "[1] \"integer\"\n",
      "\n",
      "$white\n",
      "[1] \"integer\"\n",
      "\n",
      "$black\n",
      "[1] \"integer\"\n",
      "\n",
      "$orange\n",
      "[1] \"integer\"\n",
      "\n",
      "$mainhue\n",
      "[1] \"factor\"\n",
      "\n",
      "$circles\n",
      "[1] \"integer\"\n",
      "\n",
      "$crosses\n",
      "[1] \"integer\"\n",
      "\n",
      "$saltires\n",
      "[1] \"integer\"\n",
      "\n",
      "$quarters\n",
      "[1] \"integer\"\n",
      "\n",
      "$sunstars\n",
      "[1] \"integer\"\n",
      "\n",
      "$crescent\n",
      "[1] \"integer\"\n",
      "\n",
      "$triangle\n",
      "[1] \"integer\"\n",
      "\n",
      "$icon\n",
      "[1] \"integer\"\n",
      "\n",
      "$animate\n",
      "[1] \"integer\"\n",
      "\n",
      "$text\n",
      "[1] \"integer\"\n",
      "\n",
      "$topleft\n",
      "[1] \"factor\"\n",
      "\n",
      "$botright\n",
      "[1] \"factor\"\n",
      "\n"
     ]
    }
   ],
   "source": [
    "cls_list <- lapply(flags, class)\n",
    "print(cls_list)"
   ]
  },
  {
   "cell_type": "code",
   "execution_count": 5,
   "metadata": {},
   "outputs": [
    {
     "data": {
      "text/html": [
       "'list'"
      ],
      "text/latex": [
       "'list'"
      ],
      "text/markdown": [
       "'list'"
      ],
      "text/plain": [
       "[1] \"list\""
      ]
     },
     "metadata": {},
     "output_type": "display_data"
    }
   ],
   "source": [
    "# kiểm tra kiểu dữ liệu của cls_list\n",
    "class(cls_list)"
   ]
  },
  {
   "cell_type": "markdown",
   "metadata": {},
   "source": [
    "Kí tự 'l' trong 'lapply' là viết tắt của 'list'. Khi kiểm tra class(cls_list) ta sẽ thấy điều này. Như dự đoán, ta có một list với độ dài là 30 bằng với số lượng của các cột thuộc tính. Kết quả trả ra sẽ gọn gàng hơn nếu chúng ta có thể biểu diễn nó dưới dạng một vector thay vì một list. Như các bài viết trước đã đề cập, công dụng của kiểu dữ liệu list đó là nó có thể lưu nhiều kiểu dữ liệu cùng lúc bên trong nó. Trong trường hợp này, khi các phần tử của list trả về bởi hàm lapply() là các kiểu dữ liệu character với độ dài là một, cls_list có thể được tối giản thành vector chứa các phần tử có kiểu dữ liệu là character. Đơn giản chúng ta chỉ cần nhập lệnh as.character(cls_list)."
   ]
  },
  {
   "cell_type": "code",
   "execution_count": 6,
   "metadata": {},
   "outputs": [
    {
     "name": "stdout",
     "output_type": "stream",
     "text": [
      " [1] \"factor\"  \"integer\" \"integer\" \"integer\" \"integer\" \"integer\" \"integer\"\n",
      " [8] \"integer\" \"integer\" \"integer\" \"integer\" \"integer\" \"integer\" \"integer\"\n",
      "[15] \"integer\" \"integer\" \"integer\" \"factor\"  \"integer\" \"integer\" \"integer\"\n",
      "[22] \"integer\" \"integer\" \"integer\" \"integer\" \"integer\" \"integer\" \"integer\"\n",
      "[29] \"factor\"  \"factor\" \n"
     ]
    }
   ],
   "source": [
    "print(as.character(cls_list))"
   ]
  },
  {
   "cell_type": "markdown",
   "metadata": {},
   "source": [
    "<h2>sapply</h2>\n",
    "sapply() sẽ tự động thực hiện thao tác trên bằng cách gọi ngầm hàm lapply(), sau đó cố gắng đơn giản hoá kết quả trả về cho bạn.\n"
   ]
  },
  {
   "cell_type": "code",
   "execution_count": 7,
   "metadata": {},
   "outputs": [
    {
     "name": "stdout",
     "output_type": "stream",
     "text": [
      "      name   landmass       zone       area population   language   religion \n",
      "  \"factor\"  \"integer\"  \"integer\"  \"integer\"  \"integer\"  \"integer\"  \"integer\" \n",
      "      bars    stripes    colours        red      green       blue       gold \n",
      " \"integer\"  \"integer\"  \"integer\"  \"integer\"  \"integer\"  \"integer\"  \"integer\" \n",
      "     white      black     orange    mainhue    circles    crosses   saltires \n",
      " \"integer\"  \"integer\"  \"integer\"   \"factor\"  \"integer\"  \"integer\"  \"integer\" \n",
      "  quarters   sunstars   crescent   triangle       icon    animate       text \n",
      " \"integer\"  \"integer\"  \"integer\"  \"integer\"  \"integer\"  \"integer\"  \"integer\" \n",
      "   topleft   botright \n",
      "  \"factor\"   \"factor\" \n"
     ]
    }
   ],
   "source": [
    "cls_vect <- sapply(flags, class)\n",
    "print(cls_vect)"
   ]
  },
  {
   "cell_type": "code",
   "execution_count": 8,
   "metadata": {},
   "outputs": [
    {
     "data": {
      "text/html": [
       "'character'"
      ],
      "text/latex": [
       "'character'"
      ],
      "text/markdown": [
       "'character'"
      ],
      "text/plain": [
       "[1] \"character\""
      ]
     },
     "metadata": {},
     "output_type": "display_data"
    }
   ],
   "source": [
    "# kiểm chứng kiểu dữ liệu trả về của sapply là vector chứa các character\n",
    "class(cls_vect)"
   ]
  },
  {
   "cell_type": "markdown",
   "metadata": {},
   "source": [
    "Về mặt tổng quát, nếu kết quả trả về là một list trong đó các phần tử đều có độ dài là một, thì sapply() sẽ trả về một vector. Nếu kết quả trả về là một list mà các phần tử là một vector có cùng độ dài (> 1), sapply() sẽ trả về một ma trận. Nếu sapply() không thể đơn giản hoá, nó chỉ trả về một list, và không có sự khác biệt với hàm lapply() ban đầu.\n",
    "\n",
    "Dưới đây là tổng hợp các thao tác trên tập dữ liệu flags có sử dụng hàm lapply() và sapply().\n"
   ]
  },
  {
   "cell_type": "code",
   "execution_count": 9,
   "metadata": {},
   "outputs": [
    {
     "data": {
      "text/html": [
       "26"
      ],
      "text/latex": [
       "26"
      ],
      "text/markdown": [
       "26"
      ],
      "text/plain": [
       "[1] 26"
      ]
     },
     "metadata": {},
     "output_type": "display_data"
    }
   ],
   "source": [
    "# tính tổng các quốc gia có quốc kì chứa màu cam\n",
    "sum(flags$orange)"
   ]
  },
  {
   "cell_type": "code",
   "execution_count": 10,
   "metadata": {},
   "outputs": [
    {
     "data": {
      "text/html": [
       "<table>\n",
       "<thead><tr><th scope=col>red</th><th scope=col>green</th><th scope=col>blue</th><th scope=col>gold</th><th scope=col>white</th><th scope=col>black</th><th scope=col>orange</th></tr></thead>\n",
       "<tbody>\n",
       "\t<tr><td>1</td><td>0</td><td>0</td><td>1</td><td>0</td><td>1</td><td>0</td></tr>\n",
       "\t<tr><td>1</td><td>1</td><td>0</td><td>0</td><td>1</td><td>0</td><td>0</td></tr>\n",
       "\t<tr><td>1</td><td>0</td><td>1</td><td>1</td><td>1</td><td>0</td><td>1</td></tr>\n",
       "\t<tr><td>1</td><td>0</td><td>1</td><td>1</td><td>0</td><td>0</td><td>0</td></tr>\n",
       "\t<tr><td>1</td><td>0</td><td>0</td><td>1</td><td>0</td><td>1</td><td>0</td></tr>\n",
       "\t<tr><td>0</td><td>0</td><td>1</td><td>0</td><td>1</td><td>0</td><td>1</td></tr>\n",
       "</tbody>\n",
       "</table>\n"
      ],
      "text/latex": [
       "\\begin{tabular}{r|lllllll}\n",
       " red & green & blue & gold & white & black & orange\\\\\n",
       "\\hline\n",
       "\t 1 & 0 & 0 & 1 & 0 & 1 & 0\\\\\n",
       "\t 1 & 1 & 0 & 0 & 1 & 0 & 0\\\\\n",
       "\t 1 & 0 & 1 & 1 & 1 & 0 & 1\\\\\n",
       "\t 1 & 0 & 1 & 1 & 0 & 0 & 0\\\\\n",
       "\t 1 & 0 & 0 & 1 & 0 & 1 & 0\\\\\n",
       "\t 0 & 0 & 1 & 0 & 1 & 0 & 1\\\\\n",
       "\\end{tabular}\n"
      ],
      "text/markdown": [
       "\n",
       "red | green | blue | gold | white | black | orange | \n",
       "|---|---|---|---|---|---|\n",
       "| 1 | 0 | 0 | 1 | 0 | 1 | 0 | \n",
       "| 1 | 1 | 0 | 0 | 1 | 0 | 0 | \n",
       "| 1 | 0 | 1 | 1 | 1 | 0 | 1 | \n",
       "| 1 | 0 | 1 | 1 | 0 | 0 | 0 | \n",
       "| 1 | 0 | 0 | 1 | 0 | 1 | 0 | \n",
       "| 0 | 0 | 1 | 0 | 1 | 0 | 1 | \n",
       "\n",
       "\n"
      ],
      "text/plain": [
       "  red green blue gold white black orange\n",
       "1 1   0     0    1    0     1     0     \n",
       "2 1   1     0    0    1     0     0     \n",
       "3 1   0     1    1    1     0     1     \n",
       "4 1   0     1    1    0     0     0     \n",
       "5 1   0     0    1    0     1     0     \n",
       "6 0   0     1    0    1     0     1     "
      ]
     },
     "metadata": {},
     "output_type": "display_data"
    }
   ],
   "source": [
    "# trích chọn các cột dữ liệu thể hiện màu sắc của quốc kì\n",
    "flag_colors <- flags[, 11:17]\n",
    "head(flag_colors)"
   ]
  },
  {
   "cell_type": "code",
   "execution_count": 11,
   "metadata": {},
   "outputs": [
    {
     "data": {
      "text/html": [
       "<dl>\n",
       "\t<dt>$red</dt>\n",
       "\t\t<dd>152</dd>\n",
       "\t<dt>$green</dt>\n",
       "\t\t<dd>90</dd>\n",
       "\t<dt>$blue</dt>\n",
       "\t\t<dd>99</dd>\n",
       "\t<dt>$gold</dt>\n",
       "\t\t<dd>90</dd>\n",
       "\t<dt>$white</dt>\n",
       "\t\t<dd>145</dd>\n",
       "\t<dt>$black</dt>\n",
       "\t\t<dd>51</dd>\n",
       "\t<dt>$orange</dt>\n",
       "\t\t<dd>26</dd>\n",
       "</dl>\n"
      ],
      "text/latex": [
       "\\begin{description}\n",
       "\\item[\\$red] 152\n",
       "\\item[\\$green] 90\n",
       "\\item[\\$blue] 99\n",
       "\\item[\\$gold] 90\n",
       "\\item[\\$white] 145\n",
       "\\item[\\$black] 51\n",
       "\\item[\\$orange] 26\n",
       "\\end{description}\n"
      ],
      "text/markdown": [
       "$red\n",
       ":   152\n",
       "$green\n",
       ":   90\n",
       "$blue\n",
       ":   99\n",
       "$gold\n",
       ":   90\n",
       "$white\n",
       ":   145\n",
       "$black\n",
       ":   51\n",
       "$orange\n",
       ":   26\n",
       "\n",
       "\n"
      ],
      "text/plain": [
       "$red\n",
       "[1] 152\n",
       "\n",
       "$green\n",
       "[1] 90\n",
       "\n",
       "$blue\n",
       "[1] 99\n",
       "\n",
       "$gold\n",
       "[1] 90\n",
       "\n",
       "$white\n",
       "[1] 145\n",
       "\n",
       "$black\n",
       "[1] 51\n",
       "\n",
       "$orange\n",
       "[1] 26\n"
      ]
     },
     "metadata": {},
     "output_type": "display_data"
    }
   ],
   "source": [
    "# tính tổng cho từng giá trị màu sắc\n",
    "lapply(flag_colors, sum)"
   ]
  },
  {
   "cell_type": "code",
   "execution_count": 12,
   "metadata": {},
   "outputs": [
    {
     "data": {
      "text/html": [
       "<dl class=dl-horizontal>\n",
       "\t<dt>red</dt>\n",
       "\t\t<dd>152</dd>\n",
       "\t<dt>green</dt>\n",
       "\t\t<dd>90</dd>\n",
       "\t<dt>blue</dt>\n",
       "\t\t<dd>99</dd>\n",
       "\t<dt>gold</dt>\n",
       "\t\t<dd>90</dd>\n",
       "\t<dt>white</dt>\n",
       "\t\t<dd>145</dd>\n",
       "\t<dt>black</dt>\n",
       "\t\t<dd>51</dd>\n",
       "\t<dt>orange</dt>\n",
       "\t\t<dd>26</dd>\n",
       "</dl>\n"
      ],
      "text/latex": [
       "\\begin{description*}\n",
       "\\item[red] 152\n",
       "\\item[green] 90\n",
       "\\item[blue] 99\n",
       "\\item[gold] 90\n",
       "\\item[white] 145\n",
       "\\item[black] 51\n",
       "\\item[orange] 26\n",
       "\\end{description*}\n"
      ],
      "text/markdown": [
       "red\n",
       ":   152green\n",
       ":   90blue\n",
       ":   99gold\n",
       ":   90white\n",
       ":   145black\n",
       ":   51orange\n",
       ":   26\n",
       "\n"
      ],
      "text/plain": [
       "   red  green   blue   gold  white  black orange \n",
       "   152     90     99     90    145     51     26 "
      ]
     },
     "metadata": {},
     "output_type": "display_data"
    }
   ],
   "source": [
    "# tương tự tính toán trên với sapply() để giản lược thành một vector\n",
    "sapply(flag_colors, sum)"
   ]
  },
  {
   "cell_type": "code",
   "execution_count": 13,
   "metadata": {},
   "outputs": [
    {
     "data": {
      "text/html": [
       "<table>\n",
       "<thead><tr><th scope=col>circles</th><th scope=col>crosses</th><th scope=col>saltires</th><th scope=col>quarters</th><th scope=col>sunstars</th></tr></thead>\n",
       "<tbody>\n",
       "\t<tr><td>0</td><td>0</td><td>0</td><td>0</td><td>1</td></tr>\n",
       "\t<tr><td>0</td><td>0</td><td>0</td><td>0</td><td>1</td></tr>\n",
       "\t<tr><td>0</td><td>0</td><td>0</td><td>0</td><td>0</td></tr>\n",
       "\t<tr><td>0</td><td>0</td><td>0</td><td>0</td><td>0</td></tr>\n",
       "\t<tr><td>0</td><td>0</td><td>0</td><td>0</td><td>1</td></tr>\n",
       "\t<tr><td>0</td><td>0</td><td>0</td><td>0</td><td>0</td></tr>\n",
       "</tbody>\n",
       "</table>\n"
      ],
      "text/latex": [
       "\\begin{tabular}{r|lllll}\n",
       " circles & crosses & saltires & quarters & sunstars\\\\\n",
       "\\hline\n",
       "\t 0 & 0 & 0 & 0 & 1\\\\\n",
       "\t 0 & 0 & 0 & 0 & 1\\\\\n",
       "\t 0 & 0 & 0 & 0 & 0\\\\\n",
       "\t 0 & 0 & 0 & 0 & 0\\\\\n",
       "\t 0 & 0 & 0 & 0 & 1\\\\\n",
       "\t 0 & 0 & 0 & 0 & 0\\\\\n",
       "\\end{tabular}\n"
      ],
      "text/markdown": [
       "\n",
       "circles | crosses | saltires | quarters | sunstars | \n",
       "|---|---|---|---|---|---|\n",
       "| 0 | 0 | 0 | 0 | 1 | \n",
       "| 0 | 0 | 0 | 0 | 1 | \n",
       "| 0 | 0 | 0 | 0 | 0 | \n",
       "| 0 | 0 | 0 | 0 | 0 | \n",
       "| 0 | 0 | 0 | 0 | 1 | \n",
       "| 0 | 0 | 0 | 0 | 0 | \n",
       "\n",
       "\n"
      ],
      "text/plain": [
       "  circles crosses saltires quarters sunstars\n",
       "1 0       0       0        0        1       \n",
       "2 0       0       0        0        1       \n",
       "3 0       0       0        0        0       \n",
       "4 0       0       0        0        0       \n",
       "5 0       0       0        0        1       \n",
       "6 0       0       0        0        0       "
      ]
     },
     "metadata": {},
     "output_type": "display_data"
    }
   ],
   "source": [
    "# trích chọn các cột dữ liệu thể hiện hình dạng của quốc kì\n",
    "flag_shapes <- flags[, 19:23]\n",
    "head(flag_shapes)"
   ]
  },
  {
   "cell_type": "code",
   "execution_count": 14,
   "metadata": {},
   "outputs": [
    {
     "data": {
      "text/html": [
       "<dl>\n",
       "\t<dt>$circles</dt>\n",
       "\t\t<dd><ol class=list-inline>\n",
       "\t<li>0</li>\n",
       "\t<li>4</li>\n",
       "</ol>\n",
       "</dd>\n",
       "\t<dt>$crosses</dt>\n",
       "\t\t<dd><ol class=list-inline>\n",
       "\t<li>0</li>\n",
       "\t<li>2</li>\n",
       "</ol>\n",
       "</dd>\n",
       "\t<dt>$saltires</dt>\n",
       "\t\t<dd><ol class=list-inline>\n",
       "\t<li>0</li>\n",
       "\t<li>1</li>\n",
       "</ol>\n",
       "</dd>\n",
       "\t<dt>$quarters</dt>\n",
       "\t\t<dd><ol class=list-inline>\n",
       "\t<li>0</li>\n",
       "\t<li>4</li>\n",
       "</ol>\n",
       "</dd>\n",
       "\t<dt>$sunstars</dt>\n",
       "\t\t<dd><ol class=list-inline>\n",
       "\t<li>0</li>\n",
       "\t<li>50</li>\n",
       "</ol>\n",
       "</dd>\n",
       "</dl>\n"
      ],
      "text/latex": [
       "\\begin{description}\n",
       "\\item[\\$circles] \\begin{enumerate*}\n",
       "\\item 0\n",
       "\\item 4\n",
       "\\end{enumerate*}\n",
       "\n",
       "\\item[\\$crosses] \\begin{enumerate*}\n",
       "\\item 0\n",
       "\\item 2\n",
       "\\end{enumerate*}\n",
       "\n",
       "\\item[\\$saltires] \\begin{enumerate*}\n",
       "\\item 0\n",
       "\\item 1\n",
       "\\end{enumerate*}\n",
       "\n",
       "\\item[\\$quarters] \\begin{enumerate*}\n",
       "\\item 0\n",
       "\\item 4\n",
       "\\end{enumerate*}\n",
       "\n",
       "\\item[\\$sunstars] \\begin{enumerate*}\n",
       "\\item 0\n",
       "\\item 50\n",
       "\\end{enumerate*}\n",
       "\n",
       "\\end{description}\n"
      ],
      "text/markdown": [
       "$circles\n",
       ":   1. 0\n",
       "2. 4\n",
       "\n",
       "\n",
       "\n",
       "$crosses\n",
       ":   1. 0\n",
       "2. 2\n",
       "\n",
       "\n",
       "\n",
       "$saltires\n",
       ":   1. 0\n",
       "2. 1\n",
       "\n",
       "\n",
       "\n",
       "$quarters\n",
       ":   1. 0\n",
       "2. 4\n",
       "\n",
       "\n",
       "\n",
       "$sunstars\n",
       ":   1. 0\n",
       "2. 50\n",
       "\n",
       "\n",
       "\n",
       "\n",
       "\n"
      ],
      "text/plain": [
       "$circles\n",
       "[1] 0 4\n",
       "\n",
       "$crosses\n",
       "[1] 0 2\n",
       "\n",
       "$saltires\n",
       "[1] 0 1\n",
       "\n",
       "$quarters\n",
       "[1] 0 4\n",
       "\n",
       "$sunstars\n",
       "[1]  0 50\n"
      ]
     },
     "metadata": {},
     "output_type": "display_data"
    }
   ],
   "source": [
    "# xác định khoảng giao động giá trị của các hình dạng flag_shapes\n",
    "lapply(flag_shapes, range)"
   ]
  },
  {
   "cell_type": "code",
   "execution_count": 15,
   "metadata": {},
   "outputs": [
    {
     "data": {
      "text/html": [
       "<table>\n",
       "<thead><tr><th scope=col>circles</th><th scope=col>crosses</th><th scope=col>saltires</th><th scope=col>quarters</th><th scope=col>sunstars</th></tr></thead>\n",
       "<tbody>\n",
       "\t<tr><td>0 </td><td>0 </td><td>0 </td><td>0 </td><td> 0</td></tr>\n",
       "\t<tr><td>4 </td><td>2 </td><td>1 </td><td>4 </td><td>50</td></tr>\n",
       "</tbody>\n",
       "</table>\n"
      ],
      "text/latex": [
       "\\begin{tabular}{lllll}\n",
       " circles & crosses & saltires & quarters & sunstars\\\\\n",
       "\\hline\n",
       "\t 0  & 0  & 0  & 0  &  0\\\\\n",
       "\t 4  & 2  & 1  & 4  & 50\\\\\n",
       "\\end{tabular}\n"
      ],
      "text/markdown": [
       "\n",
       "circles | crosses | saltires | quarters | sunstars | \n",
       "|---|---|\n",
       "| 0  | 0  | 0  | 0  |  0 | \n",
       "| 4  | 2  | 1  | 4  | 50 | \n",
       "\n",
       "\n"
      ],
      "text/plain": [
       "     circles crosses saltires quarters sunstars\n",
       "[1,] 0       0       0        0         0      \n",
       "[2,] 4       2       1        4        50      "
      ]
     },
     "metadata": {},
     "output_type": "display_data"
    }
   ],
   "source": [
    "# tương tự tính toán trên với sapply() để giản lược thành một ma trận\n",
    "shape_mat <- sapply(flag_shapes, range)\n",
    "shape_mat"
   ]
  },
  {
   "cell_type": "code",
   "execution_count": 16,
   "metadata": {},
   "outputs": [
    {
     "data": {
      "text/html": [
       "'matrix'"
      ],
      "text/latex": [
       "'matrix'"
      ],
      "text/markdown": [
       "'matrix'"
      ],
      "text/plain": [
       "[1] \"matrix\""
      ]
     },
     "metadata": {},
     "output_type": "display_data"
    }
   ],
   "source": [
    "# kiểm tra kiểu dữ liệu của shape_mat\n",
    "class(shape_mat)"
   ]
  },
  {
   "cell_type": "code",
   "execution_count": 17,
   "metadata": {},
   "outputs": [
    {
     "name": "stdout",
     "output_type": "stream",
     "text": [
      "      name   landmass       zone       area population   language   religion \n",
      "       193          6          4        135         48         10          8 \n",
      "      bars    stripes    colours        red      green       blue       gold \n",
      "         5         12          8          2          2          2          2 \n",
      "     white      black     orange    mainhue    circles    crosses   saltires \n",
      "         2          2          2          8          4          3          2 \n",
      "  quarters   sunstars   crescent   triangle       icon    animate       text \n",
      "         3         14          2          2          2          2          2 \n",
      "   topleft   botright \n",
      "         7          8 \n"
     ]
    }
   ],
   "source": [
    "# xác định giá trị unique của các cột dữ liệu trong tập dữ liệu flags\n",
    "unique_vals <- lapply(flags, unique)\n",
    "\n",
    "# xác định độ dài của dữ liệu unique_vals thông qua hàm sapply()\n",
    "print(sapply(unique_vals, length))"
   ]
  },
  {
   "cell_type": "code",
   "execution_count": 18,
   "metadata": {},
   "outputs": [
    {
     "name": "stdout",
     "output_type": "stream",
     "text": [
      "$name\n",
      "[1] Algeria\n",
      "193 Levels: Albania Algeria American-Samoa Andorra Angola ... Zimbabwe\n",
      "\n",
      "$landmass\n",
      "[1] 4\n",
      "\n",
      "$zone\n",
      "[1] 3\n",
      "\n",
      "$area\n",
      "[1] 2388\n",
      "\n",
      "$population\n",
      "[1] 20\n",
      "\n",
      "$language\n",
      "[1] 8\n",
      "\n",
      "$religion\n",
      "[1] 2\n",
      "\n",
      "$bars\n",
      "[1] 2\n",
      "\n",
      "$stripes\n",
      "[1] 2\n",
      "\n",
      "$colours\n",
      "[1] 5\n",
      "\n",
      "$red\n",
      "[1] 0\n",
      "\n",
      "$green\n",
      "[1] 1\n",
      "\n",
      "$blue\n",
      "[1] 1\n",
      "\n",
      "$gold\n",
      "[1] 0\n",
      "\n",
      "$white\n",
      "[1] 1\n",
      "\n",
      "$black\n",
      "[1] 0\n",
      "\n",
      "$orange\n",
      "[1] 1\n",
      "\n",
      "$mainhue\n",
      "[1] green\n",
      "Levels: black blue brown gold green orange red white\n",
      "\n",
      "$circles\n",
      "[1] 1\n",
      "\n",
      "$crosses\n",
      "[1] 1\n",
      "\n",
      "$saltires\n",
      "[1] 1\n",
      "\n",
      "$quarters\n",
      "[1] 1\n",
      "\n",
      "$sunstars\n",
      "[1] 0\n",
      "\n",
      "$crescent\n",
      "[1] 1\n",
      "\n",
      "$triangle\n",
      "[1] 1\n",
      "\n",
      "$icon\n",
      "[1] 1\n",
      "\n",
      "$animate\n",
      "[1] 0\n",
      "\n",
      "$text\n",
      "[1] 1\n",
      "\n",
      "$topleft\n",
      "[1] green\n",
      "Levels: black blue gold green orange red white\n",
      "\n",
      "$botright\n",
      "[1] white\n",
      "Levels: black blue brown gold green orange red white\n",
      "\n"
     ]
    }
   ],
   "source": [
    "# nhúng hàm trích chọn phần từ thứ hai trong vector vào hàm lapply()\n",
    "print(lapply(unique_vals, function(elem) elem[2]))"
   ]
  },
  {
   "cell_type": "markdown",
   "metadata": {},
   "source": [
    "Qua bài viết này, chúng ta đã học được cách sử dụng hai hàm lapply() và sapply() để áp dụng các phép toán lặp lên các phần tử của list.\n",
    "\n",
    "<strong>Nguồn tham khảo:</strong> <a href=\"http://swirlstats.com/\" target=\"_blank\" rel=\"noopener noreferrer\">http://swirlstats.com/</a>"
   ]
  }
 ],
 "metadata": {
  "kernelspec": {
   "display_name": "R",
   "language": "R",
   "name": "ir"
  },
  "language_info": {
   "codemirror_mode": "r",
   "file_extension": ".r",
   "mimetype": "text/x-r-source",
   "name": "R",
   "pygments_lexer": "r",
   "version": "3.4.4"
  }
 },
 "nbformat": 4,
 "nbformat_minor": 2
}
