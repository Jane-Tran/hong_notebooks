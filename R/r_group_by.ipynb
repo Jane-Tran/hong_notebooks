{
 "cells": [
  {
   "cell_type": "markdown",
   "metadata": {},
   "source": [
    "<h2>Gom nhóm dữ liệu</h2>\n",
    "Đầu tiên, chúng ta sẽ nạp thư viện dplyr và thực hiện các bước như ở phần trước.\n",
    "Chúng ta sẽ làm việc với file log từ ngày 8 tháng bảy, 2014 (chứa thông tin của gần 225,000 package được download). Các bạn có thể download ở link này: (http://cran-logs.rstudio.com/2014/2014-07-08.csv.gz)\n",
    "\n",
    "Giả sử path2csv là đường dẫn đến file bạn vừa download ở trên (đã được giải nén thành file .csv). Ta sử dụng hàm read.csv() để load dữ liệu như sau:"
   ]
  },
  {
   "cell_type": "code",
   "execution_count": null,
   "metadata": {},
   "outputs": [],
   "source": [
    "library(dplyr)"
   ]
  },
  {
   "cell_type": "code",
   "execution_count": 2,
   "metadata": {},
   "outputs": [
    {
     "data": {
      "text/html": [
       "<table>\n",
       "<thead><tr><th scope=col>date</th><th scope=col>time</th><th scope=col>size</th><th scope=col>r_version</th><th scope=col>r_arch</th><th scope=col>r_os</th><th scope=col>package</th><th scope=col>version</th><th scope=col>country</th><th scope=col>ip_id</th></tr></thead>\n",
       "<tbody>\n",
       "\t<tr><td>2014-07-08  </td><td>00:54:41    </td><td> 80589      </td><td>3.1.0       </td><td>x86_64      </td><td>mingw32     </td><td>htmltools   </td><td>0.2.4       </td><td>US          </td><td>1           </td></tr>\n",
       "\t<tr><td>2014-07-08  </td><td>00:59:53    </td><td>321767      </td><td>3.1.0       </td><td>x86_64      </td><td>mingw32     </td><td>tseries     </td><td>0.10-32     </td><td>US          </td><td>2           </td></tr>\n",
       "\t<tr><td>2014-07-08  </td><td>00:47:13    </td><td>748063      </td><td>3.1.0       </td><td>x86_64      </td><td>linux-gnu   </td><td>party       </td><td>1.0-15      </td><td>US          </td><td>3           </td></tr>\n",
       "\t<tr><td>2014-07-08  </td><td>00:48:05    </td><td>606104      </td><td>3.1.0       </td><td>x86_64      </td><td>linux-gnu   </td><td>Hmisc       </td><td>3.14-4      </td><td>US          </td><td>3           </td></tr>\n",
       "\t<tr><td>2014-07-08  </td><td>00:46:50    </td><td> 79825      </td><td>3.0.2       </td><td>x86_64      </td><td>linux-gnu   </td><td>digest      </td><td>0.6.4       </td><td>CA          </td><td>4           </td></tr>\n",
       "\t<tr><td>2014-07-08  </td><td>00:48:04    </td><td> 77681      </td><td>3.1.0       </td><td>x86_64      </td><td>linux-gnu   </td><td>randomForest</td><td>4.6-7       </td><td>US          </td><td>3           </td></tr>\n",
       "</tbody>\n",
       "</table>\n"
      ],
      "text/latex": [
       "\\begin{tabular}{r|llllllllll}\n",
       " date & time & size & r\\_version & r\\_arch & r\\_os & package & version & country & ip\\_id\\\\\n",
       "\\hline\n",
       "\t 2014-07-08   & 00:54:41     &  80589       & 3.1.0        & x86\\_64     & mingw32      & htmltools    & 0.2.4        & US           & 1           \\\\\n",
       "\t 2014-07-08   & 00:59:53     & 321767       & 3.1.0        & x86\\_64     & mingw32      & tseries      & 0.10-32      & US           & 2           \\\\\n",
       "\t 2014-07-08   & 00:47:13     & 748063       & 3.1.0        & x86\\_64     & linux-gnu    & party        & 1.0-15       & US           & 3           \\\\\n",
       "\t 2014-07-08   & 00:48:05     & 606104       & 3.1.0        & x86\\_64     & linux-gnu    & Hmisc        & 3.14-4       & US           & 3           \\\\\n",
       "\t 2014-07-08   & 00:46:50     &  79825       & 3.0.2        & x86\\_64     & linux-gnu    & digest       & 0.6.4        & CA           & 4           \\\\\n",
       "\t 2014-07-08   & 00:48:04     &  77681       & 3.1.0        & x86\\_64     & linux-gnu    & randomForest & 4.6-7        & US           & 3           \\\\\n",
       "\\end{tabular}\n"
      ],
      "text/markdown": [
       "\n",
       "date | time | size | r_version | r_arch | r_os | package | version | country | ip_id | \n",
       "|---|---|---|---|---|---|\n",
       "| 2014-07-08   | 00:54:41     |  80589       | 3.1.0        | x86_64       | mingw32      | htmltools    | 0.2.4        | US           | 1            | \n",
       "| 2014-07-08   | 00:59:53     | 321767       | 3.1.0        | x86_64       | mingw32      | tseries      | 0.10-32      | US           | 2            | \n",
       "| 2014-07-08   | 00:47:13     | 748063       | 3.1.0        | x86_64       | linux-gnu    | party        | 1.0-15       | US           | 3            | \n",
       "| 2014-07-08   | 00:48:05     | 606104       | 3.1.0        | x86_64       | linux-gnu    | Hmisc        | 3.14-4       | US           | 3            | \n",
       "| 2014-07-08   | 00:46:50     |  79825       | 3.0.2        | x86_64       | linux-gnu    | digest       | 0.6.4        | CA           | 4            | \n",
       "| 2014-07-08   | 00:48:04     |  77681       | 3.1.0        | x86_64       | linux-gnu    | randomForest | 4.6-7        | US           | 3            | \n",
       "\n",
       "\n"
      ],
      "text/plain": [
       "  date       time     size   r_version r_arch r_os      package      version\n",
       "1 2014-07-08 00:54:41  80589 3.1.0     x86_64 mingw32   htmltools    0.2.4  \n",
       "2 2014-07-08 00:59:53 321767 3.1.0     x86_64 mingw32   tseries      0.10-32\n",
       "3 2014-07-08 00:47:13 748063 3.1.0     x86_64 linux-gnu party        1.0-15 \n",
       "4 2014-07-08 00:48:05 606104 3.1.0     x86_64 linux-gnu Hmisc        3.14-4 \n",
       "5 2014-07-08 00:46:50  79825 3.0.2     x86_64 linux-gnu digest       0.6.4  \n",
       "6 2014-07-08 00:48:04  77681 3.1.0     x86_64 linux-gnu randomForest 4.6-7  \n",
       "  country ip_id\n",
       "1 US      1    \n",
       "2 US      2    \n",
       "3 US      3    \n",
       "4 US      3    \n",
       "5 CA      4    \n",
       "6 US      3    "
      ]
     },
     "metadata": {},
     "output_type": "display_data"
    }
   ],
   "source": [
    "# tạo biến cran thuộc kiểu dữ liệu data frame tbl\n",
    "mydf <- read.csv(path2csv, as.is = TRUE)\n",
    "\n",
    "cran <- tbl_df(mydf)\n",
    "head(cran)"
   ]
  },
  {
   "cell_type": "markdown",
   "metadata": {},
   "source": [
    "Tiếp theo ta sẽ gom nhóm biến cran theo thuộc tính package và lưu kết quả vào biến mới gọi là by_package."
   ]
  },
  {
   "cell_type": "code",
   "execution_count": 3,
   "metadata": {},
   "outputs": [
    {
     "name": "stdout",
     "output_type": "stream",
     "text": [
      "# A tibble: 6 x 10\n",
      "# Groups:   package [6]\n",
      "  date       time     size r_version r_arch r_os  package version country ip_id\n",
      "  <chr>      <chr>   <int> <chr>     <chr>  <chr> <chr>   <chr>   <chr>   <int>\n",
      "1 2014-07-08 00:54…  80589 3.1.0     x86_64 ming… htmlto… 0.2.4   US          1\n",
      "2 2014-07-08 00:59… 321767 3.1.0     x86_64 ming… tseries 0.10-32 US          2\n",
      "3 2014-07-08 00:47… 748063 3.1.0     x86_64 linu… party   1.0-15  US          3\n",
      "4 2014-07-08 00:48… 606104 3.1.0     x86_64 linu… Hmisc   3.14-4  US          3\n",
      "5 2014-07-08 00:46…  79825 3.0.2     x86_64 linu… digest  0.6.4   CA          4\n",
      "6 2014-07-08 00:48…  77681 3.1.0     x86_64 linu… random… 4.6-7   US          3\n"
     ]
    }
   ],
   "source": [
    "by_package <- group_by(cran, package)\n",
    "print(head(by_package))"
   ]
  },
  {
   "cell_type": "markdown",
   "metadata": {},
   "source": [
    "Ở dòng trên cùng, ta thấy \"Groups: package\" cho chúng ta biết tbl này đã được gom nhóm theo thuộc tính package. Các phép toán áp dụng sau này của chúng ta sẽ tác động lên từng nhóm đã gom được này.\n",
    "\n",
    "Khi áp dụng hàm mean(size) tlb_df thông qua hàm summarize(). Ta nhận được một giá trị mean duy nhất thể hiện giá trị trung bình của cột thuộc tính này. Nhưng nếu ta muốn biết giá trị download trung bình của từng package thì sao.\n"
   ]
  },
  {
   "cell_type": "code",
   "execution_count": 4,
   "metadata": {},
   "outputs": [
    {
     "data": {
      "text/html": [
       "<table>\n",
       "<thead><tr><th scope=col>package</th><th scope=col>mean(size)</th></tr></thead>\n",
       "<tbody>\n",
       "\t<tr><td>A3         </td><td>62194.96   </td></tr>\n",
       "\t<tr><td>ABCExtremes</td><td>22904.33   </td></tr>\n",
       "\t<tr><td>ABCoptim   </td><td>17807.25   </td></tr>\n",
       "\t<tr><td>ABCp2      </td><td>30473.33   </td></tr>\n",
       "\t<tr><td>ACCLMA     </td><td>33375.53   </td></tr>\n",
       "\t<tr><td>ACD        </td><td>99055.29   </td></tr>\n",
       "</tbody>\n",
       "</table>\n"
      ],
      "text/latex": [
       "\\begin{tabular}{r|ll}\n",
       " package & mean(size)\\\\\n",
       "\\hline\n",
       "\t A3          & 62194.96   \\\\\n",
       "\t ABCExtremes & 22904.33   \\\\\n",
       "\t ABCoptim    & 17807.25   \\\\\n",
       "\t ABCp2       & 30473.33   \\\\\n",
       "\t ACCLMA      & 33375.53   \\\\\n",
       "\t ACD         & 99055.29   \\\\\n",
       "\\end{tabular}\n"
      ],
      "text/markdown": [
       "\n",
       "package | mean(size) | \n",
       "|---|---|---|---|---|---|\n",
       "| A3          | 62194.96    | \n",
       "| ABCExtremes | 22904.33    | \n",
       "| ABCoptim    | 17807.25    | \n",
       "| ABCp2       | 30473.33    | \n",
       "| ACCLMA      | 33375.53    | \n",
       "| ACD         | 99055.29    | \n",
       "\n",
       "\n"
      ],
      "text/plain": [
       "  package     mean(size)\n",
       "1 A3          62194.96  \n",
       "2 ABCExtremes 22904.33  \n",
       "3 ABCoptim    17807.25  \n",
       "4 ABCp2       30473.33  \n",
       "5 ACCLMA      33375.53  \n",
       "6 ACD         99055.29  "
      ]
     },
     "metadata": {},
     "output_type": "display_data"
    }
   ],
   "source": [
    "head(summarize(by_package, mean(size)))"
   ]
  },
  {
   "cell_type": "markdown",
   "metadata": {},
   "source": [
    "Thay vì trả về một giá trị, hàm summarize() bây giờ trả về giá trị download trung bình của từng package mà chúng ta đã gom nhóm trước đó. Ta phân tích dòng lệnh sau:\n"
   ]
  },
  {
   "cell_type": "code",
   "execution_count": 5,
   "metadata": {},
   "outputs": [],
   "source": [
    "pack_sum <- summarize(by_package,\n",
    "                      count = n(),\n",
    "                      unique = n_distinct(ip_id),\n",
    "                      countries = n_distinct(country),\n",
    "                      avg_bytes = mean(size))"
   ]
  },
  {
   "cell_type": "code",
   "execution_count": 6,
   "metadata": {},
   "outputs": [
    {
     "data": {
      "text/html": [
       "<table>\n",
       "<thead><tr><th scope=col>package</th><th scope=col>count</th><th scope=col>unique</th><th scope=col>countries</th><th scope=col>avg_bytes</th></tr></thead>\n",
       "<tbody>\n",
       "\t<tr><td>A3         </td><td>25         </td><td>24         </td><td>10         </td><td>62194.96   </td></tr>\n",
       "\t<tr><td>ABCExtremes</td><td>18         </td><td>17         </td><td> 9         </td><td>22904.33   </td></tr>\n",
       "\t<tr><td>ABCoptim   </td><td>16         </td><td>15         </td><td> 9         </td><td>17807.25   </td></tr>\n",
       "\t<tr><td>ABCp2      </td><td>18         </td><td>17         </td><td>10         </td><td>30473.33   </td></tr>\n",
       "\t<tr><td>ACCLMA     </td><td>15         </td><td>14         </td><td> 9         </td><td>33375.53   </td></tr>\n",
       "\t<tr><td>ACD        </td><td>17         </td><td>16         </td><td>10         </td><td>99055.29   </td></tr>\n",
       "</tbody>\n",
       "</table>\n"
      ],
      "text/latex": [
       "\\begin{tabular}{r|lllll}\n",
       " package & count & unique & countries & avg\\_bytes\\\\\n",
       "\\hline\n",
       "\t A3          & 25          & 24          & 10          & 62194.96   \\\\\n",
       "\t ABCExtremes & 18          & 17          &  9          & 22904.33   \\\\\n",
       "\t ABCoptim    & 16          & 15          &  9          & 17807.25   \\\\\n",
       "\t ABCp2       & 18          & 17          & 10          & 30473.33   \\\\\n",
       "\t ACCLMA      & 15          & 14          &  9          & 33375.53   \\\\\n",
       "\t ACD         & 17          & 16          & 10          & 99055.29   \\\\\n",
       "\\end{tabular}\n"
      ],
      "text/markdown": [
       "\n",
       "package | count | unique | countries | avg_bytes | \n",
       "|---|---|---|---|---|---|\n",
       "| A3          | 25          | 24          | 10          | 62194.96    | \n",
       "| ABCExtremes | 18          | 17          |  9          | 22904.33    | \n",
       "| ABCoptim    | 16          | 15          |  9          | 17807.25    | \n",
       "| ABCp2       | 18          | 17          | 10          | 30473.33    | \n",
       "| ACCLMA      | 15          | 14          |  9          | 33375.53    | \n",
       "| ACD         | 17          | 16          | 10          | 99055.29    | \n",
       "\n",
       "\n"
      ],
      "text/plain": [
       "  package     count unique countries avg_bytes\n",
       "1 A3          25    24     10        62194.96 \n",
       "2 ABCExtremes 18    17      9        22904.33 \n",
       "3 ABCoptim    16    15      9        17807.25 \n",
       "4 ABCp2       18    17     10        30473.33 \n",
       "5 ACCLMA      15    14      9        33375.53 \n",
       "6 ACD         17    16     10        99055.29 "
      ]
     },
     "metadata": {},
     "output_type": "display_data"
    }
   ],
   "source": [
    "# in pack_sum ra màn hình\n",
    "head(pack_sum)"
   ]
  },
  {
   "cell_type": "markdown",
   "metadata": {},
   "source": [
    "Cột thuộc tính 'count' được tạo ra bởi hàm n(), chứa số lượng downloads của từng package. Cột thuộc tính 'unique' được tạo bởi hàm n_distinct(ip_id), chứa số lượng download từ địa chỉ ip người dùng. Cột thuộc tính 'countries' được tạo bởi hàm n_distinct(country), chứa số lượng các quốc gia download package này. Cuối cùng là cột thuộc tính 'avg_bytes' được tạo bởi hàm mean(size), chứa giá trị download trung bình của từng package.\n",
    "\n",
    "Điều quan trọng là ta hiểu được ý nghĩa của từng cột thuộc tính của pack_sum và chúng được tạo ra như thế nào. Bây giờ chúng ta đã biết cách summarize() dữ liệu cho từng nhóm package. Tiếp theo, chúng ta thử làm một vài ví dụ khác để ôn lại những gì đã học.\n",
    "\n",
    "Một cách tự nhiên, chúng ta sẽ muốn biết những package nào phổ biến nhất. Chúng ta bắt đầu bằng việc tách ra top 1% nhóm các package có số lượng download nhiều nhất dựa trên cột thuộc tính \"count\". Ta sẽ dùng bách phân vị 99% (quartile) để xác định giá trị của nhóm 99%. Từ đó, ta sẽ biết được ngưỡng để lấy 1% nhóm còn lại.\n"
   ]
  },
  {
   "cell_type": "code",
   "execution_count": 7,
   "metadata": {},
   "outputs": [
    {
     "data": {
      "text/html": [
       "<strong>99%:</strong> 679.559999999999"
      ],
      "text/latex": [
       "\\textbf{99\\textbackslash{}\\%:} 679.559999999999"
      ],
      "text/markdown": [
       "**99%:** 679.559999999999"
      ],
      "text/plain": [
       "   99% \n",
       "679.56 "
      ]
     },
     "metadata": {},
     "output_type": "display_data"
    }
   ],
   "source": [
    "quantile(pack_sum$count, probs = 0.99)"
   ]
  },
  {
   "cell_type": "markdown",
   "metadata": {},
   "source": [
    "Bây giờ, ta sẽ dùng ngưỡng 679 để tách ra nhóm 1%. Sử dụng hàm filter() giúp chọn ra các dòng dữ liệu có 'count' lớn hơn 679. Sau đó, lưu kết quả này vào biến top_counts.\n"
   ]
  },
  {
   "cell_type": "code",
   "execution_count": 8,
   "metadata": {},
   "outputs": [
    {
     "name": "stdout",
     "output_type": "stream",
     "text": [
      "# A tibble: 61 x 5\n",
      "   package      count unique countries avg_bytes\n",
      "   <chr>        <int>  <int>     <int>     <dbl>\n",
      " 1 DBI           2599    492        48   206933.\n",
      " 2 Formula        852    777        65   155742.\n",
      " 3 Hmisc          954    812        69  1367676.\n",
      " 4 LPCM          2335     17        10   526814.\n",
      " 5 MASS           834    698        66   981152.\n",
      " 6 Matrix         932    801        66  3220134.\n",
      " 7 RColorBrewer  1890   1584        79    22764.\n",
      " 8 RCurl         1504   1207        73  1903505.\n",
      " 9 RJDBC          809    107        28    18715.\n",
      "10 RJSONIO        751    585        60  1208104.\n",
      "# ... with 51 more rows\n"
     ]
    }
   ],
   "source": [
    "top_counts <- filter(pack_sum, count > 679)\n",
    "print(top_counts)"
   ]
  },
  {
   "cell_type": "markdown",
   "metadata": {},
   "source": [
    "Chỉ có 61 package trong top 1% vì vậy ta muốn xem toàn bộ kết quả. Trong khi dplyr chỉ cho chúng ta xem 10 dòng dữ liệu đầu tiên, chúng ta có thể dùng hàm View() để xem toàn bộ dữ liệu.\n",
    "\n",
    "Chúng ta muốn các package có giá trị cao nhất xuất hiện đầu bảng, nghĩa là chúng ta sẽ sắp xếp giảm dần cột thuộc tính count."
   ]
  },
  {
   "cell_type": "code",
   "execution_count": 9,
   "metadata": {},
   "outputs": [
    {
     "name": "stdout",
     "output_type": "stream",
     "text": [
      "# A tibble: 61 x 5\n",
      "   package  count unique countries avg_bytes\n",
      "   <chr>    <int>  <int>     <int>     <dbl>\n",
      " 1 ggplot2   4602   1680        81  2427716.\n",
      " 2 Rcpp      3195   2044        84  2512100.\n",
      " 3 plyr      2908   1754        81   799123.\n",
      " 4 rJava     2773    963        70   633522.\n",
      " 5 DBI       2599    492        48   206933.\n",
      " 6 LPCM      2335     17        10   526814.\n",
      " 7 stringr   2267   1948        82    65277.\n",
      " 8 digest    2210   1894        83   120549.\n",
      " 9 reshape2  2032   1652        76   330128.\n",
      "10 foreach   1984    485        53   358070.\n",
      "# ... with 51 more rows\n"
     ]
    }
   ],
   "source": [
    "top_counts_sorted <- arrange(top_counts, desc(count))\n",
    "print(top_counts_sorted)"
   ]
  },
  {
   "cell_type": "markdown",
   "metadata": {},
   "source": [
    "Theo kết quả thống kê trên, ta thấy dẫn đầu là package ggplot2 với 4602 lượt download, theo đó là Rcpp, plyr, rJava, ... Cuối cùng ta thấy swirl package đứng thứ 43 với 820 lượt download. Thật thú vị.\n",
    "<h2>Kĩ thuật chaining</h2>\n",
    "Kĩ thuật chaining cho phép chúng ta gọi các hàm nối tiếp nhau nhờ vậy mà code của chúng ta dễ đọc hơn trong khi vẫn cho ra cùng kết quả ban đầu. Cụ thể, ta sẽ tính toán lại các thao tác trên với kĩ thuật chaining.\n"
   ]
  },
  {
   "cell_type": "code",
   "execution_count": 10,
   "metadata": {},
   "outputs": [
    {
     "data": {
      "text/html": [
       "<table>\n",
       "<thead><tr><th scope=col>package</th><th scope=col>count</th><th scope=col>unique</th><th scope=col>countries</th><th scope=col>avg_bytes</th></tr></thead>\n",
       "<tbody>\n",
       "\t<tr><td>ggplot2  </td><td>4602     </td><td>1680     </td><td>81       </td><td>2427716.1</td></tr>\n",
       "\t<tr><td>Rcpp     </td><td>3195     </td><td>2044     </td><td>84       </td><td>2512100.4</td></tr>\n",
       "\t<tr><td>plyr     </td><td>2908     </td><td>1754     </td><td>81       </td><td> 799122.8</td></tr>\n",
       "\t<tr><td>rJava    </td><td>2773     </td><td> 963     </td><td>70       </td><td> 633522.3</td></tr>\n",
       "\t<tr><td>DBI      </td><td>2599     </td><td> 492     </td><td>48       </td><td> 206933.3</td></tr>\n",
       "\t<tr><td>LPCM     </td><td>2335     </td><td>  17     </td><td>10       </td><td> 526814.2</td></tr>\n",
       "</tbody>\n",
       "</table>\n"
      ],
      "text/latex": [
       "\\begin{tabular}{r|lllll}\n",
       " package & count & unique & countries & avg\\_bytes\\\\\n",
       "\\hline\n",
       "\t ggplot2   & 4602      & 1680      & 81        & 2427716.1\\\\\n",
       "\t Rcpp      & 3195      & 2044      & 84        & 2512100.4\\\\\n",
       "\t plyr      & 2908      & 1754      & 81        &  799122.8\\\\\n",
       "\t rJava     & 2773      &  963      & 70        &  633522.3\\\\\n",
       "\t DBI       & 2599      &  492      & 48        &  206933.3\\\\\n",
       "\t LPCM      & 2335      &   17      & 10        &  526814.2\\\\\n",
       "\\end{tabular}\n"
      ],
      "text/markdown": [
       "\n",
       "package | count | unique | countries | avg_bytes | \n",
       "|---|---|---|---|---|---|\n",
       "| ggplot2   | 4602      | 1680      | 81        | 2427716.1 | \n",
       "| Rcpp      | 3195      | 2044      | 84        | 2512100.4 | \n",
       "| plyr      | 2908      | 1754      | 81        |  799122.8 | \n",
       "| rJava     | 2773      |  963      | 70        |  633522.3 | \n",
       "| DBI       | 2599      |  492      | 48        |  206933.3 | \n",
       "| LPCM      | 2335      |   17      | 10        |  526814.2 | \n",
       "\n",
       "\n"
      ],
      "text/plain": [
       "  package count unique countries avg_bytes\n",
       "1 ggplot2 4602  1680   81        2427716.1\n",
       "2 Rcpp    3195  2044   84        2512100.4\n",
       "3 plyr    2908  1754   81         799122.8\n",
       "4 rJava   2773   963   70         633522.3\n",
       "5 DBI     2599   492   48         206933.3\n",
       "6 LPCM    2335    17   10         526814.2"
      ]
     },
     "metadata": {},
     "output_type": "display_data"
    }
   ],
   "source": [
    "cran %>%\n",
    "group_by(package) %>%\n",
    "summarize(count = n(),\n",
    "        unique = n_distinct(ip_id),\n",
    "        countries = n_distinct(country),\n",
    "        avg_bytes = mean(size)\n",
    ") %>%\n",
    "filter(count > 679) %>%\n",
    "arrange(desc(count)) %>%\n",
    "head"
   ]
  },
  {
   "cell_type": "markdown",
   "metadata": {},
   "source": [
    "Qua bài viết này, ta đã học được cách gom nhóm và sử dụng kĩ thuật chaining với dplyr. Kết hợp với những gì đã học ở phần trước ta đã có thêm các công cụ mạnh mẽ, chính xác, và hiệu quả. Chào mừng đến với thế giới của dplyr.\n",
    "\n",
    "<strong>Nguồn tham khảo:</strong> <a href=\"http://swirlstats.com/\" target=\"_blank\" rel=\"noopener\">http://swirlstats.com/</a>"
   ]
  }
 ],
 "metadata": {
  "kernelspec": {
   "display_name": "R",
   "language": "R",
   "name": "ir"
  },
  "language_info": {
   "codemirror_mode": "r",
   "file_extension": ".r",
   "mimetype": "text/x-r-source",
   "name": "R",
   "pygments_lexer": "r",
   "version": "3.4.4"
  }
 },
 "nbformat": 4,
 "nbformat_minor": 2
}
