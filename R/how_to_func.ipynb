{
 "cells": [
  {
   "cell_type": "markdown",
   "metadata": {},
   "source": [
    "Chúng ta hãy thử một vài hàm cơ bản cho vui. Hàm Sys.Date() trả về thông tin thời gian và ngày hiện tại của hệ thống."
   ]
  },
  {
   "cell_type": "code",
   "execution_count": 1,
   "metadata": {},
   "outputs": [
    {
     "data": {
      "text/html": [
       "<time datetime=\"2018-04-17\">2018-04-17</time>"
      ],
      "text/latex": [
       "2018-04-17"
      ],
      "text/markdown": [
       "2018-04-17"
      ],
      "text/plain": [
       "[1] \"2018-04-17\""
      ]
     },
     "metadata": {},
     "output_type": "display_data"
    }
   ],
   "source": [
    "Sys.Date()"
   ]
  },
  {
   "cell_type": "markdown",
   "metadata": {},
   "source": [
    "Hầu hết các hàm trong R đều trả về một giá trị. Giống như hàm Sys.Date() sẽ trả về một giá trị dựa trên hệ thống hiện tại. Trong khi đó, cũng có những hàm biến đổi dữ liệu đầu vào và trả về kết quả tính toán trên dữ liệu đó. Ví dụ hàm mean() sẽ lấy numeric vector đầu vào, và trả về giá trị trung bình của các phần tử trong vector đó. Đầu vào của hàm thường được gọi là đối số (arguments/parameters). Đưa đối số vào một hàm còn gọi là truyền đối số vào hàm đó. Đối số bạn muốn truyền vào hàm được đặt trong dấu ngoặc đơn. Ta xem hàm mean dưới đây nhận vào đối số là vector c(2, 4, 5) và trả về giá trị trung bình của vector đó."
   ]
  },
  {
   "cell_type": "code",
   "execution_count": 2,
   "metadata": {},
   "outputs": [
    {
     "data": {
      "text/html": [
       "3.66666666666667"
      ],
      "text/latex": [
       "3.66666666666667"
      ],
      "text/markdown": [
       "3.66666666666667"
      ],
      "text/plain": [
       "[1] 3.666667"
      ]
     },
     "metadata": {},
     "output_type": "display_data"
    }
   ],
   "source": [
    "mean(c(2, 4, 5))"
   ]
  },
  {
   "cell_type": "markdown",
   "metadata": {},
   "source": [
    "Ví dụ tiếp theo sẽ hướng dẫn bạn viết một hàm đơn giản boring_fuction. Hàm này nhận đối số đầu vào là biến x và trả ra kết quả cũng chính là biến x này."
   ]
  },
  {
   "cell_type": "code",
   "execution_count": 3,
   "metadata": {},
   "outputs": [],
   "source": [
    "# định nghĩa hàm boring_fucntion\n",
    "boring_function <- function(x) {\n",
    "   x\n",
    "}"
   ]
  },
  {
   "cell_type": "code",
   "execution_count": 4,
   "metadata": {},
   "outputs": [
    {
     "data": {
      "text/html": [
       "'My first function!'"
      ],
      "text/latex": [
       "'My first function!'"
      ],
      "text/markdown": [
       "'My first function!'"
      ],
      "text/plain": [
       "[1] \"My first function!\""
      ]
     },
     "metadata": {},
     "output_type": "display_data"
    }
   ],
   "source": [
    "# kiểm tra hàm boring_function\n",
    "boring_function('My first function!')"
   ]
  },
  {
   "cell_type": "markdown",
   "metadata": {},
   "source": [
    "Xin chúc mừng, bạn đã viết được một hàm đầu tiên. Khi viết các hàm, bạn sẽ hiểu rõ hơn cách mà R hoạt động. Như John Chambers, người sáng chế ra R có nói \"To understand computations in R, two slogans are helpful: 1: Everything that exists is an object. 2. Everything that happens is a function call.\"\n",
    "\n",
    "Nếu bạn muốn xem source code của bất kỳ hàm nào, chỉ cần nhập tên của hàm đó và nhấn Enter.\n"
   ]
  },
  {
   "cell_type": "code",
   "execution_count": 5,
   "metadata": {},
   "outputs": [
    {
     "data": {
      "text/html": [
       "<pre class=language-r><code>function (x) \n",
       "{\n",
       "<span style=white-space:pre-wrap>    x</span>\n",
       "}</code></pre>"
      ],
      "text/latex": [
       "\\begin{minted}{r}\n",
       "function (x) \n",
       "\\{\n",
       "    x\n",
       "\\}\n",
       "\\end{minted}"
      ],
      "text/markdown": [
       "```r\n",
       "function (x) \n",
       "{\n",
       "    x\n",
       "}\n",
       "```"
      ],
      "text/plain": [
       "function(x) {\n",
       "   x\n",
       "}"
      ]
     },
     "metadata": {},
     "output_type": "display_data"
    }
   ],
   "source": [
    "boring_function"
   ]
  },
  {
   "cell_type": "markdown",
   "metadata": {},
   "source": [
    "Tiếp theo ta sẽ thử viết hàm có các đối số mặc định. Bạn có thể gán giá trị mặc định cho các đối số đầu vào của mình."
   ]
  },
  {
   "cell_type": "code",
   "execution_count": 6,
   "metadata": {},
   "outputs": [],
   "source": [
    "remainder <- function(num, divisor = 2) {\n",
    "   num %% divisor\n",
    "}"
   ]
  },
  {
   "cell_type": "code",
   "execution_count": 7,
   "metadata": {},
   "outputs": [
    {
     "data": {
      "text/html": [
       "1"
      ],
      "text/latex": [
       "1"
      ],
      "text/markdown": [
       "1"
      ],
      "text/plain": [
       "[1] 1"
      ]
     },
     "metadata": {},
     "output_type": "display_data"
    }
   ],
   "source": [
    "# kiểm tra hàm remainder\n",
    "remainder(5)"
   ]
  },
  {
   "cell_type": "markdown",
   "metadata": {},
   "source": [
    "Qua ví dụ trên, ta thấy mặc dù chúng ta không truyền cho hàm remainder đối số thứ hai là divisor nhưng do mặc định divisor là 2 nên ta vẫn lấy được kết quả trả về 1. Ngoài ra, bạn còn có thể chỉ định tường minh tên của các đối số cho hàm. Do bạn đã đặt tên cho các đối số đầu vào nên thứ tự của các đối số không còn quan trọng nữa nếu bạn nhập tên của đối số:"
   ]
  },
  {
   "cell_type": "code",
   "execution_count": 8,
   "metadata": {},
   "outputs": [
    {
     "data": {
      "text/html": [
       "1"
      ],
      "text/latex": [
       "1"
      ],
      "text/markdown": [
       "1"
      ],
      "text/plain": [
       "[1] 1"
      ]
     },
     "metadata": {},
     "output_type": "display_data"
    }
   ],
   "source": [
    "remainder(11, 5)"
   ]
  },
  {
   "cell_type": "code",
   "execution_count": 9,
   "metadata": {},
   "outputs": [
    {
     "data": {
      "text/html": [
       "5"
      ],
      "text/latex": [
       "5"
      ],
      "text/markdown": [
       "5"
      ],
      "text/plain": [
       "[1] 5"
      ]
     },
     "metadata": {},
     "output_type": "display_data"
    }
   ],
   "source": [
    "remainder(divisor = 11, num = 5)"
   ]
  },
  {
   "cell_type": "code",
   "execution_count": 10,
   "metadata": {},
   "outputs": [
    {
     "data": {
      "text/html": [
       "0"
      ],
      "text/latex": [
       "0"
      ],
      "text/markdown": [
       "0"
      ],
      "text/plain": [
       "[1] 0"
      ]
     },
     "metadata": {},
     "output_type": "display_data"
    }
   ],
   "source": [
    "remainder(4, div = 2)"
   ]
  },
  {
   "cell_type": "markdown",
   "metadata": {},
   "source": [
    "Như các bạn có thể thấy, có một sự khác biệt rõ ràng giữa remainder(11, 5) và remainder(divisor = 11, num = 5). Hơn nữa, R còn cho phép chúng ta nhập một phần tên của đối số. Ví dụ, bạn chỉ nhập \"div = 2\", R tự động hiểu \"div\" ở đây là viết tắt của \"divisor\".\n",
    "\n",
    "Lưu ý rằng bạn nên viết code sao cho dễ hiểu. Việc thay đổi thứ tự các đối số đầu vào bằng tên của chúng hay viết một phần tên của các đối số có thể gây nhầm lẫn, do đó chúng ta sử dụng đặc tính này của R một cách cẩn thận.\n",
    "\n",
    "Ta đã nói nhiều về đối số, vậy nếu bạn muốn liệt kê tất cả các đối số thì sao? Dưới đây bạn có thể sử dụng hàm args() để xem các đối số của hàm remainder().\n"
   ]
  },
  {
   "cell_type": "code",
   "execution_count": 11,
   "metadata": {},
   "outputs": [
    {
     "data": {
      "text/html": [
       "<pre class=language-r><code>function (num, divisor = 2) \n",
       "NULL</code></pre>"
      ],
      "text/latex": [
       "\\begin{minted}{r}\n",
       "function (num, divisor = 2) \n",
       "NULL\n",
       "\\end{minted}"
      ],
      "text/markdown": [
       "```r\n",
       "function (num, divisor = 2) \n",
       "NULL\n",
       "```"
      ],
      "text/plain": [
       "function (num, divisor = 2) \n",
       "NULL"
      ]
     },
     "metadata": {},
     "output_type": "display_data"
    }
   ],
   "source": [
    "args(remainder)"
   ]
  },
  {
   "cell_type": "markdown",
   "metadata": {},
   "source": [
    "Ngoài các đối số là các kiểu dữ liệu, ta còn có thể truyền vào đối số là một hàm. Ví dụ hàm evaluate sau:"
   ]
  },
  {
   "cell_type": "code",
   "execution_count": 12,
   "metadata": {},
   "outputs": [],
   "source": [
    "evaluate <- function(func, dat){\n",
    "  func(dat)\n",
    "}"
   ]
  },
  {
   "cell_type": "code",
   "execution_count": 13,
   "metadata": {},
   "outputs": [
    {
     "data": {
      "text/html": [
       "12"
      ],
      "text/latex": [
       "12"
      ],
      "text/markdown": [
       "12"
      ],
      "text/plain": [
       "[1] 12"
      ]
     },
     "metadata": {},
     "output_type": "display_data"
    }
   ],
   "source": [
    "# tính tổng của chuỗi số dựa vào hàm evaluate()\n",
    "evaluate(sum, c(2, 4, 6))"
   ]
  },
  {
   "cell_type": "code",
   "execution_count": 14,
   "metadata": {},
   "outputs": [
    {
     "data": {
      "text/html": [
       "9"
      ],
      "text/latex": [
       "9"
      ],
      "text/markdown": [
       "9"
      ],
      "text/plain": [
       "[1] 9"
      ]
     },
     "metadata": {},
     "output_type": "display_data"
    }
   ],
   "source": [
    "# tính trung vị của chuỗi số dựa vào hàm evaluate()\n",
    "evaluate(median, c(7, 40, 9))"
   ]
  },
  {
   "cell_type": "code",
   "execution_count": 15,
   "metadata": {},
   "outputs": [
    {
     "data": {
      "text/html": [
       "11"
      ],
      "text/latex": [
       "11"
      ],
      "text/markdown": [
       "11"
      ],
      "text/plain": [
       "[1] 11"
      ]
     },
     "metadata": {},
     "output_type": "display_data"
    }
   ],
   "source": [
    "# phép làm tròn xuống dựa vào hàm evaluate()\n",
    "evaluate(floor, 11.1)"
   ]
  },
  {
   "cell_type": "code",
   "execution_count": 16,
   "metadata": {},
   "outputs": [
    {
     "data": {
      "text/html": [
       "7"
      ],
      "text/latex": [
       "7"
      ],
      "text/markdown": [
       "7"
      ],
      "text/plain": [
       "[1] 7"
      ]
     },
     "metadata": {},
     "output_type": "display_data"
    }
   ],
   "source": [
    "# định nghĩa hàm inline cộng dồn giá trị hiện tại lên 1\n",
    "evaluate(function(x){x+1}, 6)"
   ]
  },
  {
   "cell_type": "markdown",
   "metadata": {},
   "source": [
    "Ý tưởng truyền vào một hàm làm đối số cho hàm khác là một khái niệm quan trọng trong lập trình. Có thể bạn sẽ ngạc nhiên khi biết rằng bạn có thể làm như vậy mà không cần chỉ định trước tên hàm dùng để tính toán. Các hàm không cần được đặt tên trước này được gọi là anonymous functions.\n",
    "\n",
    "Hàm dưới đây sẽ lấy danh sách các từ loại (Part of speech) từ đối số được biểu diễn bởi \"...\". Sau đó, ta sẽ truy xuất từng đối số dựa vào tên của các từ loại truyền vào và xuất ra câu có nghĩa. Toán tử \"...\" này cho phép truyền vào vô hạn các đối số.\n"
   ]
  },
  {
   "cell_type": "code",
   "execution_count": 17,
   "metadata": {},
   "outputs": [],
   "source": [
    "mad_libs <- function(...){\n",
    "  # Do your argument unpacking here!\n",
    "  args <- list(...)\n",
    "  place <- args[[\"place\"]]\n",
    "  adjective <- args[[\"adjective\"]]\n",
    "  noun <- args[[\"noun\"]]\n",
    "\n",
    "  paste(\"News from\", place, \"today where\", adjective, \"students took to the streets in protest of the new\", noun, \"being installed on campus.\")\n",
    "}"
   ]
  },
  {
   "cell_type": "code",
   "execution_count": 18,
   "metadata": {},
   "outputs": [
    {
     "data": {
      "text/html": [
       "'News from University today where interesting students took to the streets in protest of the new library being installed on campus.'"
      ],
      "text/latex": [
       "'News from University today where interesting students took to the streets in protest of the new library being installed on campus.'"
      ],
      "text/markdown": [
       "'News from University today where interesting students took to the streets in protest of the new library being installed on campus.'"
      ],
      "text/plain": [
       "[1] \"News from University today where interesting students took to the streets in protest of the new library being installed on campus.\""
      ]
     },
     "metadata": {},
     "output_type": "display_data"
    }
   ],
   "source": [
    "mad_libs(adjective = \"interesting\", place = \"University\", noun = \"library\")"
   ]
  },
  {
   "cell_type": "markdown",
   "metadata": {},
   "source": [
    "Có lẽ chúng ta đã quen thuộc với các phép toán cộng, trừ, nhân, chia trên số thực trong R. Để làm được như vậy ta dùng các toán tử +, -, *, /. Các toán tử này được gọi là các toán tử hai ngôi bởi vì chúng nhận vào hai đối số, đối số bên trái và đối số bên phải. Trong R, chúng ta có thể định nghĩa cho mình các toán tử hai ngôi riêng. Bạn hãy tham khảo đoạn code bên dưới:"
   ]
  },
  {
   "cell_type": "code",
   "execution_count": 19,
   "metadata": {},
   "outputs": [
    {
     "data": {
      "text/html": [
       "21"
      ],
      "text/latex": [
       "21"
      ],
      "text/markdown": [
       "21"
      ],
      "text/plain": [
       "[1] 21"
      ]
     },
     "metadata": {},
     "output_type": "display_data"
    }
   ],
   "source": [
    "\"%mult_add_one%\" <- function(left, right){ # Remember to add arguments!\n",
    "  left * right + 1\n",
    "}\n",
    "4 %mult_add_one% 5"
   ]
  },
  {
   "cell_type": "markdown",
   "metadata": {},
   "source": [
    "Hàm trên đơn giản lấy vào hai đối số left và right nhân với nhau sau đó cộng thêm một cho kết quả nhân ban đầu để có kết quả cuối cùng là 21 cho hai số 4 và 5.\n",
    "\n",
    "Chúng ta đã kết thúc bài học hôm nay. Chúc các bạn có thể viết được những hàm hữu ích cho dự án của mình.\n",
    "\n",
    "<strong>Nguồn tham khảo:</strong> <a href=\"http://swirlstats.com/\" target=\"_blank\" rel=\"noopener\">http://swirlstats.com/</a>"
   ]
  }
 ],
 "metadata": {
  "kernelspec": {
   "display_name": "R",
   "language": "R",
   "name": "ir"
  },
  "language_info": {
   "codemirror_mode": "r",
   "file_extension": ".r",
   "mimetype": "text/x-r-source",
   "name": "R",
   "pygments_lexer": "r",
   "version": "3.4.4"
  }
 },
 "nbformat": 4,
 "nbformat_minor": 2
}
