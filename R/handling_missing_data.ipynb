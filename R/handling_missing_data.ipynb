{
 "cells": [
  {
   "cell_type": "markdown",
   "metadata": {},
   "source": [
    "Bất kỳ các phép toán nào liên quan đến NA đều cho ra kết quả là NA. Để minh hoạ điều này, ta hãy tạo vector x sau:"
   ]
  },
  {
   "cell_type": "code",
   "execution_count": 1,
   "metadata": {},
   "outputs": [
    {
     "data": {
      "text/html": [
       "<ol class=list-inline>\n",
       "\t<li>44</li>\n",
       "\t<li>&lt;NA&gt;</li>\n",
       "\t<li>5</li>\n",
       "\t<li>&lt;NA&gt;</li>\n",
       "</ol>\n"
      ],
      "text/latex": [
       "\\begin{enumerate*}\n",
       "\\item 44\n",
       "\\item <NA>\n",
       "\\item 5\n",
       "\\item <NA>\n",
       "\\end{enumerate*}\n"
      ],
      "text/markdown": [
       "1. 44\n",
       "2. &lt;NA&gt;\n",
       "3. 5\n",
       "4. &lt;NA&gt;\n",
       "\n",
       "\n"
      ],
      "text/plain": [
       "[1] 44 NA  5 NA"
      ]
     },
     "metadata": {},
     "output_type": "display_data"
    }
   ],
   "source": [
    "x <- c(44, NA, 5, NA)\n",
    "x"
   ]
  },
  {
   "cell_type": "markdown",
   "metadata": {},
   "source": [
    "Bây giờ, thử nhân x với 3 ta sẽ có kết quả sau"
   ]
  },
  {
   "cell_type": "code",
   "execution_count": 2,
   "metadata": {},
   "outputs": [
    {
     "data": {
      "text/html": [
       "<ol class=list-inline>\n",
       "\t<li>132</li>\n",
       "\t<li>&lt;NA&gt;</li>\n",
       "\t<li>15</li>\n",
       "\t<li>&lt;NA&gt;</li>\n",
       "</ol>\n"
      ],
      "text/latex": [
       "\\begin{enumerate*}\n",
       "\\item 132\n",
       "\\item <NA>\n",
       "\\item 15\n",
       "\\item <NA>\n",
       "\\end{enumerate*}\n"
      ],
      "text/markdown": [
       "1. 132\n",
       "2. &lt;NA&gt;\n",
       "3. 15\n",
       "4. &lt;NA&gt;\n",
       "\n",
       "\n"
      ],
      "text/plain": [
       "[1] 132  NA  15  NA"
      ]
     },
     "metadata": {},
     "output_type": "display_data"
    }
   ],
   "source": [
    "x * 3"
   ]
  },
  {
   "cell_type": "markdown",
   "metadata": {},
   "source": [
    "Qua ví dụ trên, ta thấy kết quả nhân tương ứng với các giá trị NA đều trả về kết quả là NA. Để thêm phần thú vị, ta sẽ tạo một vector gồm 1000 phần tử được sinh bởi phân phối chuẩn (standard normal distribution) như sau:"
   ]
  },
  {
   "cell_type": "code",
   "execution_count": 3,
   "metadata": {},
   "outputs": [],
   "source": [
    "y <- rnorm(1000)"
   ]
  },
  {
   "cell_type": "markdown",
   "metadata": {},
   "source": [
    "Tiếp theo, ta tạo một vector chứa 1000 giá trị NA và gán vào biến z:"
   ]
  },
  {
   "cell_type": "code",
   "execution_count": 4,
   "metadata": {},
   "outputs": [],
   "source": [
    "z <- rep(NA, 1000)"
   ]
  },
  {
   "cell_type": "markdown",
   "metadata": {},
   "source": [
    "Cuối cùng, ta sẽ chọn ra 100 phần tử từ 2000 phần tử (kết hợp y và z) sao cho ta không biết được phân bố và số lượng của giá trị NA. Bằng cách chọn một cách ngẫu nhiên từ hàm sample():"
   ]
  },
  {
   "cell_type": "code",
   "execution_count": 5,
   "metadata": {},
   "outputs": [
    {
     "data": {
      "text/html": [
       "<pre class=language-r><code>function (x, size, replace = FALSE, prob = NULL) \n",
       "NULL</code></pre>"
      ],
      "text/latex": [
       "\\begin{minted}{r}\n",
       "function (x, size, replace = FALSE, prob = NULL) \n",
       "NULL\n",
       "\\end{minted}"
      ],
      "text/markdown": [
       "```r\n",
       "function (x, size, replace = FALSE, prob = NULL) \n",
       "NULL\n",
       "```"
      ],
      "text/plain": [
       "function (x, size, replace = FALSE, prob = NULL) \n",
       "NULL"
      ]
     },
     "metadata": {},
     "output_type": "display_data"
    }
   ],
   "source": [
    "args(sample)"
   ]
  },
  {
   "cell_type": "code",
   "execution_count": 6,
   "metadata": {},
   "outputs": [
    {
     "name": "stdout",
     "output_type": "stream",
     "text": [
      "  [1] -2.083647106 -0.445378985 -0.011393084 -1.076722894  0.538349712\n",
      "  [6] -0.057654646           NA           NA  0.933749889           NA\n",
      " [11]           NA           NA -0.526814602  1.701582514           NA\n",
      " [16] -0.542608321 -0.513676627  1.892596034           NA  0.602930049\n",
      " [21]           NA -0.012877185  0.708833211 -0.425411825           NA\n",
      " [26]           NA           NA           NA  1.344215998  1.207875487\n",
      " [31] -0.195725349           NA  0.428021754  0.085813241 -0.449472440\n",
      " [36]  0.684745369  2.440106471           NA  1.015057481 -0.240631422\n",
      " [41] -0.635707457 -0.009234594  0.520257018           NA  0.997417498\n",
      " [46]           NA -1.719903652 -1.123100540           NA -0.728068788\n",
      " [51] -0.076462164           NA -0.676099453  0.341293104 -0.442941386\n",
      " [56]           NA -0.629012823 -1.131284848           NA  0.694027296\n",
      " [61]           NA           NA -1.215768790           NA           NA\n",
      " [66] -0.842473992 -0.350197859           NA  1.334975641  3.810314736\n",
      " [71]           NA  1.517237514           NA           NA -0.678481104\n",
      " [76]  1.746590593  0.735911035 -0.633108834           NA -0.475632216\n",
      " [81]           NA           NA           NA           NA -0.480814880\n",
      " [86]           NA  0.147450235           NA           NA           NA\n",
      " [91]           NA           NA -1.474271311           NA -0.795672144\n",
      " [96]  1.226638043           NA           NA  0.165011269 -1.136686141\n"
     ]
    }
   ],
   "source": [
    "my_data <- sample(c(y, z), 100)\n",
    "print(my_data)"
   ]
  },
  {
   "cell_type": "markdown",
   "metadata": {},
   "source": [
    "Đầu tiên, chúng ta sẽ kiểm tra xem vị trí của các giá trị NA được phân bố như thế nào trong dữ liệu chúng ta vừa mới tạo. Sử dụng hàm is.na() cho phép chúng ta biết giá trị phần tử hiện tại có mang giá trị NA hay không."
   ]
  },
  {
   "cell_type": "code",
   "execution_count": 7,
   "metadata": {},
   "outputs": [
    {
     "name": "stdout",
     "output_type": "stream",
     "text": [
      "  [1] FALSE FALSE FALSE FALSE FALSE FALSE  TRUE  TRUE FALSE  TRUE  TRUE  TRUE\n",
      " [13] FALSE FALSE  TRUE FALSE FALSE FALSE  TRUE FALSE  TRUE FALSE FALSE FALSE\n",
      " [25]  TRUE  TRUE  TRUE  TRUE FALSE FALSE FALSE  TRUE FALSE FALSE FALSE FALSE\n",
      " [37] FALSE  TRUE FALSE FALSE FALSE FALSE FALSE  TRUE FALSE  TRUE FALSE FALSE\n",
      " [49]  TRUE FALSE FALSE  TRUE FALSE FALSE FALSE  TRUE FALSE FALSE  TRUE FALSE\n",
      " [61]  TRUE  TRUE FALSE  TRUE  TRUE FALSE FALSE  TRUE FALSE FALSE  TRUE FALSE\n",
      " [73]  TRUE  TRUE FALSE FALSE FALSE FALSE  TRUE FALSE  TRUE  TRUE  TRUE  TRUE\n",
      " [85] FALSE  TRUE FALSE  TRUE  TRUE  TRUE  TRUE  TRUE FALSE  TRUE FALSE FALSE\n",
      " [97]  TRUE  TRUE FALSE FALSE\n"
     ]
    }
   ],
   "source": [
    "my_na <- is.na(my_data)\n",
    "print(my_na)"
   ]
  },
  {
   "cell_type": "markdown",
   "metadata": {},
   "source": [
    "Những vị trí có giá trị là TRUE cho chúng ta biết phần tử mang giá trị NA tương ứng trong biến my_data. Ngược lại, những phần tử mang gái trị là FALSE tương ứng với các giá trị chọn được từ phân phối chuẩn y. Chúng ta sẽ không sử dụng toán tử `==` để kiểm tra từng phần tử trong my_data có mang giá trị NA hay không. Vì làm như vậy, chúng ta sẽ nhận được kết quả trả về là NA chứ không phải TRUE/FALSE như ở trên. Lý do, NA thật ra không phải là một gía trị cụ thể mà chỉ là cách thể hiện đây là chỗ mà đáng lẽ ra phải có giá trị. Do đó, toán tử logic không thể áp dụng được trong trường hợp này và R không có lựa chọn nào khác là trả về toàn bộ kết quả đều là NA có số lượng bằng với số lượng phần tử của my_data."
   ]
  },
  {
   "cell_type": "code",
   "execution_count": 8,
   "metadata": {},
   "outputs": [
    {
     "name": "stdout",
     "output_type": "stream",
     "text": [
      "  [1] NA NA NA NA NA NA NA NA NA NA NA NA NA NA NA NA NA NA NA NA NA NA NA NA NA\n",
      " [26] NA NA NA NA NA NA NA NA NA NA NA NA NA NA NA NA NA NA NA NA NA NA NA NA NA\n",
      " [51] NA NA NA NA NA NA NA NA NA NA NA NA NA NA NA NA NA NA NA NA NA NA NA NA NA\n",
      " [76] NA NA NA NA NA NA NA NA NA NA NA NA NA NA NA NA NA NA NA NA NA NA NA NA NA\n"
     ]
    }
   ],
   "source": [
    "print(my_data == NA)"
   ]
  },
  {
   "cell_type": "markdown",
   "metadata": {},
   "source": [
    "Trở lại bài toán của chúng ta. Hiện tại, chúng ta có vector my_na, có giá trị TRUE cho những phần tử NA và FALSE cho những phần tử mang giá trị numeric, chúng ta sẽ tính số lượng xuất hiện các giá trị NA này trong my_data. Kỹ thuật được sử dụng ở đây đó là bên trong R giá trị TRUE thật chất được xem như giá trị 1 và FALSE có giá trị 0. Vì vậy, nếu chúng ta tính tổng trên TRUE và FALSE, chúng ta sẽ có được tổng của các giá trị TRUE.\n"
   ]
  },
  {
   "cell_type": "code",
   "execution_count": 9,
   "metadata": {},
   "outputs": [
    {
     "data": {
      "text/html": [
       "42"
      ],
      "text/latex": [
       "42"
      ],
      "text/markdown": [
       "42"
      ],
      "text/plain": [
       "[1] 42"
      ]
     },
     "metadata": {},
     "output_type": "display_data"
    }
   ],
   "source": [
    "# số lượng các phần tử mang giá trị NA\n",
    "sum(my_na)"
   ]
  },
  {
   "cell_type": "markdown",
   "metadata": {},
   "source": [
    "Bây giờ, chúng ta đã hiểu được NA là gì. Tiếp theo ta hãy xem kiểu dữ liệu kế tiếp biểu diễn cho dữ liệu bị thiếu đó là NaN (not a number). Để trả về NaN, ta có thể thử chia 0 bởi 0 hay vô cùng (Inf) trừ cho vô cùng.\n"
   ]
  },
  {
   "cell_type": "code",
   "execution_count": 10,
   "metadata": {},
   "outputs": [
    {
     "data": {
      "text/html": [
       "NaN"
      ],
      "text/latex": [
       "NaN"
      ],
      "text/markdown": [
       "NaN"
      ],
      "text/plain": [
       "[1] NaN"
      ]
     },
     "metadata": {},
     "output_type": "display_data"
    }
   ],
   "source": [
    "0/0"
   ]
  },
  {
   "cell_type": "code",
   "execution_count": 11,
   "metadata": {},
   "outputs": [
    {
     "data": {
      "text/html": [
       "NaN"
      ],
      "text/latex": [
       "NaN"
      ],
      "text/markdown": [
       "NaN"
      ],
      "text/plain": [
       "[1] NaN"
      ]
     },
     "metadata": {},
     "output_type": "display_data"
    }
   ],
   "source": [
    "Inf - Inf"
   ]
  },
  {
   "cell_type": "markdown",
   "metadata": {},
   "source": [
    "Qua các ví dụ trên ta phần nào hiểu được khái niệm dữ liệu bị thiếu cũng như biết cách vận dụng để rút ra được tập dữ liệu toàn vẹn không chứa các giá trị NA hay NaN này.\n",
    "\n",
    "<strong>Nguồn tham khảo:</strong> <a href=\"http://swirlstats.com/\" target=\"_blank\" rel=\"noopener\">http://swirlstats.com/</a>"
   ]
  }
 ],
 "metadata": {
  "kernelspec": {
   "display_name": "R",
   "language": "R",
   "name": "ir"
  },
  "language_info": {
   "codemirror_mode": "r",
   "file_extension": ".r",
   "mimetype": "text/x-r-source",
   "name": "R",
   "pygments_lexer": "r",
   "version": "3.4.4"
  }
 },
 "nbformat": 4,
 "nbformat_minor": 2
}
