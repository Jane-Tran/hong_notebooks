{
 "cells": [
  {
   "cell_type": "markdown",
   "metadata": {},
   "source": [
    "<h2>Matrices</h2>\n",
    "Tạo một vector chứa các số từ 1 đến 20 bằng toán tử \":\". Lưu kết quả vào biến có tên my_vector."
   ]
  },
  {
   "cell_type": "code",
   "execution_count": 1,
   "metadata": {},
   "outputs": [
    {
     "name": "stdout",
     "output_type": "stream",
     "text": [
      " [1]  1  2  3  4  5  6  7  8  9 10 11 12 13 14 15 16 17 18 19 20\n"
     ]
    },
    {
     "data": {
      "text/html": [
       "20"
      ],
      "text/latex": [
       "20"
      ],
      "text/markdown": [
       "20"
      ],
      "text/plain": [
       "[1] 20"
      ]
     },
     "metadata": {},
     "output_type": "display_data"
    }
   ],
   "source": [
    "my_vector <- 1:20\n",
    "print(my_vector)\n",
    "\n",
    "# kiểm tra số phần tử của my_vector\n",
    "length(my_vector)"
   ]
  },
  {
   "cell_type": "markdown",
   "metadata": {},
   "source": [
    "Ta không thể dùng hàm dim(my_vector) để kiểm tra số chiều của my_vector vì my_vector không có thuộc tính dim, tuy nhiên ta có thể sử dụng hàm length() để kiểm tra số lượng phần tử. Nhưng nếu chúng ta muốn my_vector có thuộc tính dim() ta vẫn có thể làm như sau:"
   ]
  },
  {
   "cell_type": "code",
   "execution_count": 2,
   "metadata": {},
   "outputs": [],
   "source": [
    "# lưu ý 4 x 5 = 20 (số lượng phần tử của my_vector)\n",
    "dim(my_vector) <- c(4, 5)"
   ]
  },
  {
   "cell_type": "code",
   "execution_count": 3,
   "metadata": {},
   "outputs": [
    {
     "data": {
      "text/html": [
       "<ol class=list-inline>\n",
       "\t<li>4</li>\n",
       "\t<li>5</li>\n",
       "</ol>\n"
      ],
      "text/latex": [
       "\\begin{enumerate*}\n",
       "\\item 4\n",
       "\\item 5\n",
       "\\end{enumerate*}\n"
      ],
      "text/markdown": [
       "1. 4\n",
       "2. 5\n",
       "\n",
       "\n"
      ],
      "text/plain": [
       "[1] 4 5"
      ]
     },
     "metadata": {},
     "output_type": "display_data"
    }
   ],
   "source": [
    "# Khi đó, ta có thể truy xuất được thuộc tính dim() của my_vector\n",
    "dim(my_vector)"
   ]
  },
  {
   "cell_type": "code",
   "execution_count": 4,
   "metadata": {},
   "outputs": [
    {
     "data": {
      "text/html": [
       "<strong>$dim</strong> = <ol class=list-inline>\n",
       "\t<li>4</li>\n",
       "\t<li>5</li>\n",
       "</ol>\n"
      ],
      "text/latex": [
       "\\textbf{\\$dim} = \\begin{enumerate*}\n",
       "\\item 4\n",
       "\\item 5\n",
       "\\end{enumerate*}\n"
      ],
      "text/markdown": [
       "**$dim** = 1. 4\n",
       "2. 5\n",
       "\n",
       "\n"
      ],
      "text/plain": [
       "$dim\n",
       "[1] 4 5\n"
      ]
     },
     "metadata": {},
     "output_type": "display_data"
    }
   ],
   "source": [
    "attributes(my_vector)"
   ]
  },
  {
   "cell_type": "markdown",
   "metadata": {},
   "source": [
    "Khi thao tác trên dữ liệu 2-chiều (bảng dữ liệu hình chữ nhật), giá trị đầu tiên cho biết số dòng dữ liệu, giá trị thứ hai cho biết số cột dữ liệu. Do đó, my_vector có 4 dòng và 5 cột.\n",
    "\n",
    "Nhưng chờ đã. Có vẻ như my_vector không còn là một vector nữa. Vâng, không phải. Bây giờ nó là một ma trận (matrix). Ta có thể xem ma trận my_vector như thế nào:\n"
   ]
  },
  {
   "cell_type": "code",
   "execution_count": 5,
   "metadata": {},
   "outputs": [
    {
     "data": {
      "text/html": [
       "<table>\n",
       "<tbody>\n",
       "\t<tr><td>1 </td><td>5 </td><td> 9</td><td>13</td><td>17</td></tr>\n",
       "\t<tr><td>2 </td><td>6 </td><td>10</td><td>14</td><td>18</td></tr>\n",
       "\t<tr><td>3 </td><td>7 </td><td>11</td><td>15</td><td>19</td></tr>\n",
       "\t<tr><td>4 </td><td>8 </td><td>12</td><td>16</td><td>20</td></tr>\n",
       "</tbody>\n",
       "</table>\n"
      ],
      "text/latex": [
       "\\begin{tabular}{lllll}\n",
       "\t 1  & 5  &  9 & 13 & 17\\\\\n",
       "\t 2  & 6  & 10 & 14 & 18\\\\\n",
       "\t 3  & 7  & 11 & 15 & 19\\\\\n",
       "\t 4  & 8  & 12 & 16 & 20\\\\\n",
       "\\end{tabular}\n"
      ],
      "text/markdown": [
       "\n",
       "| 1  | 5  |  9 | 13 | 17 | \n",
       "| 2  | 6  | 10 | 14 | 18 | \n",
       "| 3  | 7  | 11 | 15 | 19 | \n",
       "| 4  | 8  | 12 | 16 | 20 | \n",
       "\n",
       "\n"
      ],
      "text/plain": [
       "     [,1] [,2] [,3] [,4] [,5]\n",
       "[1,] 1    5     9   13   17  \n",
       "[2,] 2    6    10   14   18  \n",
       "[3,] 3    7    11   15   19  \n",
       "[4,] 4    8    12   16   20  "
      ]
     },
     "metadata": {},
     "output_type": "display_data"
    }
   ],
   "source": [
    "my_vector"
   ]
  },
  {
   "cell_type": "code",
   "execution_count": 6,
   "metadata": {},
   "outputs": [
    {
     "data": {
      "text/html": [
       "'matrix'"
      ],
      "text/latex": [
       "'matrix'"
      ],
      "text/markdown": [
       "'matrix'"
      ],
      "text/plain": [
       "[1] \"matrix\""
      ]
     },
     "metadata": {},
     "output_type": "display_data"
    }
   ],
   "source": [
    "# kiểm tra kiểu dữ liệu của my_vector\n",
    "class(my_vector)"
   ]
  },
  {
   "cell_type": "code",
   "execution_count": 7,
   "metadata": {},
   "outputs": [],
   "source": [
    "# lưu vào biến mới để dễ hiểu hơn\n",
    "my_matrix <- my_vector"
   ]
  },
  {
   "cell_type": "markdown",
   "metadata": {},
   "source": [
    "Qua ví dụ trên ta có thể thấy một điều đó là ma trận chỉ đơn giản là một vector nhưng có thêm thuộc tính dim (số chiều dữ liệu). Tương tự, ta có thể tạo ra một matrix bằng cách sử dụng hàm matrix()."
   ]
  },
  {
   "cell_type": "code",
   "execution_count": 8,
   "metadata": {},
   "outputs": [
    {
     "data": {
      "text/html": [
       "<table>\n",
       "<tbody>\n",
       "\t<tr><td>1 </td><td>5 </td><td> 9</td><td>13</td><td>17</td></tr>\n",
       "\t<tr><td>2 </td><td>6 </td><td>10</td><td>14</td><td>18</td></tr>\n",
       "\t<tr><td>3 </td><td>7 </td><td>11</td><td>15</td><td>19</td></tr>\n",
       "\t<tr><td>4 </td><td>8 </td><td>12</td><td>16</td><td>20</td></tr>\n",
       "</tbody>\n",
       "</table>\n"
      ],
      "text/latex": [
       "\\begin{tabular}{lllll}\n",
       "\t 1  & 5  &  9 & 13 & 17\\\\\n",
       "\t 2  & 6  & 10 & 14 & 18\\\\\n",
       "\t 3  & 7  & 11 & 15 & 19\\\\\n",
       "\t 4  & 8  & 12 & 16 & 20\\\\\n",
       "\\end{tabular}\n"
      ],
      "text/markdown": [
       "\n",
       "| 1  | 5  |  9 | 13 | 17 | \n",
       "| 2  | 6  | 10 | 14 | 18 | \n",
       "| 3  | 7  | 11 | 15 | 19 | \n",
       "| 4  | 8  | 12 | 16 | 20 | \n",
       "\n",
       "\n"
      ],
      "text/plain": [
       "     [,1] [,2] [,3] [,4] [,5]\n",
       "[1,] 1    5     9   13   17  \n",
       "[2,] 2    6    10   14   18  \n",
       "[3,] 3    7    11   15   19  \n",
       "[4,] 4    8    12   16   20  "
      ]
     },
     "metadata": {},
     "output_type": "display_data"
    }
   ],
   "source": [
    "# tạo một ma trận gồm 4 dòng và 5 cột\n",
    "my_matrix2 <- matrix(1:20, nrow=4, ncol=5)\n",
    "my_matrix2"
   ]
  },
  {
   "cell_type": "code",
   "execution_count": 9,
   "metadata": {},
   "outputs": [
    {
     "data": {
      "text/html": [
       "TRUE"
      ],
      "text/latex": [
       "TRUE"
      ],
      "text/markdown": [
       "TRUE"
      ],
      "text/plain": [
       "[1] TRUE"
      ]
     },
     "metadata": {},
     "output_type": "display_data"
    }
   ],
   "source": [
    "# kiểm tra hai ma trận có đồng nhất\n",
    "identical(my_matrix, my_matrix2)"
   ]
  },
  {
   "cell_type": "markdown",
   "metadata": {},
   "source": [
    "Bây giờ, ta xem các giá trị trong bảng dữ liệu trên chứa thông tin một thí nghiệm lâm sàng. Trong đó, mỗi dòng thể hiện một bệnh nhân và mỗi cột thể hiện thông tin liên quan đến bệnh nhân đó. Ta sẽ đánh nhãn mỗi dòng dữ liệu tương ứng với tên của từng bệnh nhân. Để dễ quan sát, ta thêm một cột dữ liệu chứa tên của các bệnh nhân."
   ]
  },
  {
   "cell_type": "code",
   "execution_count": 10,
   "metadata": {},
   "outputs": [
    {
     "data": {
      "text/html": [
       "<ol class=list-inline>\n",
       "\t<li>'Bill'</li>\n",
       "\t<li>'Gina'</li>\n",
       "\t<li>'Kelly'</li>\n",
       "\t<li>'Sean'</li>\n",
       "</ol>\n"
      ],
      "text/latex": [
       "\\begin{enumerate*}\n",
       "\\item 'Bill'\n",
       "\\item 'Gina'\n",
       "\\item 'Kelly'\n",
       "\\item 'Sean'\n",
       "\\end{enumerate*}\n"
      ],
      "text/markdown": [
       "1. 'Bill'\n",
       "2. 'Gina'\n",
       "3. 'Kelly'\n",
       "4. 'Sean'\n",
       "\n",
       "\n"
      ],
      "text/plain": [
       "[1] \"Bill\"  \"Gina\"  \"Kelly\" \"Sean\" "
      ]
     },
     "metadata": {},
     "output_type": "display_data"
    }
   ],
   "source": [
    "# tạo danh sách tên các bệnh nhân\n",
    "patients <- c(\"Bill\", \"Gina\", \"Kelly\", \"Sean\")\n",
    "patients"
   ]
  },
  {
   "cell_type": "markdown",
   "metadata": {},
   "source": [
    "Bây giờ, ta dùng hàm cbind() để thêm cột vào bảng dữ liệu. Khi đó, ta sẽ có kết quả như sau:\n"
   ]
  },
  {
   "cell_type": "code",
   "execution_count": 11,
   "metadata": {},
   "outputs": [
    {
     "data": {
      "text/html": [
       "<pre class=language-r><code>function (..., deparse.level = 1) \n",
       "NULL</code></pre>"
      ],
      "text/latex": [
       "\\begin{minted}{r}\n",
       "function (..., deparse.level = 1) \n",
       "NULL\n",
       "\\end{minted}"
      ],
      "text/markdown": [
       "```r\n",
       "function (..., deparse.level = 1) \n",
       "NULL\n",
       "```"
      ],
      "text/plain": [
       "function (..., deparse.level = 1) \n",
       "NULL"
      ]
     },
     "metadata": {},
     "output_type": "display_data"
    }
   ],
   "source": [
    "args(cbind)"
   ]
  },
  {
   "cell_type": "code",
   "execution_count": 12,
   "metadata": {},
   "outputs": [
    {
     "name": "stdout",
     "output_type": "stream",
     "text": [
      "     patients                       \n",
      "[1,] \"Bill\"   \"1\" \"5\" \"9\"  \"13\" \"17\"\n",
      "[2,] \"Gina\"   \"2\" \"6\" \"10\" \"14\" \"18\"\n",
      "[3,] \"Kelly\"  \"3\" \"7\" \"11\" \"15\" \"19\"\n",
      "[4,] \"Sean\"   \"4\" \"8\" \"12\" \"16\" \"20\"\n"
     ]
    }
   ],
   "source": [
    "print(cbind(patients, my_matrix))"
   ]
  },
  {
   "cell_type": "markdown",
   "metadata": {},
   "source": [
    "Khi thêm cột dữ liệu mới ta thấy rằng các dữ liệu trong bảng đều bị ép kiểu sang kiểu character, được thể hiện bởi dấu nháy kép. Ta biết rằng matrices chỉ có thể chứa duy nhất một kiểu dữ liệu. Vì vậy, khi ta cố thêm một cột dữ liệu có kiểu là character thì R sẽ tự động ép kiểu (implicit coercion) my_matrix về character để dữ liệu bên trong matrix đều cùng thuộc một kiểu dữ liệu.\n",
    "\n",
    "Vậy, làm thế nào để khi thêm cột thuộc tính patients vào bảng dữ liệu ban đầu mà không làm thay đổi kiểu dữ liệu trước đó?\n",
    "<h2>Data frames</h2>\n",
    "Ta sử dụng data frame."
   ]
  },
  {
   "cell_type": "code",
   "execution_count": 13,
   "metadata": {},
   "outputs": [
    {
     "data": {
      "text/html": [
       "<table>\n",
       "<thead><tr><th scope=col>patients</th><th scope=col>X1</th><th scope=col>X2</th><th scope=col>X3</th><th scope=col>X4</th><th scope=col>X5</th></tr></thead>\n",
       "<tbody>\n",
       "\t<tr><td>Bill </td><td>1    </td><td>5    </td><td> 9   </td><td>13   </td><td>17   </td></tr>\n",
       "\t<tr><td>Gina </td><td>2    </td><td>6    </td><td>10   </td><td>14   </td><td>18   </td></tr>\n",
       "\t<tr><td>Kelly</td><td>3    </td><td>7    </td><td>11   </td><td>15   </td><td>19   </td></tr>\n",
       "\t<tr><td>Sean </td><td>4    </td><td>8    </td><td>12   </td><td>16   </td><td>20   </td></tr>\n",
       "</tbody>\n",
       "</table>\n"
      ],
      "text/latex": [
       "\\begin{tabular}{r|llllll}\n",
       " patients & X1 & X2 & X3 & X4 & X5\\\\\n",
       "\\hline\n",
       "\t Bill  & 1     & 5     &  9    & 13    & 17   \\\\\n",
       "\t Gina  & 2     & 6     & 10    & 14    & 18   \\\\\n",
       "\t Kelly & 3     & 7     & 11    & 15    & 19   \\\\\n",
       "\t Sean  & 4     & 8     & 12    & 16    & 20   \\\\\n",
       "\\end{tabular}\n"
      ],
      "text/markdown": [
       "\n",
       "patients | X1 | X2 | X3 | X4 | X5 | \n",
       "|---|---|---|---|\n",
       "| Bill  | 1     | 5     |  9    | 13    | 17    | \n",
       "| Gina  | 2     | 6     | 10    | 14    | 18    | \n",
       "| Kelly | 3     | 7     | 11    | 15    | 19    | \n",
       "| Sean  | 4     | 8     | 12    | 16    | 20    | \n",
       "\n",
       "\n"
      ],
      "text/plain": [
       "  patients X1 X2 X3 X4 X5\n",
       "1 Bill     1  5   9 13 17\n",
       "2 Gina     2  6  10 14 18\n",
       "3 Kelly    3  7  11 15 19\n",
       "4 Sean     4  8  12 16 20"
      ]
     },
     "metadata": {},
     "output_type": "display_data"
    }
   ],
   "source": [
    "my_data <- data.frame(patients, my_matrix)\n",
    "my_data"
   ]
  },
  {
   "cell_type": "code",
   "execution_count": 14,
   "metadata": {},
   "outputs": [
    {
     "data": {
      "text/html": [
       "'data.frame'"
      ],
      "text/latex": [
       "'data.frame'"
      ],
      "text/markdown": [
       "'data.frame'"
      ],
      "text/plain": [
       "[1] \"data.frame\""
      ]
     },
     "metadata": {},
     "output_type": "display_data"
    }
   ],
   "source": [
    "# kiểm tra kiểu dữ liệu của my_data\n",
    "class(my_data)"
   ]
  },
  {
   "cell_type": "markdown",
   "metadata": {},
   "source": [
    "Kế tiếp, ta thử gán tên cho các cột dữ liệu tương ứng với các nhãn sau:"
   ]
  },
  {
   "cell_type": "code",
   "execution_count": 15,
   "metadata": {},
   "outputs": [
    {
     "data": {
      "text/html": [
       "<table>\n",
       "<thead><tr><th scope=col>patient</th><th scope=col>age</th><th scope=col>weight</th><th scope=col>bp</th><th scope=col>rating</th><th scope=col>test</th></tr></thead>\n",
       "<tbody>\n",
       "\t<tr><td>Bill </td><td>1    </td><td>5    </td><td> 9   </td><td>13   </td><td>17   </td></tr>\n",
       "\t<tr><td>Gina </td><td>2    </td><td>6    </td><td>10   </td><td>14   </td><td>18   </td></tr>\n",
       "\t<tr><td>Kelly</td><td>3    </td><td>7    </td><td>11   </td><td>15   </td><td>19   </td></tr>\n",
       "\t<tr><td>Sean </td><td>4    </td><td>8    </td><td>12   </td><td>16   </td><td>20   </td></tr>\n",
       "</tbody>\n",
       "</table>\n"
      ],
      "text/latex": [
       "\\begin{tabular}{r|llllll}\n",
       " patient & age & weight & bp & rating & test\\\\\n",
       "\\hline\n",
       "\t Bill  & 1     & 5     &  9    & 13    & 17   \\\\\n",
       "\t Gina  & 2     & 6     & 10    & 14    & 18   \\\\\n",
       "\t Kelly & 3     & 7     & 11    & 15    & 19   \\\\\n",
       "\t Sean  & 4     & 8     & 12    & 16    & 20   \\\\\n",
       "\\end{tabular}\n"
      ],
      "text/markdown": [
       "\n",
       "patient | age | weight | bp | rating | test | \n",
       "|---|---|---|---|\n",
       "| Bill  | 1     | 5     |  9    | 13    | 17    | \n",
       "| Gina  | 2     | 6     | 10    | 14    | 18    | \n",
       "| Kelly | 3     | 7     | 11    | 15    | 19    | \n",
       "| Sean  | 4     | 8     | 12    | 16    | 20    | \n",
       "\n",
       "\n"
      ],
      "text/plain": [
       "  patient age weight bp rating test\n",
       "1 Bill    1   5       9 13     17  \n",
       "2 Gina    2   6      10 14     18  \n",
       "3 Kelly   3   7      11 15     19  \n",
       "4 Sean    4   8      12 16     20  "
      ]
     },
     "metadata": {},
     "output_type": "display_data"
    }
   ],
   "source": [
    "# danh sách tên các cột dữ liệu\n",
    "cnames <- c(\"patient\", \"age\", \"weight\", \"bp\", \"rating\", \"test\")\n",
    "\n",
    "# đặt tên cho các cột dữ liệu tương ứng\n",
    "colnames(my_data) <- cnames\n",
    "my_data"
   ]
  },
  {
   "cell_type": "markdown",
   "metadata": {},
   "source": [
    "Qua bài viết trên, chúng ta đã biết cách làm việc với hai kiểu dữ liệu quan trọng đó là matrices và data frames. Chúng ta sẽ tìm hiểu kĩ hơn về hai kiểu dữ liệu này ở các bài viết trong tương lai.\n",
    "\n",
    "<strong>Nguồn tham khảo:</strong> <a href=\"http://swirlstats.com/\" target=\"_blank\" rel=\"noopener\">http://swirlstats.com/</a>"
   ]
  }
 ],
 "metadata": {
  "kernelspec": {
   "display_name": "R",
   "language": "R",
   "name": "ir"
  },
  "language_info": {
   "codemirror_mode": "r",
   "file_extension": ".r",
   "mimetype": "text/x-r-source",
   "name": "R",
   "pygments_lexer": "r",
   "version": "3.4.4"
  }
 },
 "nbformat": 4,
 "nbformat_minor": 2
}
