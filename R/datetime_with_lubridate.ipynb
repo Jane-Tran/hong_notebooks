{
 "cells": [
  {
   "cell_type": "markdown",
   "metadata": {},
   "source": [
    "Chúng ta hãy bắt đầu bằng việc load lubridate vào không gian làm việc."
   ]
  },
  {
   "cell_type": "code",
   "execution_count": null,
   "metadata": {},
   "outputs": [],
   "source": [
    "# install.packages(\"lubridate\")\n",
    "# help(package = lubridate)\n",
    "library(lubridate)"
   ]
  },
  {
   "cell_type": "markdown",
   "metadata": {},
   "source": [
    "Hàm today() trả về ngày hiện tại. Chúng ta sẽ lưu nó vào biến this_day."
   ]
  },
  {
   "cell_type": "code",
   "execution_count": 2,
   "metadata": {},
   "outputs": [
    {
     "data": {
      "text/html": [
       "<pre class=language-r><code>function (tzone = \"\") \n",
       "NULL</code></pre>"
      ],
      "text/latex": [
       "\\begin{minted}{r}\n",
       "function (tzone = \"\") \n",
       "NULL\n",
       "\\end{minted}"
      ],
      "text/markdown": [
       "```r\n",
       "function (tzone = \"\") \n",
       "NULL\n",
       "```"
      ],
      "text/plain": [
       "function (tzone = \"\") \n",
       "NULL"
      ]
     },
     "metadata": {},
     "output_type": "display_data"
    }
   ],
   "source": [
    "args(today)"
   ]
  },
  {
   "cell_type": "code",
   "execution_count": 3,
   "metadata": {},
   "outputs": [
    {
     "data": {
      "text/html": [
       "<time datetime=\"2018-04-17\">2018-04-17</time>"
      ],
      "text/latex": [
       "2018-04-17"
      ],
      "text/markdown": [
       "2018-04-17"
      ],
      "text/plain": [
       "[1] \"2018-04-17\""
      ]
     },
     "metadata": {},
     "output_type": "display_data"
    }
   ],
   "source": [
    "this_day <- today()\n",
    "this_day"
   ]
  },
  {
   "cell_type": "markdown",
   "metadata": {},
   "source": [
    "Có ba thành phần trong biến this_date. Theo thứ tự năm, tháng, ngày. Chúng ta có thể rút trích thông tin này qua hàm year(), month(), day()."
   ]
  },
  {
   "cell_type": "code",
   "execution_count": 4,
   "metadata": {},
   "outputs": [
    {
     "data": {
      "text/html": [
       "4"
      ],
      "text/latex": [
       "4"
      ],
      "text/markdown": [
       "4"
      ],
      "text/plain": [
       "[1] 4"
      ]
     },
     "metadata": {},
     "output_type": "display_data"
    }
   ],
   "source": [
    "# lấy thông tin tháng\n",
    "month(this_day)"
   ]
  },
  {
   "cell_type": "code",
   "execution_count": 5,
   "metadata": {},
   "outputs": [
    {
     "data": {
      "text/html": [
       "3"
      ],
      "text/latex": [
       "3"
      ],
      "text/markdown": [
       "3"
      ],
      "text/plain": [
       "[1] 3"
      ]
     },
     "metadata": {},
     "output_type": "display_data"
    }
   ],
   "source": [
    "# lấy thông tin thứ\n",
    "wday(this_day)"
   ]
  },
  {
   "cell_type": "code",
   "execution_count": 6,
   "metadata": {},
   "outputs": [
    {
     "data": {
      "text/html": [
       "Tue\n",
       "<details>\n",
       "\t<summary style=display:list-item;cursor:pointer>\n",
       "\t\t<strong>Levels</strong>:\n",
       "\t</summary>\n",
       "\t<ol class=list-inline>\n",
       "\t\t<li>'Sun'</li>\n",
       "\t\t<li>'Mon'</li>\n",
       "\t\t<li>'Tue'</li>\n",
       "\t\t<li>'Wed'</li>\n",
       "\t\t<li>'Thu'</li>\n",
       "\t\t<li>'Fri'</li>\n",
       "\t\t<li>'Sat'</li>\n",
       "\t</ol>\n",
       "</details>"
      ],
      "text/latex": [
       "Tue\n",
       "\\emph{Levels}: \\begin{enumerate*}\n",
       "\\item 'Sun'\n",
       "\\item 'Mon'\n",
       "\\item 'Tue'\n",
       "\\item 'Wed'\n",
       "\\item 'Thu'\n",
       "\\item 'Fri'\n",
       "\\item 'Sat'\n",
       "\\end{enumerate*}\n"
      ],
      "text/markdown": [
       "Tue\n",
       "**Levels**: 1. 'Sun'\n",
       "2. 'Mon'\n",
       "3. 'Tue'\n",
       "4. 'Wed'\n",
       "5. 'Thu'\n",
       "6. 'Fri'\n",
       "7. 'Sat'\n",
       "\n",
       "\n"
      ],
      "text/plain": [
       "[1] Tue\n",
       "Levels: Sun < Mon < Tue < Wed < Thu < Fri < Sat"
      ]
     },
     "metadata": {},
     "output_type": "display_data"
    }
   ],
   "source": [
    "wday(this_day, label = TRUE)"
   ]
  },
  {
   "cell_type": "markdown",
   "metadata": {},
   "source": [
    "Ngoài ra, lubridate là thư viện tuyệt vời để làm việc với Ngày và Thời gian đồng thời với nhau. Hàm now() trả về Ngày-Thời gian biểu diễn thời điểm hiện tại. Chúng ta sẽ lưu thời điểm này vào biến this_moment."
   ]
  },
  {
   "cell_type": "code",
   "execution_count": 7,
   "metadata": {},
   "outputs": [
    {
     "data": {
      "text/plain": [
       "[1] \"2018-04-17 11:48:00 +07\""
      ]
     },
     "metadata": {},
     "output_type": "display_data"
    }
   ],
   "source": [
    "this_moment <- now()\n",
    "this_moment"
   ]
  },
  {
   "cell_type": "markdown",
   "metadata": {},
   "source": [
    "Cũng như kiểu dữ liệu Ngày, ta có thể rút trích thông tin năm, tháng, ngày hay thứ. Tuy nhiên, chúng ta cũng có thể rút trích thông tin giờ, phút, giây."
   ]
  },
  {
   "cell_type": "code",
   "execution_count": 8,
   "metadata": {},
   "outputs": [
    {
     "data": {
      "text/html": [
       "0.424712896347046"
      ],
      "text/latex": [
       "0.424712896347046"
      ],
      "text/markdown": [
       "0.424712896347046"
      ],
      "text/plain": [
       "[1] 0.4247129"
      ]
     },
     "metadata": {},
     "output_type": "display_data"
    }
   ],
   "source": [
    "second(this_moment)"
   ]
  },
  {
   "cell_type": "markdown",
   "metadata": {},
   "source": [
    "lubridate còn cung cấp những hàm khác nhau liên quan đến việc phân rã (parsing) date-times. Những hàm này có dạng ymd(), dmy(), hms(), ymd_hms(). Trong đó, mỗi kí tự viết tắt cho năm (y), tháng (m), ngày (d), giờ (h), phút (m), giây (s)."
   ]
  },
  {
   "cell_type": "code",
   "execution_count": 9,
   "metadata": {},
   "outputs": [
    {
     "data": {
      "text/html": [
       "<time datetime=\"1989-05-17\">1989-05-17</time>"
      ],
      "text/latex": [
       "1989-05-17"
      ],
      "text/markdown": [
       "1989-05-17"
      ],
      "text/plain": [
       "[1] \"1989-05-17\""
      ]
     },
     "metadata": {},
     "output_type": "display_data"
    }
   ],
   "source": [
    "my_date <- ymd(\"1989-05-17\")\n",
    "my_date"
   ]
  },
  {
   "cell_type": "code",
   "execution_count": 10,
   "metadata": {},
   "outputs": [
    {
     "data": {
      "text/html": [
       "'Date'"
      ],
      "text/latex": [
       "'Date'"
      ],
      "text/markdown": [
       "'Date'"
      ],
      "text/plain": [
       "[1] \"Date\""
      ]
     },
     "metadata": {},
     "output_type": "display_data"
    }
   ],
   "source": [
    "# kiểm tra kiểu dữ liệu của my_date\n",
    "class(my_date)"
   ]
  },
  {
   "cell_type": "markdown",
   "metadata": {},
   "source": [
    "Kết quả tương tự như trên chỉ trừ ta có thêm thông tin time zone (UTC). Hàm ymd() lấy đầu vào là character string sau đó trả về đối tượng thuộc lớp POSIXct. Đây là cách mà R lưu trữ thông tin date-time trong hệ thống.\n",
    "\n",
    "\"1989-05-17\" là một định dạng khá chuẩn, nhưng lubridate đủ \"thông minh\" để nhận diện ra những định dạng date-time khác. Ta thử dùng hàm ymd() để phân rã \"1989 May 17\"."
   ]
  },
  {
   "cell_type": "code",
   "execution_count": 11,
   "metadata": {},
   "outputs": [
    {
     "data": {
      "text/html": [
       "<time datetime=\"1989-05-17\">1989-05-17</time>"
      ],
      "text/latex": [
       "1989-05-17"
      ],
      "text/markdown": [
       "1989-05-17"
      ],
      "text/plain": [
       "[1] \"1989-05-17\""
      ]
     },
     "metadata": {},
     "output_type": "display_data"
    }
   ],
   "source": [
    "ymd(\"1989 May 17\")"
   ]
  },
  {
   "cell_type": "markdown",
   "metadata": {},
   "source": [
    "Bất chấp định dạng khác nhau, cả hai đều bắt đầu với thông tin là năm, sau đó đến thông tin tháng, và ngày. Vì vậy, ta có thể dùng hàm ymd() để phân rã. Tương tự, ta có thể thực hiện với các định dạng sau:"
   ]
  },
  {
   "cell_type": "code",
   "execution_count": 12,
   "metadata": {},
   "outputs": [
    {
     "data": {
      "text/html": [
       "<time datetime=\"1975-03-12\">1975-03-12</time>"
      ],
      "text/latex": [
       "1975-03-12"
      ],
      "text/markdown": [
       "1975-03-12"
      ],
      "text/plain": [
       "[1] \"1975-03-12\""
      ]
     },
     "metadata": {},
     "output_type": "display_data"
    }
   ],
   "source": [
    "mdy(\"March 12, 1975\")"
   ]
  },
  {
   "cell_type": "code",
   "execution_count": 13,
   "metadata": {},
   "outputs": [
    {
     "data": {
      "text/html": [
       "<time datetime=\"1985-08-25\">1985-08-25</time>"
      ],
      "text/latex": [
       "1985-08-25"
      ],
      "text/markdown": [
       "1985-08-25"
      ],
      "text/plain": [
       "[1] \"1985-08-25\""
      ]
     },
     "metadata": {},
     "output_type": "display_data"
    }
   ],
   "source": [
    "# 25081985 biểu diễn ngày 25 tháng 8 năm 1985\n",
    "dmy(25081985)"
   ]
  },
  {
   "cell_type": "code",
   "execution_count": 14,
   "metadata": {},
   "outputs": [
    {
     "name": "stderr",
     "output_type": "stream",
     "text": [
      "Warning message:\n",
      "“All formats failed to parse. No formats found.”"
     ]
    },
    {
     "data": {
      "text/html": [
       "<time datetime=\"&lt;NA&gt;\">&lt;NA&gt;</time>"
      ],
      "text/latex": [
       "<NA>"
      ],
      "text/markdown": [
       "&lt;NA&gt;"
      ],
      "text/plain": [
       "[1] NA"
      ]
     },
     "metadata": {},
     "output_type": "display_data"
    }
   ],
   "source": [
    "# R có thể bị nhầm lần. Do đó, cần cẩn trọng khi truyền đối số\n",
    "ymd(\"192012\")"
   ]
  },
  {
   "cell_type": "code",
   "execution_count": 15,
   "metadata": {},
   "outputs": [
    {
     "data": {
      "text/html": [
       "<time datetime=\"1920-01-02\">1920-01-02</time>"
      ],
      "text/latex": [
       "1920-01-02"
      ],
      "text/markdown": [
       "1920-01-02"
      ],
      "text/plain": [
       "[1] \"1920-01-02\""
      ]
     },
     "metadata": {},
     "output_type": "display_data"
    }
   ],
   "source": [
    "# sửa lại dòng lệnh trên\n",
    "ymd(\"1920/1/2\")"
   ]
  },
  {
   "cell_type": "code",
   "execution_count": 16,
   "metadata": {},
   "outputs": [
    {
     "data": {
      "text/html": [
       "3H 22M 14S"
      ],
      "text/latex": [
       "3H 22M 14S"
      ],
      "text/markdown": [
       "3H 22M 14S"
      ],
      "text/plain": [
       "[1] \"3H 22M 14S\""
      ]
     },
     "metadata": {},
     "output_type": "display_data"
    }
   ],
   "source": [
    "# lưu thông tin giờ phút giây\n",
    "hms(\"03:22:14\")"
   ]
  },
  {
   "cell_type": "markdown",
   "metadata": {},
   "source": [
    "Ta có thông tin dt1 như sau:"
   ]
  },
  {
   "cell_type": "code",
   "execution_count": 17,
   "metadata": {},
   "outputs": [
    {
     "data": {
      "text/html": [
       "'2014-08-23 17:23:02'"
      ],
      "text/latex": [
       "'2014-08-23 17:23:02'"
      ],
      "text/markdown": [
       "'2014-08-23 17:23:02'"
      ],
      "text/plain": [
       "[1] \"2014-08-23 17:23:02\""
      ]
     },
     "metadata": {},
     "output_type": "display_data"
    }
   ],
   "source": [
    "# Handles time info with ymd_hms()\n",
    "dt1 <- '2014-08-23 17:23:02'\n",
    "dt1"
   ]
  },
  {
   "cell_type": "code",
   "execution_count": 18,
   "metadata": {},
   "outputs": [
    {
     "data": {
      "text/plain": [
       "[1] \"2014-08-23 17:23:02 UTC\""
      ]
     },
     "metadata": {},
     "output_type": "display_data"
    }
   ],
   "source": [
    "# phân rã thông tin dt1\n",
    "ymd_hms(dt1)"
   ]
  },
  {
   "cell_type": "markdown",
   "metadata": {},
   "source": [
    "lubridate còn có khả năng làm việc trên vectors Ngày, rất hữu dụng khi bạn cần phân rã thông tin của một cột dữ liệu. Ta tạo biến dt2 có thông tin như sau:"
   ]
  },
  {
   "cell_type": "code",
   "execution_count": 19,
   "metadata": {},
   "outputs": [
    {
     "data": {
      "text/html": [
       "<ol class=list-inline>\n",
       "\t<li>'2014-05-14'</li>\n",
       "\t<li>'2014-09-22'</li>\n",
       "\t<li>'2014-07-11'</li>\n",
       "</ol>\n"
      ],
      "text/latex": [
       "\\begin{enumerate*}\n",
       "\\item '2014-05-14'\n",
       "\\item '2014-09-22'\n",
       "\\item '2014-07-11'\n",
       "\\end{enumerate*}\n"
      ],
      "text/markdown": [
       "1. '2014-05-14'\n",
       "2. '2014-09-22'\n",
       "3. '2014-07-11'\n",
       "\n",
       "\n"
      ],
      "text/plain": [
       "[1] \"2014-05-14\" \"2014-09-22\" \"2014-07-11\""
      ]
     },
     "metadata": {},
     "output_type": "display_data"
    }
   ],
   "source": [
    "# Also handles vectors of date-times\n",
    "dt2 <- c('2014-05-14', '2014-09-22', '2014-07-11')\n",
    "dt2"
   ]
  },
  {
   "cell_type": "code",
   "execution_count": 20,
   "metadata": {},
   "outputs": [
    {
     "data": {
      "text/html": [
       "<ol class=list-inline>\n",
       "\t<li><time datetime=\"2014-05-14\">2014-05-14</time></li>\n",
       "\t<li><time datetime=\"2014-09-22\">2014-09-22</time></li>\n",
       "\t<li><time datetime=\"2014-07-11\">2014-07-11</time></li>\n",
       "</ol>\n"
      ],
      "text/latex": [
       "\\begin{enumerate*}\n",
       "\\item 2014-05-14\n",
       "\\item 2014-09-22\n",
       "\\item 2014-07-11\n",
       "\\end{enumerate*}\n"
      ],
      "text/markdown": [
       "1. 2014-05-14\n",
       "2. 2014-09-22\n",
       "3. 2014-07-11\n",
       "\n",
       "\n"
      ],
      "text/plain": [
       "[1] \"2014-05-14\" \"2014-09-22\" \"2014-07-11\""
      ]
     },
     "metadata": {},
     "output_type": "display_data"
    }
   ],
   "source": [
    "# phân rã thông tin dt2\n",
    "ymd(dt2)"
   ]
  },
  {
   "cell_type": "markdown",
   "metadata": {},
   "source": [
    "Hàm update() cho phép chúng ta cập nhật một hay nhiều thành phần của date-time. Ví dụ, ta muốn cập nhật thông tin 08:34:55 (hh:mm:ss) cho biến this_moment ban nãy như sau:"
   ]
  },
  {
   "cell_type": "code",
   "execution_count": 21,
   "metadata": {},
   "outputs": [
    {
     "data": {
      "text/plain": [
       "[1] \"2018-04-17 08:34:55 +07\""
      ]
     },
     "metadata": {},
     "output_type": "display_data"
    },
    {
     "data": {
      "text/plain": [
       "[1] \"2018-04-17 11:48:00 +07\""
      ]
     },
     "metadata": {},
     "output_type": "display_data"
    }
   ],
   "source": [
    "update(this_moment, hours = 8, minutes = 34, seconds = 55)\n",
    "this_moment"
   ]
  },
  {
   "cell_type": "code",
   "execution_count": 22,
   "metadata": {},
   "outputs": [
    {
     "data": {
      "text/plain": [
       "[1] \"2018-04-17 10:16:00 +07\""
      ]
     },
     "metadata": {},
     "output_type": "display_data"
    }
   ],
   "source": [
    "# cập nhật biến this_moment\n",
    "this_moment <- update(this_moment, hours = 10, minutes = 16, seconds = 0)\n",
    "this_moment"
   ]
  },
  {
   "cell_type": "markdown",
   "metadata": {},
   "source": [
    "Bây giờ, giả sử bạn đang ở thành phố New York và bạn đang lập kế hoạch để thăm một người bạn ở Hong Kong. Có vẻ như bạn đã đánh mất lịch trình của mình, nhưng bạn biết rằng chuyến bay của mình rời New York vào lúc 17:34 (5:34pm). Đồng thời, bạn cũng biết rằng chuyến bay của mình sẽ đến Hong Kong sau 15 giờ 50 phút sau khi cất cánh.\n",
    "\n",
    "Hãy tạo lại lịch trình của mình từ những gì bạn nhớ, bắt đầu với ngày và giờ khởi hành. Giả sử sau hai ngày nữa là tới ngày bay, chúng ta sẽ cộng thêm 2 ngày sau đó đặt thời điểm là lúc 17:34.\n",
    "\n",
    "Để xác định ngày hiện tại ở New York, chúng ta sẽ sử dụng hàm now() một lần nữa. Lần này, chúng ta sẽ thêm thông tin time zone \"America/New_York\". Sau đó, lưu kết quả vào biến gọi là nyc. Để biết được tất cả time zone được sử dụng trong lubridate, bạn có thể truy cập vào trang Wikipedia: http://en.wikipedia.org/wiki/List_of_tz_database_time_zones."
   ]
  },
  {
   "cell_type": "code",
   "execution_count": 23,
   "metadata": {},
   "outputs": [
    {
     "data": {
      "text/plain": [
       "[1] \"2018-04-17 00:48:01 EDT\""
      ]
     },
     "metadata": {},
     "output_type": "display_data"
    }
   ],
   "source": [
    "nyc <- now(\"America/New_York\")\n",
    "nyc"
   ]
  },
  {
   "cell_type": "markdown",
   "metadata": {},
   "source": [
    "Chuyến bay của bạn là ngày mốt (theo giờ New York), vì vậy chúng ta sẽ thêm hai ngày vào biến nyc. Một đặc điểm nổi bật của lubridate đó là nó cho phép bạn sử dụng các toán tử số học lên Ngày và Giờ."
   ]
  },
  {
   "cell_type": "code",
   "execution_count": 24,
   "metadata": {},
   "outputs": [
    {
     "data": {
      "text/plain": [
       "[1] \"2018-04-19 00:48:01 EDT\""
      ]
     },
     "metadata": {},
     "output_type": "display_data"
    }
   ],
   "source": [
    "depart <- nyc + days(2)\n",
    "depart"
   ]
  },
  {
   "cell_type": "markdown",
   "metadata": {},
   "source": [
    "Hiện tại biến depart đã lưu gía trị hai ngày tiếp theo. Ta sử dụng hàm udpate() để cập nhật số giờ là (17) và số phút là (34) vào lịch cất cánh."
   ]
  },
  {
   "cell_type": "code",
   "execution_count": 25,
   "metadata": {},
   "outputs": [
    {
     "data": {
      "text/plain": [
       "[1] \"2018-04-19 17:34:01 EDT\""
      ]
     },
     "metadata": {},
     "output_type": "display_data"
    }
   ],
   "source": [
    "depart <- update(depart, hours = 17, minutes = 34)\n",
    "depart"
   ]
  },
  {
   "cell_type": "markdown",
   "metadata": {},
   "source": [
    "Người bạn của chúng ta muốn biết mấy giờ thì cô ấy có thể đến đón bạn ở sân bay Hong Kong. Hiện tại, chúng ta đã biết chính xác ngày và giờ bạn cất cánh từ New York, chúng ta tìm cách xác định thời điểm bạn đến Hong Kong.\n",
    "\n",
    "Bước một là cộng thêm 15 giờ 50 phút vào thời điểm cất cánh."
   ]
  },
  {
   "cell_type": "code",
   "execution_count": 26,
   "metadata": {},
   "outputs": [
    {
     "data": {
      "text/plain": [
       "[1] \"2018-04-20 09:24:01 EDT\""
      ]
     },
     "metadata": {},
     "output_type": "display_data"
    }
   ],
   "source": [
    "arrive <- depart + hours(15) + minutes(50)\n",
    "arrive"
   ]
  },
  {
   "cell_type": "markdown",
   "metadata": {},
   "source": [
    "Biến arrive chứa thông tin thời điểm sau khi bạn xuất phát từ New York đến Hong Kong. Điều chúng ta cần biết đó là giờ ở Hong Kong khi bạn đáp cánh để người bạn của chúng ta có thể đến đón.\n",
    "\n",
    "Hàm with_tz() sẽ trả về giá trị ngày giờ ở time zone khác."
   ]
  },
  {
   "cell_type": "code",
   "execution_count": 27,
   "metadata": {},
   "outputs": [
    {
     "data": {
      "text/plain": [
       "[1] \"2018-04-20 21:24:01 HKT\""
      ]
     },
     "metadata": {},
     "output_type": "display_data"
    }
   ],
   "source": [
    "arrive <- with_tz(arrive, \"Asia/Hong_Kong\")\n",
    "arrive"
   ]
  },
  {
   "cell_type": "markdown",
   "metadata": {},
   "source": [
    "Ngay sau khi đến Hong Kong. Bạn và người bạn của mình vừa gặp nhau tại sân bay thì bạn nhận ra rằng lần cuối hai người gặp nhau là ở Singapore vào June 17, 2008. Một cách tự nhiên, bạn sẽ muốn biết khoảng thời gian đó đã bao lâu rồi.\n",
    "\n",
    "Sử dụng hàm lubridate để phân rã \"June 17, 2008\" và có kèm theo thông tin time zone ở Singapore."
   ]
  },
  {
   "cell_type": "code",
   "execution_count": 28,
   "metadata": {},
   "outputs": [
    {
     "data": {
      "text/plain": [
       "[1] \"2008-06-17 +08\""
      ]
     },
     "metadata": {},
     "output_type": "display_data"
    }
   ],
   "source": [
    "last_time <- mdy(\"June 17, 2008\", tz = \"Singapore\")\n",
    "last_time"
   ]
  },
  {
   "cell_type": "markdown",
   "metadata": {},
   "source": [
    "Chúng ta sẽ dùng hàm interval() để xác định khoảng thời gian giữa thời điểm hiện tại và lần gặp trước đó."
   ]
  },
  {
   "cell_type": "code",
   "execution_count": 29,
   "metadata": {},
   "outputs": [
    {
     "data": {
      "text/html": [
       "2008-06-17 +08--2018-04-20 21:24:01 +08"
      ],
      "text/latex": [
       "2008-06-17 +08--2018-04-20 21:24:01 +08"
      ],
      "text/markdown": [
       "2008-06-17 +08--2018-04-20 21:24:01 +08"
      ],
      "text/plain": [
       "[1] 2008-06-17 +08--2018-04-20 21:24:01 +08"
      ]
     },
     "metadata": {},
     "output_type": "display_data"
    }
   ],
   "source": [
    "how_long <- interval(last_time, arrive)\n",
    "how_long"
   ]
  },
  {
   "cell_type": "code",
   "execution_count": 30,
   "metadata": {},
   "outputs": [
    {
     "data": {
      "text/html": [
       "9y 10m 3d 21H 24M 1S"
      ],
      "text/latex": [
       "9y 10m 3d 21H 24M 1S"
      ],
      "text/markdown": [
       "9y 10m 3d 21H 24M 1S"
      ],
      "text/plain": [
       "[1] \"9y 10m 3d 21H 24M 1S\""
      ]
     },
     "metadata": {},
     "output_type": "display_data"
    }
   ],
   "source": [
    "# xem khoảng thời gian là bao lâu\n",
    "as.period(how_long)"
   ]
  },
  {
   "cell_type": "markdown",
   "metadata": {},
   "source": [
    "Nhờ có lubridate mà ta có thể bỏ qua các bước tính toán phức tạp rất dễ gây sai sót trong quá trình phân tích.\n",
    "\n",
    "<strong>Nguồn tham khảo:</strong> <a href=\"http://swirlstats.com/\" target=\"_blank\" rel=\"noopener\">http://swirlstats.com/</a>"
   ]
  }
 ],
 "metadata": {
  "kernelspec": {
   "display_name": "R",
   "language": "R",
   "name": "ir"
  },
  "language_info": {
   "codemirror_mode": "r",
   "file_extension": ".r",
   "mimetype": "text/x-r-source",
   "name": "R",
   "pygments_lexer": "r",
   "version": "3.4.4"
  }
 },
 "nbformat": 4,
 "nbformat_minor": 2
}
