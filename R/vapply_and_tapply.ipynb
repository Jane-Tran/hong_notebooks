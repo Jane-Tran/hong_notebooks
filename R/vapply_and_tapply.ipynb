{
 "cells": [
  {
   "cell_type": "markdown",
   "metadata": {},
   "source": [
    "<h2>vapply</h2>\n",
    "Như thường lệ, chúng ta sẽ quan sát tổng quan tập dữ liệu flags."
   ]
  },
  {
   "cell_type": "code",
   "execution_count": 1,
   "metadata": {},
   "outputs": [
    {
     "data": {
      "text/html": [
       "<table>\n",
       "<thead><tr><th scope=col>name</th><th scope=col>landmass</th><th scope=col>zone</th><th scope=col>area</th><th scope=col>population</th><th scope=col>language</th><th scope=col>religion</th><th scope=col>bars</th><th scope=col>stripes</th><th scope=col>colours</th><th scope=col>⋯</th><th scope=col>saltires</th><th scope=col>quarters</th><th scope=col>sunstars</th><th scope=col>crescent</th><th scope=col>triangle</th><th scope=col>icon</th><th scope=col>animate</th><th scope=col>text</th><th scope=col>topleft</th><th scope=col>botright</th></tr></thead>\n",
       "<tbody>\n",
       "\t<tr><td>Albania       </td><td>3             </td><td>1             </td><td>  29          </td><td> 3            </td><td> 6            </td><td>6             </td><td>0             </td><td>0             </td><td>3             </td><td>⋯             </td><td>0             </td><td>0             </td><td>1             </td><td>0             </td><td>0             </td><td>0             </td><td>1             </td><td>0             </td><td>red           </td><td>red           </td></tr>\n",
       "\t<tr><td>Algeria       </td><td>4             </td><td>1             </td><td>2388          </td><td>20            </td><td> 8            </td><td>2             </td><td>2             </td><td>0             </td><td>3             </td><td>⋯             </td><td>0             </td><td>0             </td><td>1             </td><td>1             </td><td>0             </td><td>0             </td><td>0             </td><td>0             </td><td>green         </td><td>white         </td></tr>\n",
       "\t<tr><td>American-Samoa</td><td>6             </td><td>3             </td><td>   0          </td><td> 0            </td><td> 1            </td><td>1             </td><td>0             </td><td>0             </td><td>5             </td><td>⋯             </td><td>0             </td><td>0             </td><td>0             </td><td>0             </td><td>1             </td><td>1             </td><td>1             </td><td>0             </td><td>blue          </td><td>red           </td></tr>\n",
       "\t<tr><td>Andorra       </td><td>3             </td><td>1             </td><td>   0          </td><td> 0            </td><td> 6            </td><td>0             </td><td>3             </td><td>0             </td><td>3             </td><td>⋯             </td><td>0             </td><td>0             </td><td>0             </td><td>0             </td><td>0             </td><td>0             </td><td>0             </td><td>0             </td><td>blue          </td><td>red           </td></tr>\n",
       "\t<tr><td>Angola        </td><td>4             </td><td>2             </td><td>1247          </td><td> 7            </td><td>10            </td><td>5             </td><td>0             </td><td>2             </td><td>3             </td><td>⋯             </td><td>0             </td><td>0             </td><td>1             </td><td>0             </td><td>0             </td><td>1             </td><td>0             </td><td>0             </td><td>red           </td><td>black         </td></tr>\n",
       "\t<tr><td>Anguilla      </td><td>1             </td><td>4             </td><td>   0          </td><td> 0            </td><td> 1            </td><td>1             </td><td>0             </td><td>1             </td><td>3             </td><td>⋯             </td><td>0             </td><td>0             </td><td>0             </td><td>0             </td><td>0             </td><td>0             </td><td>1             </td><td>0             </td><td>white         </td><td>blue          </td></tr>\n",
       "</tbody>\n",
       "</table>\n"
      ],
      "text/latex": [
       "\\begin{tabular}{r|llllllllllllllllllllllllllllll}\n",
       " name & landmass & zone & area & population & language & religion & bars & stripes & colours & ⋯ & saltires & quarters & sunstars & crescent & triangle & icon & animate & text & topleft & botright\\\\\n",
       "\\hline\n",
       "\t Albania        & 3              & 1              &   29           &  3             &  6             & 6              & 0              & 0              & 3              & ⋯              & 0              & 0              & 1              & 0              & 0              & 0              & 1              & 0              & red            & red           \\\\\n",
       "\t Algeria        & 4              & 1              & 2388           & 20             &  8             & 2              & 2              & 0              & 3              & ⋯              & 0              & 0              & 1              & 1              & 0              & 0              & 0              & 0              & green          & white         \\\\\n",
       "\t American-Samoa & 6              & 3              &    0           &  0             &  1             & 1              & 0              & 0              & 5              & ⋯              & 0              & 0              & 0              & 0              & 1              & 1              & 1              & 0              & blue           & red           \\\\\n",
       "\t Andorra        & 3              & 1              &    0           &  0             &  6             & 0              & 3              & 0              & 3              & ⋯              & 0              & 0              & 0              & 0              & 0              & 0              & 0              & 0              & blue           & red           \\\\\n",
       "\t Angola         & 4              & 2              & 1247           &  7             & 10             & 5              & 0              & 2              & 3              & ⋯              & 0              & 0              & 1              & 0              & 0              & 1              & 0              & 0              & red            & black         \\\\\n",
       "\t Anguilla       & 1              & 4              &    0           &  0             &  1             & 1              & 0              & 1              & 3              & ⋯              & 0              & 0              & 0              & 0              & 0              & 0              & 1              & 0              & white          & blue          \\\\\n",
       "\\end{tabular}\n"
      ],
      "text/markdown": [
       "\n",
       "name | landmass | zone | area | population | language | religion | bars | stripes | colours | ⋯ | saltires | quarters | sunstars | crescent | triangle | icon | animate | text | topleft | botright | \n",
       "|---|---|---|---|---|---|\n",
       "| Albania        | 3              | 1              |   29           |  3             |  6             | 6              | 0              | 0              | 3              | ⋯              | 0              | 0              | 1              | 0              | 0              | 0              | 1              | 0              | red            | red            | \n",
       "| Algeria        | 4              | 1              | 2388           | 20             |  8             | 2              | 2              | 0              | 3              | ⋯              | 0              | 0              | 1              | 1              | 0              | 0              | 0              | 0              | green          | white          | \n",
       "| American-Samoa | 6              | 3              |    0           |  0             |  1             | 1              | 0              | 0              | 5              | ⋯              | 0              | 0              | 0              | 0              | 1              | 1              | 1              | 0              | blue           | red            | \n",
       "| Andorra        | 3              | 1              |    0           |  0             |  6             | 0              | 3              | 0              | 3              | ⋯              | 0              | 0              | 0              | 0              | 0              | 0              | 0              | 0              | blue           | red            | \n",
       "| Angola         | 4              | 2              | 1247           |  7             | 10             | 5              | 0              | 2              | 3              | ⋯              | 0              | 0              | 1              | 0              | 0              | 1              | 0              | 0              | red            | black          | \n",
       "| Anguilla       | 1              | 4              |    0           |  0             |  1             | 1              | 0              | 1              | 3              | ⋯              | 0              | 0              | 0              | 0              | 0              | 0              | 1              | 0              | white          | blue           | \n",
       "\n",
       "\n"
      ],
      "text/plain": [
       "  name           landmass zone area population language religion bars stripes\n",
       "1 Albania        3        1      29  3          6       6        0    0      \n",
       "2 Algeria        4        1    2388 20          8       2        2    0      \n",
       "3 American-Samoa 6        3       0  0          1       1        0    0      \n",
       "4 Andorra        3        1       0  0          6       0        3    0      \n",
       "5 Angola         4        2    1247  7         10       5        0    2      \n",
       "6 Anguilla       1        4       0  0          1       1        0    1      \n",
       "  colours ⋯ saltires quarters sunstars crescent triangle icon animate text\n",
       "1 3       ⋯ 0        0        1        0        0        0    1       0   \n",
       "2 3       ⋯ 0        0        1        1        0        0    0       0   \n",
       "3 5       ⋯ 0        0        0        0        1        1    1       0   \n",
       "4 3       ⋯ 0        0        0        0        0        0    0       0   \n",
       "5 3       ⋯ 0        0        1        0        0        1    0       0   \n",
       "6 3       ⋯ 0        0        0        0        0        0    1       0   \n",
       "  topleft botright\n",
       "1 red     red     \n",
       "2 green   white   \n",
       "3 blue    red     \n",
       "4 blue    red     \n",
       "5 red     black   \n",
       "6 white   blue    "
      ]
     },
     "metadata": {},
     "output_type": "display_data"
    }
   ],
   "source": [
    "flags <- read.csv(url(\"http://archive.ics.uci.edu/ml/machine-learning-databases/flags/flag.data\"))\n",
    "# Set column names\n",
    "colnames(flags) <- c(\"name\", \"landmass\", \"zone\", \"area\", \"population\",\n",
    "                     \"language\", \"religion\", \"bars\", \"stripes\", \"colours\",\n",
    "                     \"red\", \"green\", \"blue\", \"gold\", \"white\", \"black\",\n",
    "                     \"orange\", \"mainhue\", \"circles\", \"crosses\", \"saltires\",\n",
    "                     \"quarters\", \"sunstars\", \"crescent\", \"triangle\",\n",
    "                     \"icon\", \"animate\", \"text\", \"topleft\", \"botright\")\n",
    "\n",
    "# liệt kê 6 dòng dữ liệu ban đầu\n",
    "head(flags)"
   ]
  },
  {
   "cell_type": "code",
   "execution_count": 2,
   "metadata": {},
   "outputs": [
    {
     "data": {
      "text/html": [
       "<ol class=list-inline>\n",
       "\t<li>193</li>\n",
       "\t<li>30</li>\n",
       "</ol>\n"
      ],
      "text/latex": [
       "\\begin{enumerate*}\n",
       "\\item 193\n",
       "\\item 30\n",
       "\\end{enumerate*}\n"
      ],
      "text/markdown": [
       "1. 193\n",
       "2. 30\n",
       "\n",
       "\n"
      ],
      "text/plain": [
       "[1] 193  30"
      ]
     },
     "metadata": {},
     "output_type": "display_data"
    }
   ],
   "source": [
    "# quan sát số chiều của tập dữ liệu\n",
    "dim(flags)"
   ]
  },
  {
   "cell_type": "code",
   "execution_count": 3,
   "metadata": {},
   "outputs": [
    {
     "name": "stdout",
     "output_type": "stream",
     "text": [
      "'data.frame':\t193 obs. of  30 variables:\n",
      " $ name      : Factor w/ 193 levels \"Albania\",\"Algeria\",..: 1 2 3 4 5 6 7 8 9 10 ...\n",
      " $ landmass  : int  3 4 6 3 4 1 1 2 2 6 ...\n",
      " $ zone      : int  1 1 3 1 2 4 4 3 3 2 ...\n",
      " $ area      : int  29 2388 0 0 1247 0 0 2777 2777 7690 ...\n",
      " $ population: int  3 20 0 0 7 0 0 28 28 15 ...\n",
      " $ language  : int  6 8 1 6 10 1 1 2 2 1 ...\n",
      " $ religion  : int  6 2 1 0 5 1 1 0 0 1 ...\n",
      " $ bars      : int  0 2 0 3 0 0 0 0 0 0 ...\n",
      " $ stripes   : int  0 0 0 0 2 1 1 3 3 0 ...\n",
      " $ colours   : int  3 3 5 3 3 3 5 2 3 3 ...\n",
      " $ red       : int  1 1 1 1 1 0 1 0 0 1 ...\n",
      " $ green     : int  0 1 0 0 0 0 0 0 0 0 ...\n",
      " $ blue      : int  0 0 1 1 0 1 1 1 1 1 ...\n",
      " $ gold      : int  1 0 1 1 1 0 1 0 1 0 ...\n",
      " $ white     : int  0 1 1 0 0 1 1 1 1 1 ...\n",
      " $ black     : int  1 0 0 0 1 0 1 0 0 0 ...\n",
      " $ orange    : int  0 0 1 0 0 1 0 0 0 0 ...\n",
      " $ mainhue   : Factor w/ 8 levels \"black\",\"blue\",..: 7 5 2 4 7 8 7 2 2 2 ...\n",
      " $ circles   : int  0 0 0 0 0 0 0 0 0 0 ...\n",
      " $ crosses   : int  0 0 0 0 0 0 0 0 0 1 ...\n",
      " $ saltires  : int  0 0 0 0 0 0 0 0 0 1 ...\n",
      " $ quarters  : int  0 0 0 0 0 0 0 0 0 1 ...\n",
      " $ sunstars  : int  1 1 0 0 1 0 1 0 1 6 ...\n",
      " $ crescent  : int  0 1 0 0 0 0 0 0 0 0 ...\n",
      " $ triangle  : int  0 0 1 0 0 0 1 0 0 0 ...\n",
      " $ icon      : int  0 0 1 0 1 0 0 0 0 0 ...\n",
      " $ animate   : int  1 0 1 0 0 1 0 0 0 0 ...\n",
      " $ text      : int  0 0 0 0 0 0 0 0 0 0 ...\n",
      " $ topleft   : Factor w/ 7 levels \"black\",\"blue\",..: 6 4 2 2 6 7 1 2 2 7 ...\n",
      " $ botright  : Factor w/ 8 levels \"black\",\"blue\",..: 7 8 7 7 1 2 7 2 2 2 ...\n"
     ]
    }
   ],
   "source": [
    "# quan sát cấu trúc của tập dữ liệu\n",
    "str(flags)"
   ]
  },
  {
   "cell_type": "code",
   "execution_count": 4,
   "metadata": {},
   "outputs": [
    {
     "data": {
      "text/plain": [
       "             name        landmass          zone            area        \n",
       " Albania       :  1   Min.   :1.000   Min.   :1.000   Min.   :    0.0  \n",
       " Algeria       :  1   1st Qu.:3.000   1st Qu.:1.000   1st Qu.:    9.0  \n",
       " American-Samoa:  1   Median :4.000   Median :2.000   Median :  111.0  \n",
       " Andorra       :  1   Mean   :3.565   Mean   :2.218   Mean   :  700.3  \n",
       " Angola        :  1   3rd Qu.:5.000   3rd Qu.:4.000   3rd Qu.:  463.0  \n",
       " Anguilla      :  1   Max.   :6.000   Max.   :4.000   Max.   :22402.0  \n",
       " (Other)       :187                                                    \n",
       "   population         language         religion          bars      \n",
       " Min.   :   0.00   Min.   : 1.000   Min.   :0.000   Min.   :0.000  \n",
       " 1st Qu.:   0.00   1st Qu.: 2.000   1st Qu.:1.000   1st Qu.:0.000  \n",
       " Median :   4.00   Median : 6.000   Median :1.000   Median :0.000  \n",
       " Mean   :  23.31   Mean   : 5.316   Mean   :2.192   Mean   :0.456  \n",
       " 3rd Qu.:  14.00   3rd Qu.: 9.000   3rd Qu.:4.000   3rd Qu.:0.000  \n",
       " Max.   :1008.00   Max.   :10.000   Max.   :7.000   Max.   :5.000  \n",
       "                                                                   \n",
       "    stripes          colours           red             green       \n",
       " Min.   : 0.000   Min.   :1.000   Min.   :0.0000   Min.   :0.0000  \n",
       " 1st Qu.: 0.000   1st Qu.:3.000   1st Qu.:1.0000   1st Qu.:0.0000  \n",
       " Median : 0.000   Median :3.000   Median :1.0000   Median :0.0000  \n",
       " Mean   : 1.544   Mean   :3.456   Mean   :0.7876   Mean   :0.4663  \n",
       " 3rd Qu.: 3.000   3rd Qu.:4.000   3rd Qu.:1.0000   3rd Qu.:1.0000  \n",
       " Max.   :14.000   Max.   :8.000   Max.   :1.0000   Max.   :1.0000  \n",
       "                                                                   \n",
       "      blue            gold            white            black       \n",
       " Min.   :0.000   Min.   :0.0000   Min.   :0.0000   Min.   :0.0000  \n",
       " 1st Qu.:0.000   1st Qu.:0.0000   1st Qu.:1.0000   1st Qu.:0.0000  \n",
       " Median :1.000   Median :0.0000   Median :1.0000   Median :0.0000  \n",
       " Mean   :0.513   Mean   :0.4663   Mean   :0.7513   Mean   :0.2642  \n",
       " 3rd Qu.:1.000   3rd Qu.:1.0000   3rd Qu.:1.0000   3rd Qu.:1.0000  \n",
       " Max.   :1.000   Max.   :1.0000   Max.   :1.0000   Max.   :1.0000  \n",
       "                                                                   \n",
       "     orange          mainhue      circles         crosses      \n",
       " Min.   :0.0000   red    :71   Min.   :0.000   Min.   :0.0000  \n",
       " 1st Qu.:0.0000   blue   :40   1st Qu.:0.000   1st Qu.:0.0000  \n",
       " Median :0.0000   green  :30   Median :0.000   Median :0.0000  \n",
       " Mean   :0.1347   white  :22   Mean   :0.171   Mean   :0.1503  \n",
       " 3rd Qu.:0.0000   gold   :19   3rd Qu.:0.000   3rd Qu.:0.0000  \n",
       " Max.   :1.0000   black  : 5   Max.   :4.000   Max.   :2.0000  \n",
       "                  (Other): 6                                   \n",
       "    saltires          quarters         sunstars         crescent      \n",
       " Min.   :0.00000   Min.   :0.0000   Min.   : 0.000   Min.   :0.00000  \n",
       " 1st Qu.:0.00000   1st Qu.:0.0000   1st Qu.: 0.000   1st Qu.:0.00000  \n",
       " Median :0.00000   Median :0.0000   Median : 0.000   Median :0.00000  \n",
       " Mean   :0.09326   Mean   :0.1503   Mean   : 1.389   Mean   :0.05699  \n",
       " 3rd Qu.:0.00000   3rd Qu.:0.0000   3rd Qu.: 1.000   3rd Qu.:0.00000  \n",
       " Max.   :1.00000   Max.   :4.0000   Max.   :50.000   Max.   :1.00000  \n",
       "                                                                      \n",
       "    triangle           icon           animate            text       \n",
       " Min.   :0.0000   Min.   :0.0000   Min.   :0.0000   Min.   :0.0000  \n",
       " 1st Qu.:0.0000   1st Qu.:0.0000   1st Qu.:0.0000   1st Qu.:0.0000  \n",
       " Median :0.0000   Median :0.0000   Median :0.0000   Median :0.0000  \n",
       " Mean   :0.1399   Mean   :0.2487   Mean   :0.2021   Mean   :0.0829  \n",
       " 3rd Qu.:0.0000   3rd Qu.:0.0000   3rd Qu.:0.0000   3rd Qu.:0.0000  \n",
       " Max.   :1.0000   Max.   :1.0000   Max.   :1.0000   Max.   :1.0000  \n",
       "                                                                    \n",
       "   topleft      botright \n",
       " black :11   red    :69  \n",
       " blue  :43   blue   :47  \n",
       " gold  : 6   green  :39  \n",
       " green :32   white  :17  \n",
       " orange: 4   black  : 9  \n",
       " red   :56   gold   : 9  \n",
       " white :41   (Other): 3  "
      ]
     },
     "metadata": {},
     "output_type": "display_data"
    }
   ],
   "source": [
    "# tổng hợp thông tin về tập dữ liệu\n",
    "summary(flags)"
   ]
  },
  {
   "cell_type": "markdown",
   "metadata": {},
   "source": [
    "Như ở phần trước, hàm unique() trả về một vector chứa các giá trị đơn nhất từ đối tượng truyền vào. Do đó, sapply(flags, unique) sẽ trả về list một vector chứa các giá trị đơn nhất cho từng cột dữ liệu của flags.\n",
    "\n",
    "Khi làm việc trong môi trường tương tác (interactive at the prompt), chúng ta sẽ ít khi bị nhầm lẫn vì bạn có thể nhìn thấy kết quả ngay tức thì, từ đó có thể chỉnh sửa lại tính toán của mình. Tuy nhiên, khi làm việc trên môi trường không tương tác (non-interactively: khi viết functions), chúng ta dễ dự đoán sai kết quả trả về. Vì vậy, chúng ta cần cảnh giác hơn bằng cách sử dụng hàm vapply().\n",
    "\n",
    "Trong khi sapply() cố gắng tinh giản kết quả trả về thì vapply() cho phép bạn lựa chọn định dạng kết quả trả về một cách tường minh. Nếu như kết quả trả về không khớp với định dạng mà bạn chọn, vapply() sẽ đưa ra thông báo lỗi và dừng hẳn chương trình. Việc làm này có thể ngăn chặn được các vấn đề quan trọng trong code của bạn khi bạn dự đoán sai kết quả trả về do nhầm lẫn.\n",
    "\n",
    "Chúng ta sẽ thử dòng lệnh vapply(flags, unique, numeric(1)). Dòng lệnh này có nghĩa là bạn mong muốn mỗi phần tử trong kết quả trả về là numeric vector có độ dài là 1. Trong khi điều này không đúng, bạn sẽ nhận một thông báo lỗi.\n"
   ]
  },
  {
   "cell_type": "code",
   "execution_count": 5,
   "metadata": {},
   "outputs": [
    {
     "ename": "ERROR",
     "evalue": "Error in vapply(flags, unique, numeric(1)): values must be length 1,\n but FUN(X[[1]]) result is length 193\n",
     "output_type": "error",
     "traceback": [
      "Error in vapply(flags, unique, numeric(1)): values must be length 1,\n but FUN(X[[1]]) result is length 193\nTraceback:\n",
      "1. vapply(flags, unique, numeric(1))"
     ]
    }
   ],
   "source": [
    "vapply(flags, unique, numeric(1))"
   ]
  },
  {
   "cell_type": "markdown",
   "metadata": {},
   "source": [
    "Sử dụng lại hàm sapply(flags, class) để trả về một character vector chứa tên kiểu dữ liệu cho các cột thuộc tính trong tập dữ liệu. Giả sử chúng ta muốn lựa chọn định dạng trả về như sapply() bằng cách sử dụng hàm vapply() ta sẽ làm như sau.\n"
   ]
  },
  {
   "cell_type": "code",
   "execution_count": 6,
   "metadata": {},
   "outputs": [
    {
     "name": "stdout",
     "output_type": "stream",
     "text": [
      "      name   landmass       zone       area population   language   religion \n",
      "  \"factor\"  \"integer\"  \"integer\"  \"integer\"  \"integer\"  \"integer\"  \"integer\" \n",
      "      bars    stripes    colours        red      green       blue       gold \n",
      " \"integer\"  \"integer\"  \"integer\"  \"integer\"  \"integer\"  \"integer\"  \"integer\" \n",
      "     white      black     orange    mainhue    circles    crosses   saltires \n",
      " \"integer\"  \"integer\"  \"integer\"   \"factor\"  \"integer\"  \"integer\"  \"integer\" \n",
      "  quarters   sunstars   crescent   triangle       icon    animate       text \n",
      " \"integer\"  \"integer\"  \"integer\"  \"integer\"  \"integer\"  \"integer\"  \"integer\" \n",
      "   topleft   botright \n",
      "  \"factor\"   \"factor\" \n"
     ]
    }
   ],
   "source": [
    "print(sapply(flags, class))"
   ]
  },
  {
   "cell_type": "code",
   "execution_count": 7,
   "metadata": {},
   "outputs": [
    {
     "name": "stdout",
     "output_type": "stream",
     "text": [
      "      name   landmass       zone       area population   language   religion \n",
      "  \"factor\"  \"integer\"  \"integer\"  \"integer\"  \"integer\"  \"integer\"  \"integer\" \n",
      "      bars    stripes    colours        red      green       blue       gold \n",
      " \"integer\"  \"integer\"  \"integer\"  \"integer\"  \"integer\"  \"integer\"  \"integer\" \n",
      "     white      black     orange    mainhue    circles    crosses   saltires \n",
      " \"integer\"  \"integer\"  \"integer\"   \"factor\"  \"integer\"  \"integer\"  \"integer\" \n",
      "  quarters   sunstars   crescent   triangle       icon    animate       text \n",
      " \"integer\"  \"integer\"  \"integer\"  \"integer\"  \"integer\"  \"integer\"  \"integer\" \n",
      "   topleft   botright \n",
      "  \"factor\"   \"factor\" \n"
     ]
    }
   ],
   "source": [
    "print(vapply(flags, class, character(1)))"
   ]
  },
  {
   "cell_type": "markdown",
   "metadata": {},
   "source": [
    "Đối số 'character(1)' mách cho R biết rằng chúng ta mong muốn hàm class() trả về một character vector có độ dài là 1 khi áp dụng lên từng cột thuộc tính của Flags. Dĩ nhiên, kết quả trả về tương tự như hàm sapply().\n",
    "\n",
    "Bạn có thể nghĩ rằng vapply() sẽ an toàn hơn sapply(), khi nó đòi hỏi bạn phải chỉ định kết quả trả về, thay vì để R cố gắng tinh giản kết quả cho bạn. Thêm vào đó, vapply() có tốc độ xử lý nhanh hơn sapply() trên tập dữ liệu lớn. Tuy nhiên, khi phân tích dữ liệu theo kiểu tương tác (interactively at the prompt), sapply() sẽ tiết kiệm thời gian trong việc nhập lệnh.\n",
    "\n",
    "<h2>tapply</h2>\n",
    "Khi phân tích dữ liệu, bạn muốn tách dữ liệu của mình thành các nhóm dựa trên giá trị của một vài cột thuộc tính. Sau đó, ta áp dụng một function lên các thành viên trong nhóm này. Hàm tiếp theo chúng ta sẽ khảo sát đó là tapply(), sẽ hỗ trợ chúng ta làm điều này.\n",
    "\n",
    "Cột thuộc tính 'landmass' trong tập dữ liệu gồm các giá trị integer nằm trong khoảng 1 và 6, mỗi giá trị thể hiện một phần khác nhau trên bản đồ thế giới. Sử dụng hàm table() để xem có bao nhiêu flags/countries nằm trong từng nhóm trên."
   ]
  },
  {
   "cell_type": "code",
   "execution_count": 8,
   "metadata": {},
   "outputs": [
    {
     "data": {
      "text/plain": [
       "\n",
       " 1  2  3  4  5  6 \n",
       "31 17 35 52 38 20 "
      ]
     },
     "metadata": {},
     "output_type": "display_data"
    }
   ],
   "source": [
    "# similar to histogram\n",
    "table(flags$landmass)"
   ]
  },
  {
   "cell_type": "markdown",
   "metadata": {},
   "source": [
    "Cột thuộc tính 'animate\" trong tập dữ liệu chứa giá trị 1 nếu quốc kì của quốc gia đó chứa một biểu tượng animate (ví dụ như một con chim ưng, một cái cây, một bàn tay) và 0 ngược lại. Sử dụng hàm table() để xem có bao nhiêu quốc kì chứa các biểu tượng này."
   ]
  },
  {
   "cell_type": "code",
   "execution_count": 9,
   "metadata": {},
   "outputs": [
    {
     "data": {
      "text/plain": [
       "\n",
       "  0   1 \n",
       "154  39 "
      ]
     },
     "metadata": {},
     "output_type": "display_data"
    }
   ],
   "source": [
    "table(flags$animate)"
   ]
  },
  {
   "cell_type": "markdown",
   "metadata": {},
   "source": [
    "Kết quả trên cho chúng ta biết có 39 quốc kì chứa các biểu tượng animate (animate = 1) và 155 không có animate (animate = 0).\n",
    "\n",
    "Sử dụng hàm ```tapply(flags$animate, flags$landmass, mean)``` để tính giá trị trung bình cho cột thuộc tính 'animate' ứng với từng châu lục 'landmass'. Khi đó, ta sẽ có số lượng trung bình của các quốc kì có biểu tượng 'animate' nằm trong từng châu lục.\n"
   ]
  },
  {
   "cell_type": "code",
   "execution_count": 10,
   "metadata": {},
   "outputs": [
    {
     "data": {
      "text/html": [
       "<pre class=language-r><code>function (X, INDEX, FUN = NULL, ..., default = NA, simplify = TRUE) \n",
       "NULL</code></pre>"
      ],
      "text/latex": [
       "\\begin{minted}{r}\n",
       "function (X, INDEX, FUN = NULL, ..., default = NA, simplify = TRUE) \n",
       "NULL\n",
       "\\end{minted}"
      ],
      "text/markdown": [
       "```r\n",
       "function (X, INDEX, FUN = NULL, ..., default = NA, simplify = TRUE) \n",
       "NULL\n",
       "```"
      ],
      "text/plain": [
       "function (X, INDEX, FUN = NULL, ..., default = NA, simplify = TRUE) \n",
       "NULL"
      ]
     },
     "metadata": {},
     "output_type": "display_data"
    }
   ],
   "source": [
    "args(tapply)"
   ]
  },
  {
   "cell_type": "code",
   "execution_count": 11,
   "metadata": {},
   "outputs": [
    {
     "name": "stdout",
     "output_type": "stream",
     "text": [
      "        1         2         3         4         5         6 \n",
      "0.4193548 0.1764706 0.1142857 0.1346154 0.1578947 0.3000000 \n"
     ]
    }
   ],
   "source": [
    "print(tapply(flags$animate, flags$landmass, mean))"
   ]
  },
  {
   "cell_type": "markdown",
   "metadata": {},
   "source": [
    "Châu lục đầu tiên (landmass = 1) thuộc North America có tỉ lệ cao nhất so với các châu lục còn lại về số quốc kì có biểu tượng animate (0.4194).\n",
    "\n",
    "Trong bài viết này, chúng ta đã học về cách sử dụng hàm vapply() để có kết quả trả về an toàn hơn thay vì sử dụng hàm sapply(), hàm này đặc biệt hữu ích khi bạn viết functions của riêng mình. Đồng thời, chúng ta cũng đã học cách sử dụng hàm tapply() để tách dữ liệu của chúng ta thành từng nhóm dựa trên giá trị của một vài cột thuộc tính, sau đó áp dụng một hàm tính toán nào đó lên từng nhóm này. Các hàm này sẽ hỗ trợ bạn thao tác tốt hơn trong quá trình phân tích dữ liệu.\n",
    "\n",
    "<strong>Nguồn tham khảo:</strong> <a href=\"http://swirlstats.com/\" target=\"_blank\" rel=\"noopener\">http://swirlstats.com/</a>"
   ]
  }
 ],
 "metadata": {
  "kernelspec": {
   "display_name": "R",
   "language": "R",
   "name": "ir"
  }
 },
 "nbformat": 4,
 "nbformat_minor": 2
}
