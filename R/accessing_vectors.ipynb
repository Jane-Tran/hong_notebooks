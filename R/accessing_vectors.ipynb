{
 "cells": [
  {
   "cell_type": "markdown",
   "metadata": {},
   "source": [
    "Giả sử chúng ta có biến x là vector gồm 20 phần tử mang các giá trị ngẫu nhiên gồm các số bất kỳ và các giá trị NA."
   ]
  },
  {
   "cell_type": "code",
   "execution_count": 1,
   "metadata": {},
   "outputs": [
    {
     "name": "stdout",
     "output_type": "stream",
     "text": [
      " [1]  1.2677370         NA         NA -0.6295322  0.5375826  0.8888842\n",
      " [7]         NA -2.0390638  2.3726542 -0.4155688         NA         NA\n",
      "[13]         NA         NA  1.1131613         NA         NA         NA\n",
      "[19] -0.8657003         NA\n"
     ]
    }
   ],
   "source": [
    "x <- sample(c(rnorm(20), rep(NA, 20)), 20)\n",
    "print(x)"
   ]
  },
  {
   "cell_type": "markdown",
   "metadata": {},
   "source": [
    "Ta chạy dòng lệnh sau để truy xuất các phần tử bên trong x. Cách mà bạn bảo R rằng bạn muốn truy xuất những phần tử cụ thể (subsetting) từ một vector, có nghĩa là chỉ định cho R biết vị trí các phần tử (index) bạn muốn lấy trong vector đó.\n"
   ]
  },
  {
   "cell_type": "code",
   "execution_count": 2,
   "metadata": {},
   "outputs": [
    {
     "data": {
      "text/html": [
       "<ol class=list-inline>\n",
       "\t<li>1.26773698690011</li>\n",
       "\t<li>&lt;NA&gt;</li>\n",
       "\t<li>&lt;NA&gt;</li>\n",
       "\t<li>-0.629532158302738</li>\n",
       "\t<li>0.537582567518332</li>\n",
       "\t<li>0.88888423487005</li>\n",
       "\t<li>&lt;NA&gt;</li>\n",
       "\t<li>-2.03906380815812</li>\n",
       "\t<li>2.37265416913969</li>\n",
       "\t<li>-0.415568771043725</li>\n",
       "</ol>\n"
      ],
      "text/latex": [
       "\\begin{enumerate*}\n",
       "\\item 1.26773698690011\n",
       "\\item <NA>\n",
       "\\item <NA>\n",
       "\\item -0.629532158302738\n",
       "\\item 0.537582567518332\n",
       "\\item 0.88888423487005\n",
       "\\item <NA>\n",
       "\\item -2.03906380815812\n",
       "\\item 2.37265416913969\n",
       "\\item -0.415568771043725\n",
       "\\end{enumerate*}\n"
      ],
      "text/markdown": [
       "1. 1.26773698690011\n",
       "2. &lt;NA&gt;\n",
       "3. &lt;NA&gt;\n",
       "4. -0.629532158302738\n",
       "5. 0.537582567518332\n",
       "6. 0.88888423487005\n",
       "7. &lt;NA&gt;\n",
       "8. -2.03906380815812\n",
       "9. 2.37265416913969\n",
       "10. -0.415568771043725\n",
       "\n",
       "\n"
      ],
      "text/plain": [
       " [1]  1.2677370         NA         NA -0.6295322  0.5375826  0.8888842\n",
       " [7]         NA -2.0390638  2.3726542 -0.4155688"
      ]
     },
     "metadata": {},
     "output_type": "display_data"
    }
   ],
   "source": [
    "# truy xuất 10 phần tử đầu tiên của biến x\n",
    "x[1:10]"
   ]
  },
  {
   "cell_type": "markdown",
   "metadata": {},
   "source": [
    "Index vector có bốn dạng gồm: logical vectors, positive/negative integer vectors, và character string vector. Chúng ta sẽ tiến hành khảo sát từng dạng index vector này.\n",
    "<h2>Logical vectors</h2>\n",
    "Đầu tiên, ta sẽ truy xuất dữ liệu với logical vectors. Một trong những trường hợp thông thường khi làm việc với dữ liệu thực tế đó là chúng ta cần truy xuất các phần tử không có giá trị bị thiếu (NA - missing data). Ta sử dụng hàm is.na(x) để trả về logical vector từ đó có thể truy xuất những phần tử không bị mất mát.\n"
   ]
  },
  {
   "cell_type": "code",
   "execution_count": 3,
   "metadata": {},
   "outputs": [
    {
     "name": "stdout",
     "output_type": "stream",
     "text": [
      "[1]  1.2677370 -0.6295322  0.5375826  0.8888842 -2.0390638  2.3726542 -0.4155688\n",
      "[8]  1.1131613 -0.8657003\n"
     ]
    }
   ],
   "source": [
    "# truy xuất các phần tử không phải là NA\n",
    "y <- x[!is.na(x)]\n",
    "print(y)"
   ]
  },
  {
   "cell_type": "code",
   "execution_count": 4,
   "metadata": {},
   "outputs": [
    {
     "data": {
      "text/html": [
       "<ol class=list-inline>\n",
       "\t<li>1.26773698690011</li>\n",
       "\t<li>0.537582567518332</li>\n",
       "\t<li>0.88888423487005</li>\n",
       "\t<li>2.37265416913969</li>\n",
       "\t<li>1.11316131740486</li>\n",
       "</ol>\n"
      ],
      "text/latex": [
       "\\begin{enumerate*}\n",
       "\\item 1.26773698690011\n",
       "\\item 0.537582567518332\n",
       "\\item 0.88888423487005\n",
       "\\item 2.37265416913969\n",
       "\\item 1.11316131740486\n",
       "\\end{enumerate*}\n"
      ],
      "text/markdown": [
       "1. 1.26773698690011\n",
       "2. 0.537582567518332\n",
       "3. 0.88888423487005\n",
       "4. 2.37265416913969\n",
       "5. 1.11316131740486\n",
       "\n",
       "\n"
      ],
      "text/plain": [
       "[1] 1.2677370 0.5375826 0.8888842 2.3726542 1.1131613"
      ]
     },
     "metadata": {},
     "output_type": "display_data"
    }
   ],
   "source": [
    "# truy xuất các phần tử lớn hơn 0\n",
    "y[y > 0]"
   ]
  },
  {
   "cell_type": "code",
   "execution_count": 5,
   "metadata": {},
   "outputs": [
    {
     "data": {
      "text/html": [
       "<ol class=list-inline>\n",
       "\t<li>1.26773698690011</li>\n",
       "\t<li>0.537582567518332</li>\n",
       "\t<li>0.88888423487005</li>\n",
       "\t<li>2.37265416913969</li>\n",
       "\t<li>1.11316131740486</li>\n",
       "</ol>\n"
      ],
      "text/latex": [
       "\\begin{enumerate*}\n",
       "\\item 1.26773698690011\n",
       "\\item 0.537582567518332\n",
       "\\item 0.88888423487005\n",
       "\\item 2.37265416913969\n",
       "\\item 1.11316131740486\n",
       "\\end{enumerate*}\n"
      ],
      "text/markdown": [
       "1. 1.26773698690011\n",
       "2. 0.537582567518332\n",
       "3. 0.88888423487005\n",
       "4. 2.37265416913969\n",
       "5. 1.11316131740486\n",
       "\n",
       "\n"
      ],
      "text/plain": [
       "[1] 1.2677370 0.5375826 0.8888842 2.3726542 1.1131613"
      ]
     },
     "metadata": {},
     "output_type": "display_data"
    }
   ],
   "source": [
    "# kết hợp hai phép truy xuất trên\n",
    "y <- x[!is.na(x) & x > 0]\n",
    "y"
   ]
  },
  {
   "cell_type": "markdown",
   "metadata": {},
   "source": [
    "<h2>Integer vectors</h2>\n",
    "Hầu hết các ngôn ngữ lập trình đều sử dụng 'zero-based indexing', nghĩa là phần tử đầu tiên của vector được đánh chỉ số là 0. R sử dụng 'one-based indexing', nghĩa là phần tử đầu tiên của vector được đánh chỉ số là 1.\n",
    "\n",
    "Để truy xuất phần tử thứ 3, 5, và 7 ta có thể làm như sau:\n"
   ]
  },
  {
   "cell_type": "code",
   "execution_count": 6,
   "metadata": {},
   "outputs": [
    {
     "data": {
      "text/html": [
       "<ol class=list-inline>\n",
       "\t<li>&lt;NA&gt;</li>\n",
       "\t<li>0.537582567518332</li>\n",
       "\t<li>&lt;NA&gt;</li>\n",
       "</ol>\n"
      ],
      "text/latex": [
       "\\begin{enumerate*}\n",
       "\\item <NA>\n",
       "\\item 0.537582567518332\n",
       "\\item <NA>\n",
       "\\end{enumerate*}\n"
      ],
      "text/markdown": [
       "1. &lt;NA&gt;\n",
       "2. 0.537582567518332\n",
       "3. &lt;NA&gt;\n",
       "\n",
       "\n"
      ],
      "text/plain": [
       "[1]        NA 0.5375826        NA"
      ]
     },
     "metadata": {},
     "output_type": "display_data"
    }
   ],
   "source": [
    "x[c(3, 5, 7)]"
   ]
  },
  {
   "cell_type": "code",
   "execution_count": 7,
   "metadata": {},
   "outputs": [
    {
     "name": "stdout",
     "output_type": "stream",
     "text": [
      "numeric(0)\n"
     ]
    }
   ],
   "source": [
    "# khi truy xuất các phần tử nằm ngoài phạm vị [1, length(x)], R sẽ không có cảnh báo nào.\n",
    "# dó đó, cần chú ý chỉ truy xuất các phần tử nằm trong phạm vi của vector để tránh kết quả sai.\n",
    "print(x[0])"
   ]
  },
  {
   "cell_type": "markdown",
   "metadata": {},
   "source": [
    "Giả sử như chúng ta quan tâm đến tất cả các phần tử của x ngoại trừ phần tử thứ 2 và thứ 10. Ta đơn giản thêm toán tử \"-\" vào trước chỉ số của phần tử ta muốn loại trừ."
   ]
  },
  {
   "cell_type": "code",
   "execution_count": 8,
   "metadata": {},
   "outputs": [
    {
     "name": "stdout",
     "output_type": "stream",
     "text": [
      " [1]  1.2677370         NA -0.6295322  0.5375826  0.8888842         NA\n",
      " [7] -2.0390638  2.3726542         NA         NA         NA         NA\n",
      "[13]  1.1131613         NA         NA         NA -0.8657003         NA\n"
     ]
    }
   ],
   "source": [
    "# đặt dấu \"-\" cho từng chỉ số cần loại trừ\n",
    "print(x[c(-2, -10)])"
   ]
  },
  {
   "cell_type": "code",
   "execution_count": 9,
   "metadata": {},
   "outputs": [
    {
     "name": "stdout",
     "output_type": "stream",
     "text": [
      " [1]  1.2677370         NA -0.6295322  0.5375826  0.8888842         NA\n",
      " [7] -2.0390638  2.3726542         NA         NA         NA         NA\n",
      "[13]  1.1131613         NA         NA         NA -0.8657003         NA\n"
     ]
    }
   ],
   "source": [
    "# tương tự bằng cách đặt dấu \"-\" ngoài vector chỉ số\n",
    "print(x[-c(2, 10)])"
   ]
  },
  {
   "cell_type": "markdown",
   "metadata": {},
   "source": [
    "<h2>Character string vector</h2>\n",
    "Đến bây giờ, chúng ta đã khảo sát ba loại index vectors đó là logical, positive integer, và negative integer. Loại còn lại là character string index. Ta tiến hành tạo vector sau để khảo sát.\n"
   ]
  },
  {
   "cell_type": "code",
   "execution_count": 10,
   "metadata": {},
   "outputs": [
    {
     "data": {
      "text/html": [
       "<dl class=dl-horizontal>\n",
       "\t<dt>foo</dt>\n",
       "\t\t<dd>11</dd>\n",
       "\t<dt>bar</dt>\n",
       "\t\t<dd>2</dd>\n",
       "\t<dt>norf</dt>\n",
       "\t\t<dd>&lt;NA&gt;</dd>\n",
       "</dl>\n"
      ],
      "text/latex": [
       "\\begin{description*}\n",
       "\\item[foo] 11\n",
       "\\item[bar] 2\n",
       "\\item[norf] <NA>\n",
       "\\end{description*}\n"
      ],
      "text/markdown": [
       "foo\n",
       ":   11bar\n",
       ":   2norf\n",
       ":   &lt;NA&gt;\n",
       "\n"
      ],
      "text/plain": [
       " foo  bar norf \n",
       "  11    2   NA "
      ]
     },
     "metadata": {},
     "output_type": "display_data"
    }
   ],
   "source": [
    "vect <- c(foo = 11, bar = 2, norf = NA)\n",
    "vect"
   ]
  },
  {
   "cell_type": "code",
   "execution_count": 11,
   "metadata": {},
   "outputs": [
    {
     "data": {
      "text/html": [
       "<ol class=list-inline>\n",
       "\t<li>'foo'</li>\n",
       "\t<li>'bar'</li>\n",
       "\t<li>'norf'</li>\n",
       "</ol>\n"
      ],
      "text/latex": [
       "\\begin{enumerate*}\n",
       "\\item 'foo'\n",
       "\\item 'bar'\n",
       "\\item 'norf'\n",
       "\\end{enumerate*}\n"
      ],
      "text/markdown": [
       "1. 'foo'\n",
       "2. 'bar'\n",
       "3. 'norf'\n",
       "\n",
       "\n"
      ],
      "text/plain": [
       "[1] \"foo\"  \"bar\"  \"norf\""
      ]
     },
     "metadata": {},
     "output_type": "display_data"
    }
   ],
   "source": [
    "# lấy danh sách tên các phần tử\n",
    "names(vect)"
   ]
  },
  {
   "cell_type": "markdown",
   "metadata": {},
   "source": [
    "Chúng ta có thể tạo vect2 tương tự vect mà không đặt tên trước như sau:\n"
   ]
  },
  {
   "cell_type": "code",
   "execution_count": 12,
   "metadata": {},
   "outputs": [
    {
     "data": {
      "text/html": [
       "<dl class=dl-horizontal>\n",
       "\t<dt>foo</dt>\n",
       "\t\t<dd>11</dd>\n",
       "\t<dt>bar</dt>\n",
       "\t\t<dd>2</dd>\n",
       "\t<dt>norf</dt>\n",
       "\t\t<dd>&lt;NA&gt;</dd>\n",
       "</dl>\n"
      ],
      "text/latex": [
       "\\begin{description*}\n",
       "\\item[foo] 11\n",
       "\\item[bar] 2\n",
       "\\item[norf] <NA>\n",
       "\\end{description*}\n"
      ],
      "text/markdown": [
       "foo\n",
       ":   11bar\n",
       ":   2norf\n",
       ":   &lt;NA&gt;\n",
       "\n"
      ],
      "text/plain": [
       " foo  bar norf \n",
       "  11    2   NA "
      ]
     },
     "metadata": {},
     "output_type": "display_data"
    }
   ],
   "source": [
    "vect2 <- c(11, 2, NA)\n",
    "names(vect2) <- c(\"foo\", \"bar\", \"norf\")\n",
    "vect2"
   ]
  },
  {
   "cell_type": "code",
   "execution_count": 13,
   "metadata": {},
   "outputs": [
    {
     "data": {
      "text/html": [
       "TRUE"
      ],
      "text/latex": [
       "TRUE"
      ],
      "text/markdown": [
       "TRUE"
      ],
      "text/plain": [
       "[1] TRUE"
      ]
     },
     "metadata": {},
     "output_type": "display_data"
    }
   ],
   "source": [
    "# kiểm tra hai vector có đồng nhất hay không\n",
    "identical(vect, vect2)"
   ]
  },
  {
   "cell_type": "markdown",
   "metadata": {},
   "source": [
    "Để truy xuất phần tử của vector bằng tên của các phần tử ta có thể làm như sau:"
   ]
  },
  {
   "cell_type": "code",
   "execution_count": 14,
   "metadata": {},
   "outputs": [
    {
     "data": {
      "text/html": [
       "<strong>bar:</strong> 2"
      ],
      "text/latex": [
       "\\textbf{bar:} 2"
      ],
      "text/markdown": [
       "**bar:** 2"
      ],
      "text/plain": [
       "bar \n",
       "  2 "
      ]
     },
     "metadata": {},
     "output_type": "display_data"
    }
   ],
   "source": [
    "vect[\"bar\"]"
   ]
  },
  {
   "cell_type": "code",
   "execution_count": 15,
   "metadata": {},
   "outputs": [
    {
     "data": {
      "text/html": [
       "<dl class=dl-horizontal>\n",
       "\t<dt>foo</dt>\n",
       "\t\t<dd>11</dd>\n",
       "\t<dt>bar</dt>\n",
       "\t\t<dd>2</dd>\n",
       "</dl>\n"
      ],
      "text/latex": [
       "\\begin{description*}\n",
       "\\item[foo] 11\n",
       "\\item[bar] 2\n",
       "\\end{description*}\n"
      ],
      "text/markdown": [
       "foo\n",
       ":   11bar\n",
       ":   2\n",
       "\n"
      ],
      "text/plain": [
       "foo bar \n",
       " 11   2 "
      ]
     },
     "metadata": {},
     "output_type": "display_data"
    }
   ],
   "source": [
    "# truy xuất bằng danh sách tên các phần tử\n",
    "vect[c(\"foo\", \"bar\")]"
   ]
  },
  {
   "cell_type": "markdown",
   "metadata": {},
   "source": [
    "Như vậy ta đã biết truy xuất các phần tử của vector thông qua kĩ thuật subsetting gồm logical vector, postive/negative integer vector, và character string vector.\n",
    "\n",
    "<strong>Nguồn tham khảo:</strong> <a href=\"http://swirlstats.com/\" target=\"_blank\" rel=\"noopener\">http://swirlstats.com/</a>"
   ]
  }
 ],
 "metadata": {
  "kernelspec": {
   "display_name": "R",
   "language": "R",
   "name": "ir"
  },
  "language_info": {
   "codemirror_mode": "r",
   "file_extension": ".r",
   "mimetype": "text/x-r-source",
   "name": "R",
   "pygments_lexer": "r",
   "version": "3.4.4"
  }
 },
 "nbformat": 4,
 "nbformat_minor": 2
}
