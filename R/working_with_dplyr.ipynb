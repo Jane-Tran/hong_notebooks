{
 "cells": [
  {
   "cell_type": "markdown",
   "metadata": {},
   "source": [
    "Như chúng ta đã biết, \"CRAN là một mạng ftp gồm các web server được đặt ở khắp nơi trên thế giới, đồng nhất với nhau về phiên bản, source code và document về R (http://cran.rstudio.com/). RStudio duy trì một phiên bản như vậy gọi là \"CRAN mirrors\", họ lưu lại file logs tất cả việc download các package của R (http://cran-logs.rstudio.com/). Chúng ta sẽ làm việc với file log từ ngày 8 tháng bảy, 2014 (chứa thông tin của gần 225,000 package được download). Các bạn có thể download ở link này: (http://cran-logs.rstudio.com/2014/2014-07-08.csv.gz)\n",
    "\n",
    "Giả sử path2csv là đường dẫn đến file bạn vừa download ở trên (đã được giải nén thành file .csv). Ta sử dụng hàm read.csv() để load dữ liệu như sau:"
   ]
  },
  {
   "cell_type": "code",
   "execution_count": 2,
   "metadata": {},
   "outputs": [
    {
     "name": "stdout",
     "output_type": "stream",
     "text": [
      "        date     time   size r_version r_arch      r_os      package version\n",
      "1 2014-07-08 00:54:41  80589     3.1.0 x86_64   mingw32    htmltools   0.2.4\n",
      "2 2014-07-08 00:59:53 321767     3.1.0 x86_64   mingw32      tseries 0.10-32\n",
      "3 2014-07-08 00:47:13 748063     3.1.0 x86_64 linux-gnu        party  1.0-15\n",
      "4 2014-07-08 00:48:05 606104     3.1.0 x86_64 linux-gnu        Hmisc  3.14-4\n",
      "5 2014-07-08 00:46:50  79825     3.0.2 x86_64 linux-gnu       digest   0.6.4\n",
      "6 2014-07-08 00:48:04  77681     3.1.0 x86_64 linux-gnu randomForest   4.6-7\n",
      "  country ip_id\n",
      "1      US     1\n",
      "2      US     2\n",
      "3      US     3\n",
      "4      US     3\n",
      "5      CA     4\n",
      "6      US     3\n"
     ]
    }
   ],
   "source": [
    "mydf <- read.csv(path2csv, stringsAsFactors = FALSE)\n",
    "print(head(mydf))"
   ]
  },
  {
   "cell_type": "markdown",
   "metadata": {},
   "source": [
    "Như thường lệ, chúng ta sẽ thử quan sát tổng thể dữ liệu mình chuẩn bị làm việc:"
   ]
  },
  {
   "cell_type": "code",
   "execution_count": 3,
   "metadata": {},
   "outputs": [
    {
     "data": {
      "text/html": [
       "<ol class=list-inline>\n",
       "\t<li>225468</li>\n",
       "\t<li>10</li>\n",
       "</ol>\n"
      ],
      "text/latex": [
       "\\begin{enumerate*}\n",
       "\\item 225468\n",
       "\\item 10\n",
       "\\end{enumerate*}\n"
      ],
      "text/markdown": [
       "1. 225468\n",
       "2. 10\n",
       "\n",
       "\n"
      ],
      "text/plain": [
       "[1] 225468     10"
      ]
     },
     "metadata": {},
     "output_type": "display_data"
    }
   ],
   "source": [
    "dim(mydf)"
   ]
  },
  {
   "cell_type": "code",
   "execution_count": 25,
   "metadata": {},
   "outputs": [
    {
     "data": {
      "text/plain": [
       "[1] ‘0.7.4’"
      ]
     },
     "metadata": {},
     "output_type": "display_data"
    }
   ],
   "source": [
    "# Để làm việc với dplyr, chúng ta cần load thư viện này lên:\n",
    "library(dplyr)\n",
    "\n",
    "# Kiểm tra phiên bản dplyr\n",
    "packageVersion(\"dplyr\")"
   ]
  },
  {
   "cell_type": "markdown",
   "metadata": {},
   "source": [
    "Bước đầu tiên để làm việc với dữ liệu trong dplyr, ta cần chuyển dữ liệu sang 'data frame tbl' như sau:"
   ]
  },
  {
   "cell_type": "code",
   "execution_count": 5,
   "metadata": {},
   "outputs": [],
   "source": [
    "cran <- tbl_df(mydf)\n",
    "\n",
    "# Ta loại bỏ mydf để tránh gây nhầm lẫn trong quá trình thao tác\n",
    "rm(\"mydf\")"
   ]
  },
  {
   "cell_type": "markdown",
   "metadata": {},
   "source": [
    "Khi in tập dữ liệu cran ra màn hình ta sẽ có kết quả như sau:"
   ]
  },
  {
   "cell_type": "code",
   "execution_count": 6,
   "metadata": {},
   "outputs": [
    {
     "name": "stdout",
     "output_type": "stream",
     "text": [
      "# A tibble: 225,468 x 10\n",
      "   date       time    size r_version r_arch r_os  package version country ip_id\n",
      "   <chr>      <chr>  <int> <chr>     <chr>  <chr> <chr>   <chr>   <chr>   <int>\n",
      " 1 2014-07-08 00:5… 8.06e4 3.1.0     x86_64 ming… htmlto… 0.2.4   US          1\n",
      " 2 2014-07-08 00:5… 3.22e5 3.1.0     x86_64 ming… tseries 0.10-32 US          2\n",
      " 3 2014-07-08 00:4… 7.48e5 3.1.0     x86_64 linu… party   1.0-15  US          3\n",
      " 4 2014-07-08 00:4… 6.06e5 3.1.0     x86_64 linu… Hmisc   3.14-4  US          3\n",
      " 5 2014-07-08 00:4… 7.98e4 3.0.2     x86_64 linu… digest  0.6.4   CA          4\n",
      " 6 2014-07-08 00:4… 7.77e4 3.1.0     x86_64 linu… random… 4.6-7   US          3\n",
      " 7 2014-07-08 00:4… 3.94e5 3.1.0     x86_64 linu… plyr    1.8.1   US          3\n",
      " 8 2014-07-08 00:4… 2.82e4 3.0.2     x86_64 linu… whisker 0.3-2   US          5\n",
      " 9 2014-07-08 00:5… 5.93e3 <NA>      <NA>   <NA>  Rcpp    0.10.4  CN          6\n",
      "10 2014-07-08 00:1… 2.21e6 3.0.2     x86_64 linu… hfligh… 0.1     US          7\n",
      "# ... with 225,458 more rows\n"
     ]
    }
   ],
   "source": [
    "print(cran)"
   ]
  },
  {
   "cell_type": "markdown",
   "metadata": {},
   "source": [
    "Ta thấy kết quả hiện thị đầy đủ và xúc tích hơn khi chúng ta in dữ liệu dạng data frame mydf ban đầu. Dòng đầu tiên cho biết tên lớp và số chiều của tập dữ liệu. Ngay bên dưới, ta có thể quan sát tổng quan về dữ liệu. Thay vì in ra toàn bộ tập dữ liệu, dplyr chỉ hiển thị cho chúng ta 10 dòng đầu tiên và nhiều nhất có thể các cột dữ liệu để quan sát trên màn hình console. Bên dưới cùng, ta thấy danh sách các tên và các lớp của các cột dữ liệu còn lại.\n",
    "\n",
    "Triết lý của dplyr đó là với tập nhỏ các hàm chúng sẽ làm thật tốt từng hàm này. Cụ thể, dplyr cung cấp 5 \"hành động\" chính được sử dụng để thao tác cơ bản với tập dữ liệu gồm: select(), filter(), arrange(), mutate(), và summarize().\n",
    "<h2>select</h2>\n",
    "Trong hầu hết mọi trường hợp, đặc biệt là các bảng dữ liệu lớn, ta chỉ quan tâm đến một vài cột dữ liệu. Ví dụ, ta chỉ muốn chọn các cột dữ liệu sau để hiển thị gồm ip_id, package, và country. Ta có thể sử dụng hàm select() như sau:"
   ]
  },
  {
   "cell_type": "code",
   "execution_count": 7,
   "metadata": {},
   "outputs": [
    {
     "data": {
      "text/html": [
       "<table>\n",
       "<thead><tr><th scope=col>ip_id</th><th scope=col>package</th><th scope=col>country</th></tr></thead>\n",
       "<tbody>\n",
       "\t<tr><td>1           </td><td>htmltools   </td><td>US          </td></tr>\n",
       "\t<tr><td>2           </td><td>tseries     </td><td>US          </td></tr>\n",
       "\t<tr><td>3           </td><td>party       </td><td>US          </td></tr>\n",
       "\t<tr><td>3           </td><td>Hmisc       </td><td>US          </td></tr>\n",
       "\t<tr><td>4           </td><td>digest      </td><td>CA          </td></tr>\n",
       "\t<tr><td>3           </td><td>randomForest</td><td>US          </td></tr>\n",
       "</tbody>\n",
       "</table>\n"
      ],
      "text/latex": [
       "\\begin{tabular}{r|lll}\n",
       " ip\\_id & package & country\\\\\n",
       "\\hline\n",
       "\t 1            & htmltools    & US          \\\\\n",
       "\t 2            & tseries      & US          \\\\\n",
       "\t 3            & party        & US          \\\\\n",
       "\t 3            & Hmisc        & US          \\\\\n",
       "\t 4            & digest       & CA          \\\\\n",
       "\t 3            & randomForest & US          \\\\\n",
       "\\end{tabular}\n"
      ],
      "text/markdown": [
       "\n",
       "ip_id | package | country | \n",
       "|---|---|---|---|---|---|\n",
       "| 1            | htmltools    | US           | \n",
       "| 2            | tseries      | US           | \n",
       "| 3            | party        | US           | \n",
       "| 3            | Hmisc        | US           | \n",
       "| 4            | digest       | CA           | \n",
       "| 3            | randomForest | US           | \n",
       "\n",
       "\n"
      ],
      "text/plain": [
       "  ip_id package      country\n",
       "1 1     htmltools    US     \n",
       "2 2     tseries      US     \n",
       "3 3     party        US     \n",
       "4 3     Hmisc        US     \n",
       "5 4     digest       CA     \n",
       "6 3     randomForest US     "
      ]
     },
     "metadata": {},
     "output_type": "display_data"
    }
   ],
   "source": [
    "# Ta có thể làm tương tự như sau\n",
    "# cran$ip_id, cran$package, và cran$country\n",
    "head(select(cran, ip_id, package, country))"
   ]
  },
  {
   "cell_type": "markdown",
   "metadata": {},
   "source": [
    "Ta thấy rằng các cột dữ liệu trả ra sẽ theo thứ tự đã rút trích, mặc dù ip_id nằm ở bên phải cùng của tập dữ liệu ban đầu. Ta có thể sử dụng dạng chuỗi (r_arch:country) để rút trích các cột dữ liệu như sau:"
   ]
  },
  {
   "cell_type": "code",
   "execution_count": 8,
   "metadata": {},
   "outputs": [
    {
     "data": {
      "text/html": [
       "<table>\n",
       "<thead><tr><th scope=col>r_arch</th><th scope=col>r_os</th><th scope=col>package</th><th scope=col>version</th><th scope=col>country</th></tr></thead>\n",
       "<tbody>\n",
       "\t<tr><td>x86_64      </td><td>mingw32     </td><td>htmltools   </td><td>0.2.4       </td><td>US          </td></tr>\n",
       "\t<tr><td>x86_64      </td><td>mingw32     </td><td>tseries     </td><td>0.10-32     </td><td>US          </td></tr>\n",
       "\t<tr><td>x86_64      </td><td>linux-gnu   </td><td>party       </td><td>1.0-15      </td><td>US          </td></tr>\n",
       "\t<tr><td>x86_64      </td><td>linux-gnu   </td><td>Hmisc       </td><td>3.14-4      </td><td>US          </td></tr>\n",
       "\t<tr><td>x86_64      </td><td>linux-gnu   </td><td>digest      </td><td>0.6.4       </td><td>CA          </td></tr>\n",
       "\t<tr><td>x86_64      </td><td>linux-gnu   </td><td>randomForest</td><td>4.6-7       </td><td>US          </td></tr>\n",
       "</tbody>\n",
       "</table>\n"
      ],
      "text/latex": [
       "\\begin{tabular}{r|lllll}\n",
       " r\\_arch & r\\_os & package & version & country\\\\\n",
       "\\hline\n",
       "\t x86\\_64     & mingw32      & htmltools    & 0.2.4        & US          \\\\\n",
       "\t x86\\_64     & mingw32      & tseries      & 0.10-32      & US          \\\\\n",
       "\t x86\\_64     & linux-gnu    & party        & 1.0-15       & US          \\\\\n",
       "\t x86\\_64     & linux-gnu    & Hmisc        & 3.14-4       & US          \\\\\n",
       "\t x86\\_64     & linux-gnu    & digest       & 0.6.4        & CA          \\\\\n",
       "\t x86\\_64     & linux-gnu    & randomForest & 4.6-7        & US          \\\\\n",
       "\\end{tabular}\n"
      ],
      "text/markdown": [
       "\n",
       "r_arch | r_os | package | version | country | \n",
       "|---|---|---|---|---|---|\n",
       "| x86_64       | mingw32      | htmltools    | 0.2.4        | US           | \n",
       "| x86_64       | mingw32      | tseries      | 0.10-32      | US           | \n",
       "| x86_64       | linux-gnu    | party        | 1.0-15       | US           | \n",
       "| x86_64       | linux-gnu    | Hmisc        | 3.14-4       | US           | \n",
       "| x86_64       | linux-gnu    | digest       | 0.6.4        | CA           | \n",
       "| x86_64       | linux-gnu    | randomForest | 4.6-7        | US           | \n",
       "\n",
       "\n"
      ],
      "text/plain": [
       "  r_arch r_os      package      version country\n",
       "1 x86_64 mingw32   htmltools    0.2.4   US     \n",
       "2 x86_64 mingw32   tseries      0.10-32 US     \n",
       "3 x86_64 linux-gnu party        1.0-15  US     \n",
       "4 x86_64 linux-gnu Hmisc        3.14-4  US     \n",
       "5 x86_64 linux-gnu digest       0.6.4   CA     \n",
       "6 x86_64 linux-gnu randomForest 4.6-7   US     "
      ]
     },
     "metadata": {},
     "output_type": "display_data"
    }
   ],
   "source": [
    "head(select(cran, r_arch:country))"
   ]
  },
  {
   "cell_type": "markdown",
   "metadata": {},
   "source": [
    "Ta có thể làm tương tự như trên nhưng đảo ngược thứ tự các cột dữ liệu:"
   ]
  },
  {
   "cell_type": "code",
   "execution_count": 9,
   "metadata": {},
   "outputs": [
    {
     "data": {
      "text/html": [
       "<table>\n",
       "<thead><tr><th scope=col>country</th><th scope=col>version</th><th scope=col>package</th><th scope=col>r_os</th><th scope=col>r_arch</th></tr></thead>\n",
       "<tbody>\n",
       "\t<tr><td>US          </td><td>0.2.4       </td><td>htmltools   </td><td>mingw32     </td><td>x86_64      </td></tr>\n",
       "\t<tr><td>US          </td><td>0.10-32     </td><td>tseries     </td><td>mingw32     </td><td>x86_64      </td></tr>\n",
       "\t<tr><td>US          </td><td>1.0-15      </td><td>party       </td><td>linux-gnu   </td><td>x86_64      </td></tr>\n",
       "\t<tr><td>US          </td><td>3.14-4      </td><td>Hmisc       </td><td>linux-gnu   </td><td>x86_64      </td></tr>\n",
       "\t<tr><td>CA          </td><td>0.6.4       </td><td>digest      </td><td>linux-gnu   </td><td>x86_64      </td></tr>\n",
       "\t<tr><td>US          </td><td>4.6-7       </td><td>randomForest</td><td>linux-gnu   </td><td>x86_64      </td></tr>\n",
       "</tbody>\n",
       "</table>\n"
      ],
      "text/latex": [
       "\\begin{tabular}{r|lllll}\n",
       " country & version & package & r\\_os & r\\_arch\\\\\n",
       "\\hline\n",
       "\t US           & 0.2.4        & htmltools    & mingw32      & x86\\_64    \\\\\n",
       "\t US           & 0.10-32      & tseries      & mingw32      & x86\\_64    \\\\\n",
       "\t US           & 1.0-15       & party        & linux-gnu    & x86\\_64    \\\\\n",
       "\t US           & 3.14-4       & Hmisc        & linux-gnu    & x86\\_64    \\\\\n",
       "\t CA           & 0.6.4        & digest       & linux-gnu    & x86\\_64    \\\\\n",
       "\t US           & 4.6-7        & randomForest & linux-gnu    & x86\\_64    \\\\\n",
       "\\end{tabular}\n"
      ],
      "text/markdown": [
       "\n",
       "country | version | package | r_os | r_arch | \n",
       "|---|---|---|---|---|---|\n",
       "| US           | 0.2.4        | htmltools    | mingw32      | x86_64       | \n",
       "| US           | 0.10-32      | tseries      | mingw32      | x86_64       | \n",
       "| US           | 1.0-15       | party        | linux-gnu    | x86_64       | \n",
       "| US           | 3.14-4       | Hmisc        | linux-gnu    | x86_64       | \n",
       "| CA           | 0.6.4        | digest       | linux-gnu    | x86_64       | \n",
       "| US           | 4.6-7        | randomForest | linux-gnu    | x86_64       | \n",
       "\n",
       "\n"
      ],
      "text/plain": [
       "  country version package      r_os      r_arch\n",
       "1 US      0.2.4   htmltools    mingw32   x86_64\n",
       "2 US      0.10-32 tseries      mingw32   x86_64\n",
       "3 US      1.0-15  party        linux-gnu x86_64\n",
       "4 US      3.14-4  Hmisc        linux-gnu x86_64\n",
       "5 CA      0.6.4   digest       linux-gnu x86_64\n",
       "6 US      4.6-7   randomForest linux-gnu x86_64"
      ]
     },
     "metadata": {},
     "output_type": "display_data"
    }
   ],
   "source": [
    "head(select(cran, country:r_arch))"
   ]
  },
  {
   "cell_type": "markdown",
   "metadata": {},
   "source": [
    "Thay vì hiển thị những cột dữ liệu được hiển thị, chúng ta cũng có thể chỉ định những cột dữ liệu cần lược bỏ bằng cách sử dụng dấu \"-\":\n"
   ]
  },
  {
   "cell_type": "code",
   "execution_count": 10,
   "metadata": {},
   "outputs": [
    {
     "data": {
      "text/html": [
       "<table>\n",
       "<thead><tr><th scope=col>date</th><th scope=col>size</th><th scope=col>r_version</th><th scope=col>r_arch</th><th scope=col>r_os</th><th scope=col>package</th><th scope=col>version</th><th scope=col>country</th><th scope=col>ip_id</th></tr></thead>\n",
       "<tbody>\n",
       "\t<tr><td>2014-07-08  </td><td> 80589      </td><td>3.1.0       </td><td>x86_64      </td><td>mingw32     </td><td>htmltools   </td><td>0.2.4       </td><td>US          </td><td>1           </td></tr>\n",
       "\t<tr><td>2014-07-08  </td><td>321767      </td><td>3.1.0       </td><td>x86_64      </td><td>mingw32     </td><td>tseries     </td><td>0.10-32     </td><td>US          </td><td>2           </td></tr>\n",
       "\t<tr><td>2014-07-08  </td><td>748063      </td><td>3.1.0       </td><td>x86_64      </td><td>linux-gnu   </td><td>party       </td><td>1.0-15      </td><td>US          </td><td>3           </td></tr>\n",
       "\t<tr><td>2014-07-08  </td><td>606104      </td><td>3.1.0       </td><td>x86_64      </td><td>linux-gnu   </td><td>Hmisc       </td><td>3.14-4      </td><td>US          </td><td>3           </td></tr>\n",
       "\t<tr><td>2014-07-08  </td><td> 79825      </td><td>3.0.2       </td><td>x86_64      </td><td>linux-gnu   </td><td>digest      </td><td>0.6.4       </td><td>CA          </td><td>4           </td></tr>\n",
       "\t<tr><td>2014-07-08  </td><td> 77681      </td><td>3.1.0       </td><td>x86_64      </td><td>linux-gnu   </td><td>randomForest</td><td>4.6-7       </td><td>US          </td><td>3           </td></tr>\n",
       "</tbody>\n",
       "</table>\n"
      ],
      "text/latex": [
       "\\begin{tabular}{r|lllllllll}\n",
       " date & size & r\\_version & r\\_arch & r\\_os & package & version & country & ip\\_id\\\\\n",
       "\\hline\n",
       "\t 2014-07-08   &  80589       & 3.1.0        & x86\\_64     & mingw32      & htmltools    & 0.2.4        & US           & 1           \\\\\n",
       "\t 2014-07-08   & 321767       & 3.1.0        & x86\\_64     & mingw32      & tseries      & 0.10-32      & US           & 2           \\\\\n",
       "\t 2014-07-08   & 748063       & 3.1.0        & x86\\_64     & linux-gnu    & party        & 1.0-15       & US           & 3           \\\\\n",
       "\t 2014-07-08   & 606104       & 3.1.0        & x86\\_64     & linux-gnu    & Hmisc        & 3.14-4       & US           & 3           \\\\\n",
       "\t 2014-07-08   &  79825       & 3.0.2        & x86\\_64     & linux-gnu    & digest       & 0.6.4        & CA           & 4           \\\\\n",
       "\t 2014-07-08   &  77681       & 3.1.0        & x86\\_64     & linux-gnu    & randomForest & 4.6-7        & US           & 3           \\\\\n",
       "\\end{tabular}\n"
      ],
      "text/markdown": [
       "\n",
       "date | size | r_version | r_arch | r_os | package | version | country | ip_id | \n",
       "|---|---|---|---|---|---|\n",
       "| 2014-07-08   |  80589       | 3.1.0        | x86_64       | mingw32      | htmltools    | 0.2.4        | US           | 1            | \n",
       "| 2014-07-08   | 321767       | 3.1.0        | x86_64       | mingw32      | tseries      | 0.10-32      | US           | 2            | \n",
       "| 2014-07-08   | 748063       | 3.1.0        | x86_64       | linux-gnu    | party        | 1.0-15       | US           | 3            | \n",
       "| 2014-07-08   | 606104       | 3.1.0        | x86_64       | linux-gnu    | Hmisc        | 3.14-4       | US           | 3            | \n",
       "| 2014-07-08   |  79825       | 3.0.2        | x86_64       | linux-gnu    | digest       | 0.6.4        | CA           | 4            | \n",
       "| 2014-07-08   |  77681       | 3.1.0        | x86_64       | linux-gnu    | randomForest | 4.6-7        | US           | 3            | \n",
       "\n",
       "\n"
      ],
      "text/plain": [
       "  date       size   r_version r_arch r_os      package      version country\n",
       "1 2014-07-08  80589 3.1.0     x86_64 mingw32   htmltools    0.2.4   US     \n",
       "2 2014-07-08 321767 3.1.0     x86_64 mingw32   tseries      0.10-32 US     \n",
       "3 2014-07-08 748063 3.1.0     x86_64 linux-gnu party        1.0-15  US     \n",
       "4 2014-07-08 606104 3.1.0     x86_64 linux-gnu Hmisc        3.14-4  US     \n",
       "5 2014-07-08  79825 3.0.2     x86_64 linux-gnu digest       0.6.4   CA     \n",
       "6 2014-07-08  77681 3.1.0     x86_64 linux-gnu randomForest 4.6-7   US     \n",
       "  ip_id\n",
       "1 1    \n",
       "2 2    \n",
       "3 3    \n",
       "4 3    \n",
       "5 4    \n",
       "6 3    "
      ]
     },
     "metadata": {},
     "output_type": "display_data"
    }
   ],
   "source": [
    "# không hiển thị cột time\n",
    "head(select(cran, -time))"
   ]
  },
  {
   "cell_type": "code",
   "execution_count": 11,
   "metadata": {},
   "outputs": [
    {
     "data": {
      "text/html": [
       "<table>\n",
       "<thead><tr><th scope=col>date</th><th scope=col>time</th><th scope=col>r_os</th><th scope=col>package</th><th scope=col>version</th><th scope=col>country</th><th scope=col>ip_id</th></tr></thead>\n",
       "<tbody>\n",
       "\t<tr><td>2014-07-08  </td><td>00:54:41    </td><td>mingw32     </td><td>htmltools   </td><td>0.2.4       </td><td>US          </td><td>1           </td></tr>\n",
       "\t<tr><td>2014-07-08  </td><td>00:59:53    </td><td>mingw32     </td><td>tseries     </td><td>0.10-32     </td><td>US          </td><td>2           </td></tr>\n",
       "\t<tr><td>2014-07-08  </td><td>00:47:13    </td><td>linux-gnu   </td><td>party       </td><td>1.0-15      </td><td>US          </td><td>3           </td></tr>\n",
       "\t<tr><td>2014-07-08  </td><td>00:48:05    </td><td>linux-gnu   </td><td>Hmisc       </td><td>3.14-4      </td><td>US          </td><td>3           </td></tr>\n",
       "\t<tr><td>2014-07-08  </td><td>00:46:50    </td><td>linux-gnu   </td><td>digest      </td><td>0.6.4       </td><td>CA          </td><td>4           </td></tr>\n",
       "\t<tr><td>2014-07-08  </td><td>00:48:04    </td><td>linux-gnu   </td><td>randomForest</td><td>4.6-7       </td><td>US          </td><td>3           </td></tr>\n",
       "</tbody>\n",
       "</table>\n"
      ],
      "text/latex": [
       "\\begin{tabular}{r|lllllll}\n",
       " date & time & r\\_os & package & version & country & ip\\_id\\\\\n",
       "\\hline\n",
       "\t 2014-07-08   & 00:54:41     & mingw32      & htmltools    & 0.2.4        & US           & 1           \\\\\n",
       "\t 2014-07-08   & 00:59:53     & mingw32      & tseries      & 0.10-32      & US           & 2           \\\\\n",
       "\t 2014-07-08   & 00:47:13     & linux-gnu    & party        & 1.0-15       & US           & 3           \\\\\n",
       "\t 2014-07-08   & 00:48:05     & linux-gnu    & Hmisc        & 3.14-4       & US           & 3           \\\\\n",
       "\t 2014-07-08   & 00:46:50     & linux-gnu    & digest       & 0.6.4        & CA           & 4           \\\\\n",
       "\t 2014-07-08   & 00:48:04     & linux-gnu    & randomForest & 4.6-7        & US           & 3           \\\\\n",
       "\\end{tabular}\n"
      ],
      "text/markdown": [
       "\n",
       "date | time | r_os | package | version | country | ip_id | \n",
       "|---|---|---|---|---|---|\n",
       "| 2014-07-08   | 00:54:41     | mingw32      | htmltools    | 0.2.4        | US           | 1            | \n",
       "| 2014-07-08   | 00:59:53     | mingw32      | tseries      | 0.10-32      | US           | 2            | \n",
       "| 2014-07-08   | 00:47:13     | linux-gnu    | party        | 1.0-15       | US           | 3            | \n",
       "| 2014-07-08   | 00:48:05     | linux-gnu    | Hmisc        | 3.14-4       | US           | 3            | \n",
       "| 2014-07-08   | 00:46:50     | linux-gnu    | digest       | 0.6.4        | CA           | 4            | \n",
       "| 2014-07-08   | 00:48:04     | linux-gnu    | randomForest | 4.6-7        | US           | 3            | \n",
       "\n",
       "\n"
      ],
      "text/plain": [
       "  date       time     r_os      package      version country ip_id\n",
       "1 2014-07-08 00:54:41 mingw32   htmltools    0.2.4   US      1    \n",
       "2 2014-07-08 00:59:53 mingw32   tseries      0.10-32 US      2    \n",
       "3 2014-07-08 00:47:13 linux-gnu party        1.0-15  US      3    \n",
       "4 2014-07-08 00:48:05 linux-gnu Hmisc        3.14-4  US      3    \n",
       "5 2014-07-08 00:46:50 linux-gnu digest       0.6.4   CA      4    \n",
       "6 2014-07-08 00:48:04 linux-gnu randomForest 4.6-7   US      3    "
      ]
     },
     "metadata": {},
     "output_type": "display_data"
    }
   ],
   "source": [
    "# không hiển thị từ cột X đến cột size\n",
    "head(select(cran, -(r_arch:3)))"
   ]
  },
  {
   "cell_type": "markdown",
   "metadata": {},
   "source": [
    "<h2>filter</h2>\n",
    "Bây giờ, bạn đã biết cách rút trích tập con của các cột dữ liệu bằng cách sử dụng hàm select(), bước tiếp theo ta sẽ học cách rút trích tập của của các dòng dữ liệu thông qua hàm filter(). Ví dụ, ta chỉ muốn lọc ra những dòng dữ liệu mà có thuộc tính (cột dữ liệu) package là \"swirl\". Ta thực hiện như sau:"
   ]
  },
  {
   "cell_type": "code",
   "execution_count": 12,
   "metadata": {},
   "outputs": [
    {
     "data": {
      "text/html": [
       "<table>\n",
       "<thead><tr><th scope=col>date</th><th scope=col>time</th><th scope=col>size</th><th scope=col>r_version</th><th scope=col>r_arch</th><th scope=col>r_os</th><th scope=col>package</th><th scope=col>version</th><th scope=col>country</th><th scope=col>ip_id</th></tr></thead>\n",
       "<tbody>\n",
       "\t<tr><td>2014-07-08  </td><td>00:17:16    </td><td>105350      </td><td>3.0.2       </td><td>x86_64      </td><td>mingw32     </td><td>swirl       </td><td>2.2.9       </td><td>US          </td><td> 20         </td></tr>\n",
       "\t<tr><td>2014-07-08  </td><td>00:22:53    </td><td> 41261      </td><td>3.1.0       </td><td>x86_64      </td><td>linux-gnu   </td><td>swirl       </td><td>2.2.9       </td><td>US          </td><td> 66         </td></tr>\n",
       "\t<tr><td>2014-07-08  </td><td>00:13:42    </td><td>105335      </td><td>2.15.2      </td><td>x86_64      </td><td>mingw32     </td><td>swirl       </td><td>2.2.9       </td><td>CA          </td><td>115         </td></tr>\n",
       "\t<tr><td>2014-07-08  </td><td>00:59:45    </td><td>105465      </td><td>3.1.0       </td><td>x86_64      </td><td>darwin13.1.0</td><td>swirl       </td><td>2.2.9       </td><td>MX          </td><td>162         </td></tr>\n",
       "\t<tr><td>2014-07-08  </td><td>00:55:27    </td><td>105335      </td><td>3.0.3       </td><td>x86_64      </td><td>mingw32     </td><td>swirl       </td><td>2.2.9       </td><td>US          </td><td> 57         </td></tr>\n",
       "\t<tr><td>2014-07-08  </td><td>00:33:06    </td><td> 41261      </td><td>3.1.0       </td><td>x86_64      </td><td>mingw32     </td><td>swirl       </td><td>2.2.9       </td><td>US          </td><td> 70         </td></tr>\n",
       "</tbody>\n",
       "</table>\n"
      ],
      "text/latex": [
       "\\begin{tabular}{r|llllllllll}\n",
       " date & time & size & r\\_version & r\\_arch & r\\_os & package & version & country & ip\\_id\\\\\n",
       "\\hline\n",
       "\t 2014-07-08   & 00:17:16     & 105350       & 3.0.2        & x86\\_64     & mingw32      & swirl        & 2.2.9        & US           &  20         \\\\\n",
       "\t 2014-07-08   & 00:22:53     &  41261       & 3.1.0        & x86\\_64     & linux-gnu    & swirl        & 2.2.9        & US           &  66         \\\\\n",
       "\t 2014-07-08   & 00:13:42     & 105335       & 2.15.2       & x86\\_64     & mingw32      & swirl        & 2.2.9        & CA           & 115         \\\\\n",
       "\t 2014-07-08   & 00:59:45     & 105465       & 3.1.0        & x86\\_64     & darwin13.1.0 & swirl        & 2.2.9        & MX           & 162         \\\\\n",
       "\t 2014-07-08   & 00:55:27     & 105335       & 3.0.3        & x86\\_64     & mingw32      & swirl        & 2.2.9        & US           &  57         \\\\\n",
       "\t 2014-07-08   & 00:33:06     &  41261       & 3.1.0        & x86\\_64     & mingw32      & swirl        & 2.2.9        & US           &  70         \\\\\n",
       "\\end{tabular}\n"
      ],
      "text/markdown": [
       "\n",
       "date | time | size | r_version | r_arch | r_os | package | version | country | ip_id | \n",
       "|---|---|---|---|---|---|\n",
       "| 2014-07-08   | 00:17:16     | 105350       | 3.0.2        | x86_64       | mingw32      | swirl        | 2.2.9        | US           |  20          | \n",
       "| 2014-07-08   | 00:22:53     |  41261       | 3.1.0        | x86_64       | linux-gnu    | swirl        | 2.2.9        | US           |  66          | \n",
       "| 2014-07-08   | 00:13:42     | 105335       | 2.15.2       | x86_64       | mingw32      | swirl        | 2.2.9        | CA           | 115          | \n",
       "| 2014-07-08   | 00:59:45     | 105465       | 3.1.0        | x86_64       | darwin13.1.0 | swirl        | 2.2.9        | MX           | 162          | \n",
       "| 2014-07-08   | 00:55:27     | 105335       | 3.0.3        | x86_64       | mingw32      | swirl        | 2.2.9        | US           |  57          | \n",
       "| 2014-07-08   | 00:33:06     |  41261       | 3.1.0        | x86_64       | mingw32      | swirl        | 2.2.9        | US           |  70          | \n",
       "\n",
       "\n"
      ],
      "text/plain": [
       "  date       time     size   r_version r_arch r_os         package version\n",
       "1 2014-07-08 00:17:16 105350 3.0.2     x86_64 mingw32      swirl   2.2.9  \n",
       "2 2014-07-08 00:22:53  41261 3.1.0     x86_64 linux-gnu    swirl   2.2.9  \n",
       "3 2014-07-08 00:13:42 105335 2.15.2    x86_64 mingw32      swirl   2.2.9  \n",
       "4 2014-07-08 00:59:45 105465 3.1.0     x86_64 darwin13.1.0 swirl   2.2.9  \n",
       "5 2014-07-08 00:55:27 105335 3.0.3     x86_64 mingw32      swirl   2.2.9  \n",
       "6 2014-07-08 00:33:06  41261 3.1.0     x86_64 mingw32      swirl   2.2.9  \n",
       "  country ip_id\n",
       "1 US       20  \n",
       "2 US       66  \n",
       "3 CA      115  \n",
       "4 MX      162  \n",
       "5 US       57  \n",
       "6 US       70  "
      ]
     },
     "metadata": {},
     "output_type": "display_data"
    }
   ],
   "source": [
    "head(filter(cran, package == \"swirl\"))"
   ]
  },
  {
   "cell_type": "markdown",
   "metadata": {},
   "source": [
    "Chúng ta có thể dùng dấu \",\" để nối liên tiếp các điều kiện \"&\" và dùng toán tử \"|\" để nối các điều kiện \"or\"."
   ]
  },
  {
   "cell_type": "code",
   "execution_count": 13,
   "metadata": {},
   "outputs": [
    {
     "data": {
      "text/html": [
       "<table>\n",
       "<thead><tr><th scope=col>date</th><th scope=col>time</th><th scope=col>size</th><th scope=col>r_version</th><th scope=col>r_arch</th><th scope=col>r_os</th><th scope=col>package</th><th scope=col>version</th><th scope=col>country</th><th scope=col>ip_id</th></tr></thead>\n",
       "<tbody>\n",
       "\t<tr><td>2014-07-08  </td><td>00:48:58    </td><td> 385112     </td><td>3.1.1       </td><td>x86_64      </td><td>darwin13.1.0</td><td>colorspace  </td><td>1.2-4       </td><td>US          </td><td> 191        </td></tr>\n",
       "\t<tr><td>2014-07-08  </td><td>03:39:57    </td><td> 197459     </td><td>3.1.1       </td><td>x86_64      </td><td>darwin13.1.0</td><td>httr        </td><td>0.3         </td><td>US          </td><td>1704        </td></tr>\n",
       "\t<tr><td>2014-07-08  </td><td>03:25:38    </td><td>  23259     </td><td>3.1.1       </td><td>x86_64      </td><td>darwin13.1.0</td><td>snow        </td><td>0.3-13      </td><td>US          </td><td>  62        </td></tr>\n",
       "\t<tr><td>2014-07-08  </td><td>03:59:17    </td><td> 190594     </td><td>3.1.1       </td><td>x86_64      </td><td>darwin13.1.0</td><td>maxLik      </td><td>1.2-0       </td><td>US          </td><td>1533        </td></tr>\n",
       "\t<tr><td>2014-07-08  </td><td>04:13:15    </td><td>  77683     </td><td>3.1.1       </td><td>i386        </td><td>mingw32     </td><td>randomForest</td><td>4.6-7       </td><td>US          </td><td> 646        </td></tr>\n",
       "\t<tr><td>2014-07-08  </td><td>04:06:26    </td><td>2351969     </td><td>3.1.1       </td><td>i386        </td><td>mingw32     </td><td>ggplot2     </td><td>1.0.0       </td><td>US          </td><td>   8        </td></tr>\n",
       "</tbody>\n",
       "</table>\n"
      ],
      "text/latex": [
       "\\begin{tabular}{r|llllllllll}\n",
       " date & time & size & r\\_version & r\\_arch & r\\_os & package & version & country & ip\\_id\\\\\n",
       "\\hline\n",
       "\t 2014-07-08   & 00:48:58     &  385112      & 3.1.1        & x86\\_64     & darwin13.1.0 & colorspace   & 1.2-4        & US           &  191        \\\\\n",
       "\t 2014-07-08   & 03:39:57     &  197459      & 3.1.1        & x86\\_64     & darwin13.1.0 & httr         & 0.3          & US           & 1704        \\\\\n",
       "\t 2014-07-08   & 03:25:38     &   23259      & 3.1.1        & x86\\_64     & darwin13.1.0 & snow         & 0.3-13       & US           &   62        \\\\\n",
       "\t 2014-07-08   & 03:59:17     &  190594      & 3.1.1        & x86\\_64     & darwin13.1.0 & maxLik       & 1.2-0        & US           & 1533        \\\\\n",
       "\t 2014-07-08   & 04:13:15     &   77683      & 3.1.1        & i386         & mingw32      & randomForest & 4.6-7        & US           &  646        \\\\\n",
       "\t 2014-07-08   & 04:06:26     & 2351969      & 3.1.1        & i386         & mingw32      & ggplot2      & 1.0.0        & US           &    8        \\\\\n",
       "\\end{tabular}\n"
      ],
      "text/markdown": [
       "\n",
       "date | time | size | r_version | r_arch | r_os | package | version | country | ip_id | \n",
       "|---|---|---|---|---|---|\n",
       "| 2014-07-08   | 00:48:58     |  385112      | 3.1.1        | x86_64       | darwin13.1.0 | colorspace   | 1.2-4        | US           |  191         | \n",
       "| 2014-07-08   | 03:39:57     |  197459      | 3.1.1        | x86_64       | darwin13.1.0 | httr         | 0.3          | US           | 1704         | \n",
       "| 2014-07-08   | 03:25:38     |   23259      | 3.1.1        | x86_64       | darwin13.1.0 | snow         | 0.3-13       | US           |   62         | \n",
       "| 2014-07-08   | 03:59:17     |  190594      | 3.1.1        | x86_64       | darwin13.1.0 | maxLik       | 1.2-0        | US           | 1533         | \n",
       "| 2014-07-08   | 04:13:15     |   77683      | 3.1.1        | i386         | mingw32      | randomForest | 4.6-7        | US           |  646         | \n",
       "| 2014-07-08   | 04:06:26     | 2351969      | 3.1.1        | i386         | mingw32      | ggplot2      | 1.0.0        | US           |    8         | \n",
       "\n",
       "\n"
      ],
      "text/plain": [
       "  date       time     size    r_version r_arch r_os         package     \n",
       "1 2014-07-08 00:48:58  385112 3.1.1     x86_64 darwin13.1.0 colorspace  \n",
       "2 2014-07-08 03:39:57  197459 3.1.1     x86_64 darwin13.1.0 httr        \n",
       "3 2014-07-08 03:25:38   23259 3.1.1     x86_64 darwin13.1.0 snow        \n",
       "4 2014-07-08 03:59:17  190594 3.1.1     x86_64 darwin13.1.0 maxLik      \n",
       "5 2014-07-08 04:13:15   77683 3.1.1     i386   mingw32      randomForest\n",
       "6 2014-07-08 04:06:26 2351969 3.1.1     i386   mingw32      ggplot2     \n",
       "  version country ip_id\n",
       "1 1.2-4   US       191 \n",
       "2 0.3     US      1704 \n",
       "3 0.3-13  US        62 \n",
       "4 1.2-0   US      1533 \n",
       "5 4.6-7   US       646 \n",
       "6 1.0.0   US         8 "
      ]
     },
     "metadata": {},
     "output_type": "display_data"
    }
   ],
   "source": [
    "# lọc ra những dòng dữ liệu thỏa hai điều kiện r_version == \"3.1.1\" và country = \"US\"\n",
    "head(filter(cran, r_version == \"3.1.1\", country == \"US\"))"
   ]
  },
  {
   "cell_type": "code",
   "execution_count": 14,
   "metadata": {},
   "outputs": [
    {
     "data": {
      "text/html": [
       "<table>\n",
       "<thead><tr><th scope=col>date</th><th scope=col>time</th><th scope=col>size</th><th scope=col>r_version</th><th scope=col>r_arch</th><th scope=col>r_os</th><th scope=col>package</th><th scope=col>version</th><th scope=col>country</th><th scope=col>ip_id</th></tr></thead>\n",
       "<tbody>\n",
       "\t<tr><td>2014-07-08  </td><td>00:54:41    </td><td> 80589      </td><td>3.1.0       </td><td>x86_64      </td><td>mingw32     </td><td>htmltools   </td><td>0.2.4       </td><td>US          </td><td>1           </td></tr>\n",
       "\t<tr><td>2014-07-08  </td><td>00:59:53    </td><td>321767      </td><td>3.1.0       </td><td>x86_64      </td><td>mingw32     </td><td>tseries     </td><td>0.10-32     </td><td>US          </td><td>2           </td></tr>\n",
       "\t<tr><td>2014-07-08  </td><td>00:47:13    </td><td>748063      </td><td>3.1.0       </td><td>x86_64      </td><td>linux-gnu   </td><td>party       </td><td>1.0-15      </td><td>US          </td><td>3           </td></tr>\n",
       "\t<tr><td>2014-07-08  </td><td>00:48:05    </td><td>606104      </td><td>3.1.0       </td><td>x86_64      </td><td>linux-gnu   </td><td>Hmisc       </td><td>3.14-4      </td><td>US          </td><td>3           </td></tr>\n",
       "\t<tr><td>2014-07-08  </td><td>00:48:04    </td><td> 77681      </td><td>3.1.0       </td><td>x86_64      </td><td>linux-gnu   </td><td>randomForest</td><td>4.6-7       </td><td>US          </td><td>3           </td></tr>\n",
       "\t<tr><td>2014-07-08  </td><td>00:48:35    </td><td>393754      </td><td>3.1.0       </td><td>x86_64      </td><td>linux-gnu   </td><td>plyr        </td><td>1.8.1       </td><td>US          </td><td>3           </td></tr>\n",
       "</tbody>\n",
       "</table>\n"
      ],
      "text/latex": [
       "\\begin{tabular}{r|llllllllll}\n",
       " date & time & size & r\\_version & r\\_arch & r\\_os & package & version & country & ip\\_id\\\\\n",
       "\\hline\n",
       "\t 2014-07-08   & 00:54:41     &  80589       & 3.1.0        & x86\\_64     & mingw32      & htmltools    & 0.2.4        & US           & 1           \\\\\n",
       "\t 2014-07-08   & 00:59:53     & 321767       & 3.1.0        & x86\\_64     & mingw32      & tseries      & 0.10-32      & US           & 2           \\\\\n",
       "\t 2014-07-08   & 00:47:13     & 748063       & 3.1.0        & x86\\_64     & linux-gnu    & party        & 1.0-15       & US           & 3           \\\\\n",
       "\t 2014-07-08   & 00:48:05     & 606104       & 3.1.0        & x86\\_64     & linux-gnu    & Hmisc        & 3.14-4       & US           & 3           \\\\\n",
       "\t 2014-07-08   & 00:48:04     &  77681       & 3.1.0        & x86\\_64     & linux-gnu    & randomForest & 4.6-7        & US           & 3           \\\\\n",
       "\t 2014-07-08   & 00:48:35     & 393754       & 3.1.0        & x86\\_64     & linux-gnu    & plyr         & 1.8.1        & US           & 3           \\\\\n",
       "\\end{tabular}\n"
      ],
      "text/markdown": [
       "\n",
       "date | time | size | r_version | r_arch | r_os | package | version | country | ip_id | \n",
       "|---|---|---|---|---|---|\n",
       "| 2014-07-08   | 00:54:41     |  80589       | 3.1.0        | x86_64       | mingw32      | htmltools    | 0.2.4        | US           | 1            | \n",
       "| 2014-07-08   | 00:59:53     | 321767       | 3.1.0        | x86_64       | mingw32      | tseries      | 0.10-32      | US           | 2            | \n",
       "| 2014-07-08   | 00:47:13     | 748063       | 3.1.0        | x86_64       | linux-gnu    | party        | 1.0-15       | US           | 3            | \n",
       "| 2014-07-08   | 00:48:05     | 606104       | 3.1.0        | x86_64       | linux-gnu    | Hmisc        | 3.14-4       | US           | 3            | \n",
       "| 2014-07-08   | 00:48:04     |  77681       | 3.1.0        | x86_64       | linux-gnu    | randomForest | 4.6-7        | US           | 3            | \n",
       "| 2014-07-08   | 00:48:35     | 393754       | 3.1.0        | x86_64       | linux-gnu    | plyr         | 1.8.1        | US           | 3            | \n",
       "\n",
       "\n"
      ],
      "text/plain": [
       "  date       time     size   r_version r_arch r_os      package      version\n",
       "1 2014-07-08 00:54:41  80589 3.1.0     x86_64 mingw32   htmltools    0.2.4  \n",
       "2 2014-07-08 00:59:53 321767 3.1.0     x86_64 mingw32   tseries      0.10-32\n",
       "3 2014-07-08 00:47:13 748063 3.1.0     x86_64 linux-gnu party        1.0-15 \n",
       "4 2014-07-08 00:48:05 606104 3.1.0     x86_64 linux-gnu Hmisc        3.14-4 \n",
       "5 2014-07-08 00:48:04  77681 3.1.0     x86_64 linux-gnu randomForest 4.6-7  \n",
       "6 2014-07-08 00:48:35 393754 3.1.0     x86_64 linux-gnu plyr         1.8.1  \n",
       "  country ip_id\n",
       "1 US      1    \n",
       "2 US      2    \n",
       "3 US      3    \n",
       "4 US      3    \n",
       "5 US      3    \n",
       "6 US      3    "
      ]
     },
     "metadata": {},
     "output_type": "display_data"
    }
   ],
   "source": [
    "# lọc ra những dòng dữ liệu thỏa điều kiện country == \"US\" hoặc \"IN\"\n",
    "head(filter(cran, country == \"US\" | country == \"IN\"))"
   ]
  },
  {
   "cell_type": "code",
   "execution_count": 15,
   "metadata": {},
   "outputs": [
    {
     "data": {
      "text/html": [
       "<table>\n",
       "<thead><tr><th scope=col>date</th><th scope=col>time</th><th scope=col>size</th><th scope=col>r_version</th><th scope=col>r_arch</th><th scope=col>r_os</th><th scope=col>package</th><th scope=col>version</th><th scope=col>country</th><th scope=col>ip_id</th></tr></thead>\n",
       "<tbody>\n",
       "\t<tr><td>2014-07-08  </td><td>00:54:41    </td><td> 80589      </td><td>3.1.0       </td><td>x86_64      </td><td>mingw32     </td><td>htmltools   </td><td>0.2.4       </td><td>US          </td><td>1           </td></tr>\n",
       "\t<tr><td>2014-07-08  </td><td>00:59:53    </td><td>321767      </td><td>3.1.0       </td><td>x86_64      </td><td>mingw32     </td><td>tseries     </td><td>0.10-32     </td><td>US          </td><td>2           </td></tr>\n",
       "\t<tr><td>2014-07-08  </td><td>00:47:13    </td><td>748063      </td><td>3.1.0       </td><td>x86_64      </td><td>linux-gnu   </td><td>party       </td><td>1.0-15      </td><td>US          </td><td>3           </td></tr>\n",
       "\t<tr><td>2014-07-08  </td><td>00:48:05    </td><td>606104      </td><td>3.1.0       </td><td>x86_64      </td><td>linux-gnu   </td><td>Hmisc       </td><td>3.14-4      </td><td>US          </td><td>3           </td></tr>\n",
       "\t<tr><td>2014-07-08  </td><td>00:46:50    </td><td> 79825      </td><td>3.0.2       </td><td>x86_64      </td><td>linux-gnu   </td><td>digest      </td><td>0.6.4       </td><td>CA          </td><td>4           </td></tr>\n",
       "\t<tr><td>2014-07-08  </td><td>00:48:04    </td><td> 77681      </td><td>3.1.0       </td><td>x86_64      </td><td>linux-gnu   </td><td>randomForest</td><td>4.6-7       </td><td>US          </td><td>3           </td></tr>\n",
       "</tbody>\n",
       "</table>\n"
      ],
      "text/latex": [
       "\\begin{tabular}{r|llllllllll}\n",
       " date & time & size & r\\_version & r\\_arch & r\\_os & package & version & country & ip\\_id\\\\\n",
       "\\hline\n",
       "\t 2014-07-08   & 00:54:41     &  80589       & 3.1.0        & x86\\_64     & mingw32      & htmltools    & 0.2.4        & US           & 1           \\\\\n",
       "\t 2014-07-08   & 00:59:53     & 321767       & 3.1.0        & x86\\_64     & mingw32      & tseries      & 0.10-32      & US           & 2           \\\\\n",
       "\t 2014-07-08   & 00:47:13     & 748063       & 3.1.0        & x86\\_64     & linux-gnu    & party        & 1.0-15       & US           & 3           \\\\\n",
       "\t 2014-07-08   & 00:48:05     & 606104       & 3.1.0        & x86\\_64     & linux-gnu    & Hmisc        & 3.14-4       & US           & 3           \\\\\n",
       "\t 2014-07-08   & 00:46:50     &  79825       & 3.0.2        & x86\\_64     & linux-gnu    & digest       & 0.6.4        & CA           & 4           \\\\\n",
       "\t 2014-07-08   & 00:48:04     &  77681       & 3.1.0        & x86\\_64     & linux-gnu    & randomForest & 4.6-7        & US           & 3           \\\\\n",
       "\\end{tabular}\n"
      ],
      "text/markdown": [
       "\n",
       "date | time | size | r_version | r_arch | r_os | package | version | country | ip_id | \n",
       "|---|---|---|---|---|---|\n",
       "| 2014-07-08   | 00:54:41     |  80589       | 3.1.0        | x86_64       | mingw32      | htmltools    | 0.2.4        | US           | 1            | \n",
       "| 2014-07-08   | 00:59:53     | 321767       | 3.1.0        | x86_64       | mingw32      | tseries      | 0.10-32      | US           | 2            | \n",
       "| 2014-07-08   | 00:47:13     | 748063       | 3.1.0        | x86_64       | linux-gnu    | party        | 1.0-15       | US           | 3            | \n",
       "| 2014-07-08   | 00:48:05     | 606104       | 3.1.0        | x86_64       | linux-gnu    | Hmisc        | 3.14-4       | US           | 3            | \n",
       "| 2014-07-08   | 00:46:50     |  79825       | 3.0.2        | x86_64       | linux-gnu    | digest       | 0.6.4        | CA           | 4            | \n",
       "| 2014-07-08   | 00:48:04     |  77681       | 3.1.0        | x86_64       | linux-gnu    | randomForest | 4.6-7        | US           | 3            | \n",
       "\n",
       "\n"
      ],
      "text/plain": [
       "  date       time     size   r_version r_arch r_os      package      version\n",
       "1 2014-07-08 00:54:41  80589 3.1.0     x86_64 mingw32   htmltools    0.2.4  \n",
       "2 2014-07-08 00:59:53 321767 3.1.0     x86_64 mingw32   tseries      0.10-32\n",
       "3 2014-07-08 00:47:13 748063 3.1.0     x86_64 linux-gnu party        1.0-15 \n",
       "4 2014-07-08 00:48:05 606104 3.1.0     x86_64 linux-gnu Hmisc        3.14-4 \n",
       "5 2014-07-08 00:46:50  79825 3.0.2     x86_64 linux-gnu digest       0.6.4  \n",
       "6 2014-07-08 00:48:04  77681 3.1.0     x86_64 linux-gnu randomForest 4.6-7  \n",
       "  country ip_id\n",
       "1 US      1    \n",
       "2 US      2    \n",
       "3 US      3    \n",
       "4 US      3    \n",
       "5 CA      4    \n",
       "6 US      3    "
      ]
     },
     "metadata": {},
     "output_type": "display_data"
    }
   ],
   "source": [
    "# lọc ra những dòng dữ liệu mà thuộc tính r_version không có dữ liệu bị thiếu\n",
    "head(filter(cran, !is.na(r_version)))"
   ]
  },
  {
   "cell_type": "markdown",
   "metadata": {},
   "source": [
    "<h2>arrange</h2>\n",
    "Thỉnh thoảng, chúng ta muốn sắp xếp các cột dữ liệu theo hướng tăng dần hoặc giảm dần. Để làm được như vậy ta sử dụng hàm arrange(). Để thấy được cách thức của hàm arrange(), trước tiên ta sẽ lấy ra mẫu nhỏ trong tập dữ liệu cran để thí nghiệm. Ở đây, ta chỉ lấy 8 cột dữ liệu từ size cho đến ip_id.\n"
   ]
  },
  {
   "cell_type": "code",
   "execution_count": 16,
   "metadata": {},
   "outputs": [
    {
     "data": {
      "text/html": [
       "<table>\n",
       "<thead><tr><th scope=col>size</th><th scope=col>r_version</th><th scope=col>r_arch</th><th scope=col>r_os</th><th scope=col>package</th><th scope=col>version</th><th scope=col>country</th><th scope=col>ip_id</th></tr></thead>\n",
       "<tbody>\n",
       "\t<tr><td> 80589      </td><td>3.1.0       </td><td>x86_64      </td><td>mingw32     </td><td>htmltools   </td><td>0.2.4       </td><td>US          </td><td>1           </td></tr>\n",
       "\t<tr><td>321767      </td><td>3.1.0       </td><td>x86_64      </td><td>mingw32     </td><td>tseries     </td><td>0.10-32     </td><td>US          </td><td>2           </td></tr>\n",
       "\t<tr><td>748063      </td><td>3.1.0       </td><td>x86_64      </td><td>linux-gnu   </td><td>party       </td><td>1.0-15      </td><td>US          </td><td>3           </td></tr>\n",
       "\t<tr><td>606104      </td><td>3.1.0       </td><td>x86_64      </td><td>linux-gnu   </td><td>Hmisc       </td><td>3.14-4      </td><td>US          </td><td>3           </td></tr>\n",
       "\t<tr><td> 79825      </td><td>3.0.2       </td><td>x86_64      </td><td>linux-gnu   </td><td>digest      </td><td>0.6.4       </td><td>CA          </td><td>4           </td></tr>\n",
       "\t<tr><td> 77681      </td><td>3.1.0       </td><td>x86_64      </td><td>linux-gnu   </td><td>randomForest</td><td>4.6-7       </td><td>US          </td><td>3           </td></tr>\n",
       "</tbody>\n",
       "</table>\n"
      ],
      "text/latex": [
       "\\begin{tabular}{r|llllllll}\n",
       " size & r\\_version & r\\_arch & r\\_os & package & version & country & ip\\_id\\\\\n",
       "\\hline\n",
       "\t  80589       & 3.1.0        & x86\\_64     & mingw32      & htmltools    & 0.2.4        & US           & 1           \\\\\n",
       "\t 321767       & 3.1.0        & x86\\_64     & mingw32      & tseries      & 0.10-32      & US           & 2           \\\\\n",
       "\t 748063       & 3.1.0        & x86\\_64     & linux-gnu    & party        & 1.0-15       & US           & 3           \\\\\n",
       "\t 606104       & 3.1.0        & x86\\_64     & linux-gnu    & Hmisc        & 3.14-4       & US           & 3           \\\\\n",
       "\t  79825       & 3.0.2        & x86\\_64     & linux-gnu    & digest       & 0.6.4        & CA           & 4           \\\\\n",
       "\t  77681       & 3.1.0        & x86\\_64     & linux-gnu    & randomForest & 4.6-7        & US           & 3           \\\\\n",
       "\\end{tabular}\n"
      ],
      "text/markdown": [
       "\n",
       "size | r_version | r_arch | r_os | package | version | country | ip_id | \n",
       "|---|---|---|---|---|---|\n",
       "|  80589       | 3.1.0        | x86_64       | mingw32      | htmltools    | 0.2.4        | US           | 1            | \n",
       "| 321767       | 3.1.0        | x86_64       | mingw32      | tseries      | 0.10-32      | US           | 2            | \n",
       "| 748063       | 3.1.0        | x86_64       | linux-gnu    | party        | 1.0-15       | US           | 3            | \n",
       "| 606104       | 3.1.0        | x86_64       | linux-gnu    | Hmisc        | 3.14-4       | US           | 3            | \n",
       "|  79825       | 3.0.2        | x86_64       | linux-gnu    | digest       | 0.6.4        | CA           | 4            | \n",
       "|  77681       | 3.1.0        | x86_64       | linux-gnu    | randomForest | 4.6-7        | US           | 3            | \n",
       "\n",
       "\n"
      ],
      "text/plain": [
       "  size   r_version r_arch r_os      package      version country ip_id\n",
       "1  80589 3.1.0     x86_64 mingw32   htmltools    0.2.4   US      1    \n",
       "2 321767 3.1.0     x86_64 mingw32   tseries      0.10-32 US      2    \n",
       "3 748063 3.1.0     x86_64 linux-gnu party        1.0-15  US      3    \n",
       "4 606104 3.1.0     x86_64 linux-gnu Hmisc        3.14-4  US      3    \n",
       "5  79825 3.0.2     x86_64 linux-gnu digest       0.6.4   CA      4    \n",
       "6  77681 3.1.0     x86_64 linux-gnu randomForest 4.6-7   US      3    "
      ]
     },
     "metadata": {},
     "output_type": "display_data"
    }
   ],
   "source": [
    "cran2 <- select(cran, size:ip_id)\n",
    "head(cran2)"
   ]
  },
  {
   "cell_type": "markdown",
   "metadata": {},
   "source": [
    "Bây giờ, ta muốn sắp xếp các dòng dữ liệu sao cho cột ip_id được sắp theo hướng tăng dần. Ta làm như sau:"
   ]
  },
  {
   "cell_type": "code",
   "execution_count": 17,
   "metadata": {},
   "outputs": [
    {
     "data": {
      "text/html": [
       "<table>\n",
       "<thead><tr><th scope=col>size</th><th scope=col>r_version</th><th scope=col>r_arch</th><th scope=col>r_os</th><th scope=col>package</th><th scope=col>version</th><th scope=col>country</th><th scope=col>ip_id</th></tr></thead>\n",
       "<tbody>\n",
       "\t<tr><td> 80589      </td><td>3.1.0       </td><td>x86_64      </td><td>mingw32     </td><td>htmltools   </td><td>0.2.4       </td><td>US          </td><td>1           </td></tr>\n",
       "\t<tr><td>180562      </td><td>3.0.2       </td><td>x86_64      </td><td>mingw32     </td><td>yaml        </td><td>2.1.13      </td><td>US          </td><td>1           </td></tr>\n",
       "\t<tr><td>190120      </td><td>3.1.0       </td><td>i386        </td><td>mingw32     </td><td>babel       </td><td>0.2-6       </td><td>US          </td><td>1           </td></tr>\n",
       "\t<tr><td>321767      </td><td>3.1.0       </td><td>x86_64      </td><td>mingw32     </td><td>tseries     </td><td>0.10-32     </td><td>US          </td><td>2           </td></tr>\n",
       "\t<tr><td> 52281      </td><td>3.0.3       </td><td>x86_64      </td><td>darwin10.8.0</td><td>quadprog    </td><td>1.5-5       </td><td>US          </td><td>2           </td></tr>\n",
       "\t<tr><td>876702      </td><td>3.1.0       </td><td>x86_64      </td><td>linux-gnu   </td><td>zoo         </td><td>1.7-11      </td><td>US          </td><td>2           </td></tr>\n",
       "</tbody>\n",
       "</table>\n"
      ],
      "text/latex": [
       "\\begin{tabular}{r|llllllll}\n",
       " size & r\\_version & r\\_arch & r\\_os & package & version & country & ip\\_id\\\\\n",
       "\\hline\n",
       "\t  80589       & 3.1.0        & x86\\_64     & mingw32      & htmltools    & 0.2.4        & US           & 1           \\\\\n",
       "\t 180562       & 3.0.2        & x86\\_64     & mingw32      & yaml         & 2.1.13       & US           & 1           \\\\\n",
       "\t 190120       & 3.1.0        & i386         & mingw32      & babel        & 0.2-6        & US           & 1           \\\\\n",
       "\t 321767       & 3.1.0        & x86\\_64     & mingw32      & tseries      & 0.10-32      & US           & 2           \\\\\n",
       "\t  52281       & 3.0.3        & x86\\_64     & darwin10.8.0 & quadprog     & 1.5-5        & US           & 2           \\\\\n",
       "\t 876702       & 3.1.0        & x86\\_64     & linux-gnu    & zoo          & 1.7-11       & US           & 2           \\\\\n",
       "\\end{tabular}\n"
      ],
      "text/markdown": [
       "\n",
       "size | r_version | r_arch | r_os | package | version | country | ip_id | \n",
       "|---|---|---|---|---|---|\n",
       "|  80589       | 3.1.0        | x86_64       | mingw32      | htmltools    | 0.2.4        | US           | 1            | \n",
       "| 180562       | 3.0.2        | x86_64       | mingw32      | yaml         | 2.1.13       | US           | 1            | \n",
       "| 190120       | 3.1.0        | i386         | mingw32      | babel        | 0.2-6        | US           | 1            | \n",
       "| 321767       | 3.1.0        | x86_64       | mingw32      | tseries      | 0.10-32      | US           | 2            | \n",
       "|  52281       | 3.0.3        | x86_64       | darwin10.8.0 | quadprog     | 1.5-5        | US           | 2            | \n",
       "| 876702       | 3.1.0        | x86_64       | linux-gnu    | zoo          | 1.7-11       | US           | 2            | \n",
       "\n",
       "\n"
      ],
      "text/plain": [
       "  size   r_version r_arch r_os         package   version country ip_id\n",
       "1  80589 3.1.0     x86_64 mingw32      htmltools 0.2.4   US      1    \n",
       "2 180562 3.0.2     x86_64 mingw32      yaml      2.1.13  US      1    \n",
       "3 190120 3.1.0     i386   mingw32      babel     0.2-6   US      1    \n",
       "4 321767 3.1.0     x86_64 mingw32      tseries   0.10-32 US      2    \n",
       "5  52281 3.0.3     x86_64 darwin10.8.0 quadprog  1.5-5   US      2    \n",
       "6 876702 3.1.0     x86_64 linux-gnu    zoo       1.7-11  US      2    "
      ]
     },
     "metadata": {},
     "output_type": "display_data"
    }
   ],
   "source": [
    "head(arrange(cran2, ip_id))"
   ]
  },
  {
   "cell_type": "markdown",
   "metadata": {},
   "source": [
    "Tương tự, ta có thể sắp xếp giảm dần bằng cách sử dụng hàm desc(), desc() là viết tắt của \"descending\"."
   ]
  },
  {
   "cell_type": "code",
   "execution_count": 18,
   "metadata": {},
   "outputs": [
    {
     "data": {
      "text/html": [
       "<table>\n",
       "<thead><tr><th scope=col>size</th><th scope=col>r_version</th><th scope=col>r_arch</th><th scope=col>r_os</th><th scope=col>package</th><th scope=col>version</th><th scope=col>country</th><th scope=col>ip_id</th></tr></thead>\n",
       "<tbody>\n",
       "\t<tr><td>  5933      </td><td>NA          </td><td>NA          </td><td>NA          </td><td>CPE         </td><td>1.4.2       </td><td>CN          </td><td>13859       </td></tr>\n",
       "\t<tr><td>569241      </td><td>3.1.0       </td><td>x86_64      </td><td>mingw32     </td><td>multcompView</td><td>0.1-5       </td><td>US          </td><td>13858       </td></tr>\n",
       "\t<tr><td>228444      </td><td>3.1.0       </td><td>x86_64      </td><td>mingw32     </td><td>tourr       </td><td>0.5.3       </td><td>NZ          </td><td>13857       </td></tr>\n",
       "\t<tr><td>308962      </td><td>3.1.0       </td><td>x86_64      </td><td>darwin13.1.0</td><td>ctv         </td><td>0.7-9       </td><td>CN          </td><td>13856       </td></tr>\n",
       "\t<tr><td>950964      </td><td>3.0.3       </td><td>i386        </td><td>mingw32     </td><td>knitr       </td><td>1.6         </td><td>CA          </td><td>13855       </td></tr>\n",
       "\t<tr><td> 80185      </td><td>3.0.3       </td><td>i386        </td><td>mingw32     </td><td>htmltools   </td><td>0.2.4       </td><td>CA          </td><td>13855       </td></tr>\n",
       "</tbody>\n",
       "</table>\n"
      ],
      "text/latex": [
       "\\begin{tabular}{r|llllllll}\n",
       " size & r\\_version & r\\_arch & r\\_os & package & version & country & ip\\_id\\\\\n",
       "\\hline\n",
       "\t   5933       & NA           & NA           & NA           & CPE          & 1.4.2        & CN           & 13859       \\\\\n",
       "\t 569241       & 3.1.0        & x86\\_64     & mingw32      & multcompView & 0.1-5        & US           & 13858       \\\\\n",
       "\t 228444       & 3.1.0        & x86\\_64     & mingw32      & tourr        & 0.5.3        & NZ           & 13857       \\\\\n",
       "\t 308962       & 3.1.0        & x86\\_64     & darwin13.1.0 & ctv          & 0.7-9        & CN           & 13856       \\\\\n",
       "\t 950964       & 3.0.3        & i386         & mingw32      & knitr        & 1.6          & CA           & 13855       \\\\\n",
       "\t  80185       & 3.0.3        & i386         & mingw32      & htmltools    & 0.2.4        & CA           & 13855       \\\\\n",
       "\\end{tabular}\n"
      ],
      "text/markdown": [
       "\n",
       "size | r_version | r_arch | r_os | package | version | country | ip_id | \n",
       "|---|---|---|---|---|---|\n",
       "|   5933       | NA           | NA           | NA           | CPE          | 1.4.2        | CN           | 13859        | \n",
       "| 569241       | 3.1.0        | x86_64       | mingw32      | multcompView | 0.1-5        | US           | 13858        | \n",
       "| 228444       | 3.1.0        | x86_64       | mingw32      | tourr        | 0.5.3        | NZ           | 13857        | \n",
       "| 308962       | 3.1.0        | x86_64       | darwin13.1.0 | ctv          | 0.7-9        | CN           | 13856        | \n",
       "| 950964       | 3.0.3        | i386         | mingw32      | knitr        | 1.6          | CA           | 13855        | \n",
       "|  80185       | 3.0.3        | i386         | mingw32      | htmltools    | 0.2.4        | CA           | 13855        | \n",
       "\n",
       "\n"
      ],
      "text/plain": [
       "  size   r_version r_arch r_os         package      version country ip_id\n",
       "1   5933 NA        NA     NA           CPE          1.4.2   CN      13859\n",
       "2 569241 3.1.0     x86_64 mingw32      multcompView 0.1-5   US      13858\n",
       "3 228444 3.1.0     x86_64 mingw32      tourr        0.5.3   NZ      13857\n",
       "4 308962 3.1.0     x86_64 darwin13.1.0 ctv          0.7-9   CN      13856\n",
       "5 950964 3.0.3     i386   mingw32      knitr        1.6     CA      13855\n",
       "6  80185 3.0.3     i386   mingw32      htmltools    0.2.4   CA      13855"
      ]
     },
     "metadata": {},
     "output_type": "display_data"
    }
   ],
   "source": [
    "head(arrange(cran2, desc(ip_id)))"
   ]
  },
  {
   "cell_type": "markdown",
   "metadata": {},
   "source": [
    "Ngoài ra, chúng ta cũng có thể sắp xếp dựa trên nhiều cột dữ liệu."
   ]
  },
  {
   "cell_type": "code",
   "execution_count": 19,
   "metadata": {},
   "outputs": [
    {
     "data": {
      "text/html": [
       "<table>\n",
       "<thead><tr><th scope=col>size</th><th scope=col>r_version</th><th scope=col>r_arch</th><th scope=col>r_os</th><th scope=col>package</th><th scope=col>version</th><th scope=col>country</th><th scope=col>ip_id</th></tr></thead>\n",
       "<tbody>\n",
       "\t<tr><td>71677       </td><td>3.0.3       </td><td>x86_64      </td><td>darwin10.8.0</td><td>A3          </td><td>0.9.2       </td><td>CN          </td><td>1003        </td></tr>\n",
       "\t<tr><td>71672       </td><td>3.1.0       </td><td>x86_64      </td><td>linux-gnu   </td><td>A3          </td><td>0.9.2       </td><td>US          </td><td>1015        </td></tr>\n",
       "\t<tr><td>71677       </td><td>3.1.0       </td><td>x86_64      </td><td>mingw32     </td><td>A3          </td><td>0.9.2       </td><td>IN          </td><td>1054        </td></tr>\n",
       "\t<tr><td>70438       </td><td>3.0.1       </td><td>x86_64      </td><td>darwin10.8.0</td><td>A3          </td><td>0.9.2       </td><td>CN          </td><td>1513        </td></tr>\n",
       "\t<tr><td>71677       </td><td>NA          </td><td>NA          </td><td>NA          </td><td>A3          </td><td>0.9.2       </td><td>BR          </td><td>1526        </td></tr>\n",
       "\t<tr><td>71892       </td><td>3.0.2       </td><td>x86_64      </td><td>linux-gnu   </td><td>A3          </td><td>0.9.2       </td><td>IN          </td><td>1542        </td></tr>\n",
       "</tbody>\n",
       "</table>\n"
      ],
      "text/latex": [
       "\\begin{tabular}{r|llllllll}\n",
       " size & r\\_version & r\\_arch & r\\_os & package & version & country & ip\\_id\\\\\n",
       "\\hline\n",
       "\t 71677        & 3.0.3        & x86\\_64     & darwin10.8.0 & A3           & 0.9.2        & CN           & 1003        \\\\\n",
       "\t 71672        & 3.1.0        & x86\\_64     & linux-gnu    & A3           & 0.9.2        & US           & 1015        \\\\\n",
       "\t 71677        & 3.1.0        & x86\\_64     & mingw32      & A3           & 0.9.2        & IN           & 1054        \\\\\n",
       "\t 70438        & 3.0.1        & x86\\_64     & darwin10.8.0 & A3           & 0.9.2        & CN           & 1513        \\\\\n",
       "\t 71677        & NA           & NA           & NA           & A3           & 0.9.2        & BR           & 1526        \\\\\n",
       "\t 71892        & 3.0.2        & x86\\_64     & linux-gnu    & A3           & 0.9.2        & IN           & 1542        \\\\\n",
       "\\end{tabular}\n"
      ],
      "text/markdown": [
       "\n",
       "size | r_version | r_arch | r_os | package | version | country | ip_id | \n",
       "|---|---|---|---|---|---|\n",
       "| 71677        | 3.0.3        | x86_64       | darwin10.8.0 | A3           | 0.9.2        | CN           | 1003         | \n",
       "| 71672        | 3.1.0        | x86_64       | linux-gnu    | A3           | 0.9.2        | US           | 1015         | \n",
       "| 71677        | 3.1.0        | x86_64       | mingw32      | A3           | 0.9.2        | IN           | 1054         | \n",
       "| 70438        | 3.0.1        | x86_64       | darwin10.8.0 | A3           | 0.9.2        | CN           | 1513         | \n",
       "| 71677        | NA           | NA           | NA           | A3           | 0.9.2        | BR           | 1526         | \n",
       "| 71892        | 3.0.2        | x86_64       | linux-gnu    | A3           | 0.9.2        | IN           | 1542         | \n",
       "\n",
       "\n"
      ],
      "text/plain": [
       "  size  r_version r_arch r_os         package version country ip_id\n",
       "1 71677 3.0.3     x86_64 darwin10.8.0 A3      0.9.2   CN      1003 \n",
       "2 71672 3.1.0     x86_64 linux-gnu    A3      0.9.2   US      1015 \n",
       "3 71677 3.1.0     x86_64 mingw32      A3      0.9.2   IN      1054 \n",
       "4 70438 3.0.1     x86_64 darwin10.8.0 A3      0.9.2   CN      1513 \n",
       "5 71677 NA        NA     NA           A3      0.9.2   BR      1526 \n",
       "6 71892 3.0.2     x86_64 linux-gnu    A3      0.9.2   IN      1542 "
      ]
     },
     "metadata": {},
     "output_type": "display_data"
    }
   ],
   "source": [
    "# sắp xếp các dòng dữ liệu tăng dần theo cột package, sau đó theo cột ip_id\n",
    "head(arrange(cran2, package, ip_id))"
   ]
  },
  {
   "cell_type": "code",
   "execution_count": 20,
   "metadata": {},
   "outputs": [
    {
     "data": {
      "text/html": [
       "<table>\n",
       "<thead><tr><th scope=col>size</th><th scope=col>r_version</th><th scope=col>r_arch</th><th scope=col>r_os</th><th scope=col>package</th><th scope=col>version</th><th scope=col>country</th><th scope=col>ip_id</th></tr></thead>\n",
       "<tbody>\n",
       "\t<tr><td>1556858      </td><td>3.1.1        </td><td>i386         </td><td>mingw32      </td><td>RcppArmadillo</td><td>0.4.320.0    </td><td>A1           </td><td>2843         </td></tr>\n",
       "\t<tr><td>1823512      </td><td>3.1.0        </td><td>x86_64       </td><td>linux-gnu    </td><td>mgcv         </td><td>1.8-1        </td><td>A1           </td><td>2843         </td></tr>\n",
       "\t<tr><td>  15732      </td><td>3.1.0        </td><td>i686         </td><td>linux-gnu    </td><td>grnn         </td><td>0.1.0        </td><td>A1           </td><td>3146         </td></tr>\n",
       "\t<tr><td>3014840      </td><td>3.1.0        </td><td>x86_64       </td><td>mingw32      </td><td>Rcpp         </td><td>0.11.2       </td><td>A1           </td><td>3146         </td></tr>\n",
       "\t<tr><td> 660087      </td><td>3.1.0        </td><td>i386         </td><td>mingw32      </td><td>xts          </td><td>0.9-7        </td><td>A1           </td><td>3146         </td></tr>\n",
       "\t<tr><td> 522261      </td><td>3.1.0        </td><td>i386         </td><td>mingw32      </td><td>FNN          </td><td>1.1          </td><td>A1           </td><td>3146         </td></tr>\n",
       "</tbody>\n",
       "</table>\n"
      ],
      "text/latex": [
       "\\begin{tabular}{r|llllllll}\n",
       " size & r\\_version & r\\_arch & r\\_os & package & version & country & ip\\_id\\\\\n",
       "\\hline\n",
       "\t 1556858       & 3.1.1         & i386          & mingw32       & RcppArmadillo & 0.4.320.0     & A1            & 2843         \\\\\n",
       "\t 1823512       & 3.1.0         & x86\\_64      & linux-gnu     & mgcv          & 1.8-1         & A1            & 2843         \\\\\n",
       "\t   15732       & 3.1.0         & i686          & linux-gnu     & grnn          & 0.1.0         & A1            & 3146         \\\\\n",
       "\t 3014840       & 3.1.0         & x86\\_64      & mingw32       & Rcpp          & 0.11.2        & A1            & 3146         \\\\\n",
       "\t  660087       & 3.1.0         & i386          & mingw32       & xts           & 0.9-7         & A1            & 3146         \\\\\n",
       "\t  522261       & 3.1.0         & i386          & mingw32       & FNN           & 1.1           & A1            & 3146         \\\\\n",
       "\\end{tabular}\n"
      ],
      "text/markdown": [
       "\n",
       "size | r_version | r_arch | r_os | package | version | country | ip_id | \n",
       "|---|---|---|---|---|---|\n",
       "| 1556858       | 3.1.1         | i386          | mingw32       | RcppArmadillo | 0.4.320.0     | A1            | 2843          | \n",
       "| 1823512       | 3.1.0         | x86_64        | linux-gnu     | mgcv          | 1.8-1         | A1            | 2843          | \n",
       "|   15732       | 3.1.0         | i686          | linux-gnu     | grnn          | 0.1.0         | A1            | 3146          | \n",
       "| 3014840       | 3.1.0         | x86_64        | mingw32       | Rcpp          | 0.11.2        | A1            | 3146          | \n",
       "|  660087       | 3.1.0         | i386          | mingw32       | xts           | 0.9-7         | A1            | 3146          | \n",
       "|  522261       | 3.1.0         | i386          | mingw32       | FNN           | 1.1           | A1            | 3146          | \n",
       "\n",
       "\n"
      ],
      "text/plain": [
       "  size    r_version r_arch r_os      package       version   country ip_id\n",
       "1 1556858 3.1.1     i386   mingw32   RcppArmadillo 0.4.320.0 A1      2843 \n",
       "2 1823512 3.1.0     x86_64 linux-gnu mgcv          1.8-1     A1      2843 \n",
       "3   15732 3.1.0     i686   linux-gnu grnn          0.1.0     A1      3146 \n",
       "4 3014840 3.1.0     x86_64 mingw32   Rcpp          0.11.2    A1      3146 \n",
       "5  660087 3.1.0     i386   mingw32   xts           0.9-7     A1      3146 \n",
       "6  522261 3.1.0     i386   mingw32   FNN           1.1       A1      3146 "
      ]
     },
     "metadata": {},
     "output_type": "display_data"
    }
   ],
   "source": [
    "# sắp xếp các dòng dữ liệu tăng dần theo cột country, sau đó giảm dần theo cột r_version, và tăng dần theo cột ip_id\n",
    "head(arrange(cran2, country, desc(r_version), ip_id))"
   ]
  },
  {
   "cell_type": "markdown",
   "metadata": {},
   "source": [
    "<h2>mutate</h2>\n",
    "Thông thường ta sẽ muốn thêm một cột dữ liệu mới từ các cột dữ liệu trước đó. Trước khi tiến hành sử dụng hàm mutate(), ta tạo mẫu dữ liệu mới cran3 chỉ gồm 3 cột dữ liệu ip_id, package, và size.\n"
   ]
  },
  {
   "cell_type": "code",
   "execution_count": 21,
   "metadata": {},
   "outputs": [
    {
     "data": {
      "text/html": [
       "<table>\n",
       "<thead><tr><th scope=col>ip_id</th><th scope=col>package</th><th scope=col>size</th></tr></thead>\n",
       "<tbody>\n",
       "\t<tr><td>1           </td><td>htmltools   </td><td> 80589      </td></tr>\n",
       "\t<tr><td>2           </td><td>tseries     </td><td>321767      </td></tr>\n",
       "\t<tr><td>3           </td><td>party       </td><td>748063      </td></tr>\n",
       "\t<tr><td>3           </td><td>Hmisc       </td><td>606104      </td></tr>\n",
       "\t<tr><td>4           </td><td>digest      </td><td> 79825      </td></tr>\n",
       "\t<tr><td>3           </td><td>randomForest</td><td> 77681      </td></tr>\n",
       "</tbody>\n",
       "</table>\n"
      ],
      "text/latex": [
       "\\begin{tabular}{r|lll}\n",
       " ip\\_id & package & size\\\\\n",
       "\\hline\n",
       "\t 1            & htmltools    &  80589      \\\\\n",
       "\t 2            & tseries      & 321767      \\\\\n",
       "\t 3            & party        & 748063      \\\\\n",
       "\t 3            & Hmisc        & 606104      \\\\\n",
       "\t 4            & digest       &  79825      \\\\\n",
       "\t 3            & randomForest &  77681      \\\\\n",
       "\\end{tabular}\n"
      ],
      "text/markdown": [
       "\n",
       "ip_id | package | size | \n",
       "|---|---|---|---|---|---|\n",
       "| 1            | htmltools    |  80589       | \n",
       "| 2            | tseries      | 321767       | \n",
       "| 3            | party        | 748063       | \n",
       "| 3            | Hmisc        | 606104       | \n",
       "| 4            | digest       |  79825       | \n",
       "| 3            | randomForest |  77681       | \n",
       "\n",
       "\n"
      ],
      "text/plain": [
       "  ip_id package      size  \n",
       "1 1     htmltools     80589\n",
       "2 2     tseries      321767\n",
       "3 3     party        748063\n",
       "4 3     Hmisc        606104\n",
       "5 4     digest        79825\n",
       "6 3     randomForest  77681"
      ]
     },
     "metadata": {},
     "output_type": "display_data"
    }
   ],
   "source": [
    "cran3 <- select(cran, ip_id, package, size)\n",
    "head(cran3)"
   ]
  },
  {
   "cell_type": "markdown",
   "metadata": {},
   "source": [
    "Cột size ở trên biểu diễn độ lớn dữ liệu ở đơn vị byte, ta muốn tạo một cột dữ liệu mới theo đơn vị megabytes (MB). Ta biết rằng một megabyte bằng 2^20 byte. Ta sử dụng hàm mutate() để tạo cột dữ liệu size_mb như sau:\n"
   ]
  },
  {
   "cell_type": "code",
   "execution_count": 22,
   "metadata": {},
   "outputs": [
    {
     "data": {
      "text/html": [
       "<table>\n",
       "<thead><tr><th scope=col>ip_id</th><th scope=col>package</th><th scope=col>size</th><th scope=col>size_mb</th></tr></thead>\n",
       "<tbody>\n",
       "\t<tr><td>1           </td><td>htmltools   </td><td> 80589      </td><td>0.07685566  </td></tr>\n",
       "\t<tr><td>2           </td><td>tseries     </td><td>321767      </td><td>0.30686092  </td></tr>\n",
       "\t<tr><td>3           </td><td>party       </td><td>748063      </td><td>0.71340847  </td></tr>\n",
       "\t<tr><td>3           </td><td>Hmisc       </td><td>606104      </td><td>0.57802582  </td></tr>\n",
       "\t<tr><td>4           </td><td>digest      </td><td> 79825      </td><td>0.07612705  </td></tr>\n",
       "\t<tr><td>3           </td><td>randomForest</td><td> 77681      </td><td>0.07408237  </td></tr>\n",
       "</tbody>\n",
       "</table>\n"
      ],
      "text/latex": [
       "\\begin{tabular}{r|llll}\n",
       " ip\\_id & package & size & size\\_mb\\\\\n",
       "\\hline\n",
       "\t 1            & htmltools    &  80589       & 0.07685566  \\\\\n",
       "\t 2            & tseries      & 321767       & 0.30686092  \\\\\n",
       "\t 3            & party        & 748063       & 0.71340847  \\\\\n",
       "\t 3            & Hmisc        & 606104       & 0.57802582  \\\\\n",
       "\t 4            & digest       &  79825       & 0.07612705  \\\\\n",
       "\t 3            & randomForest &  77681       & 0.07408237  \\\\\n",
       "\\end{tabular}\n"
      ],
      "text/markdown": [
       "\n",
       "ip_id | package | size | size_mb | \n",
       "|---|---|---|---|---|---|\n",
       "| 1            | htmltools    |  80589       | 0.07685566   | \n",
       "| 2            | tseries      | 321767       | 0.30686092   | \n",
       "| 3            | party        | 748063       | 0.71340847   | \n",
       "| 3            | Hmisc        | 606104       | 0.57802582   | \n",
       "| 4            | digest       |  79825       | 0.07612705   | \n",
       "| 3            | randomForest |  77681       | 0.07408237   | \n",
       "\n",
       "\n"
      ],
      "text/plain": [
       "  ip_id package      size   size_mb   \n",
       "1 1     htmltools     80589 0.07685566\n",
       "2 2     tseries      321767 0.30686092\n",
       "3 3     party        748063 0.71340847\n",
       "4 3     Hmisc        606104 0.57802582\n",
       "5 4     digest        79825 0.07612705\n",
       "6 3     randomForest  77681 0.07408237"
      ]
     },
     "metadata": {},
     "output_type": "display_data"
    }
   ],
   "source": [
    "head(mutate(cran3, size_mb = size / 2^20))"
   ]
  },
  {
   "cell_type": "code",
   "execution_count": 23,
   "metadata": {},
   "outputs": [
    {
     "data": {
      "text/html": [
       "<table>\n",
       "<thead><tr><th scope=col>ip_id</th><th scope=col>package</th><th scope=col>size</th><th scope=col>size_mb</th><th scope=col>size_gb</th></tr></thead>\n",
       "<tbody>\n",
       "\t<tr><td>1           </td><td>htmltools   </td><td> 80589      </td><td>0.07685566  </td><td>7.505435e-05</td></tr>\n",
       "\t<tr><td>2           </td><td>tseries     </td><td>321767      </td><td>0.30686092  </td><td>2.996689e-04</td></tr>\n",
       "\t<tr><td>3           </td><td>party       </td><td>748063      </td><td>0.71340847  </td><td>6.966880e-04</td></tr>\n",
       "\t<tr><td>3           </td><td>Hmisc       </td><td>606104      </td><td>0.57802582  </td><td>5.644783e-04</td></tr>\n",
       "\t<tr><td>4           </td><td>digest      </td><td> 79825      </td><td>0.07612705  </td><td>7.434282e-05</td></tr>\n",
       "\t<tr><td>3           </td><td>randomForest</td><td> 77681      </td><td>0.07408237  </td><td>7.234607e-05</td></tr>\n",
       "</tbody>\n",
       "</table>\n"
      ],
      "text/latex": [
       "\\begin{tabular}{r|lllll}\n",
       " ip\\_id & package & size & size\\_mb & size\\_gb\\\\\n",
       "\\hline\n",
       "\t 1            & htmltools    &  80589       & 0.07685566   & 7.505435e-05\\\\\n",
       "\t 2            & tseries      & 321767       & 0.30686092   & 2.996689e-04\\\\\n",
       "\t 3            & party        & 748063       & 0.71340847   & 6.966880e-04\\\\\n",
       "\t 3            & Hmisc        & 606104       & 0.57802582   & 5.644783e-04\\\\\n",
       "\t 4            & digest       &  79825       & 0.07612705   & 7.434282e-05\\\\\n",
       "\t 3            & randomForest &  77681       & 0.07408237   & 7.234607e-05\\\\\n",
       "\\end{tabular}\n"
      ],
      "text/markdown": [
       "\n",
       "ip_id | package | size | size_mb | size_gb | \n",
       "|---|---|---|---|---|---|\n",
       "| 1            | htmltools    |  80589       | 0.07685566   | 7.505435e-05 | \n",
       "| 2            | tseries      | 321767       | 0.30686092   | 2.996689e-04 | \n",
       "| 3            | party        | 748063       | 0.71340847   | 6.966880e-04 | \n",
       "| 3            | Hmisc        | 606104       | 0.57802582   | 5.644783e-04 | \n",
       "| 4            | digest       |  79825       | 0.07612705   | 7.434282e-05 | \n",
       "| 3            | randomForest |  77681       | 0.07408237   | 7.234607e-05 | \n",
       "\n",
       "\n"
      ],
      "text/plain": [
       "  ip_id package      size   size_mb    size_gb     \n",
       "1 1     htmltools     80589 0.07685566 7.505435e-05\n",
       "2 2     tseries      321767 0.30686092 2.996689e-04\n",
       "3 3     party        748063 0.71340847 6.966880e-04\n",
       "4 3     Hmisc        606104 0.57802582 5.644783e-04\n",
       "5 4     digest        79825 0.07612705 7.434282e-05\n",
       "6 3     randomForest  77681 0.07408237 7.234607e-05"
      ]
     },
     "metadata": {},
     "output_type": "display_data"
    }
   ],
   "source": [
    "# tạo cột dữ liệu size_gb (GB) từ cột dữ liệu size_mb\n",
    "head(mutate(cran3, size_mb = size / 2^20, size_gb = size_mb / 2^10))"
   ]
  },
  {
   "cell_type": "markdown",
   "metadata": {},
   "source": [
    "<h2>summarize</h2>\n",
    "Cuối cùng, trong 5 \"hành động\" vừa kể trên gồm select(), filter(), arrange(), mutate() đó là hàm summarize(). Hàm này có chức năng gom tập dữ liệu thành một dòng dữ liệu tổng hợp. Ví dụ, ta muốn xem kích thức download dữ liệu trung bình là bao nhiêu, ta thực hiện như sau:\n"
   ]
  },
  {
   "cell_type": "code",
   "execution_count": 24,
   "metadata": {},
   "outputs": [
    {
     "data": {
      "text/html": [
       "<table>\n",
       "<thead><tr><th scope=col>avg_bytes</th></tr></thead>\n",
       "<tbody>\n",
       "\t<tr><td>844086.5</td></tr>\n",
       "</tbody>\n",
       "</table>\n"
      ],
      "text/latex": [
       "\\begin{tabular}{r|l}\n",
       " avg\\_bytes\\\\\n",
       "\\hline\n",
       "\t 844086.5\\\\\n",
       "\\end{tabular}\n"
      ],
      "text/markdown": [
       "\n",
       "avg_bytes | \n",
       "|---|\n",
       "| 844086.5 | \n",
       "\n",
       "\n"
      ],
      "text/plain": [
       "  avg_bytes\n",
       "1 844086.5 "
      ]
     },
     "metadata": {},
     "output_type": "display_data"
    }
   ],
   "source": [
    "summarize(cran, avg_bytes = mean(size))"
   ]
  },
  {
   "cell_type": "markdown",
   "metadata": {},
   "source": [
    "Hàm summarize() hữu ích trong việc tổng hợp trên dữ liệu được gom nhóm bởi một cột dữ liệu định sẵn. Ý tưởng chung đó là, hàm summarize() sử dụng lệnh FOR EACH ở mỗi nhóm chúng ta đã gom được để tổng hợp ra thông tin cho từng nhóm này.\n",
    "\n",
    "Qua bài viết này, chúng ta đã học được cách thao tác trên dữ liệu bằng cách sử dụng 5 hàm của dplyr. Ở các bài viết sau, chúng ta sẽ tìm hiểu sâu hơn về dplyr và các tính năng giúp cho công việc của các nhà phân tích dữ liệu trở nên dễ dàng hơn. Bạn có thể download cheat sheet (bảng tóm tắt) về dplyr do RStudio cung cấp ở link sau:\n",
    "\n",
    "<a href=\"https://www.rstudio.com/wp-content/uploads/2015/02/data-wrangling-cheatsheet.pdf\">https://www.rstudio.com/wp-content/uploads/2015/02/data-wrangling-cheatsheet.pdf</a>\n",
    "\n",
    "<strong>Nguồn tham khảo:</strong> <a href=\"http://swirlstats.com/\" target=\"_blank\" rel=\"noopener\">http://swirlstats.com/</a>"
   ]
  }
 ],
 "metadata": {
  "kernelspec": {
   "display_name": "R",
   "language": "R",
   "name": "ir"
  },
  "language_info": {
   "codemirror_mode": "r",
   "file_extension": ".r",
   "mimetype": "text/x-r-source",
   "name": "R",
   "pygments_lexer": "r",
   "version": "3.4.4"
  }
 },
 "nbformat": 4,
 "nbformat_minor": 2
}
