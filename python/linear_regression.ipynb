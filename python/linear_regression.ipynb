{
 "cells": [
  {
   "cell_type": "markdown",
   "metadata": {},
   "source": [
    "<h2>Ý nghĩa</h2>\n",
    "\n",
    "Phân tích hồi quy tuyến tính (linear regression) là một phương pháp phân tích quan hệ giữa biến phụ thuộc Y với một hay nhiều biến độc lập X. Mô hình hóa sử dụng hàm tuyến tính (bậc 1). Các tham số của mô hình (hay hàm số) được ước lượng từ dữ liệu.\n",
    "\n",
    "Biến Y phụ thuộc (dependence) vào biến X (independence), nghĩa là X và Y có quan hệ positive nếu giá trị biến X tăng/giảm thì giá trị biến Y cũng tăng/giảm. Ngược lại X và Y có quan hệ negative nếu giá trị biến X tăng/giảm nhưng giá trị biến Y giảm/tăng.\n",
    "<h2>Bài toán</h2>\n",
    "\n",
    "Cho trước tập dữ liệu $(x_i, y_i)$ ($1 \\le i \\le n$), $n$ là số lượng mẫu phân bố như hình sau."
   ]
  },
  {
   "cell_type": "code",
   "execution_count": 1,
   "metadata": {},
   "outputs": [
    {
     "data": {
      "text/plain": [
       "<matplotlib.figure.Figure at 0x10a5a8790>"
      ]
     },
     "metadata": {},
     "output_type": "display_data"
    }
   ],
   "source": [
    "import numpy as np\n",
    "import matplotlib.pyplot as plt\n",
    "from sklearn.linear_model import LinearRegression\n",
    "\n",
    "# Create some simple data\n",
    "np.random.seed(0)\n",
    "X = np.random.random(size=(20, 1))\n",
    "y = 3 * X.squeeze() + 2 + np.random.randn(20)\n",
    "\n",
    "plt.plot(X.squeeze(), y, 'o')\n",
    "plt.show()"
   ]
  },
  {
   "cell_type": "markdown",
   "metadata": {},
   "source": [
    "\n",
    "\n",
    "Mục tiêu của chúng ta là tìm được một đường thẳng (line - linear regression) thể hiện gần đúng nhất phân bố của tập dữ liệu trên.\n",
    "\n",
    "Đường thẳng này được ước lượng dựa trên độ lỗi (least square error) giữa giá trị dự đoán (estimated value) so với giá trị thực tế (actual value). Mục tiêu của chúng ta là tìm được đường hồi quy có độ lỗi so với tập dữ liệu nhỏ nhất (minimize error).\n",
    "\n",
    "$$SSE = \\sum_{i=1}^n (y_i - b_0 - b_1 x_i)^2$$\n",
    "\n",
    "Như vậy, ta đi xây dựng mô hình hồi quy tuyến tính với phương trình đường thẳng $y' = b_0 + b_1*x$. Sau đó, dựa vào giá trị $y'$ tìm được nhờ vào biến độc lập X trong tập huấn luyện ban đầu, ta tính được độ lỗi so với tập dữ liệu quan sát (observations). Để tối tiểu hóa độ lỗi này ta chỉ cần lấy đạo hàm bậc nhất. Từ đó, ta tìm được tham số $(b_0, b_1)$ để thế vào mô hình hồi quy tuyến tính chúng ta cần tìm.\n",
    "\n",
    "Ta có thể tham khảo thêm về cách tối tiểu hóa độ lỗi ở Wikipedia: https://en.wikipedia.org/wiki/Least_squares\n",
    "<h2>Chương trình minh họa</h2>\n",
    "\n",
    "Sau khi tạo tập dữ liệu mẫu $(x_i, y_i)$ gồm 20 phần tử. Ta xây dựng mô hình hồi quy tuyến tính thông qua lớp LinearRegression và hàm fit() trong scikit-learn."
   ]
  },
  {
   "cell_type": "code",
   "execution_count": 3,
   "metadata": {},
   "outputs": [
    {
     "data": {
      "image/png": "[encoded data removed]",
      "text/plain": [
       "<matplotlib.figure.Figure at 0x10cbd6f90>"
      ]
     },
     "metadata": {},
     "output_type": "display_data"
    }
   ],
   "source": [
    "model = LinearRegression()\n",
    "model.fit(X, y)\n",
    "\n",
    "# Plot the data and the model prediction\n",
    "X_fit = np.linspace(0, 1, 100)[:, np.newaxis]\n",
    "y_fit = model.predict(X_fit)\n",
    "\n",
    "plt.plot(X.squeeze(), y, 'o')\n",
    "plt.plot(X_fit.squeeze(), y_fit)\n",
    "plt.show()"
   ]
  },
  {
   "cell_type": "markdown",
   "metadata": {},
   "source": [
    "Hồi quy tuyến tính được sử dụng rộng rãi trong thực tế do tính chất đơn giản hóa của hồi quy. Hàm ước lượng thống kê được sử dụng phổ biến nhất là phương pháp bình phương nhỏ nhất (least square method).\n",
    "<blockquote>\n",
    "<strong>Strengths:</strong> dễ hiểu và dễ cài đặt, có thể regularized để tránh overfitting. Linear models có thể dễ dàng cập nhật với dữ liệu mới bằng cách sử dụng stochastic gradient descent\n",
    "\n",
    "<strong>Weaknesses:</strong> hiệu suất bị giảm khi dữ liệu là non-linear relationships. Không đủ flexible để capture các pattern phức tạp hơn. Quá trình tăng giảm số feature hay biến đổi feature thành polynomials sẽ tốn nhiều thời gian\n",
    "</blockquote>\n",
    "<strong>Tham khảo thêm:</strong>\n",
    "<ul>\n",
    "\t<li><a href=\"http://www.datasciencecentral.com/profiles/blogs/10-types-of-regressions-which-one-to-use\" target=\"_blank\" rel=\"noopener\">10 types of regressions. Which one to use?</a></li>\n",
    "\t<li><a href=\"http://www.datasciencecentral.com/profiles/blogs/comparing-linear-regression-with-the-jackknife-method\" target=\"_blank\" rel=\"noopener\">Jackknife and linear regression in Excel: implementation and comparison</a></li>\n",
    "</ul>\n",
    " "
   ]
  }
 ],
 "metadata": {
  "kernelspec": {
   "display_name": "Python 2",
   "language": "python",
   "name": "python2"
  },
  "language_info": {
   "codemirror_mode": {
    "name": "ipython",
    "version": 2
   },
   "file_extension": ".py",
   "mimetype": "text/x-python",
   "name": "python",
   "nbconvert_exporter": "python",
   "pygments_lexer": "ipython2",
   "version": "2.7.10"
  }
 },
 "nbformat": 4,
 "nbformat_minor": 2
}
