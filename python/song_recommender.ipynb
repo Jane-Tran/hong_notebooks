{
 "cells": [
  {
   "cell_type": "markdown",
   "metadata": {},
   "source": [
    "<h2>Chuẩn bị tập dữ liệu</h2>\n",
    "\n",
    "Đầu tiên, ta sẽ import các thư viện cần thiết. Nếu có thư viện nào bị thiếu, bạn có thể sử dụng pip để install."
   ]
  },
  {
   "cell_type": "code",
   "execution_count": 1,
   "metadata": {},
   "outputs": [],
   "source": [
    "import os\n",
    "from math import sqrt\n",
    "from itertools import islice\n",
    "\n",
    "import numpy as np\n",
    "import pandas as pd\n",
    "from scipy.sparse.linalg import svds\n",
    "from sklearn.metrics import mean_squared_error\n",
    "from sklearn.metrics.pairwise import pairwise_distances\n",
    "from sklearn.model_selection import train_test_split"
   ]
  },
  {
   "cell_type": "markdown",
   "metadata": {},
   "source": [
    "Tiếp theo, ta chuyển đổi định dạng plain text ban đầu thành .csv, đọc tập dữ liệu này và quan sát tổng quan."
   ]
  },
  {
   "cell_type": "code",
   "execution_count": 2,
   "metadata": {},
   "outputs": [
    {
     "name": "stdout",
     "output_type": "stream",
     "text": [
      "20000 songs converted...\n",
      "40000 songs converted...\n",
      "60000 songs converted...\n",
      "80000 songs converted...\n",
      "100000 songs converted...\n",
      "120000 songs converted...\n",
      "140000 songs converted...\n",
      "160000 songs converted...\n",
      "CPU times: user 2.38 s, sys: 117 ms, total: 2.5 s\n",
      "Wall time: 2.53 s\n"
     ]
    }
   ],
   "source": [
    "%%time\n",
    "d_path = \"data/kaggle_visible_evaluation_triplets.txt\"\n",
    "new_path = \"data/song_data.csv\"\n",
    "with open(d_path, \"r\") as f1, open(new_path, \"w\") as f2:\n",
    "    i = 0\n",
    "    f2.write(\"user_id,song_id,listen_count\\n\")\n",
    "    while True:\n",
    "        next_n_lines = list(islice(f1, 9))\n",
    "        if not next_n_lines:\n",
    "            break\n",
    "\n",
    "        # process next_n_lines: get user_id,song_id,listen_count info\n",
    "        output_line = \"\"\n",
    "        for line in next_n_lines:\n",
    "            user_id, song, listen_count = line.split(\"\\t\")\n",
    "            output_line += \"{},{},{}\\n\".format(user_id, song, listen_count.strip())\n",
    "        f2.write(output_line)\n",
    "        \n",
    "        # print status\n",
    "        i += 1\n",
    "        if i % 20000 == 0:\n",
    "            print \"%d songs converted...\" % i"
   ]
  },
  {
   "cell_type": "code",
   "execution_count": 3,
   "metadata": {},
   "outputs": [
    {
     "name": "stdout",
     "output_type": "stream",
     "text": [
      "-- data/song_data.csv found locally\n",
      "-- Explore data\n"
     ]
    },
    {
     "data": {
      "text/html": [
       "<div>\n",
       "<style scoped>\n",
       "    .dataframe tbody tr th:only-of-type {\n",
       "        vertical-align: middle;\n",
       "    }\n",
       "\n",
       "    .dataframe tbody tr th {\n",
       "        vertical-align: top;\n",
       "    }\n",
       "\n",
       "    .dataframe thead th {\n",
       "        text-align: right;\n",
       "    }\n",
       "</style>\n",
       "<table border=\"1\" class=\"dataframe\">\n",
       "  <thead>\n",
       "    <tr style=\"text-align: right;\">\n",
       "      <th></th>\n",
       "      <th>user_id</th>\n",
       "      <th>song_id</th>\n",
       "      <th>listen_count</th>\n",
       "    </tr>\n",
       "  </thead>\n",
       "  <tbody>\n",
       "    <tr>\n",
       "      <th>36249</th>\n",
       "      <td>d09a1d62965a0b34b827543f2abb9a2308dea58d</td>\n",
       "      <td>SOYCYVS12A8C13F107</td>\n",
       "      <td>5</td>\n",
       "    </tr>\n",
       "    <tr>\n",
       "      <th>1055500</th>\n",
       "      <td>5e1c0a2733a194063aadc08332ff61b810631922</td>\n",
       "      <td>SOIVKUR12A6310F0FF</td>\n",
       "      <td>1</td>\n",
       "    </tr>\n",
       "    <tr>\n",
       "      <th>960831</th>\n",
       "      <td>718d27712d6e6b45f046c784fa6ba4b4dae6e307</td>\n",
       "      <td>SOHKZSM12A8C13E5D5</td>\n",
       "      <td>5</td>\n",
       "    </tr>\n",
       "    <tr>\n",
       "      <th>614060</th>\n",
       "      <td>70cba6322ca65c3dd771d8df5ead420ffb3f021b</td>\n",
       "      <td>SONHXJK12AAF3B5290</td>\n",
       "      <td>2</td>\n",
       "    </tr>\n",
       "    <tr>\n",
       "      <th>1176495</th>\n",
       "      <td>65fd23351e01ee04187286d1f7bea5d68d55a5a5</td>\n",
       "      <td>SOIYIMC12AC9097E45</td>\n",
       "      <td>1</td>\n",
       "    </tr>\n",
       "  </tbody>\n",
       "</table>\n",
       "</div>"
      ],
      "text/plain": [
       "                                          user_id             song_id  \\\n",
       "36249    d09a1d62965a0b34b827543f2abb9a2308dea58d  SOYCYVS12A8C13F107   \n",
       "1055500  5e1c0a2733a194063aadc08332ff61b810631922  SOIVKUR12A6310F0FF   \n",
       "960831   718d27712d6e6b45f046c784fa6ba4b4dae6e307  SOHKZSM12A8C13E5D5   \n",
       "614060   70cba6322ca65c3dd771d8df5ead420ffb3f021b  SONHXJK12AAF3B5290   \n",
       "1176495  65fd23351e01ee04187286d1f7bea5d68d55a5a5  SOIYIMC12AC9097E45   \n",
       "\n",
       "         listen_count  \n",
       "36249               5  \n",
       "1055500             1  \n",
       "960831              5  \n",
       "614060              2  \n",
       "1176495             1  "
      ]
     },
     "metadata": {},
     "output_type": "display_data"
    },
    {
     "name": "stdout",
     "output_type": "stream",
     "text": [
      "Number of users = 13293 | Number of songs = 10304\n"
     ]
    }
   ],
   "source": [
    "def load_music_data(file_name):\n",
    "    \"\"\"Get reviews data, from local csv.\"\"\"\n",
    "    if os.path.exists(file_name):\n",
    "        print(\"-- \" + file_name + \" found locally\")\n",
    "        df = pd.read_csv(file_name)\n",
    " \n",
    "    return df\n",
    " \n",
    "# Load music data with sampling fraction = 0.01 for reduce processing time.\n",
    "song_data = load_music_data(new_path)\n",
    "song_data = song_data.sample(frac=0.01, replace=False)\n",
    " \n",
    "print \"-- Explore data\"\n",
    "display(song_data.head())\n",
    " \n",
    "n_users = song_data.user_id.unique().shape[0]\n",
    "n_items = song_data.song_id.unique().shape[0]\n",
    "print \"Number of users = \" + str(n_users) + \" | Number of songs = \" + str(n_items)"
   ]
  },
  {
   "cell_type": "markdown",
   "metadata": {},
   "source": [
    "Nếu bạn áp dụng phương pháp popularity, nghĩa là hiển thị top các bài nhạc được nghe nhiều nhất. Ta có thể thực hiện như sau:\n"
   ]
  },
  {
   "cell_type": "code",
   "execution_count": 4,
   "metadata": {},
   "outputs": [
    {
     "name": "stdout",
     "output_type": "stream",
     "text": [
      "-- Showing the most popular songs in the dataset\n"
     ]
    },
    {
     "data": {
      "text/html": [
       "<div>\n",
       "<style scoped>\n",
       "    .dataframe tbody tr th:only-of-type {\n",
       "        vertical-align: middle;\n",
       "    }\n",
       "\n",
       "    .dataframe tbody tr th {\n",
       "        vertical-align: top;\n",
       "    }\n",
       "\n",
       "    .dataframe thead th {\n",
       "        text-align: right;\n",
       "    }\n",
       "</style>\n",
       "<table border=\"1\" class=\"dataframe\">\n",
       "  <thead>\n",
       "    <tr style=\"text-align: right;\">\n",
       "      <th></th>\n",
       "      <th>Song</th>\n",
       "      <th>Count</th>\n",
       "    </tr>\n",
       "  </thead>\n",
       "  <tbody>\n",
       "    <tr>\n",
       "      <th>7893</th>\n",
       "      <td>SOFRQTD12A81C233C0</td>\n",
       "      <td>60</td>\n",
       "    </tr>\n",
       "    <tr>\n",
       "      <th>4672</th>\n",
       "      <td>SONYKOW12AB01849C9</td>\n",
       "      <td>42</td>\n",
       "    </tr>\n",
       "    <tr>\n",
       "      <th>7155</th>\n",
       "      <td>SOSXLTC12AF72A7F54</td>\n",
       "      <td>42</td>\n",
       "    </tr>\n",
       "    <tr>\n",
       "      <th>7318</th>\n",
       "      <td>SOBONKR12A58A7A7E0</td>\n",
       "      <td>39</td>\n",
       "    </tr>\n",
       "    <tr>\n",
       "      <th>7283</th>\n",
       "      <td>SOAUWYT12A81C206F1</td>\n",
       "      <td>38</td>\n",
       "    </tr>\n",
       "  </tbody>\n",
       "</table>\n",
       "</div>"
      ],
      "text/plain": [
       "                    Song  Count\n",
       "7893  SOFRQTD12A81C233C0     60\n",
       "4672  SONYKOW12AB01849C9     42\n",
       "7155  SOSXLTC12AF72A7F54     42\n",
       "7318  SOBONKR12A58A7A7E0     39\n",
       "7283  SOAUWYT12A81C206F1     38"
      ]
     },
     "execution_count": 4,
     "metadata": {},
     "output_type": "execute_result"
    }
   ],
   "source": [
    "print \"-- Showing the most popular songs in the dataset\"\n",
    "unique, counts = np.unique(song_data[\"song_id\"], return_counts=True)\n",
    "popular_songs = dict(zip(unique, counts))\n",
    "df_popular_songs = pd.DataFrame(popular_songs.items(), columns=[\"Song\", \"Count\"])\n",
    "df_popular_songs = df_popular_songs.sort_values(by=[\"Count\"], ascending=False)\n",
    "df_popular_songs.head()"
   ]
  },
  {
   "cell_type": "markdown",
   "metadata": {},
   "source": [
    "Có thể thấy SOFRQTD12A81C233C0 được nghe nhiều nhất với 60 lượt nghe. Dù bạn là ai đi chăng nữa thì hệ thống của chúng ta cũng chỉ recommend cho người dùng bằng cách hiển thị top các bài nhạc được nghe nhiều nhất. Giả sử người dùng không thích các thể loại nhạc này thì hệ thống của chúng ta đã thất bại trong việc gợi ý.\n",
    "\n",
    "Trước khi xây dựng hệ thống recommender, ta sẽ phân chia tập dữ liệu thành tập train và tập test với tỉ lệ 0.75/0.25.\n"
   ]
  },
  {
   "cell_type": "code",
   "execution_count": 5,
   "metadata": {},
   "outputs": [],
   "source": [
    "train_data, test_data = train_test_split(song_data, test_size=0.25)"
   ]
  },
  {
   "cell_type": "markdown",
   "metadata": {},
   "source": [
    "<h2>Memory-Based Collaborative Filtering</h2>\n",
    "\n",
    "Để có thể áp dụng phương pháp user-item filtering và item-item filtering, ta cần xây dựng ma trận user-item.\n",
    "\n",
    "Nếu tập dữ liệu của chúng ta có 13,293 user và 10,304 bài nhạc thì ta sẽ đi xây dựng ma trận user-item 13,293 dòng và 10,304 cột dữ liệu.\n",
    "\n",
    "Ta sẽ tiến hành chuyển đổi mã user và mã bài nhạc sang chỉ số của ma trận như sau:"
   ]
  },
  {
   "cell_type": "code",
   "execution_count": 6,
   "metadata": {},
   "outputs": [],
   "source": [
    "def values_to_map_index(values):\n",
    "    map_index = {}\n",
    "    idx = 0\n",
    "    for val in values:\n",
    "        map_index[val] = idx\n",
    "        idx += 1\n",
    " \n",
    "    return map_index\n",
    " \n",
    "user_idx = values_to_map_index(song_data.user_id.unique())\n",
    "song_idx = values_to_map_index(song_data.song_id.unique())"
   ]
  },
  {
   "cell_type": "markdown",
   "metadata": {},
   "source": [
    "Khi đó, ta có thể xây dựng được hai ma trận user-item, một cho train dataset, hai cho test dataset. Lưu ý, line[1] là mã user, line[2] là mã bài nhạc, line[3] là số lượt nghe.\n"
   ]
  },
  {
   "cell_type": "code",
   "execution_count": 7,
   "metadata": {},
   "outputs": [],
   "source": [
    "train_data_matrix = np.zeros((n_users, n_items))\n",
    "for line in train_data.itertuples():\n",
    "    train_data_matrix[user_idx[line[1]], song_idx[line[2]]] = line[3]\n",
    "\n",
    "test_data_matrix = np.zeros((n_users, n_items))\n",
    "for line in test_data.itertuples():\n",
    "    test_data_matrix[user_idx[line[1]], song_idx[line[2]]] = line[3]"
   ]
  },
  {
   "cell_type": "markdown",
   "metadata": {},
   "source": [
    "Sau khi xây dựng được ma trận user-item, ta sẽ xây dựng ma trận khoảng cách để tính độ tương tự (similarity distance) giữa các item và user lẫn nhau. Ta có nhiều độ đo khoảng cách để áp dụng tính toán. Thông thường, ta sử dụng độ đo khoảng cách cosine để tính.\n",
    "\n",
    "Cosine similiarity giữa user k và a được tính dựa vào công thức như bên dưới. Trong đó, $x_{k,m}$ là số lượt nghe bài nhạc m của user k, $x_{a,m}$ là số lượt nghe bài nhạc m của user a.\n",
    "\n",
    "$$s^{cos}_u (u_k, u_a) = \\frac{u_k \\cdot u_a}{||u_k|| ||u_a||} = \\frac{\\sum x_{k,m} x_{a,m}}{\\sqrt{\\sum x^2_{k,m} x^2_{a,m}}} $$\n",
    "\n",
    "Tương tự, ta có độ đo khoảng cách giữa item m và b như bên dưới:\n",
    "\n",
    "$$s^{cos}_u (i_m, i_b) = \\frac{i_m \\cdot i_b}{||i_m|| ||i_b||} = \\frac{\\sum x_{a,m} x_{a,b}}{\\sqrt{\\sum x^2_{a,m} x^2_{a,b}}} $$\n",
    "\n",
    "Ta có thể dùng hàm pairwise_distances của sklearn để tính cosine similarity. Chú ý, output sẽ nằm trong khoảng 0 đến 1 do số lượt nghe đều là số không âm.\n"
   ]
  },
  {
   "cell_type": "code",
   "execution_count": 8,
   "metadata": {},
   "outputs": [
    {
     "name": "stdout",
     "output_type": "stream",
     "text": [
      "CPU times: user 1min 51s, sys: 19.7 s, total: 2min 11s\n",
      "Wall time: 3min 47s\n"
     ]
    }
   ],
   "source": [
    "%%time\n",
    "user_similarity = pairwise_distances(train_data_matrix, metric='cosine', n_jobs=-1)\n",
    "item_similarity = pairwise_distances(train_data_matrix.T, metric='cosine', n_jobs=-1)"
   ]
  },
  {
   "cell_type": "markdown",
   "metadata": {},
   "source": [
    "Để có thể dự đoán số lượt nghe bài nhạc m của user k. Số lượt nghe càng cao tương đương với user quan tâm đến bài nhạc này càng nhiều. Ta có thể sắp xếp lại kết quả dự đoán để cho ra các bài nhạc gợi ý cho user này. Công thức dự đoán theo user-based CF được tính như bên dưới:\n",
    "\n",
    "$$\\hat x_{k,m} = \\bar x_k + \\frac{\\sum_{u_a} sim_u(u_k, u_a)(x_{a,m} - \\bar x_{u_a})}{\\sum_{u_a} |sim_u(u_k, u_a)|}$$\n",
    "\n",
    "Ta có thể thấy độ đo khoảng cách giữa user k và a được sử dụng như trọng số của mô hình dự đoán. User k càng giống user a bao nhiêu thì kết quả dự đoán sẽ càng gần với a bấy nhiêu. Đồng thời, giá trị dự đoán sẽ được tính dựa vào số lượt nghe trung bình của user k đối với các bài nhạc trước đó. Tương tự, item-based CF được tính như sau:\n",
    "\n",
    "$$\\hat x_{k,m} = \\frac{\\sum_{i_b} sim_i(i_m, i_b)(x_{k,b})}{\\sum_{i_b} |sim_i(i_m, i_b)|}$$\n"
   ]
  },
  {
   "cell_type": "code",
   "execution_count": 9,
   "metadata": {},
   "outputs": [],
   "source": [
    "def predict(ratings, similarity, type='user'):\n",
    "    if type == 'user':\n",
    "        mean_user_rating = ratings.mean(axis=1)\n",
    "        # You use np.newaxis so that mean_user_rating has same format as ratings\n",
    "        ratings_diff = (ratings - mean_user_rating[:, np.newaxis])\n",
    "        pred = mean_user_rating[:, np.newaxis] + similarity.dot(ratings_diff) / np.array(\n",
    "            [np.abs(similarity).sum(axis=1)]).T\n",
    "    elif type == 'item':\n",
    "        pred = ratings.dot(similarity) / np.array([np.abs(similarity).sum(axis=1)])\n",
    "    return pred\n",
    "\n",
    "item_prediction = predict(train_data_matrix, item_similarity, type='item')\n",
    "user_prediction = predict(train_data_matrix, user_similarity, type='user')"
   ]
  },
  {
   "cell_type": "markdown",
   "metadata": {},
   "source": [
    "Cuối cùng, ta sẽ sử dụng Root Mean Squared Error (RMSE) để đánh giá mô hình dựa vào tập dữ liệu test.\n",
    "\n",
    "$$RMSE = \\sqrt{\\frac{1}{N} \\sum (x_i - \\hat x_i)^2}$$\n",
    "\n",
    "sklearn có cung cấp hàm mean_square_error (MSE) để tính toán. Do ta đánh giá mô hình dựa vào tập test nên ta cần filter prediction matrix trước bằng lệnh prediction[ground_truth.nonzero()]. Giá trị của RMSE càng nhỏ thì mô hình của chúng ta càng tốt.\n"
   ]
  },
  {
   "cell_type": "code",
   "execution_count": 10,
   "metadata": {},
   "outputs": [
    {
     "name": "stdout",
     "output_type": "stream",
     "text": [
      "User-based CF RMSE: 7.03399900018\n",
      "Item-based CF RMSE: 7.03442652103\n"
     ]
    }
   ],
   "source": [
    "def rmse(prediction, ground_truth):\n",
    "    prediction = prediction[ground_truth.nonzero()].flatten()\n",
    "    ground_truth = ground_truth[ground_truth.nonzero()].flatten()\n",
    "    return sqrt(mean_squared_error(prediction, ground_truth))\n",
    "\n",
    "print 'User-based CF RMSE: ' + str(rmse(user_prediction, test_data_matrix))\n",
    "print 'Item-based CF RMSE: ' + str(rmse(item_prediction, test_data_matrix))"
   ]
  },
  {
   "cell_type": "markdown",
   "metadata": {},
   "source": [
    "Ta có thể thấy mô hình Memory-based dễ dàng cài đặt và dự đoán. Khuyết điểm của mô hình này đó là khó mở rộng cho các hệ thống lớn và không giải quyết được cold-start problem. Nghĩa là hệ thống không có khả năng dự đoán cho một user mới chưa có lượt nghe ở bất kỳ bài nhạc nào.\n",
    "<h2>Model-based Collaborative Filtering</h2>\n",
    "\n",
    "Giả sử, ta có d topics cho từng user và từng bài nhạc. Ví dụ, ta có thể mô tả bài nhạc m ($R_m$) thông qua phần trăm các topic bên trong đó như 0.3% jazz, 0.01% pop, 1.5% dance, ... Tương tự, ta có thể mô tả gu âm nhạc của user u ($L_u$) thông qua phần trăm các topic như 2.5% jazz, 0% pop, 0.8% dance, ... Khi đó, ta sẽ có hai vector tương tự như sau:\n",
    "\n",
    "$$R_m = [0.3, 0.01, 1.5, ...], L_u = [2.5, 0, 0.8, ...]$$\n",
    "\n",
    "Và mức độ quan tâm của user đối với bài nhạc này sẽ là tích vector của $R_m, L_u$. Khi đó, ta có thể sắp xếp các bài nhạc theo mức độ quan tâm này cho user.\n",
    "\n",
    "Trong bài viết này, ta sẽ áp dụng Singular value decomposition (SVD) để phân tích ma trận user-item thành tích các ma trận thành phần (matrix factorization).\n",
    "\n",
    "Để dự đoán, ta chỉ việc tính tích các ma trận lại với nhau."
   ]
  },
  {
   "cell_type": "code",
   "execution_count": 11,
   "metadata": {},
   "outputs": [
    {
     "name": "stdout",
     "output_type": "stream",
     "text": [
      "User-based CF MSE: 7.0344482344\n"
     ]
    }
   ],
   "source": [
    "# get SVD components from train matrix. Choose k, rank of S.\n",
    "u, s, vt = svds(train_data_matrix, k=20)\n",
    "s_diag_matrix = np.diag(s)\n",
    "X_pred = np.dot(np.dot(u, s_diag_matrix), vt)\n",
    "print 'User-based CF MSE: ' + str(rmse(X_pred, test_data_matrix))"
   ]
  },
  {
   "cell_type": "markdown",
   "metadata": {},
   "source": [
    "Model-based CF có khả năng mở rộng và giải quyết vấn đề ma trận bị rời rạc (sparsity level) tốt hơn memory-based models. Nhưng vẫn không giải quyết được vấn đề khi có user mới chưa có nghe bài nhạc nào. Bạn có thể giải quyết vấn đề cold-start bằng các cách gom nhóm người dùng mới vào nhóm người dùng cũ, dựa vào các feature ta đã xây dựng như thời điểm nghe nhạc, thông tin tài khoản, các chủ đề quan tâm, ...\n",
    "\n",
    "Hiện nay, bạn có thể cài đặt recommender system một cách dễ dàng hơn thông qua các thư viện hỗ trợ sẵn như <a href=\"https://muricoca.github.io/crab/\" target=\"_blank\" rel=\"noopener\">Crab - Recommender systems in Python</a> hay <a href=\"http://spark.apache.org/docs/latest/mllib-collaborative-filtering.html\" target=\"_blank\" rel=\"noopener\">Spark Mlib</a> cho các hệ thống Big Data.\n",
    "\n",
    "<strong>Tham khảo thêm</strong>\n",
    "<ul>\n",
    "    <li><a href=\"http://online.cambridgecoding.com/notebooks/eWReNYcAfB/implementing-your-own-recommender-systems-in-python-2\" target=\"_blank\" rel=\"noopener\">Implementing your own recommender systems in Python</a></li>\n",
    "    <li><a href=\"https://databricks-training.s3.amazonaws.com/movie-recommendation-with-mllib.html\" target=\"_blank\" rel=\"noopener\">Movie Recommendation with MLib</a></li>\n",
    "    <li><a href=\"https://www.codementor.io/spark/tutorial/building-a-recommender-with-apache-spark-python-example-app-part1\" target=\"_blank\" rel=\"noopener\">Building a Movie Recommendation Service with Apache Spark & Flask</a></li>\n",
    "</ul>"
   ]
  }
 ],
 "metadata": {
  "kernelspec": {
   "display_name": "Python 2",
   "language": "python",
   "name": "python2"
  },
  "language_info": {
   "codemirror_mode": {
    "name": "ipython",
    "version": 2
   },
   "file_extension": ".py",
   "mimetype": "text/x-python",
   "name": "python",
   "nbconvert_exporter": "python",
   "pygments_lexer": "ipython2",
   "version": "2.7.10"
  }
 },
 "nbformat": 4,
 "nbformat_minor": 2
}
