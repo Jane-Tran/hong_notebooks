{
 "cells": [
  {
   "cell_type": "markdown",
   "metadata": {},
   "source": [
    "<h2>Load dữ liệu vào DataFrame</h2>\n",
    "\n",
    "Đầu tiên, ta sẽ sử dụng pandas để load tập dữ liệu home_data.csv về dạng DataFrame."
   ]
  },
  {
   "cell_type": "code",
   "execution_count": 1,
   "metadata": {},
   "outputs": [
    {
     "data": {
      "text/html": [
       "<div>\n",
       "<style scoped>\n",
       "    .dataframe tbody tr th:only-of-type {\n",
       "        vertical-align: middle;\n",
       "    }\n",
       "\n",
       "    .dataframe tbody tr th {\n",
       "        vertical-align: top;\n",
       "    }\n",
       "\n",
       "    .dataframe thead th {\n",
       "        text-align: right;\n",
       "    }\n",
       "</style>\n",
       "<table border=\"1\" class=\"dataframe\">\n",
       "  <thead>\n",
       "    <tr style=\"text-align: right;\">\n",
       "      <th></th>\n",
       "      <th>date</th>\n",
       "      <th>price</th>\n",
       "      <th>bedrooms</th>\n",
       "      <th>bathrooms</th>\n",
       "      <th>sqft_living</th>\n",
       "      <th>sqft_lot</th>\n",
       "      <th>floors</th>\n",
       "      <th>waterfront</th>\n",
       "      <th>view</th>\n",
       "      <th>condition</th>\n",
       "      <th>grade</th>\n",
       "      <th>sqft_above</th>\n",
       "      <th>sqft_basement</th>\n",
       "      <th>yr_built</th>\n",
       "      <th>yr_renovated</th>\n",
       "      <th>zipcode</th>\n",
       "      <th>lat</th>\n",
       "      <th>long</th>\n",
       "      <th>sqft_living15</th>\n",
       "      <th>sqft_lot15</th>\n",
       "    </tr>\n",
       "    <tr>\n",
       "      <th>id</th>\n",
       "      <th></th>\n",
       "      <th></th>\n",
       "      <th></th>\n",
       "      <th></th>\n",
       "      <th></th>\n",
       "      <th></th>\n",
       "      <th></th>\n",
       "      <th></th>\n",
       "      <th></th>\n",
       "      <th></th>\n",
       "      <th></th>\n",
       "      <th></th>\n",
       "      <th></th>\n",
       "      <th></th>\n",
       "      <th></th>\n",
       "      <th></th>\n",
       "      <th></th>\n",
       "      <th></th>\n",
       "      <th></th>\n",
       "      <th></th>\n",
       "    </tr>\n",
       "  </thead>\n",
       "  <tbody>\n",
       "    <tr>\n",
       "      <th>7129300520</th>\n",
       "      <td>20141013T000000</td>\n",
       "      <td>221900</td>\n",
       "      <td>3</td>\n",
       "      <td>1.00</td>\n",
       "      <td>1180</td>\n",
       "      <td>5650</td>\n",
       "      <td>1.0</td>\n",
       "      <td>0</td>\n",
       "      <td>0</td>\n",
       "      <td>3</td>\n",
       "      <td>7</td>\n",
       "      <td>1180</td>\n",
       "      <td>0</td>\n",
       "      <td>1955</td>\n",
       "      <td>0</td>\n",
       "      <td>98178</td>\n",
       "      <td>47.5112</td>\n",
       "      <td>-122.257</td>\n",
       "      <td>1340</td>\n",
       "      <td>5650</td>\n",
       "    </tr>\n",
       "    <tr>\n",
       "      <th>6414100192</th>\n",
       "      <td>20141209T000000</td>\n",
       "      <td>538000</td>\n",
       "      <td>3</td>\n",
       "      <td>2.25</td>\n",
       "      <td>2570</td>\n",
       "      <td>7242</td>\n",
       "      <td>2.0</td>\n",
       "      <td>0</td>\n",
       "      <td>0</td>\n",
       "      <td>3</td>\n",
       "      <td>7</td>\n",
       "      <td>2170</td>\n",
       "      <td>400</td>\n",
       "      <td>1951</td>\n",
       "      <td>1991</td>\n",
       "      <td>98125</td>\n",
       "      <td>47.7210</td>\n",
       "      <td>-122.319</td>\n",
       "      <td>1690</td>\n",
       "      <td>7639</td>\n",
       "    </tr>\n",
       "    <tr>\n",
       "      <th>5631500400</th>\n",
       "      <td>20150225T000000</td>\n",
       "      <td>180000</td>\n",
       "      <td>2</td>\n",
       "      <td>1.00</td>\n",
       "      <td>770</td>\n",
       "      <td>10000</td>\n",
       "      <td>1.0</td>\n",
       "      <td>0</td>\n",
       "      <td>0</td>\n",
       "      <td>3</td>\n",
       "      <td>6</td>\n",
       "      <td>770</td>\n",
       "      <td>0</td>\n",
       "      <td>1933</td>\n",
       "      <td>0</td>\n",
       "      <td>98028</td>\n",
       "      <td>47.7379</td>\n",
       "      <td>-122.233</td>\n",
       "      <td>2720</td>\n",
       "      <td>8062</td>\n",
       "    </tr>\n",
       "    <tr>\n",
       "      <th>2487200875</th>\n",
       "      <td>20141209T000000</td>\n",
       "      <td>604000</td>\n",
       "      <td>4</td>\n",
       "      <td>3.00</td>\n",
       "      <td>1960</td>\n",
       "      <td>5000</td>\n",
       "      <td>1.0</td>\n",
       "      <td>0</td>\n",
       "      <td>0</td>\n",
       "      <td>5</td>\n",
       "      <td>7</td>\n",
       "      <td>1050</td>\n",
       "      <td>910</td>\n",
       "      <td>1965</td>\n",
       "      <td>0</td>\n",
       "      <td>98136</td>\n",
       "      <td>47.5208</td>\n",
       "      <td>-122.393</td>\n",
       "      <td>1360</td>\n",
       "      <td>5000</td>\n",
       "    </tr>\n",
       "    <tr>\n",
       "      <th>1954400510</th>\n",
       "      <td>20150218T000000</td>\n",
       "      <td>510000</td>\n",
       "      <td>3</td>\n",
       "      <td>2.00</td>\n",
       "      <td>1680</td>\n",
       "      <td>8080</td>\n",
       "      <td>1.0</td>\n",
       "      <td>0</td>\n",
       "      <td>0</td>\n",
       "      <td>3</td>\n",
       "      <td>8</td>\n",
       "      <td>1680</td>\n",
       "      <td>0</td>\n",
       "      <td>1987</td>\n",
       "      <td>0</td>\n",
       "      <td>98074</td>\n",
       "      <td>47.6168</td>\n",
       "      <td>-122.045</td>\n",
       "      <td>1800</td>\n",
       "      <td>7503</td>\n",
       "    </tr>\n",
       "  </tbody>\n",
       "</table>\n",
       "</div>"
      ],
      "text/plain": [
       "                       date   price  bedrooms  bathrooms  sqft_living  \\\n",
       "id                                                                      \n",
       "7129300520  20141013T000000  221900         3       1.00         1180   \n",
       "6414100192  20141209T000000  538000         3       2.25         2570   \n",
       "5631500400  20150225T000000  180000         2       1.00          770   \n",
       "2487200875  20141209T000000  604000         4       3.00         1960   \n",
       "1954400510  20150218T000000  510000         3       2.00         1680   \n",
       "\n",
       "            sqft_lot  floors  waterfront  view  condition  grade  sqft_above  \\\n",
       "id                                                                             \n",
       "7129300520      5650     1.0           0     0          3      7        1180   \n",
       "6414100192      7242     2.0           0     0          3      7        2170   \n",
       "5631500400     10000     1.0           0     0          3      6         770   \n",
       "2487200875      5000     1.0           0     0          5      7        1050   \n",
       "1954400510      8080     1.0           0     0          3      8        1680   \n",
       "\n",
       "            sqft_basement  yr_built  yr_renovated  zipcode      lat     long  \\\n",
       "id                                                                             \n",
       "7129300520              0      1955             0    98178  47.5112 -122.257   \n",
       "6414100192            400      1951          1991    98125  47.7210 -122.319   \n",
       "5631500400              0      1933             0    98028  47.7379 -122.233   \n",
       "2487200875            910      1965             0    98136  47.5208 -122.393   \n",
       "1954400510              0      1987             0    98074  47.6168 -122.045   \n",
       "\n",
       "            sqft_living15  sqft_lot15  \n",
       "id                                     \n",
       "7129300520           1340        5650  \n",
       "6414100192           1690        7639  \n",
       "5631500400           2720        8062  \n",
       "2487200875           1360        5000  \n",
       "1954400510           1800        7503  "
      ]
     },
     "execution_count": 1,
     "metadata": {},
     "output_type": "execute_result"
    }
   ],
   "source": [
    "import os\n",
    "import matplotlib.pyplot as plt\n",
    "import pandas as pd\n",
    "from sklearn import linear_model\n",
    "from sklearn.externals import joblib\n",
    "from sklearn.linear_model import Ridge\n",
    "from sklearn.model_selection import train_test_split\n",
    "from sklearn.pipeline import Pipeline\n",
    "from sklearn.preprocessing import PolynomialFeatures\n",
    "\n",
    "def get_home_data():\n",
    "    \"\"\"Get home data, from local csv.\"\"\"\n",
    "    if os.path.exists(\"data/home_data.csv\"):\n",
    "        df = pd.read_csv(\"data/home_data.csv\", index_col=0)\n",
    "\n",
    "    return df\n",
    "\n",
    "df = get_home_data()\n",
    "df.head()"
   ]
  },
  {
   "cell_type": "code",
   "execution_count": 2,
   "metadata": {},
   "outputs": [
    {
     "data": {
      "text/plain": [
       "(21613, 20)"
      ]
     },
     "execution_count": 2,
     "metadata": {},
     "output_type": "execute_result"
    }
   ],
   "source": [
    "df.shape"
   ]
  },
  {
   "cell_type": "markdown",
   "metadata": {},
   "source": [
    "<h2>Lựa chọn thuộc tính và phân chia tập dữ liệu</h2>\n",
    "\n",
    "Tập dữ liệu home_data có nhiều thuộc tính liên quan. Trong ví dụ này, ta sẽ sử dụng ba thuộc tính đơn giản là \"bedrooms\", \"bathrooms\",  và \"grade\" để dự đoán giá nhà. Sau đó, ta tiếp tục phân chia tập dữ liệu thành hai phần training (70%) và testing (30%). Sau cùng, ta thử lập biểu đồ mối quan hệ giữa ba thuộc tính này so với giá nhà để xem chúng có tạo ra một xu hướng nào không.\n"
   ]
  },
  {
   "cell_type": "code",
   "execution_count": 3,
   "metadata": {},
   "outputs": [
    {
     "name": "stdout",
     "output_type": "stream",
     "text": [
      "Features name: ['date', 'price', 'bedrooms', 'bathrooms', 'sqft_living', 'sqft_lot', 'floors', 'waterfront', 'view', 'condition', 'grade', 'sqft_above', 'sqft_basement', 'yr_built', 'yr_renovated', 'zipcode', 'lat', 'long', 'sqft_living15', 'sqft_lot15']\n",
      "Selected features: ['bedrooms', 'bathrooms', 'grade']\n"
     ]
    },
    {
     "data": {
      "image/png": "[encoded data removed]",
      "text/plain": [
       "<matplotlib.figure.Figure at 0x10efc9ad0>"
      ]
     },
     "metadata": {},
     "output_type": "display_data"
    }
   ],
   "source": [
    "def plotting_features_vs_target(features, x, y):\n",
    "    # define number of subplot\n",
    "    num_feature = len(features)\n",
    "    f, axes = plt.subplots(1, num_feature, sharey=True)\n",
    "\n",
    "    # plotting\n",
    "    for i in range(0, num_feature):\n",
    "        axes[i].scatter(x[features[i]], y)\n",
    "        axes[i].set_title(features[i])\n",
    "\n",
    "    plt.show()\n",
    "\n",
    "# features selection\n",
    "features = list([\"bedrooms\", \"bathrooms\", \"grade\"])\n",
    "print \"Features name:\", list(df.columns.values)\n",
    "print \"Selected features:\", features\n",
    "y = df[\"price\"]\n",
    "X = df[features]\n",
    "\n",
    "# split data-set into training (70%) and testing set (30%)\n",
    "x_train, x_test, y_train, y_test = train_test_split(X, y, test_size=0.3)\n",
    "\n",
    "# plotting features, target relationships\n",
    "plotting_features_vs_target(features, x_train, y_train)"
   ]
  },
  {
   "cell_type": "markdown",
   "metadata": {},
   "source": [
    "<h2>Huấn luyện và đánh giá theo phương pháp cơ bản</h2>\n",
    "\n",
    "Về cơ bản, quá trình training mô hình của chúng ta sẽ hướng đến tối tiểu hoá hàm lỗi sau:\n",
    "\n",
    "$$min_w ||Xw - y||_2^2 $$\n",
    "\n",
    "Ta sử dụng scikit-learn (linear_model) để huấn luyện mô hình theo giải thuật <strong>Gradient Descent</strong>. Khi đã có được mô hình, ta sẽ sử dụng tập testing để đánh giá thông qua hàm score(). Hàm score() được định nghĩa như sau:\n",
    "\n",
    "```\n",
    "Returns the coefficient of determination R^2 of the prediction.\n",
    "The coefficient R^2 is defined as (1 - u/v), where u is the regression\n",
    "sum of squares ((y_true - y_pred) ** 2).sum() and v is the residual\n",
    "sum of squares ((y_true - y_true.mean()) ** 2).sum().\n",
    "Best possible score is 1.0 and it can be negative (because the\n",
    "model can be arbitrarily worse). A constant model that always\n",
    "predicts the expected value of y, disregarding the input features,\n",
    "would get a R^2 score of 0.0.\n",
    "```"
   ]
  },
  {
   "cell_type": "code",
   "execution_count": 10,
   "metadata": {},
   "outputs": [
    {
     "name": "stdout",
     "output_type": "stream",
     "text": [
      "Model scored: 0.4536738526774685\n"
     ]
    }
   ],
   "source": [
    "\"\"\"\n",
    "DEFAULT MODEL\n",
    "\"\"\"\n",
    "# training model\n",
    "linear = linear_model.LinearRegression()\n",
    "linear.fit(x_train, y_train)\n",
    "\n",
    "# evaluating model\n",
    "score_trained = linear.score(x_test, y_test)\n",
    "print \"Model scored:\", score_trained"
   ]
  },
  {
   "cell_type": "markdown",
   "metadata": {},
   "source": [
    "<h2>Huấn luyện và đánh giá theo phương pháp Lasso (L1 regularization)</h2>\n",
    "\n",
    "Regularization thường được dùng để giảm thiểu vấn đề liên quan đến overfitting/variance. Lasso sử dụng thêm tham số $\\alpha$ để điều chỉnh lại quá trình fitting dữ liệu của mô hình. <strong>C</strong><span class=\"s1\"><strong>oordinate Descent</strong> được áp dụng để huấn luyện mô hình.</span>\n",
    "\n",
    "$$min_w ||Xw - y||_2^2 + \\alpha||w||_2^2 $$"
   ]
  },
  {
   "cell_type": "code",
   "execution_count": 5,
   "metadata": {},
   "outputs": [
    {
     "name": "stdout",
     "output_type": "stream",
     "text": [
      "Lasso model scored: 0.4536737876567861\n"
     ]
    }
   ],
   "source": [
    "\"\"\"\n",
    "LASSO MODEL\n",
    "\"\"\"\n",
    "# L1 regularization\n",
    "lasso_linear = linear_model.Lasso(alpha=1.0)\n",
    "lasso_linear.fit(x_train, y_train)\n",
    "\n",
    "# evaluating L1 regularized model\n",
    "score_lasso_trained = lasso_linear.score(x_test, y_test)\n",
    "print \"Lasso model scored:\", score_lasso_trained"
   ]
  },
  {
   "cell_type": "markdown",
   "metadata": {},
   "source": [
    "<h2>Huấn luyện và đánh giá theo phương pháp Ridge (L2 regularization)</h2>\n",
    "\n",
    "Ridge sử dụng <span class=\"s1\">Stochastic Average Gradient descent để huấn luyện mô hình thoả hàm lỗi được định nghĩa như bên dưới</span>\n",
    "\n",
    "$$min_w \\frac{1}{2n_{samples}} ||Xw - y||_2^2 + \\alpha||w||_1 $$"
   ]
  },
  {
   "cell_type": "code",
   "execution_count": 6,
   "metadata": {},
   "outputs": [
    {
     "name": "stdout",
     "output_type": "stream",
     "text": [
      "Ridge model scored: 0.45367284849267886\n"
     ]
    }
   ],
   "source": [
    "\"\"\"\n",
    "RIDGE MODEL\n",
    "\"\"\"\n",
    "# L2 regularization\n",
    "ridge_linear = Ridge(alpha=1.0)\n",
    "ridge_linear.fit(x_train, y_train)\n",
    "\n",
    "# evaluating L2 regularized model\n",
    "score_ridge_trained = ridge_linear.score(x_test, y_test)\n",
    "print \"Ridge model scored:\", score_ridge_trained"
   ]
  },
  {
   "cell_type": "markdown",
   "metadata": {},
   "source": [
    "Nếu dữ liệu và số lượng thuộc tính đủ lớn, ta có thể quan sát rõ tốc độ hội tụ của phương pháp Lasso nhanh hơn các phương pháp còn lại, nhờ vào cơ chế tính đạo hàm cho từng thuộc tính thay vì tính đạo hàm cùng lúc cho từng thuộc tính. Ridge sử dụng phương pháp Gradient Descent nhưng có áp dụng thêm cơ chế lựa chọn thuộc tính ngẫu nhiên để hy vọng đạt được kết quả hội tụ sớm. Cuối cùng, việc lựa chọn mô hình được dựa vào chỉ số đánh giá mô hình. Mô hình càng tốt thì model score càng gần đến 1.0.\n",
    "<h2>Nâng bậc của mô hình tuyến tính</h2>\n",
    "\n",
    "Nếu mô hình của chúng ta ở không gian 2 chiều thì hàm mục tiêu của chúng ta có dạng như sau:\n",
    "$$\\hat{y} (w, x) = w_0 + w_1x_1 + w_2x_2 $$\n",
    "Nếu chúng ta muốn nâng bậc của mô hình thành bậc 2, nghĩa là ta chuyển đường thẳng thành đường cong Parabol thì mô hình của chúng ta sẽ có dạng như bên dưới:\n",
    "$$\\hat{y} (w, x) = w_0 + w_1x_1 + w_2x_2 + w_3x_1x_2 + w_4x_1^2 + w_5x_2^2 $$\n",
    "Ta có thể thấy mô hình này vẫn là mô hình tuyến tính với\n",
    "$$z = [x_1, x_2, x_1x_2, x_1^2, x_2^2]$$\n",
    "Nếu ta đặt tên lại cho $x_1^2 = z_4, x_2^2 = z_5 $ thì mô hình của chúng ta có dạng:\n",
    "$$\\hat{y} (w, x) = w_0 + w_1x_1 + w_2x_2 + w_3x_1x_2 + w_4z_4 + w_5z_5 $$\n",
    "Sử dụng PolynomialFeatures preprocessor ta có thể biến đổi dữ liệu X đầu vào lên bậc 2, 3, ... nhờ vào hàm fit_transform(). Giả sử $X = [x_1, x_2]$ thì sau khi nâng bậc ta có $X = [1, x_1, x_2, x_1^2, x_1x_2, x_2^2]$\n"
   ]
  },
  {
   "cell_type": "code",
   "execution_count": 7,
   "metadata": {},
   "outputs": [
    {
     "name": "stdout",
     "output_type": "stream",
     "text": [
      "Poly model scored: 0.5543841321089122\n"
     ]
    }
   ],
   "source": [
    "\"\"\"\n",
    "POLYNOMIAL REGRESSION\n",
    "\"\"\"\n",
    "poly_model = Pipeline([('poly', PolynomialFeatures(degree=2)),\n",
    "                       ('linear', linear_model.LinearRegression(fit_intercept=False))])\n",
    "poly_model = poly_model.fit(x_train, y_train)\n",
    "score_poly_trained = poly_model.score(x_test, y_test)\n",
    "print \"Poly model scored:\", score_poly_trained"
   ]
  },
  {
   "cell_type": "markdown",
   "metadata": {},
   "source": [
    "Ngoài ra, ta có thể lược bỏ các biến $x_i^n = x_i$ do các biến này có thể không hữu ích lắm trong một vài trường hợp và chỉ quan tâm đến $x_ix_j$ bằng cách thêm tham số interaction_only=True cho PolynomialFeatures.\n"
   ]
  },
  {
   "cell_type": "code",
   "execution_count": 8,
   "metadata": {},
   "outputs": [
    {
     "name": "stdout",
     "output_type": "stream",
     "text": [
      "Poly model (interaction only) scored: 0.546006877538587\n"
     ]
    }
   ],
   "source": [
    "poly_model = Pipeline([('poly', PolynomialFeatures(interaction_only=True, degree=2)),\n",
    "                       ('linear', linear_model.LinearRegression(fit_intercept=False))])\n",
    "poly_model = poly_model.fit(x_train, y_train)\n",
    "score_poly_trained = poly_model.score(x_test, y_test)\n",
    "print \"Poly model (interaction only) scored:\", score_poly_trained"
   ]
  },
  {
   "cell_type": "markdown",
   "metadata": {},
   "source": [
    "<h2>Lưu lại mô hình cho ứng dụng</h2>\n",
    "\n",
    "Ta có thể lưu lại mô hình đã được huấn luyện vào một file. Sau đó, ứng dụng có thể đọc và áp dụng mô hình này vào thực tế.\n"
   ]
  },
  {
   "cell_type": "code",
   "execution_count": 9,
   "metadata": {},
   "outputs": [
    {
     "name": "stdout",
     "output_type": "stream",
     "text": [
      "Predicted test: [ 395607.4410409  1013878.95342482  410111.35733243 ...  632238.36304822\n",
      "  334143.45895813  632238.36304822]\n"
     ]
    }
   ],
   "source": [
    "from sklearn.externals import joblib\n",
    "\n",
    "# saving model\n",
    "joblib.dump(linear, \"models/linear_model_v1.pkl\")\n",
    "\n",
    "# loading model\n",
    "clf = joblib.load(\"models/linear_model_v1.pkl\")\n",
    "predicted = clf.predict(x_test)\n",
    "print \"Predicted test:\", predicted"
   ]
  },
  {
   "cell_type": "markdown",
   "metadata": {},
   "source": [
    "<em><strong>Nguồn tham khảo:</strong></em>\n",
    "<ul>\n",
    "\t<li><a href=\"http://scikit-learn.org/stable/modules/linear_model.html\">Scikit-learn: Linear model</a></li>\n",
    "\t<li><a href=\"http://www.stat.ucdavis.edu/~chohsieh/teaching/ECS289G_Fall2015/lecture3.pdf\">Gradient Descent vs Coordinate Descent</a></li>\n",
    "\t<li><a href=\"http://scikit-learn.org/stable/modules/linear_model.html#polynomial-regression-extending-linear-models-with-basis-functions\">Polynomial regression: extending linear models with basis functions</a></li>\n",
    "\t<li>\n",
    "<p class=\"p1\"><a href=\"https://www.analyticsvidhya.com/blog/2016/01/complete-tutorial-ridge-lasso-regression-python/\"><span class=\"s1\">A Complete Tutorial on Ridge and Lasso Regression in Python</span></a></p>\n",
    "</li>\n",
    "</ul>"
   ]
  }
 ],
 "metadata": {
  "kernelspec": {
   "display_name": "Python 2",
   "language": "python",
   "name": "python2"
  },
  "language_info": {
   "codemirror_mode": {
    "name": "ipython",
    "version": 2
   },
   "file_extension": ".py",
   "mimetype": "text/x-python",
   "name": "python",
   "nbconvert_exporter": "python",
   "pygments_lexer": "ipython2",
   "version": "2.7.10"
  }
 },
 "nbformat": 4,
 "nbformat_minor": 2
}
