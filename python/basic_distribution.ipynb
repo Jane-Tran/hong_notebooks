{
 "cells": [
  {
   "cell_type": "markdown",
   "metadata": {},
   "source": [
    "# Discrete"
   ]
  },
  {
   "cell_type": "code",
   "execution_count": 1,
   "metadata": {},
   "outputs": [],
   "source": [
    "import matplotlib.pyplot as plt\n",
    "%matplotlib inline\n",
    "from scipy.stats import binom, bernoulli, multinomial, poisson\n",
    "import numpy as np"
   ]
  },
  {
   "cell_type": "markdown",
   "metadata": {},
   "source": [
    "## Binomial\n",
    "\n",
    "Toss a coint $n$ times with $k$ times success, probability of head is $\\theta$, $X \\in \\{0, ..., n\\}$.\n",
    "\n",
    "- **PMF**\n",
    "$$Bin(k|n, \\theta) = {{n}\\choose{k}}\\theta^k (1 - \\theta)^{n - k}$$"
   ]
  },
  {
   "cell_type": "code",
   "execution_count": 2,
   "metadata": {},
   "outputs": [
    {
     "data": {
      "text/plain": [
       "<matplotlib.collections.LineCollection at 0x113ae04d0>"
      ]
     },
     "execution_count": 2,
     "metadata": {},
     "output_type": "execute_result"
    },
    {
     "data": {
      "image/png": "[encoded data removed]",
      "text/plain": [
       "<matplotlib.figure.Figure at 0x113b6f5d0>"
      ]
     },
     "metadata": {},
     "output_type": "display_data"
    }
   ],
   "source": [
    "# setup experiment\n",
    "n = 5\n",
    "theta = 0.4\n",
    "k = x = np.arange(binom.ppf(0.01, n, theta), binom.ppf(0.99, n, theta))\n",
    "y = binom.pmf(k, n, theta)\n",
    "\n",
    "# plotting result\n",
    "fig, ax = plt.subplots(1, 1)\n",
    "ax.plot(x, y, 'bo', ms=8, label='binom pmf')\n",
    "ax.vlines(x, ymin=0, ymax=y, colors='b', lw=5, alpha=0.5)"
   ]
  },
  {
   "cell_type": "markdown",
   "metadata": {},
   "source": [
    "## Bernouli\n",
    "\n",
    "Toss a coin only once $X \\in \\{0, 1\\}$.\n",
    "\n",
    "- **PMF**\n",
    "$$Ber(x | \\theta) = \\theta^{\\mathbf{I}(x = 1)} (1 - \\theta)^{\\mathbf{I}(x = 0)}$$\n",
    "\n",
    "- **Likelihood**\n",
    "$$L(p) = log(p) = klog(\\theta) + (n - k)log(1 - \\theta)$$\n",
    "\n",
    "- **MLE**\n",
    "$$\\frac{d L(p)}{d \\theta} = 0 \\iff k\\frac{1}{\\theta} - (n - k)\\frac{1}{1 - \\theta} = 0$$\n",
    "$$\\theta_{MLE} = \\frac{k}{n}$$"
   ]
  },
  {
   "cell_type": "code",
   "execution_count": 3,
   "metadata": {},
   "outputs": [
    {
     "data": {
      "text/plain": [
       "<matplotlib.collections.LineCollection at 0x113314ad0>"
      ]
     },
     "execution_count": 3,
     "metadata": {},
     "output_type": "execute_result"
    },
    {
     "data": {
      "image/png": "[encoded data removed]",
      "text/plain": [
       "<matplotlib.figure.Figure at 0x1139e8350>"
      ]
     },
     "metadata": {},
     "output_type": "display_data"
    }
   ],
   "source": [
    "# setup experiment\n",
    "theta = 0.3\n",
    "k = x = np.arange(bernoulli.ppf(0.01, theta), bernoulli.ppf(0.99, theta))\n",
    "y = bernoulli.pmf(k, theta)\n",
    "\n",
    "# plotting result\n",
    "fig, ax = plt.subplots(1, 1)\n",
    "ax.plot(x, y, 'bo', ms=8, label='bernoulli pmf')\n",
    "ax.vlines(x, 0, y, colors='b', lw=5, alpha=0.5)"
   ]
  },
  {
   "cell_type": "markdown",
   "metadata": {},
   "source": [
    "## Multinomial\n",
    "\n",
    "Tossing a $K$-sided die, let $\\textbf{x} = (x_1, ..., x_K) \\in \\{0, 1, ..., n\\}^K$, $x_j$ is the number of times side $j$ of the die occurs.\n",
    "\n",
    "- **PMF**\n",
    "$$Mu(\\textbf{x} | n, \\boldsymbol{\\theta}) = {{n}\\choose{x_1 ... x_K}} \\prod_{j=1}^K \\theta_{j}^{x_j}$$\n",
    "$${{n}\\choose{x_1 ... x_K}} = \\frac{n!}{x_1!x_2!...x_K!}$$"
   ]
  },
  {
   "cell_type": "code",
   "execution_count": 4,
   "metadata": {},
   "outputs": [
    {
     "name": "stdout",
     "output_type": "stream",
     "text": [
      "0.29030399999999973\n",
      "0.2903040000000001\n"
     ]
    }
   ],
   "source": [
    "# setup experiment\n",
    "x = [3, 4]\n",
    "n = 7\n",
    "theta = [0.4, 0.6]\n",
    "print multinomial.pmf(x, n, theta)\n",
    "print binom.pmf(3, 7, 0.4)"
   ]
  },
  {
   "cell_type": "markdown",
   "metadata": {},
   "source": [
    "## Multinouli\n",
    "\n",
    "One-hot encoding $\\textbf{x} \\in \\{0, 1\\}^K$.\n",
    "\n",
    "$$Mu(\\textbf{x} | 1, \\boldsymbol{\\theta}) = \\prod_{j=1}^K \\theta_j^{\\mathbf{I}(x_j = 1)}$$"
   ]
  },
  {
   "cell_type": "markdown",
   "metadata": {},
   "source": [
    "## Poisson\n",
    "\n",
    "Counts rare events like radioactive decay and traffic accidents. $X \\in \\{0, 1, ...\\}$, $\\lambda > 0$, $e^{-\\lambda}$ is normalization constant.\n",
    "\n",
    "- **PMF**\n",
    "$$Poi(x|\\lambda) = e^{-\\lambda}\\frac{\\lambda^x}{x!}$$"
   ]
  },
  {
   "cell_type": "code",
   "execution_count": 5,
   "metadata": {},
   "outputs": [
    {
     "data": {
      "text/plain": [
       "<matplotlib.collections.LineCollection at 0x113a031d0>"
      ]
     },
     "execution_count": 5,
     "metadata": {},
     "output_type": "execute_result"
    },
    {
     "data": {
      "image/png": "[encoded data removed]",
      "text/plain": [
       "<matplotlib.figure.Figure at 0x113b67850>"
      ]
     },
     "metadata": {},
     "output_type": "display_data"
    }
   ],
   "source": [
    "# setup experiment\n",
    "mu = Lambda = 0.6\n",
    "k = x = np.arange(poisson.ppf(0.01, Lambda), poisson.ppf(0.99, Lambda))\n",
    "y = poisson.pmf(x, Lambda)\n",
    "\n",
    "# plotting result\n",
    "fig, ax = plt.subplots(1, 1)\n",
    "ax.plot(x, y, 'bo', ms=8, label='poisson pmf')\n",
    "ax.vlines(x, 0, y, colors='b', lw=5, alpha=0.5)"
   ]
  },
  {
   "cell_type": "markdown",
   "metadata": {},
   "source": [
    "# Continuous"
   ]
  },
  {
   "cell_type": "code",
   "execution_count": 6,
   "metadata": {},
   "outputs": [],
   "source": [
    "from scipy.stats import norm, laplace, gamma, pareto, beta, expon, erlang, chi2"
   ]
  },
  {
   "cell_type": "markdown",
   "metadata": {},
   "source": [
    "## Normal\n",
    "\n",
    "- **Probability density function**\n",
    "$$f(x | \\mu, \\sigma^2) = \\frac{1}{\\sqrt{2\\pi \\sigma^2}} e^{-\\frac{(x - \\mu)^2}{2\\sigma^2}}$$\n",
    "\n",
    "- **Likelihood**\n",
    "$$L(\\mu, \\sigma^2) = \\prod_{i=1}^n f(x_i | \\mu, \\sigma^2) = \\prod_{i=1}^n \\frac{1}{\\sqrt{2\\pi \\sigma^2}} e^{-\\frac{(x - \\mu)^2}{2\\sigma^2}} = (2\\pi\\sigma^2)^{-n/2} e^{-\\frac{1}{2\\sigma^2} \\sum_{i=1}^n (x_i - \\mu)^2}$$\n",
    "\n",
    "- **Log-likelihood**\n",
    "$$ln L(\\mu, \\sigma^2) = \\sum_{i=1}^n ln f(x_i | \\mu, \\sigma^2) = -\\frac{n}{2} ln(2\\pi) - \\frac{n}{2} ln \\sigma^2 - \\frac{1}{2\\sigma^2} \\sum_{i=1}^n (x_i - \\mu)^2$$\n",
    "\n",
    "- **MLE**: Taking derivatives with respect to $\\mu$ and $\\sigma^2$.\n",
    "$$\\hat{\\mu} = \\frac{1}{n} \\sum_{i=1}^n x_i$$\n",
    "$$\\hat{\\sigma}^2 = \\frac{1}{n} \\sum_{i=1}^n (x_i - \\hat{\\mu})^2$$\n",
    "\n",
    "- **Prior**\n",
    "$$p(y)$$\n",
    "\n",
    "- **Posterior**\n",
    "$$p(y|x) = \\frac{p(x|y) p(y)}{p(x)}$$\n",
    "- **Posterior predictive distribution**\n",
    "- https://en.wikipedia.org/wiki/Conjugate_prior"
   ]
  },
  {
   "cell_type": "code",
   "execution_count": 7,
   "metadata": {},
   "outputs": [
    {
     "data": {
      "text/plain": [
       "[<matplotlib.lines.Line2D at 0x113ac8a10>]"
      ]
     },
     "execution_count": 7,
     "metadata": {},
     "output_type": "execute_result"
    },
    {
     "data": {
      "image/png": "[encoded data removed]",
      "text/plain": [
       "<matplotlib.figure.Figure at 0x113a104d0>"
      ]
     },
     "metadata": {},
     "output_type": "display_data"
    }
   ],
   "source": [
    "# setup experiment\n",
    "mu = 0\n",
    "std = 1\n",
    "x = np.linspace(norm.ppf(0.01, mu, std), norm.ppf(0.99, mu, std), 100)\n",
    "y = norm.pdf(x, mu, std)\n",
    "\n",
    "# plotting result\n",
    "fig, ax = plt.subplots(1, 1)\n",
    "ax.plot(x, norm.pdf(x), 'r-', lw=5, alpha=0.6, label='norm pdf')"
   ]
  },
  {
   "cell_type": "markdown",
   "metadata": {},
   "source": [
    "## Laplace\n",
    "\n",
    "Heavy tails, also known as the double sided exponential distribution, $\\mu$ is location, $b$ is scala.\n",
    "\n",
    "- **PDF**\n",
    "$$Lap(x|\\mu, b) = \\frac{1}{2b}e^{-\\frac{|x - \\mu|}{b}}$$\n",
    "$$mean = \\mu, mode = \\mu, var = 2b^2$$"
   ]
  },
  {
   "cell_type": "code",
   "execution_count": 8,
   "metadata": {},
   "outputs": [
    {
     "data": {
      "text/plain": [
       "[<matplotlib.lines.Line2D at 0x113b948d0>]"
      ]
     },
     "execution_count": 8,
     "metadata": {},
     "output_type": "execute_result"
    },
    {
     "data": {
      "image/png": "[encoded data removed]",
      "text/plain": [
       "<matplotlib.figure.Figure at 0x113314ed0>"
      ]
     },
     "metadata": {},
     "output_type": "display_data"
    }
   ],
   "source": [
    "# setup experiment\n",
    "mu = 0\n",
    "std = 1\n",
    "x = np.linspace(laplace.ppf(0.01, mu, std), laplace.ppf(0.99, mu, std), 100)\n",
    "y = laplace.pdf(x, mu, std)\n",
    "\n",
    "# plotting result\n",
    "fig, ax = plt.subplots(1, 1)\n",
    "ax.plot(x, y, 'r-', lw=5, alpha=0.6, label='laplace pdf')"
   ]
  },
  {
   "cell_type": "markdown",
   "metadata": {},
   "source": [
    "## Gamma\n",
    "\n",
    "Flexible distribution for positive real valued rv’s.\n",
    "\n",
    "- **PDF**\n",
    "$$Ga(T|shape = a, rate = b) = \\frac{b^a}{\\Gamma(a)}T^{a - 1}e^{-Tb}$$\n",
    "$$\\Gamma(x) = \\int_0^\\infty u^{x - 1}e^{-u}du$$\n",
    "$$mean = \\frac{a}{b}, mode = \\frac{a - 1}{b}, var = \\frac{a}{b^2}$$"
   ]
  },
  {
   "cell_type": "code",
   "execution_count": 9,
   "metadata": {},
   "outputs": [
    {
     "data": {
      "text/plain": [
       "[<matplotlib.lines.Line2D at 0x113dea1d0>]"
      ]
     },
     "execution_count": 9,
     "metadata": {},
     "output_type": "execute_result"
    },
    {
     "data": {
      "image/png": "[encoded data removed]",
      "text/plain": [
       "<matplotlib.figure.Figure at 0x113de1d10>"
      ]
     },
     "metadata": {},
     "output_type": "display_data"
    }
   ],
   "source": [
    "# setup experiment\n",
    "a = 1.99\n",
    "b = 1\n",
    "x = np.linspace(gamma.ppf(0.01, a), gamma.ppf(0.99, a), 100)\n",
    "y = gamma.pdf(x, a)\n",
    "\n",
    "# plotting result\n",
    "fig, ax = plt.subplots(1, 1)\n",
    "ax.plot(x, y, 'r-', lw=5, alpha=0.6, label='gamma pdf')"
   ]
  },
  {
   "cell_type": "markdown",
   "metadata": {},
   "source": [
    "- **Exponential**\n",
    "$$Expon(x|\\lambda) = Ga(x|1, \\lambda)$$"
   ]
  },
  {
   "cell_type": "code",
   "execution_count": 10,
   "metadata": {},
   "outputs": [
    {
     "data": {
      "text/plain": [
       "[<matplotlib.lines.Line2D at 0x1138fef90>]"
      ]
     },
     "execution_count": 10,
     "metadata": {},
     "output_type": "execute_result"
    },
    {
     "data": {
      "image/png": "[encoded data removed]",
      "text/plain": [
       "<matplotlib.figure.Figure at 0x113e11890>"
      ]
     },
     "metadata": {},
     "output_type": "display_data"
    }
   ],
   "source": [
    "# setup experiment exponential\n",
    "a = 1\n",
    "x = np.linspace(expon.ppf(0.01, a), expon.ppf(0.99, a), 100)\n",
    "y = expon.pdf(x, a)\n",
    "\n",
    "# plotting result\n",
    "fig, ax = plt.subplots(1, 1)\n",
    "ax.plot(x, y, 'r-', lw=5, alpha=0.6, label='exponential pdf')"
   ]
  },
  {
   "cell_type": "markdown",
   "metadata": {},
   "source": [
    "- **Erlang**\n",
    "$$Erlang(x|\\lambda) = Ga(x|2, \\lambda)$$"
   ]
  },
  {
   "cell_type": "code",
   "execution_count": 11,
   "metadata": {},
   "outputs": [
    {
     "data": {
      "text/plain": [
       "[<matplotlib.lines.Line2D at 0x1138fe050>]"
      ]
     },
     "execution_count": 11,
     "metadata": {},
     "output_type": "execute_result"
    },
    {
     "data": {
      "image/png": "[encoded data removed]",
      "text/plain": [
       "<matplotlib.figure.Figure at 0x1138fefd0>"
      ]
     },
     "metadata": {},
     "output_type": "display_data"
    }
   ],
   "source": [
    "# setup experiment exponential\n",
    "a = 2\n",
    "x = np.linspace(erlang.ppf(0.01, a), erlang.ppf(0.99, a), 100)\n",
    "y = erlang.pdf(x, a)\n",
    "\n",
    "# plotting result\n",
    "fig, ax = plt.subplots(1, 1)\n",
    "ax.plot(x, y, 'r-', lw=5, alpha=0.6, label='erlang pdf')"
   ]
  },
  {
   "cell_type": "markdown",
   "metadata": {},
   "source": [
    "- **Chi-square**\n",
    "$$\\chi^2(x|\\nu) = Ga(x|\\frac{\\nu}{2}, \\frac{1}{2})$$"
   ]
  },
  {
   "cell_type": "code",
   "execution_count": 12,
   "metadata": {},
   "outputs": [
    {
     "data": {
      "text/plain": [
       "[<matplotlib.lines.Line2D at 0x113fac2d0>]"
      ]
     },
     "execution_count": 12,
     "metadata": {},
     "output_type": "execute_result"
    },
    {
     "data": {
      "image/png": "[encoded data removed]",
      "text/plain": [
       "<matplotlib.figure.Figure at 0x113fac310>"
      ]
     },
     "metadata": {},
     "output_type": "display_data"
    }
   ],
   "source": [
    "# setup experiment exponential\n",
    "nu = 55\n",
    "x = np.linspace(chi2.ppf(0.01, nu), chi2.ppf(0.99, nu), 100)\n",
    "y = chi2.pdf(x, nu)\n",
    "\n",
    "# plotting result\n",
    "fig, ax = plt.subplots(1, 1)\n",
    "ax.plot(x, y, 'r-', lw=5, alpha=0.6, label='Chi-square pdf')"
   ]
  },
  {
   "cell_type": "markdown",
   "metadata": {},
   "source": [
    "## Beta\n",
    "\n",
    "$$Beta(x|a, b) = \\frac{1}{B(a, b)} x^{a - 1}(1 - x)^{b - 1}$$\n",
    "$$B(a, b) = \\frac{\\Gamma(a)\\Gamma(b)}{\\Gamma(a + b)}$$\n",
    "$$\\Gamma(a) = (a - 1)!$$\n",
    "$$mean = \\frac{a}{a + b}, mode = \\frac{a - 1}{a + b - 2}, var = \\frac{ab}{(a + b)^2(a + b + 1)}$$"
   ]
  },
  {
   "cell_type": "code",
   "execution_count": 13,
   "metadata": {},
   "outputs": [
    {
     "data": {
      "text/plain": [
       "[<matplotlib.lines.Line2D at 0x1140a5590>]"
      ]
     },
     "execution_count": 13,
     "metadata": {},
     "output_type": "execute_result"
    },
    {
     "data": {
      "image/png": "[encoded data removed]",
      "text/plain": [
       "<matplotlib.figure.Figure at 0x11403e5d0>"
      ]
     },
     "metadata": {},
     "output_type": "display_data"
    }
   ],
   "source": [
    "# setup experiment\n",
    "a, b = 2.31, 0.627\n",
    "x = np.linspace(beta.ppf(0.01, a, b), beta.ppf(0.99, a, b), 100)\n",
    "y = beta.pdf(x, a, b)\n",
    "\n",
    "# plotting result\n",
    "fig, ax = plt.subplots(1, 1)\n",
    "ax.plot(x, y, 'r-', lw=5, alpha=0.6, label='beta pdf')"
   ]
  },
  {
   "cell_type": "markdown",
   "metadata": {},
   "source": [
    "## Pareto\n",
    "\n",
    "Exhibit long tails, also called heavy tails, known as Zipf’s law or power law.\n",
    "\n",
    "$$Pareto(x|k, m) = km^kx^{-(k + 1)}\\mathbf{I} (x \\ge m)$$\n",
    "$$mean = \\frac{km}{k - 1} \\ if \\ k > 1, mode = m, var = \\frac{m^2k}{(k - 1)^2(k - 2)} \\ if \\ k > 2$$"
   ]
  },
  {
   "cell_type": "code",
   "execution_count": 14,
   "metadata": {},
   "outputs": [
    {
     "data": {
      "text/plain": [
       "[<matplotlib.lines.Line2D at 0x11408e8d0>]"
      ]
     },
     "execution_count": 14,
     "metadata": {},
     "output_type": "execute_result"
    },
    {
     "data": {
      "image/png": "[encoded data removed]",
      "text/plain": [
       "<matplotlib.figure.Figure at 0x113eff290>"
      ]
     },
     "metadata": {},
     "output_type": "display_data"
    }
   ],
   "source": [
    "# setup experiment\n",
    "b = 2.62\n",
    "x = np.linspace(pareto.ppf(0.01, b), pareto.ppf(0.99, b), 100)\n",
    "y = pareto.pdf(x, b)\n",
    "\n",
    "# plotting result\n",
    "fig, ax = plt.subplots(1, 1)\n",
    "ax.plot(x, pareto.pdf(x, b), 'r-', lw=5, alpha=0.6, label='pareto pdf')"
   ]
  }
 ],
 "metadata": {
  "kernelspec": {
   "display_name": "Python 2",
   "language": "python",
   "name": "python2"
  },
  "language_info": {
   "codemirror_mode": {
    "name": "ipython",
    "version": 2
   },
   "file_extension": ".py",
   "mimetype": "text/x-python",
   "name": "python",
   "nbconvert_exporter": "python",
   "pygments_lexer": "ipython2",
   "version": "2.7.10"
  }
 },
 "nbformat": 4,
 "nbformat_minor": 2
}
