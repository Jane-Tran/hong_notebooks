{
 "cells": [
  {
   "cell_type": "markdown",
   "metadata": {},
   "source": [
    "# Discrete"
   ]
  },
  {
   "cell_type": "code",
   "execution_count": 1,
   "metadata": {},
   "outputs": [],
   "source": [
    "import matplotlib.pyplot as plt\n",
    "%matplotlib inline\n",
    "from scipy.stats import binom, bernoulli, multinomial, poisson\n",
    "import numpy as np"
   ]
  },
  {
   "cell_type": "markdown",
   "metadata": {},
   "source": [
    "## Binomial\n",
    "\n",
    "Toss a coint $n$ times with $k$ times success, probability of head is $\\theta$, $X \\in \\{0, ..., n\\}$."
   ]
  },
  {
   "cell_type": "markdown",
   "metadata": {},
   "source": [
    "- **PMF**\n",
    "$$Bin(k|n, \\theta) = {{n}\\choose{k}}\\theta^k (1 - \\theta)^{n - k}$$"
   ]
  },
  {
   "cell_type": "code",
   "execution_count": 2,
   "metadata": {},
   "outputs": [
    {
     "data": {
      "text/plain": [
       "<matplotlib.collections.LineCollection at 0x111bf14d0>"
      ]
     },
     "execution_count": 2,
     "metadata": {},
     "output_type": "execute_result"
    },
    {
     "data": {
      "image/png": "[encoded data removed]",
      "text/plain": [
       "<matplotlib.figure.Figure at 0x1120454d0>"
      ]
     },
     "metadata": {},
     "output_type": "display_data"
    }
   ],
   "source": [
    "# setup experiment\n",
    "n = 5\n",
    "theta = 0.4\n",
    "k = x = np.arange(binom.ppf(0.01, n, theta), binom.ppf(0.99, n, theta))\n",
    "y = binom.pmf(k, n, theta)\n",
    "\n",
    "# plotting result\n",
    "fig, ax = plt.subplots(1, 1)\n",
    "ax.plot(x, y, 'bo', ms=8, label='binom pmf')\n",
    "ax.vlines(x, ymin=0, ymax=y, colors='b', lw=5, alpha=0.5)"
   ]
  },
  {
   "cell_type": "markdown",
   "metadata": {},
   "source": [
    "## Bernouli\n",
    "\n",
    "Toss a coin only once $X \\in \\{0, 1\\}$."
   ]
  },
  {
   "cell_type": "markdown",
   "metadata": {},
   "source": [
    "- **PMF**\n",
    "$$Ber(x | \\theta) = \\theta^{\\mathbf{I}(x = 1)} (1 - \\theta)^{\\mathbf{I}(x = 0)}$$\n",
    "\n",
    "- **Likelihood**\n",
    "$$L(p) = log(p) = klog(\\theta) + (n - k)log(1 - \\theta)$$\n",
    "\n",
    "- **MLE**\n",
    "$$\\frac{d L(p)}{d \\theta} = 0 \\iff k\\frac{1}{\\theta} - (n - k)\\frac{1}{1 - \\theta} = 0$$\n",
    "$$\\theta_{MLE} = \\frac{k}{n}$$"
   ]
  },
  {
   "cell_type": "code",
   "execution_count": 3,
   "metadata": {},
   "outputs": [
    {
     "data": {
      "text/plain": [
       "<matplotlib.collections.LineCollection at 0x111f6ef50>"
      ]
     },
     "execution_count": 3,
     "metadata": {},
     "output_type": "execute_result"
    },
    {
     "data": {
      "image/png": "[encoded data removed]",
      "text/plain": [
       "<matplotlib.figure.Figure at 0x111facb90>"
      ]
     },
     "metadata": {},
     "output_type": "display_data"
    }
   ],
   "source": [
    "# setup experiment\n",
    "theta = 0.3\n",
    "k = x = np.arange(bernoulli.ppf(0.01, theta), bernoulli.ppf(0.99, theta))\n",
    "y = bernoulli.pmf(k, theta)\n",
    "\n",
    "# plotting result\n",
    "fig, ax = plt.subplots(1, 1)\n",
    "ax.plot(x, y, 'bo', ms=8, label='bernoulli pmf')\n",
    "ax.vlines(x, 0, y, colors='b', lw=5, alpha=0.5)"
   ]
  },
  {
   "cell_type": "markdown",
   "metadata": {},
   "source": [
    "## Multinomial"
   ]
  },
  {
   "cell_type": "code",
   "execution_count": null,
   "metadata": {},
   "outputs": [],
   "source": []
  },
  {
   "cell_type": "markdown",
   "metadata": {},
   "source": [
    "## Multinouli"
   ]
  },
  {
   "cell_type": "code",
   "execution_count": null,
   "metadata": {},
   "outputs": [],
   "source": []
  },
  {
   "cell_type": "markdown",
   "metadata": {},
   "source": [
    "## Poisson"
   ]
  },
  {
   "cell_type": "code",
   "execution_count": null,
   "metadata": {},
   "outputs": [],
   "source": []
  },
  {
   "cell_type": "markdown",
   "metadata": {},
   "source": [
    "## Emperical"
   ]
  },
  {
   "cell_type": "code",
   "execution_count": null,
   "metadata": {},
   "outputs": [],
   "source": []
  },
  {
   "cell_type": "markdown",
   "metadata": {},
   "source": [
    "# Continuous"
   ]
  },
  {
   "cell_type": "markdown",
   "metadata": {},
   "source": [
    "## Normal"
   ]
  },
  {
   "cell_type": "markdown",
   "metadata": {},
   "source": [
    "- **Probability density function**\n",
    "$$f(x | \\mu, \\sigma^2) = \\frac{1}{\\sqrt{2\\pi \\sigma^2}} e^{-\\frac{(x - \\mu)^2}{2\\sigma^2}}$$\n",
    "\n",
    "- **Likelihood**\n",
    "$$L(\\mu, \\sigma^2) = \\prod_{i=1}^n f(x_i | \\mu, \\sigma^2) = \\prod_{i=1}^n \\frac{1}{\\sqrt{2\\pi \\sigma^2}} e^{-\\frac{(x - \\mu)^2}{2\\sigma^2}} = (2\\pi\\sigma^2)^{-n/2} e^{-\\frac{1}{2\\sigma^2} \\sum_{i=1}^n (x_i - \\mu)^2}$$\n",
    "\n",
    "- **Log-likelihood**\n",
    "$$ln L(\\mu, \\sigma^2) = \\sum_{i=1}^n ln f(x_i | \\mu, \\sigma^2) = -\\frac{n}{2} ln(2\\pi) - \\frac{n}{2} ln \\sigma^2 - \\frac{1}{2\\sigma^2} \\sum_{i=1}^n (x_i - \\mu)^2$$\n",
    "\n",
    "- **MLE**: Taking derivatives with respect to $\\mu$ and $\\sigma^2$.\n",
    "$$\\hat{\\mu} = \\frac{1}{n} \\sum_{i=1}^n x_i$$\n",
    "$$\\hat{\\sigma}^2 = \\frac{1}{n} \\sum_{i=1}^n (x_i - \\hat{\\mu})^2$$\n",
    "\n",
    "- **Prior**\n",
    "$$p(y)$$\n",
    "\n",
    "- **Posterior**\n",
    "$$p(y|x) = \\frac{p(x|y) p(y)}{p(x)}$$\n",
    "- **Posterior predictive distribution**\n",
    "- https://en.wikipedia.org/wiki/Conjugate_prior"
   ]
  },
  {
   "cell_type": "markdown",
   "metadata": {},
   "source": [
    "## Laplace"
   ]
  },
  {
   "cell_type": "code",
   "execution_count": null,
   "metadata": {},
   "outputs": [],
   "source": []
  },
  {
   "cell_type": "markdown",
   "metadata": {},
   "source": [
    "## Gamma"
   ]
  },
  {
   "cell_type": "code",
   "execution_count": null,
   "metadata": {},
   "outputs": [],
   "source": []
  },
  {
   "cell_type": "markdown",
   "metadata": {},
   "source": [
    "## Beta"
   ]
  },
  {
   "cell_type": "code",
   "execution_count": null,
   "metadata": {},
   "outputs": [],
   "source": []
  },
  {
   "cell_type": "markdown",
   "metadata": {},
   "source": [
    "## Pareto"
   ]
  },
  {
   "cell_type": "code",
   "execution_count": null,
   "metadata": {},
   "outputs": [],
   "source": []
  }
 ],
 "metadata": {
  "kernelspec": {
   "display_name": "Python 2",
   "language": "python",
   "name": "python2"
  },
  "language_info": {
   "codemirror_mode": {
    "name": "ipython",
    "version": 2
   },
   "file_extension": ".py",
   "mimetype": "text/x-python",
   "name": "python",
   "nbconvert_exporter": "python",
   "pygments_lexer": "ipython2",
   "version": "2.7.10"
  }
 },
 "nbformat": 4,
 "nbformat_minor": 2
}
