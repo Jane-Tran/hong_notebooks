{
 "cells": [
  {
   "cell_type": "markdown",
   "metadata": {},
   "source": [
    "<h2>Ý tưởng</h2>\n",
    "\n",
    "<blockquote>Hãy cho tôi biết bạn của bạn là ai, tôi sẽ cho bạn biết bạn là người như thế nào.</blockquote>\n",
    "Đó là một câu danh ngôn mà có lẽ ai cũng biết. Và có lẽ, phần lớn đều đồng ý. Đây là ý tưởng đằng sau thuật toán KNN. Để dự đoán mẫu dữ liệu mới $x_{new}$ thuộc về lớp nào, ta dựa vào số $k$ dữ liệu gần nó nhất. Ví dụ $k = 3$, nghĩa là gần $x_{new}$ có 3 điểm dữ liệu. Giả sử trong đó có 2 điểm dữ liệu thuộc về lớp B và 1 điểm dữ liệu thuộc về lớp A. Như vậy, ta sẽ gán $x_{new}$ thuộc về lớp B do $x_{new}$ có 2 điểm dữ liệu thuộc lớp B gần nó nhất.\n",
    "<h2>Thuật toán</h2>\n",
    "\n",
    "\n",
    "\n",
    "Thuật toán xác định lớp cho mẫu mới $x_{new}$\n",
    "<ul>\n",
    "\t<li>Tính khoảng cách giữa $x_{new}$ và tất cả các mẫu trong tập huấn luyện</li>\n",
    "\t<li>Chọn k mẫu gần nhất với $x_{new}$ trong tập huấn luyện</li>\n",
    "\t<li>Gán $x_{new}$ vào lớp có nhiều mẫu nhất trong số k mẫu láng giềng đó (hoặc $x_{new}$ nhận giá trị trung bình của k mẫu)</li>\n",
    "</ul>\n",
    "<h2>Đánh giá</h2>\n",
    "\n",
    "<strong>Ưu điểm</strong>\n",
    "<ul>\n",
    "\t<li>Dễ sử dụng và cài đặt</li>\n",
    "\t<li>Xử lý tốt với dữ liệu nhiễu (do dựa trên khoảng cách để quyết định phân lớp)</li>\n",
    "</ul>\n",
    "<strong>Khuyết điểm</strong>\n",
    "<ul>\n",
    "\t<li>Cần lưu tất cả các mẫu để dự đoán</li>\n",
    "\t<li>Cần nhiều thời gian để xác định lớp cho một mẫu mới (cần tính và so sánh khoảng cách đến tất cả các mẫu huấn luyện)</li>\n",
    "\t<li>Phụ thuộc vào giá trị k do người dùng lựa chọn. Nếu k quá nhỏ, nhạy cảm với nhiễu. Nếu k quá lớn, vùng lân cận có thể chứa các điểm của lớp khác.</li>\n",
    "\t<li>Cần chuyển đổi kiểu dữ liệu với thuộc tính phi số (categorial)</li>\n",
    "</ul>\n",
    "<h2>Ví dụ minh hoạ</h2>\n",
    "\n",
    "Ta sẽ sử dụng thuật toán KNN của scikit-learn để phân lớp dữ liệu với tập huấn luyện là Iris. Tập dữ liệu hoa Iris được Ronald Fisher giới thiệu vào năm 1936. Tập dữ liệu này được dùng cho các bài toán phân lớp. Dữ liệu gồm 50 mẫu thu thập từ ba loại hoa Iris (Iris setosa, Iris virginica và Iris versicolor). Bốn thuộc tính cho mỗi mẫu gồm chiều dài và chiều rộng của đài hoa và cánh hoa được tính theo đơn vị centimet.\n"
   ]
  },
  {
   "cell_type": "code",
   "execution_count": 1,
   "metadata": {},
   "outputs": [
    {
     "data": {
      "text/plain": [
       "array([[5.1, 3.5, 1.4, 0.2],\n",
       "       [4.9, 3. , 1.4, 0.2],\n",
       "       [4.7, 3.2, 1.3, 0.2],\n",
       "       [4.6, 3.1, 1.5, 0.2],\n",
       "       [5. , 3.6, 1.4, 0.2],\n",
       "       [5.4, 3.9, 1.7, 0.4]])"
      ]
     },
     "execution_count": 1,
     "metadata": {},
     "output_type": "execute_result"
    }
   ],
   "source": [
    "# k-Nearest Neighbor\n",
    "from sklearn import datasets\n",
    "from sklearn import metrics\n",
    "from sklearn.neighbors import KNeighborsClassifier\n",
    "\n",
    "# load iris the datasets\n",
    "dataset = datasets.load_iris()\n",
    "\n",
    "# 6 dòng dữ liệu đầu tiên của tập dữ liệu Iris\n",
    "dataset.data[0:6]"
   ]
  },
  {
   "cell_type": "markdown",
   "metadata": {},
   "source": [
    "Tiếp theo, ta sẽ cài đặt chương trình minh hoạ cho thuật toán KNN."
   ]
  },
  {
   "cell_type": "code",
   "execution_count": 2,
   "metadata": {},
   "outputs": [
    {
     "name": "stdout",
     "output_type": "stream",
     "text": [
      "KNeighborsClassifier(algorithm='auto', leaf_size=30, metric='minkowski',\n",
      "           metric_params=None, n_jobs=1, n_neighbors=5, p=2,\n",
      "           weights='uniform')\n"
     ]
    }
   ],
   "source": [
    "# fit a k-nearest neighbor model to the data\n",
    "model = KNeighborsClassifier()\n",
    "model.fit(dataset.data, dataset.target)\n",
    "print(model)"
   ]
  },
  {
   "cell_type": "code",
   "execution_count": 3,
   "metadata": {},
   "outputs": [
    {
     "name": "stdout",
     "output_type": "stream",
     "text": [
      "             precision    recall  f1-score   support\n",
      "\n",
      "          0       1.00      1.00      1.00        50\n",
      "          1       0.96      0.94      0.95        50\n",
      "          2       0.94      0.96      0.95        50\n",
      "\n",
      "avg / total       0.97      0.97      0.97       150\n",
      "\n"
     ]
    }
   ],
   "source": [
    "# make predictions\n",
    "expected = dataset.target\n",
    "predicted = model.predict(dataset.data)\n",
    "\n",
    "# summarize the fit of the model\n",
    "print(metrics.classification_report(expected, predicted))"
   ]
  },
  {
   "cell_type": "code",
   "execution_count": 4,
   "metadata": {},
   "outputs": [
    {
     "name": "stdout",
     "output_type": "stream",
     "text": [
      "[[50  0  0]\n",
      " [ 0 47  3]\n",
      " [ 0  2 48]]\n"
     ]
    }
   ],
   "source": [
    "print(metrics.confusion_matrix(expected, predicted))"
   ]
  },
  {
   "cell_type": "markdown",
   "metadata": {},
   "source": [
    "Qua ví dụ trên, ta thấy thuật toán KNN ứng dụng khá tốt trên tập dữ liệu Iris. KNN cho độ chính xác (precision) trung bình là 97%, (recall) trung bình là 97%, và (f1-score) là 97%. Để cài đặt thuật toán, ta chỉ cần khai báo lớp KNeighborsClassifier và gọi hàm fit() ứng với mô hình phân lớp này."
   ]
  }
 ],
 "metadata": {
  "kernelspec": {
   "display_name": "Python 2",
   "language": "python",
   "name": "python2"
  },
  "language_info": {
   "codemirror_mode": {
    "name": "ipython",
    "version": 2
   },
   "file_extension": ".py",
   "mimetype": "text/x-python",
   "name": "python",
   "nbconvert_exporter": "python",
   "pygments_lexer": "ipython2",
   "version": "2.7.10"
  }
 },
 "nbformat": 4,
 "nbformat_minor": 2
}
